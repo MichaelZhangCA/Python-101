{
 "cells": [
  {
   "cell_type": "raw",
   "metadata": {},
   "source": [
    "You have a map that marks the location of a treasure island. Some of the map area has jagged rocks and dangerous reefs. Other areas are safe to sail in. There are other explorers trying to find the treasure. So you must figure out a shortest route to the treasure island.\n",
    "\n",
    "Assume the map area is a two dimensional grid, represented by a matrix of characters. You must start from the top-left corner of the map and can move one block up, down, left or right at a time. The treasure island is marked as X in a block of the matrix. X will not be at the top-left corner. Any block with dangerous rocks or reefs will be marked as D. You must not enter dangerous blocks. You cannot leave the map area. Other areas O are safe to sail in. The top-left corner is always safe. Output the minimum number of steps to get to the treasure.\n",
    "\n",
    "Example:\n",
    "\n",
    "Input:\n",
    "[['O', 'O', 'O', 'O'],\n",
    " ['D', 'O', 'D', 'O'],\n",
    " ['O', 'O', 'O', 'O'],\n",
    " ['X', 'D', 'D', 'O']]\n",
    "\n",
    "Output: 5\n",
    "Explanation: Route is (0, 0), (0, 1), (1, 1), (2, 1), (2, 0), (3, 0) The minimum route takes 5 steps.\n"
   ]
  },
  {
   "cell_type": "code",
   "execution_count": 1,
   "metadata": {},
   "outputs": [],
   "source": [
    "# may use graph to find the path\n",
    "# try DFS & BFS"
   ]
  },
  {
   "cell_type": "code",
   "execution_count": 6,
   "metadata": {},
   "outputs": [],
   "source": [
    "# this is NOT a graph solution\n",
    "from collections import deque\n",
    "def solution(m):\n",
    "    if len(m) == 0 or len(m[0]) == 0:\n",
    "        return -1  # impossible\n",
    "\n",
    "    matrix = [row[:] for row in m]\n",
    "    nrow, ncol = len(matrix), len(matrix[0])\n",
    "\n",
    "    q = deque([((0, 0), 0)])  # ((x, y), step)\n",
    "    matrix[0][0] = \"D\"\n",
    "    while q:\n",
    "        (x, y), step = q.popleft()\n",
    "\n",
    "        for dx, dy in [[0, 1], [0, -1], [1, 0], [-1, 0]]:\n",
    "            if 0 <= x+dx < nrow and 0 <= y+dy < ncol:\n",
    "                if matrix[x+dx][y+dy] == \"X\":\n",
    "                    return step+1\n",
    "                elif matrix[x+dx][y+dy] == \"O\":\n",
    "                    # mark visited\n",
    "                    matrix[x + dx][y + dy] = \"D\"\n",
    "                    q.append(((x+dx, y+dy), step+1))\n",
    "\n",
    "    return -1\n"
   ]
  },
  {
   "cell_type": "code",
   "execution_count": 7,
   "metadata": {},
   "outputs": [],
   "source": [
    "maps = [['O', 'O', 'O', 'O'],\n",
    " ['D', 'O', 'D', 'O'],\n",
    " ['O', 'O', 'O', 'O'],\n",
    " ['X', 'D', 'D', 'O']]"
   ]
  },
  {
   "cell_type": "code",
   "execution_count": 8,
   "metadata": {},
   "outputs": [],
   "source": [
    "p = solution(maps)"
   ]
  },
  {
   "cell_type": "code",
   "execution_count": 9,
   "metadata": {},
   "outputs": [
    {
     "data": {
      "text/plain": [
       "5"
      ]
     },
     "execution_count": 9,
     "metadata": {},
     "output_type": "execute_result"
    }
   ],
   "source": [
    "p"
   ]
  },
  {
   "cell_type": "code",
   "execution_count": null,
   "metadata": {},
   "outputs": [],
   "source": []
  }
 ],
 "metadata": {
  "kernelspec": {
   "display_name": "Python 3",
   "language": "python",
   "name": "python3"
  },
  "language_info": {
   "codemirror_mode": {
    "name": "ipython",
    "version": 3
   },
   "file_extension": ".py",
   "mimetype": "text/x-python",
   "name": "python",
   "nbconvert_exporter": "python",
   "pygments_lexer": "ipython3",
   "version": "3.7.6"
  }
 },
 "nbformat": 4,
 "nbformat_minor": 2
}
