{
 "cells": [
  {
   "cell_type": "raw",
   "metadata": {},
   "source": [
    "Given a map Map<String, List<String>> userSongs with user names as keys and a list of all the songs that the user has listened to as values.\n",
    "\n",
    "Also given a map Map<String, List<String>> songGenres, with song genre as keys and a list of all the songs within that genre as values. The song can only belong to only one genre.\n",
    "\n",
    "The task is to return a map Map<String, List<String>>, where the key is a user name and the value is a list of the user's favorite genre(s). Favorite genre is the most listened to genre. A user can have more than one favorite genre if he/she has listened to the same number of songs per each of the genres.\n",
    "\n",
    "Example 1:\n",
    "\n",
    "Input:\n",
    "userSongs = {  \n",
    "   \"David\": [\"song1\", \"song2\", \"song3\", \"song4\", \"song8\"],\n",
    "   \"Emma\":  [\"song5\", \"song6\", \"song7\"]\n",
    "},\n",
    "songGenres = {  \n",
    "   \"Rock\":    [\"song1\", \"song3\"],\n",
    "   \"Dubstep\": [\"song7\"],\n",
    "   \"Techno\":  [\"song2\", \"song4\"],\n",
    "   \"Pop\":     [\"song5\", \"song6\"],\n",
    "   \"Jazz\":    [\"song8\", \"song9\"]\n",
    "}\n",
    "\n",
    "Output: {  \n",
    "   \"David\": [\"Rock\", \"Techno\"],\n",
    "   \"Emma\":  [\"Pop\"]\n",
    "}\n",
    "\n",
    "Explanation:\n",
    "David has 2 Rock, 2 Techno and 1 Jazz song. So he has 2 favorite genres.\n",
    "Emma has 2 Pop and 1 Dubstep song. Pop is Emma's favorite genre.\n",
    "Example 2:\n",
    "\n",
    "Input:\n",
    "userSongs = {  \n",
    "   \"David\": [\"song1\", \"song2\"],\n",
    "   \"Emma\":  [\"song3\", \"song4\"]\n",
    "},\n",
    "songGenres = {}\n",
    "\n",
    "Output: {  \n",
    "   \"David\": [],\n",
    "   \"Emma\":  []\n",
    "}"
   ]
  },
  {
   "cell_type": "code",
   "execution_count": 6,
   "metadata": {},
   "outputs": [],
   "source": [
    "import operator\n",
    "class Solution():\n",
    "    \n",
    "    def favoriteGenres(self, userSongs, songGenres):\n",
    "        users = {}\n",
    "        revmap = {}\n",
    "        for song in songGenres:\n",
    "            for i in songGenres[song]:\n",
    "                revmap[i] = song\n",
    "        for k in userSongs:\n",
    "            fav = {}\n",
    "            for s in userSongs[k]:\n",
    "                if revmap[s] in fav:\n",
    "                    fav[revmap[s]]+=1\n",
    "                else:\n",
    "                    fav[revmap[s]]=1\n",
    "\n",
    "            m = max(fav.items(), key=operator.itemgetter(1))\n",
    "            l = []\n",
    "            for j in fav:\n",
    "                if(fav[j]==m[1] and m[1]>1):\n",
    "                    l+=[j]\n",
    "            users[k] = l\n",
    "\n",
    "        print(users)\n",
    "        \n",
    "userSongs = {  \n",
    "   \"David\": [\"song1\", \"song2\", \"song3\", \"song4\", \"song8\"],\n",
    "   \"Emma\":  [\"song5\",  \"song7\"]\n",
    "}\n",
    "songGenres = {  \n",
    "   \"Rock\":    [\"song1\", \"song3\"],\n",
    "   \"Dubstep\": [\"song7\"],\n",
    "   \"Techno\":  [\"song2\", \"song4\"],\n",
    "   \"Pop\":     [\"song5\", \"song6\"],\n",
    "   \"Jazz\":    [\"song8\", \"song9\"]\n",
    "}\n",
    "\n",
    "\n",
    "            "
   ]
  },
  {
   "cell_type": "code",
   "execution_count": 7,
   "metadata": {},
   "outputs": [
    {
     "name": "stdout",
     "output_type": "stream",
     "text": [
      "{'David': ['Rock', 'Techno'], 'Emma': []}\n"
     ]
    }
   ],
   "source": [
    "Solution().favoriteGenres(userSongs, songGenres)"
   ]
  },
  {
   "cell_type": "code",
   "execution_count": null,
   "metadata": {},
   "outputs": [],
   "source": []
  }
 ],
 "metadata": {
  "kernelspec": {
   "display_name": "Python 3",
   "language": "python",
   "name": "python3"
  },
  "language_info": {
   "codemirror_mode": {
    "name": "ipython",
    "version": 3
   },
   "file_extension": ".py",
   "mimetype": "text/x-python",
   "name": "python",
   "nbconvert_exporter": "python",
   "pygments_lexer": "ipython3",
   "version": "3.7.5"
  }
 },
 "nbformat": 4,
 "nbformat_minor": 2
}
