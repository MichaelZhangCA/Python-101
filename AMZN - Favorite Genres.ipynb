{
 "cells": [
  {
   "cell_type": "raw",
   "metadata": {},
   "source": [
    "Given a map Map<String, List<String>> userSongs with user names as keys and a list of all the songs that the user has listened to as values.\n",
    "\n",
    "Also given a map Map<String, List<String>> songGenres, with song genre as keys and a list of all the songs within that genre as values. The song can only belong to only one genre.\n",
    "\n",
    "The task is to return a map Map<String, List<String>>, where the key is a user name and the value is a list of the user's favorite genre(s). Favorite genre is the most listened to genre. A user can have more than one favorite genre if he/she has listened to the same number of songs per each of the genres.\n",
    "\n",
    "Example 1:\n",
    "\n",
    "Input:\n",
    "userSongs = {  \n",
    "   \"David\": [\"song1\", \"song2\", \"song3\", \"song4\", \"song8\"],\n",
    "   \"Emma\":  [\"song5\", \"song6\", \"song7\"]\n",
    "},\n",
    "songGenres = {  \n",
    "   \"Rock\":    [\"song1\", \"song3\"],\n",
    "   \"Dubstep\": [\"song7\"],\n",
    "   \"Techno\":  [\"song2\", \"song4\"],\n",
    "   \"Pop\":     [\"song5\", \"song6\"],\n",
    "   \"Jazz\":    [\"song8\", \"song9\"]\n",
    "}\n",
    "\n",
    "Output: {  \n",
    "   \"David\": [\"Rock\", \"Techno\"],\n",
    "   \"Emma\":  [\"Pop\"]\n",
    "}\n",
    "\n",
    "Explanation:\n",
    "David has 2 Rock, 2 Techno and 1 Jazz song. So he has 2 favorite genres.\n",
    "Emma has 2 Pop and 1 Dubstep song. Pop is Emma's favorite genre.\n",
    "Example 2:\n",
    "\n",
    "Input:\n",
    "userSongs = {  \n",
    "   \"David\": [\"song1\", \"song2\"],\n",
    "   \"Emma\":  [\"song3\", \"song4\"]\n",
    "},\n",
    "songGenres = {}\n",
    "\n",
    "Output: {  \n",
    "   \"David\": [],\n",
    "   \"Emma\":  []\n",
    "}"
   ]
  },
  {
   "cell_type": "code",
   "execution_count": 37,
   "metadata": {},
   "outputs": [],
   "source": [
    "userSongs = {  \n",
    "   \"David\": [\"song1\", \"song2\", \"song3\", \"song4\", \"song8\"],\n",
    "   \"Emma\":  [\"song5\", \"song6\", \"song7\"]\n",
    "}\n",
    "songGenres = {  \n",
    "   \"Rock\":    [\"song1\", \"song3\"],\n",
    "   \"Dubstep\": [\"song7\"],\n",
    "   \"Techno\":  [\"song2\", \"song4\"],\n",
    "   \"Pop\":     [\"song5\", \"song6\"],\n",
    "   \"Jazz\":    [\"song8\", \"song9\"]\n",
    "}"
   ]
  },
  {
   "cell_type": "code",
   "execution_count": 38,
   "metadata": {},
   "outputs": [],
   "source": [
    "#import numpy as np\n",
    "from collections import Counter\n",
    "class Solution():\n",
    "    \n",
    "    def favoriteGenres(self, userSongs, songGenres):\n",
    "        return { name : self._getSongGen(songs, songGenres) for name, songs in userSongs.items()}\n",
    "            \n",
    "    def _getSongGen(self, songs, sonGenres):\n",
    "        # get gen list by each song of the user\n",
    "        genlist = [ [gen for gen, gensongs in songGenres.items() if song in gensongs] for song in songs]\n",
    " \n",
    "        #print(np.array(genlist).flatten())\n",
    "        # flat the gen list\n",
    "        gens = [gen for gens in genlist for gen in gens]\n",
    "        \n",
    "        # return the max count gen and remove duplication\n",
    "        return list(set([gen for gen in gens if gens.count(gen) == Counter(gens).most_common(1)[0][1]]))\n",
    "            "
   ]
  },
  {
   "cell_type": "code",
   "execution_count": 39,
   "metadata": {},
   "outputs": [
    {
     "data": {
      "text/plain": [
       "{'David': [], 'Emma': ['Pop']}"
      ]
     },
     "execution_count": 39,
     "metadata": {},
     "output_type": "execute_result"
    }
   ],
   "source": [
    "Solution().favoriteGenres(userSongs, songGenres)"
   ]
  },
  {
   "cell_type": "code",
   "execution_count": null,
   "metadata": {},
   "outputs": [],
   "source": []
  }
 ],
 "metadata": {
  "kernelspec": {
   "display_name": "Python 3",
   "language": "python",
   "name": "python3"
  },
  "language_info": {
   "codemirror_mode": {
    "name": "ipython",
    "version": 3
   },
   "file_extension": ".py",
   "mimetype": "text/x-python",
   "name": "python",
   "nbconvert_exporter": "python",
   "pygments_lexer": "ipython3",
   "version": "3.7.6"
  }
 },
 "nbformat": 4,
 "nbformat_minor": 2
}
