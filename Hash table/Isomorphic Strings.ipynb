{
 "cells": [
  {
   "cell_type": "code",
   "execution_count": 1,
   "metadata": {},
   "outputs": [],
   "source": [
    "# has the same pattern\n",
    "# ex. 'egg' 'add'"
   ]
  },
  {
   "cell_type": "code",
   "execution_count": 11,
   "metadata": {},
   "outputs": [],
   "source": [
    "def isIsomorphic(s1, s2) -> bool:\n",
    "    \n",
    "    if (s1 is None and s2 is None):\n",
    "        return True\n",
    "    \n",
    "    if (s1 is None or s2 is None):\n",
    "        return False\n",
    "    \n",
    "    # corner case\n",
    "    if (len(s1) != len(s2)):\n",
    "        return False\n",
    "    \n",
    "    l1 = list(s1)\n",
    "    l2 = list(s2)\n",
    "    \n",
    "    l1map = dict()\n",
    "    l2set = set()\n",
    "    \n",
    "    # map letter from s1 to s2, and try find map for all the following letters\n",
    "    for i in range(len(l1)):\n",
    "        if (l1[i] not in l1map):\n",
    "            # check if l2[i] in l2set\n",
    "            if (l2[i] in l2set):\n",
    "                return False\n",
    "            \n",
    "            # add l1:l2 mapping and l2set\n",
    "            l1map[l1[i]] = l2[i]\n",
    "            l2set.add(l2[i])\n",
    "    \n",
    "        else:\n",
    "            # if l1[i] exists, l2[i] should be the value of l1 mapping\n",
    "            if (l1map[l1[i]] != l2[i]):\n",
    "                return False\n",
    "    \n",
    "    return True\n",
    "    pass"
   ]
  },
  {
   "cell_type": "code",
   "execution_count": 24,
   "metadata": {},
   "outputs": [],
   "source": [
    "s1 = 'ammandi'\n",
    "s2 = 'eggerky'"
   ]
  },
  {
   "cell_type": "code",
   "execution_count": 25,
   "metadata": {},
   "outputs": [
    {
     "data": {
      "text/plain": [
       "True"
      ]
     },
     "execution_count": 25,
     "metadata": {},
     "output_type": "execute_result"
    }
   ],
   "source": [
    "isIsomorphic(s1,s2)"
   ]
  },
  {
   "cell_type": "code",
   "execution_count": 30,
   "metadata": {},
   "outputs": [],
   "source": [
    "def isIsomorphic_num(s1, s2):\n",
    "    if (s1 is None and s2 is None):\n",
    "        return True\n",
    "    \n",
    "    if (s1 is None or s2 is None):\n",
    "        return False\n",
    "    \n",
    "    # corner case\n",
    "    if (len(s1) != len(s2)):\n",
    "        return False\n",
    "    \n",
    "    l1 = list(s1)\n",
    "    l2 = list(s2)\n",
    "\n",
    "    # any letter wil be numbered in sequential, both string should have the same number pattern\n",
    "    seq1, seq2 = 0, 0\n",
    "    dic1, dic2 = dict(), dict()\n",
    "    mnu1, mnu2 = -1, -1\n",
    "    for i in range(len(l1)):\n",
    "        # check num 1\n",
    "        if (l1[i] in dic1):\n",
    "            num1 = dic1[l1[i]]\n",
    "        else:\n",
    "            dic1[l1[i]] = seq1\n",
    "            num1 = seq1\n",
    "            seq1 +=1\n",
    "\n",
    "        # same for num 2\n",
    "        if (l2[i] in dic2):\n",
    "            num2 = dic2[l2[i]]\n",
    "        else:\n",
    "            dic2[l2[i]] = seq2\n",
    "            num2 = seq2\n",
    "            seq2 +=1\n",
    "        \n",
    "        if (num1 != num2):\n",
    "            return False\n",
    "    \n",
    "    return True\n",
    "        "
   ]
  },
  {
   "cell_type": "code",
   "execution_count": 36,
   "metadata": {},
   "outputs": [
    {
     "data": {
      "text/plain": [
       "False"
      ]
     },
     "execution_count": 36,
     "metadata": {},
     "output_type": "execute_result"
    }
   ],
   "source": [
    "str1 = 'ammanda'\n",
    "str2 = 'egeemke'\n",
    "isIsomorphic_num(str1,str2)"
   ]
  },
  {
   "cell_type": "code",
   "execution_count": null,
   "metadata": {},
   "outputs": [],
   "source": []
  }
 ],
 "metadata": {
  "kernelspec": {
   "display_name": "Python 3",
   "language": "python",
   "name": "python3"
  },
  "language_info": {
   "codemirror_mode": {
    "name": "ipython",
    "version": 3
   },
   "file_extension": ".py",
   "mimetype": "text/x-python",
   "name": "python",
   "nbconvert_exporter": "python",
   "pygments_lexer": "ipython3",
   "version": "3.7.6"
  }
 },
 "nbformat": 4,
 "nbformat_minor": 2
}
