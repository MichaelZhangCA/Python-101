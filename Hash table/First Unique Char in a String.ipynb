{
 "cells": [
  {
   "cell_type": "code",
   "execution_count": 1,
   "metadata": {},
   "outputs": [],
   "source": [
    "# return the first index of unique character"
   ]
  },
  {
   "cell_type": "code",
   "execution_count": 60,
   "metadata": {},
   "outputs": [],
   "source": [
    "from collections import deque\n",
    "def firstUnique(s):\n",
    "    dic = dict()\n",
    "    lst = list(s)\n",
    "    q = deque([])\n",
    "    \n",
    "    # by default -1\n",
    "    minIndex = -1\n",
    "    for idx, l in enumerate(lst):\n",
    "        \n",
    "        if (l not in dic):\n",
    "            # add in dic if not exist\n",
    "            dic[l] = idx\n",
    "            \n",
    "            # if it's the first unique char, get the index\n",
    "            if (minIndex == -1):\n",
    "                minIndex = idx\n",
    "            else:\n",
    "                # otherwise, put in the queue\n",
    "                q.append(idx)\n",
    "                \n",
    "        else:\n",
    "            # pop from the q if exist, it won't be a candidate anymore\n",
    "            if (dic[l] in q):\n",
    "                q.remove(dic[l])\n",
    "            \n",
    "            # if the current unique index is from this letter, reset the min to -1\n",
    "            if (dic[l] == minIndex):\n",
    "                minIndex = -1\n",
    "                # if there is idx in the queue, get the next one\n",
    "                if (q):\n",
    "                    minIndex = q.popleft()\n",
    "\n",
    "    #print(q)\n",
    "    return minIndex"
   ]
  },
  {
   "cell_type": "code",
   "execution_count": 61,
   "metadata": {},
   "outputs": [],
   "source": [
    "s = \"loveleetcode\""
   ]
  },
  {
   "cell_type": "code",
   "execution_count": 62,
   "metadata": {},
   "outputs": [
    {
     "data": {
      "text/plain": [
       "2"
      ]
     },
     "execution_count": 62,
     "metadata": {},
     "output_type": "execute_result"
    }
   ],
   "source": [
    "firstUnique(s)"
   ]
  },
  {
   "cell_type": "code",
   "execution_count": 58,
   "metadata": {},
   "outputs": [],
   "source": [
    "from collections import Counter\n",
    "# use counter, supper easy\n",
    "def firstUnique_counter(s):\n",
    "    \n",
    "    cnt = Counter(list(s))\n",
    "    for idx, l in enumerate(s):\n",
    "        if (cnt[l]==1):\n",
    "            return idx\n",
    "        \n",
    "    return -1"
   ]
  },
  {
   "cell_type": "code",
   "execution_count": 59,
   "metadata": {},
   "outputs": [
    {
     "data": {
      "text/plain": [
       "2"
      ]
     },
     "execution_count": 59,
     "metadata": {},
     "output_type": "execute_result"
    }
   ],
   "source": [
    "firstUnique_counter(s)"
   ]
  },
  {
   "cell_type": "code",
   "execution_count": null,
   "metadata": {},
   "outputs": [],
   "source": []
  },
  {
   "cell_type": "code",
   "execution_count": null,
   "metadata": {},
   "outputs": [],
   "source": []
  }
 ],
 "metadata": {
  "kernelspec": {
   "display_name": "Python 3",
   "language": "python",
   "name": "python3"
  },
  "language_info": {
   "codemirror_mode": {
    "name": "ipython",
    "version": 3
   },
   "file_extension": ".py",
   "mimetype": "text/x-python",
   "name": "python",
   "nbconvert_exporter": "python",
   "pygments_lexer": "ipython3",
   "version": "3.7.6"
  }
 },
 "nbformat": 4,
 "nbformat_minor": 2
}
