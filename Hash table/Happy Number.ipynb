{
 "cells": [
  {
   "cell_type": "code",
   "execution_count": 1,
   "metadata": {},
   "outputs": [],
   "source": [
    "# a happy number is \n",
    "# add the square of each digital to get a new number\n",
    "# continue the process\n",
    "# if get 1 eventually, it's a \"happy number\""
   ]
  },
  {
   "cell_type": "code",
   "execution_count": 27,
   "metadata": {},
   "outputs": [],
   "source": [
    "def happyNumber(val):\n",
    "    \n",
    "    # do convertion until find a pattern, if got 1 in the process, return true\n",
    "    seen = set([val])\n",
    "    while True:\n",
    "        val = _process(val)\n",
    "        print(val)\n",
    "        if (val == 1):\n",
    "            return True\n",
    "        else:\n",
    "            if (val in seen):\n",
    "                return False\n",
    "            # add to the pattern list\n",
    "            seen.add(val)\n",
    "    \n",
    "    return False\n",
    "    \n",
    "def _process(val):\n",
    "    # get the number \n",
    "    nums = [(int(s)) ** 2 for s in list(str(val))]\n",
    "    return sum(nums)\n",
    "    "
   ]
  },
  {
   "cell_type": "code",
   "execution_count": 33,
   "metadata": {},
   "outputs": [
    {
     "name": "stdout",
     "output_type": "stream",
     "text": [
      "100\n",
      "1\n"
     ]
    },
    {
     "data": {
      "text/plain": [
       "True"
      ]
     },
     "execution_count": 33,
     "metadata": {},
     "output_type": "execute_result"
    }
   ],
   "source": [
    "happyNumber(85311)"
   ]
  },
  {
   "cell_type": "code",
   "execution_count": null,
   "metadata": {},
   "outputs": [],
   "source": []
  }
 ],
 "metadata": {
  "kernelspec": {
   "display_name": "Python 3",
   "language": "python",
   "name": "python3"
  },
  "language_info": {
   "codemirror_mode": {
    "name": "ipython",
    "version": 3
   },
   "file_extension": ".py",
   "mimetype": "text/x-python",
   "name": "python",
   "nbconvert_exporter": "python",
   "pygments_lexer": "ipython3",
   "version": "3.7.6"
  }
 },
 "nbformat": 4,
 "nbformat_minor": 2
}
