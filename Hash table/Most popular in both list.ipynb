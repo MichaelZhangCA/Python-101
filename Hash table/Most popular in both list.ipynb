{
 "cells": [
  {
   "cell_type": "code",
   "execution_count": 1,
   "metadata": {},
   "outputs": [],
   "source": [
    "# by given 2 list of words, find the common words, also has minimal sum of index (popular rating)"
   ]
  },
  {
   "cell_type": "code",
   "execution_count": 33,
   "metadata": {},
   "outputs": [],
   "source": [
    "def popularSum(ar1, ar2):\n",
    "    # save word and index in a dict\n",
    "    dict1, dict2 = dict(), dict()\n",
    "    \n",
    "    for idx, word in enumerate(ar1):\n",
    "        dict1[word] = idx\n",
    "    for idx, word in enumerate(ar2):\n",
    "        dict2[word] = idx\n",
    "    \n",
    "    inter = list(set(ar1) & set(ar2))\n",
    "    \n",
    "    # find the min words\n",
    "    minVal = len(ar1) + len(ar2)\n",
    "    res = []\n",
    "    \n",
    "    for word in inter:\n",
    "        popRate = dict1[word] + dict2[word] \n",
    "        if (popRate < minVal):\n",
    "            minVal = popRate\n",
    "            res = [word]\n",
    "        elif (popRate == minVal):\n",
    "            res.append(word)\n",
    "    \n",
    "    return list(reversed(sorted(res)))\n",
    "        "
   ]
  },
  {
   "cell_type": "code",
   "execution_count": 34,
   "metadata": {},
   "outputs": [],
   "source": [
    "ar1 = [\"Shogun\", \"Tapioca Express\", \"Burger King\", \"KFC\"]\n",
    "ar2 = [\"Piatti\", \"The Grill at Torrey Pines\", \"Hungry Hunter Steakhouse\", \"Shogun\"]\n",
    "\n",
    "ar1 = [\"Shogun\", \"KFC\", \"Tapioca Express\", \"Burger King\"]\n",
    "ar2 = [\"KFC\", \"Shogun\", \"Burger King\"]"
   ]
  },
  {
   "cell_type": "code",
   "execution_count": 35,
   "metadata": {},
   "outputs": [
    {
     "data": {
      "text/plain": [
       "['Shogun', 'KFC']"
      ]
     },
     "execution_count": 35,
     "metadata": {},
     "output_type": "execute_result"
    }
   ],
   "source": [
    "popularSum(ar1, ar2)"
   ]
  },
  {
   "cell_type": "code",
   "execution_count": 31,
   "metadata": {},
   "outputs": [
    {
     "data": {
      "text/plain": [
       "['Burger King', 'Tapioca Express', 'KFC', 'Shogun']"
      ]
     },
     "execution_count": 31,
     "metadata": {},
     "output_type": "execute_result"
    }
   ],
   "source": [
    "list(reversed(ar1))"
   ]
  },
  {
   "cell_type": "code",
   "execution_count": null,
   "metadata": {},
   "outputs": [],
   "source": []
  }
 ],
 "metadata": {
  "kernelspec": {
   "display_name": "Python 3",
   "language": "python",
   "name": "python3"
  },
  "language_info": {
   "codemirror_mode": {
    "name": "ipython",
    "version": 3
   },
   "file_extension": ".py",
   "mimetype": "text/x-python",
   "name": "python",
   "nbconvert_exporter": "python",
   "pygments_lexer": "ipython3",
   "version": "3.7.6"
  }
 },
 "nbformat": 4,
 "nbformat_minor": 2
}
