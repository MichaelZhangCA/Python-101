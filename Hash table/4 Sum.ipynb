{
 "cells": [
  {
   "cell_type": "code",
   "execution_count": 1,
   "metadata": {},
   "outputs": [],
   "source": [
    "# by given 4 arrays, find all the combination of sum a number from each array and equal zero"
   ]
  },
  {
   "cell_type": "code",
   "execution_count": 39,
   "metadata": {},
   "outputs": [],
   "source": [
    "from collections import defaultdict\n",
    "def sum4(arr1, arr2, arr3, arr4):\n",
    "\n",
    "    res = []\n",
    "    # define a dict to save all combinnation from arr1 & arr2\n",
    "    dic = defaultdict(list)\n",
    "    \n",
    "    # split to arr1 & arr2, arr3 & arr4, make 4 arrys to be 2 arrays\n",
    "    i=0\n",
    "    while i<len(arr1):\n",
    "        j = 0\n",
    "        while j<len(arr2):\n",
    "            dic[arr1[i] + arr2[j]].append([i,j])\n",
    "            j += 1 \n",
    "        i += 1\n",
    "    \n",
    "    # loop arr3 and arr4, find the rest in the dict\n",
    "    i =0\n",
    "    while i<len(arr3):\n",
    "        j = 0\n",
    "        while j<len(arr4):\n",
    "            s = arr3[i] + arr4[j]\n",
    "            if (-s in dic):\n",
    "                for r in [ idx + [i,j] for idx in dic[-s]]:\n",
    "                    res.append(r)\n",
    "            \n",
    "            j += 1\n",
    "        i += 1\n",
    "    \n",
    "    return res"
   ]
  },
  {
   "cell_type": "code",
   "execution_count": 40,
   "metadata": {},
   "outputs": [],
   "source": [
    "A = [ 1, 2]\n",
    "B = [-2,-1]\n",
    "C = [-1, 2]\n",
    "D = [ 0, 2]\n"
   ]
  },
  {
   "cell_type": "code",
   "execution_count": 41,
   "metadata": {},
   "outputs": [
    {
     "data": {
      "text/plain": [
       "[[1, 1, 0, 0], [0, 0, 0, 1]]"
      ]
     },
     "execution_count": 41,
     "metadata": {},
     "output_type": "execute_result"
    }
   ],
   "source": [
    "sum4(A,B,C,D)"
   ]
  },
  {
   "cell_type": "code",
   "execution_count": null,
   "metadata": {},
   "outputs": [],
   "source": []
  }
 ],
 "metadata": {
  "kernelspec": {
   "display_name": "Python 3",
   "language": "python",
   "name": "python3"
  },
  "language_info": {
   "codemirror_mode": {
    "name": "ipython",
    "version": 3
   },
   "file_extension": ".py",
   "mimetype": "text/x-python",
   "name": "python",
   "nbconvert_exporter": "python",
   "pygments_lexer": "ipython3",
   "version": "3.7.6"
  }
 },
 "nbformat": 4,
 "nbformat_minor": 2
}
