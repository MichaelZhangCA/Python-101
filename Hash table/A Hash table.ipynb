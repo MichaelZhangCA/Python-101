{
 "cells": [
  {
   "cell_type": "code",
   "execution_count": 96,
   "metadata": {},
   "outputs": [],
   "source": [
    "class Node():\n",
    "    def __init__(self, val, left=None, right=None, *args, **kargs):\n",
    "        self.value = val\n",
    "        self.left = left\n",
    "        self.right = right\n",
    "    \n",
    "class Bucket():\n",
    "\n",
    "    # use a BST as a bucket\n",
    "    def __init__(self, *args, **kargs):\n",
    "        self.root = None\n",
    "        \n",
    "    def insertVal(self, val:int):\n",
    "        if (not self.exists(val)):\n",
    "            self.root = self._insertNode(self.root, val)\n",
    "    \n",
    "    def _insertNode(self, node, val:int):\n",
    "        \n",
    "        if (node is None):\n",
    "            return Node(val)\n",
    "        \n",
    "        if (node.value < val):\n",
    "            node.right = self._insertNode(node.right, val)\n",
    "        else:\n",
    "            node.left = self._insertNode(node.left, val)\n",
    "        \n",
    "        return node\n",
    "        \n",
    "    def exists(self, val:int) -> bool:\n",
    "        return self._searchNode(self.root, val)\n",
    "        \n",
    "    def _searchNode(self, node, val:int) -> bool:\n",
    "        \n",
    "        if (node is None):\n",
    "            return False\n",
    "        \n",
    "        if (node.value == val):\n",
    "            return True\n",
    "        \n",
    "        if (node.value > val):\n",
    "            return self._searchNode(node.left, val)\n",
    "        else:\n",
    "            return self._searchNode(node.right, val)\n",
    "            \n",
    "        \n",
    "    def removeVal(self, val):\n",
    "        # find the node\n",
    "        # set to None if there is no leaf\n",
    "        # replace with successor if there is right node\n",
    "        # replace with the pre successor if there is left node\n",
    "        pass\n",
    "    \n",
    "    def inOrder(self):\n",
    "        lst = []\n",
    "        self._inOrderTraversal(self.root, lst)\n",
    "        return lst\n",
    "        \n",
    "    def _inOrderTraversal(self, node, lst):\n",
    "        if (node is None):\n",
    "            return\n",
    "        self._inOrderTraversal(node.left, lst)\n",
    "        lst.append(node.value)\n",
    "        self._inOrderTraversal(node.right, lst)\n",
    "        \n",
    "            \n",
    "class hashTable():\n",
    "    \n",
    "    def __init__(self, *args, **kargs):\n",
    "        self.bucket = [Bucket() for i in range(5)]\n",
    "    \n",
    "    def hashFunc(self, val:int) -> int:\n",
    "        return val % 5;\n",
    "    \n",
    "    def add(self, val:int):\n",
    "        # get the hash value\n",
    "        hidx = self.hashFunc(val)\n",
    "        \n",
    "        # put into the bucket\n",
    "        self.bucket[hidx].insertVal(val)\n",
    "        \n",
    "    def contains(self, val:int) -> bool:\n",
    "        hidx = self.hashFunc(val)\n",
    "        return self.bucket[hidx].exists(val)\n"
   ]
  },
  {
   "cell_type": "code",
   "execution_count": 97,
   "metadata": {},
   "outputs": [],
   "source": [
    "ht = hashTable()"
   ]
  },
  {
   "cell_type": "code",
   "execution_count": 98,
   "metadata": {},
   "outputs": [],
   "source": [
    "ht.add(1)\n",
    "ht.add(5)\n",
    "ht.add(6)\n",
    "ht.add(1)\n",
    "ht.add(1)"
   ]
  },
  {
   "cell_type": "code",
   "execution_count": 99,
   "metadata": {},
   "outputs": [],
   "source": [
    "ht.add(2)"
   ]
  },
  {
   "cell_type": "code",
   "execution_count": 101,
   "metadata": {},
   "outputs": [
    {
     "data": {
      "text/plain": [
       "True"
      ]
     },
     "execution_count": 101,
     "metadata": {},
     "output_type": "execute_result"
    }
   ],
   "source": [
    "ht.contains(1)"
   ]
  },
  {
   "cell_type": "code",
   "execution_count": 102,
   "metadata": {},
   "outputs": [
    {
     "data": {
      "text/plain": [
       "[]"
      ]
     },
     "execution_count": 102,
     "metadata": {},
     "output_type": "execute_result"
    }
   ],
   "source": [
    "ht.bucket[3].inOrder()"
   ]
  },
  {
   "cell_type": "code",
   "execution_count": null,
   "metadata": {},
   "outputs": [],
   "source": []
  }
 ],
 "metadata": {
  "kernelspec": {
   "display_name": "Python 3",
   "language": "python",
   "name": "python3"
  },
  "language_info": {
   "codemirror_mode": {
    "name": "ipython",
    "version": 3
   },
   "file_extension": ".py",
   "mimetype": "text/x-python",
   "name": "python",
   "nbconvert_exporter": "python",
   "pygments_lexer": "ipython3",
   "version": "3.7.6"
  }
 },
 "nbformat": 4,
 "nbformat_minor": 2
}
