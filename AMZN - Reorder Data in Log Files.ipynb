{
 "cells": [
  {
   "cell_type": "raw",
   "metadata": {},
   "source": [
    "You have an array of logs.  Each log is a space delimited string of words.\n",
    "\n",
    "For each log, the first word in each log is an alphanumeric identifier.  Then, either:\n",
    "\n",
    "Each word after the identifier will consist only of lowercase letters, or;\n",
    "Each word after the identifier will consist only of digits.\n",
    "We will call these two varieties of logs letter-logs and digit-logs.  It is guaranteed that each log has at least one word after its identifier.\n",
    "\n",
    "Reorder the logs so that all of the letter-logs come before any digit-log.  The letter-logs are ordered lexicographically ignoring identifier, with the identifier used in case of ties.  The digit-logs should be put in their original order.\n",
    "\n",
    "Return the final order of the logs.\n",
    "\n",
    " \n",
    "\n",
    "Example 1:\n",
    "\n",
    "Input: logs = [\"dig1 8 1 5 1\",\"let1 art can\",\"dig2 3 6\",\"let2 own kit dig\",\"let3 art zero\"]\n",
    "Output: [\"let1 art can\",\"let3 art zero\",\"let2 own kit dig\",\"dig1 8 1 5 1\",\"dig2 3 6\"]\n",
    " \n",
    "\n",
    "Constraints:\n",
    "\n",
    "0 <= logs.length <= 100\n",
    "3 <= logs[i].length <= 100\n",
    "logs[i] is guaranteed to have an identifier, and a word after the identifier.\n"
   ]
  },
  {
   "cell_type": "code",
   "execution_count": 1,
   "metadata": {},
   "outputs": [],
   "source": [
    "from typing import List\n",
    "\n",
    "class Solution():\n",
    "    def reorderLogFiles(self, logs: List[str]) -> List[str]:\n",
    "        l_log = [log for log in logs if log.split(' ')[1][0].isalpha()]\n",
    "        l_srt = sorted(l_log, key=lambda x: x.split(' ')[1])\n",
    "\n",
    "        d_log = [log for log in logs if log.split(' ')[1][0].isdigit()]\n",
    "        #d_srt = sorted(d_log, key=lambda x: x.split(' ')[1])        \n",
    "\n",
    "        return l_srt + d_log"
   ]
  },
  {
   "cell_type": "code",
   "execution_count": 2,
   "metadata": {},
   "outputs": [],
   "source": [
    "logs = [\"dig1 8 1 5 1\",\"let1 art can\",\"dig2 3 6\",\"let2 own kit dig\",\"let3 art zero\"]"
   ]
  },
  {
   "cell_type": "code",
   "execution_count": 4,
   "metadata": {},
   "outputs": [],
   "source": [
    "srt = Solution().reorderLogFiles(logs)"
   ]
  },
  {
   "cell_type": "code",
   "execution_count": 5,
   "metadata": {},
   "outputs": [
    {
     "data": {
      "text/plain": [
       "['let1 art can',\n",
       " 'let3 art zero',\n",
       " 'let2 own kit dig',\n",
       " 'dig1 8 1 5 1',\n",
       " 'dig2 3 6']"
      ]
     },
     "execution_count": 5,
     "metadata": {},
     "output_type": "execute_result"
    }
   ],
   "source": [
    "srt"
   ]
  },
  {
   "cell_type": "code",
   "execution_count": null,
   "metadata": {},
   "outputs": [],
   "source": []
  }
 ],
 "metadata": {
  "kernelspec": {
   "display_name": "Python 3",
   "language": "python",
   "name": "python3"
  },
  "language_info": {
   "codemirror_mode": {
    "name": "ipython",
    "version": 3
   },
   "file_extension": ".py",
   "mimetype": "text/x-python",
   "name": "python",
   "nbconvert_exporter": "python",
   "pygments_lexer": "ipython3",
   "version": "3.7.6"
  }
 },
 "nbformat": 4,
 "nbformat_minor": 2
}
