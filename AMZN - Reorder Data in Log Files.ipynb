{
 "cells": [
  {
   "cell_type": "raw",
   "metadata": {},
   "source": [
    "You have an array of logs.  Each log is a space delimited string of words.\n",
    "\n",
    "For each log, the first word in each log is an alphanumeric identifier.  Then, either:\n",
    "\n",
    "Each word after the identifier will consist only of lowercase letters, or;\n",
    "Each word after the identifier will consist only of digits.\n",
    "We will call these two varieties of logs letter-logs and digit-logs.  It is guaranteed that each log has at least one word after its identifier.\n",
    "\n",
    "Reorder the logs so that all of the letter-logs come before any digit-log.  The letter-logs are ordered lexicographically ignoring identifier, with the identifier used in case of ties.  The digit-logs should be put in their original order.\n",
    "\n",
    "Return the final order of the logs.\n",
    "\n",
    " \n",
    "\n",
    "Example 1:\n",
    "\n",
    "Input: logs = [\"dig1 8 1 5 1\",\"let1 art can\",\"dig2 3 6\",\"let2 own kit dig\",\"let3 art zero\"]\n",
    "Output: [\"let1 art can\",\"let3 art zero\",\"let2 own kit dig\",\"dig1 8 1 5 1\",\"dig2 3 6\"]\n",
    " \n",
    "\n",
    "Constraints:\n",
    "\n",
    "0 <= logs.length <= 100\n",
    "3 <= logs[i].length <= 100\n",
    "logs[i] is guaranteed to have an identifier, and a word after the identifier.\n"
   ]
  },
  {
   "cell_type": "code",
   "execution_count": null,
   "metadata": {},
   "outputs": [],
   "source": [
    "# split the log to id and the rest\n",
    "# sort letter logs by rest then id\n",
    "# attach raw digital logs\n",
    "# O(M + logM)"
   ]
  },
  {
   "cell_type": "code",
   "execution_count": 50,
   "metadata": {},
   "outputs": [],
   "source": [
    "from typing import List\n",
    "\n",
    "class Solution():\n",
    "    def reorderLogFiles(self, logs: List[str]) -> List[str]:\n",
    "        # get the letter log and sort by the rest, id\n",
    "        l_log = [log for log in logs if log.split(' ',1)[1][0].isalpha()]\n",
    "        l_srt = sorted(l_log, key=lambda x: (x.split(' ',1)[1], x.split(' ',1)[0]))\n",
    "\n",
    "        # get the digital log with raw sequence\n",
    "        d_log = [log for log in logs if log.split(' ',1)[1][0].isdigit()]\n",
    "\n",
    "        # combine and return\n",
    "        return l_srt + d_log"
   ]
  },
  {
   "cell_type": "code",
   "execution_count": 51,
   "metadata": {},
   "outputs": [],
   "source": [
    "logs = [\"dig1 8 1 5 1\",\"let3 art zan\",\"dig2 3 6\",\"let2 own kit dig\",\"let11 art czero\", \"let5 for test\", \"let4 for test\"]"
   ]
  },
  {
   "cell_type": "code",
   "execution_count": 56,
   "metadata": {},
   "outputs": [],
   "source": [
    "logs = [\"j mo\", \"5 m w\", \"g 07\", \"o 2 0\", \"t q h\"] "
   ]
  },
  {
   "cell_type": "code",
   "execution_count": 57,
   "metadata": {},
   "outputs": [
    {
     "data": {
      "text/plain": [
       "['5 m w', 'j mo', 't q h', 'g 07', 'o 2 0']"
      ]
     },
     "execution_count": 57,
     "metadata": {},
     "output_type": "execute_result"
    }
   ],
   "source": [
    "Solution().reorderLogFiles(logs)"
   ]
  },
  {
   "cell_type": "code",
   "execution_count": 25,
   "metadata": {},
   "outputs": [
    {
     "data": {
      "text/plain": [
       "['dig1', '8 1 5 1']"
      ]
     },
     "execution_count": 25,
     "metadata": {},
     "output_type": "execute_result"
    }
   ],
   "source": [
    "logs[0].split(' ',1)"
   ]
  },
  {
   "cell_type": "code",
   "execution_count": null,
   "metadata": {},
   "outputs": [],
   "source": [
    "# build a sorting key for all logs\n",
    "# for letter log : 0, rest, id\n",
    "# for digital log : 1, "
   ]
  },
  {
   "cell_type": "code",
   "execution_count": 47,
   "metadata": {},
   "outputs": [],
   "source": [
    "class Solution2(object):\n",
    "    def reorderLogFiles(self, logs):\n",
    "        def f(log):\n",
    "            id_, rest = log.split(\" \", 1)\n",
    "            return (0, rest, id_) if rest[0].isalpha() else (1,)\n",
    "\n",
    "        return sorted(logs, key = f)"
   ]
  },
  {
   "cell_type": "code",
   "execution_count": 58,
   "metadata": {},
   "outputs": [
    {
     "data": {
      "text/plain": [
       "['5 m w', 'j mo', 't q h', 'g 07', 'o 2 0']"
      ]
     },
     "execution_count": 58,
     "metadata": {},
     "output_type": "execute_result"
    }
   ],
   "source": [
    "Solution2().reorderLogFiles(logs)"
   ]
  },
  {
   "cell_type": "code",
   "execution_count": 53,
   "metadata": {},
   "outputs": [],
   "source": [
    "logs = [\"l5sh 6 3869 08 1295\", \"16o 94884717383724 9\", \"43 490972281212 3 51\", \"9 ehyjki ngcoobi mi\", \"2epy 85881033085988\", \"7z fqkbxxqfks f y dg\", \"9h4p 5 791738 954209\", \"p i hz uubk id s m l\", \"wd lfqgmu pvklkdp u\", \"m4jl 225084707500464\", \"6np2 bqrrqt q vtap h\", \"e mpgfn bfkylg zewmg\", \"ttzoz 035658365825 9\", \"k5pkn 88312912782538\", \"ry9 8231674347096 00\", \"w 831 74626 07 353 9\", \"bxao armngjllmvqwn q\", \"0uoj 9 8896814034171\", \"0 81650258784962331\", \"t3df gjjn nxbrryos b\"]"
   ]
  },
  {
   "cell_type": "code",
   "execution_count": null,
   "metadata": {},
   "outputs": [],
   "source": []
  }
 ],
 "metadata": {
  "kernelspec": {
   "display_name": "Python 3",
   "language": "python",
   "name": "python3"
  },
  "language_info": {
   "codemirror_mode": {
    "name": "ipython",
    "version": 3
   },
   "file_extension": ".py",
   "mimetype": "text/x-python",
   "name": "python",
   "nbconvert_exporter": "python",
   "pygments_lexer": "ipython3",
   "version": "3.7.6"
  }
 },
 "nbformat": 4,
 "nbformat_minor": 2
}
