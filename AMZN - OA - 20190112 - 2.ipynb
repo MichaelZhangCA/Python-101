{
 "cells": [
  {
   "cell_type": "code",
   "execution_count": 29,
   "metadata": {},
   "outputs": [],
   "source": [
    "rows = 4\n",
    "columns = 5\n",
    "grid = \\\n",
    "[[0,1,1,0,1],\n",
    " [0,1,0,1,0],\n",
    " [0,0,0,0,1],\n",
    " [0,1,0,0,0]\n",
    "]"
   ]
  },
  {
   "cell_type": "code",
   "execution_count": 30,
   "metadata": {},
   "outputs": [],
   "source": [
    "\n",
    "def minimumHours(rows, columns, grid):\n",
    "    # edge case\n",
    "    if not rows or not columns or not grid:\n",
    "        return 0\n",
    "\n",
    "    #if (rows != len(grid) or columns !=len(grid[0])):\n",
    "    #    return -1\n",
    "    \n",
    "    # generate the server list with file\n",
    "    q = [[i,j] for i in range(rows) for j in range(columns) if grid[i][j]==1]\n",
    "    \n",
    "    # define a list of possible direction the file can transfer to\n",
    "    delta = [[1,0],[-1,0],[0,1],[0,-1]]\n",
    "    \n",
    "    # hours used\n",
    "    time = 0\n",
    "\n",
    "    # if there is no file on the grid, then return -1 (cannot be done)\n",
    "    if not q:\n",
    "        return -1\n",
    "\n",
    "    # loop the list\n",
    "    while True:\n",
    "        # define a new list for all the file been transfered in this loop\n",
    "        new = []\n",
    "        for [i,j] in q:\n",
    "            for d in delta:\n",
    "                ni, nj = i + d[0], j + d[1]\n",
    "                \n",
    "                # only check when the neighbour cell still in the grid and is empty to transfer the file\n",
    "                if 0 <= ni < rows and 0 <= nj < columns and grid[ni][nj] == 0:\n",
    "                    # if find a empty server, mark it is transfered\n",
    "                    grid[ni][nj] = 1\n",
    "                    # add to new list for next loop\n",
    "                    new.append([ni,nj])\n",
    "\n",
    "        if (new):\n",
    "            # if found new file transfered\n",
    "            q = new\n",
    "            time += 1\n",
    "        else:\n",
    "            # if there is no empty server to transfer the file\n",
    "            break\n",
    "\n",
    "    return time"
   ]
  },
  {
   "cell_type": "code",
   "execution_count": 31,
   "metadata": {},
   "outputs": [
    {
     "data": {
      "text/plain": [
       "[[0, 1, 1, 0, 1], [0, 1, 0, 1, 0], [0, 0, 0, 0, 1], [0, 1, 0, 0, 0]]"
      ]
     },
     "execution_count": 31,
     "metadata": {},
     "output_type": "execute_result"
    }
   ],
   "source": [
    "grid"
   ]
  },
  {
   "cell_type": "code",
   "execution_count": 32,
   "metadata": {},
   "outputs": [
    {
     "data": {
      "text/plain": [
       "2"
      ]
     },
     "execution_count": 32,
     "metadata": {},
     "output_type": "execute_result"
    }
   ],
   "source": [
    "minHour(rows, columns, grid)"
   ]
  },
  {
   "cell_type": "code",
   "execution_count": null,
   "metadata": {},
   "outputs": [],
   "source": []
  }
 ],
 "metadata": {
  "kernelspec": {
   "display_name": "Python 3",
   "language": "python",
   "name": "python3"
  },
  "language_info": {
   "codemirror_mode": {
    "name": "ipython",
    "version": 3
   },
   "file_extension": ".py",
   "mimetype": "text/x-python",
   "name": "python",
   "nbconvert_exporter": "python",
   "pygments_lexer": "ipython3",
   "version": "3.7.6"
  }
 },
 "nbformat": 4,
 "nbformat_minor": 2
}
