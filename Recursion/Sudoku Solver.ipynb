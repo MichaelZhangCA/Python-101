{
 "cells": [
  {
   "cell_type": "markdown",
   "metadata": {},
   "source": [
    "Write a program to solve a Sudoku puzzle by filling the empty cells.\n",
    "\n",
    "A sudoku solution must satisfy all of the following rules:\n",
    "\n",
    "Each of the digits 1-9 must occur exactly once in each row.\n",
    "Each of the digits 1-9 must occur exactly once in each column.\n",
    "Each of the the digits 1-9 must occur exactly once in each of the 9 3x3 sub-boxes of the grid.\n",
    "Empty cells are indicated by the character '.'.\n",
    "\n",
    "<img src=\"https://upload.wikimedia.org/wikipedia/commons/thumb/f/ff/Sudoku-by-L2G-20050714.svg/250px-Sudoku-by-L2G-20050714.svg.png\" />\n",
    "<img src=\"https://upload.wikimedia.org/wikipedia/commons/thumb/3/31/Sudoku-by-L2G-20050714_solution.svg/250px-Sudoku-by-L2G-20050714_solution.svg.png\" />"
   ]
  },
  {
   "cell_type": "code",
   "execution_count": 89,
   "metadata": {},
   "outputs": [],
   "source": [
    "from typing import List\n",
    "class Solution:\n",
    "    def solveSudoku(self, board: List[List[str]]) -> None:\n",
    "        \"\"\"\n",
    "        Do not return anything, modify board in-place instead.\n",
    "        \"\"\"\n",
    "        \n",
    "        def fillNextCell(row,col):\n",
    "            # check exit \n",
    "            if (row==n-1 and col==n-1):\n",
    "                return True\n",
    "\n",
    "            # move to next step\n",
    "            if (col<n-1):\n",
    "                return fillCell(row,col+1)\n",
    "            else:\n",
    "                return fillCell(row+1,0)\n",
    "        \n",
    "        def fillCell(row, col):\n",
    "            \n",
    "            if (board[row][col] == \".\"):\n",
    "                # fill in a number which is not in the list yet\n",
    "                for i in range(1,10):\n",
    "                    if (i not in [int(n) for n in board[row] if n != \".\"]) and \\\n",
    "                       (i not in [int(n) for n in [board[i][col] for i in range(n)] if n!=\".\"]):\n",
    "                        \n",
    "                        board[row][col] = str(i)\n",
    "                        \n",
    "                        #self.printBoard()\n",
    "\n",
    "                        # fill next cell\n",
    "                        if not (fillNextCell(row,col)):\n",
    "                            \n",
    "                            board[row][col] = \".\"\n",
    "                            #self.printBoard()                            \n",
    "                            #break\n",
    "                \n",
    "                #self.printBoard()                            \n",
    "                        \n",
    "            else:\n",
    "                return fillNextCell(row,col)\n",
    "        \n",
    "        if (not board):\n",
    "            return\n",
    "        \n",
    "        n = len(board)\n",
    "        fillCell(0,0)\n",
    "        self.printBoard()\n",
    "\n",
    "    def printBoard(self):\n",
    "        print('\\r\\n'.join([str(b) for b in board]))\n",
    "        print()\n",
    "        \n",
    "    "
   ]
  },
  {
   "cell_type": "code",
   "execution_count": 90,
   "metadata": {},
   "outputs": [],
   "source": [
    "board = \\\n",
    "[[\"5\",\"3\",\".\",\".\",\"7\",\".\",\".\",\".\",\".\"],\n",
    " [\"6\",\".\",\".\",\"1\",\"9\",\"5\",\".\",\".\",\".\"],\n",
    " [\".\",\"9\",\"8\",\".\",\".\",\".\",\".\",\"6\",\".\"],\n",
    " [\"8\",\".\",\".\",\".\",\"6\",\".\",\".\",\".\",\"3\"],\n",
    " [\"4\",\".\",\".\",\"8\",\".\",\"3\",\".\",\".\",\"1\"],\n",
    " [\"7\",\".\",\".\",\".\",\"2\",\".\",\".\",\".\",\"6\"],\n",
    " [\".\",\"6\",\".\",\".\",\".\",\".\",\"2\",\"8\",\".\"], \n",
    " [\".\",\".\",\".\",\"4\",\"1\",\"9\",\".\",\".\",\"5\"],\n",
    " [\".\",\".\",\".\",\".\",\"8\",\".\",\".\",\"7\",\"9\"]]\n"
   ]
  },
  {
   "cell_type": "code",
   "execution_count": 91,
   "metadata": {},
   "outputs": [
    {
     "name": "stdout",
     "output_type": "stream",
     "text": [
      "['5', '3', '.', '.', '7', '.', '.', '.', '.']\r\n",
      "['6', '.', '.', '1', '9', '5', '.', '.', '.']\r\n",
      "['.', '9', '8', '.', '.', '.', '.', '6', '.']\r\n",
      "['8', '.', '.', '.', '6', '.', '.', '.', '3']\r\n",
      "['4', '.', '.', '8', '.', '3', '.', '.', '1']\r\n",
      "['7', '.', '.', '3', '2', '8', '9', '5', '6']\r\n",
      "['9', '6', '3', '5', '4', '1', '2', '8', '7']\r\n",
      "['2', '8', '6', '4', '1', '9', '7', '3', '5']\r\n",
      "['3', '4', '5', '6', '8', '2', '1', '7', '9']\n",
      "\n"
     ]
    }
   ],
   "source": [
    "Solution().solveSudoku(board)"
   ]
  },
  {
   "cell_type": "code",
   "execution_count": 79,
   "metadata": {},
   "outputs": [
    {
     "name": "stdout",
     "output_type": "stream",
     "text": [
      "['5', '3', '.', '.', '7', '.', '.', '.', '.']\r\n",
      "['6', '.', '.', '1', '9', '5', '.', '.', '.']\r\n",
      "['.', '9', '8', '.', '.', '.', '.', '6', '.']\r\n",
      "['8', '.', '.', '.', '6', '.', '.', '.', '3']\r\n",
      "['4', '.', '.', '8', '.', '3', '.', '.', '1']\r\n",
      "['7', '.', '.', '3', '2', '8', '9', '5', '6']\r\n",
      "['9', '6', '3', '5', '4', '1', '2', '8', '7']\r\n",
      "['2', '8', '6', '4', '1', '9', '7', '3', '5']\r\n",
      "['3', '4', '5', '6', '8', '2', '1', '7', '9']\n"
     ]
    }
   ],
   "source": [
    "print('\\r\\n'.join([str(b) for b in board]))"
   ]
  },
  {
   "cell_type": "code",
   "execution_count": null,
   "metadata": {},
   "outputs": [],
   "source": []
  }
 ],
 "metadata": {
  "kernelspec": {
   "display_name": "Python 3",
   "language": "python",
   "name": "python3"
  },
  "language_info": {
   "codemirror_mode": {
    "name": "ipython",
    "version": 3
   },
   "file_extension": ".py",
   "mimetype": "text/x-python",
   "name": "python",
   "nbconvert_exporter": "python",
   "pygments_lexer": "ipython3",
   "version": "3.7.6"
  }
 },
 "nbformat": 4,
 "nbformat_minor": 2
}
