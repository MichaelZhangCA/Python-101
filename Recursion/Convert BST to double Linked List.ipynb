{
 "cells": [
  {
   "cell_type": "code",
   "execution_count": 1,
   "metadata": {},
   "outputs": [],
   "source": [
    "# left use as prev\n",
    "# right use as next"
   ]
  },
  {
   "cell_type": "code",
   "execution_count": null,
   "metadata": {},
   "outputs": [],
   "source": [
    "\"\"\"\n",
    "# Definition for a Node.\n",
    "class Node:\n",
    "    def __init__(self, val, left=None, right=None):\n",
    "        self.val = val\n",
    "        self.left = left\n",
    "        self.right = right\n",
    "\"\"\"\n",
    "from collections import deque\n",
    "class Solution:\n",
    "    def treeToDoublyList(self, root: 'Node') -> 'Node':\n",
    "        \n",
    "        if (not root):\n",
    "            return None\n",
    "        \n",
    "        def helper(node):\n",
    "            \n",
    "            nonlocal first, last\n",
    "            \n",
    "            # like inorder traversal\n",
    "            if (node.left):\n",
    "                helper(node.left)\n",
    "                \n",
    "            # this node\n",
    "            if (last):\n",
    "                last.right = node\n",
    "                node.left = last\n",
    "            else:\n",
    "                # no first if no last, once have last ,first will not change\n",
    "                first = node\n",
    "                \n",
    "            \n",
    "            # make this node the last anyway\n",
    "            last = node\n",
    "            \n",
    "            # handle right\n",
    "            if (node.right):\n",
    "                helper(node.right)\n",
    "                \n",
    "                \n",
    "        \n",
    "        first, last = None, None\n",
    "        \n",
    "        helper(root)\n",
    "        \n",
    "        # clase route\n",
    "        last.right = first\n",
    "        first.left = last\n",
    "        \n",
    "        return first\n",
    "        \n",
    "        "
   ]
  }
 ],
 "metadata": {
  "kernelspec": {
   "display_name": "Python 3",
   "language": "python",
   "name": "python3"
  },
  "language_info": {
   "codemirror_mode": {
    "name": "ipython",
    "version": 3
   },
   "file_extension": ".py",
   "mimetype": "text/x-python",
   "name": "python",
   "nbconvert_exporter": "python",
   "pygments_lexer": "ipython3",
   "version": "3.7.6"
  }
 },
 "nbformat": 4,
 "nbformat_minor": 2
}
