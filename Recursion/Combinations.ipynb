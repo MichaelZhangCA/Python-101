{
 "cells": [
  {
   "cell_type": "code",
   "execution_count": 1,
   "metadata": {},
   "outputs": [],
   "source": [
    "# by given a number list, output all conbination of given length r\n",
    "# [1,2,3,4], r=2\n",
    "# [1,2][1,3][1,4][2,3][2,4][3,4]"
   ]
  },
  {
   "cell_type": "code",
   "execution_count": 87,
   "metadata": {},
   "outputs": [],
   "source": [
    "# use itertools\n",
    "import itertools\n",
    "def comb(n,k):\n",
    "    nums = [i for i in range(1,n+1)]\n",
    "    return itertools.combinations(nums, k)"
   ]
  },
  {
   "cell_type": "code",
   "execution_count": 84,
   "metadata": {},
   "outputs": [],
   "source": [
    "# try use pointers\n",
    "class Solution:\n",
    "    def combine(self, n: int, k: int) -> List[List[int]]:\n",
    "      \n",
    "        nums = [i for i in range(1,n+1)]\n",
    "        # define a pointer array with r pointer in it\n",
    "        pts = [i for i in range(k)]\n",
    "        pmax = [i+n-k for i in range(k)]\n",
    "        \n",
    "        res = []\n",
    "        while (pts):\n",
    "            \n",
    "            res.append([nums[p] for p in pts])\n",
    "            # always move the last point\n",
    "            pts = self.shiftPoint(pts,pmax,k)\n",
    "            \n",
    "            \n",
    "        return res\n",
    "\n",
    "    \n",
    "    def shiftPoint(self, pts, pmax, r):\n",
    "\n",
    "        # from the last point to the first, plus one and check with max, if exceed max, set shift = 1, go prev point\n",
    "        shift = 1\n",
    "        for i in range(r-1,-1,-1):\n",
    "            pts[i] += shift\n",
    "            if (pts[i] > pmax[i]):\n",
    "                shift = 1\n",
    "                pts[i] = -1 # set to -1 for next step\n",
    "            else:\n",
    "                shift = 0\n",
    "\n",
    "        # check each point, if it's -1\n",
    "        if (all([n == -1 for n in pts])):\n",
    "            return None\n",
    "\n",
    "        for i in range(1,r):\n",
    "            if (pts[i] == -1):\n",
    "                pts[i] = pts[i-1] + 1\n",
    "\n",
    "        return pts"
   ]
  },
  {
   "cell_type": "code",
   "execution_count": 110,
   "metadata": {},
   "outputs": [],
   "source": [
    "nums = [1,2,3,4]\n",
    "n = 4\n",
    "r = 3\n",
    "pts = [i for i in range(r)]\n",
    "pmax = [i+n-r for i in range(r)]\n"
   ]
  },
  {
   "cell_type": "code",
   "execution_count": 111,
   "metadata": {},
   "outputs": [
    {
     "data": {
      "text/plain": [
       "[[1, 2, 3], [1, 2, 4], [1, 3, 4], [2, 3, 4]]"
      ]
     },
     "execution_count": 111,
     "metadata": {},
     "output_type": "execute_result"
    }
   ],
   "source": [
    "Solution().comb(nums,r)"
   ]
  },
  {
   "cell_type": "code",
   "execution_count": 88,
   "metadata": {},
   "outputs": [],
   "source": [
    "# use backtrack, it's slow !!!"
   ]
  },
  {
   "cell_type": "code",
   "execution_count": 134,
   "metadata": {},
   "outputs": [],
   "source": [
    "class SolutionBT():\n",
    "    \n",
    "    def combine(self, n, k):\n",
    "        \n",
    "        def helper(start, tmp):\n",
    "            \n",
    "            res = []\n",
    "            # check length\n",
    "            if (len(tmp) == k-1):\n",
    "                for i in range(start+1, n):\n",
    "                    res.append(tmp + [nums[i]])\n",
    "            else:\n",
    "                for i in range(start+1,n):\n",
    "                    # continue add to tmp\n",
    "                    res += helper(i, tmp+[nums[i]])\n",
    "                    \n",
    "                \n",
    "            return res\n",
    "        \n",
    "        if (n*k == 0):\n",
    "            return []\n",
    "        \n",
    "        if (n*k == 1):\n",
    "            return [[n]]\n",
    "        \n",
    "        if (k==1):\n",
    "            return [[i] for i in range(1,n+1)]\n",
    "        \n",
    "        nums = [i for i in range(1, n+1)]\n",
    "        res = []\n",
    "        for i in range(n-k+1):\n",
    "            res += helper(i,[nums[i]])\n",
    "            \n",
    "        return res\n",
    "            "
   ]
  },
  {
   "cell_type": "code",
   "execution_count": 135,
   "metadata": {},
   "outputs": [
    {
     "name": "stdout",
     "output_type": "stream",
     "text": [
      "1\n",
      "[[1, 2, 3], [1, 2, 4]]\n",
      "2\n",
      "[[1, 3, 4]]\n",
      "3\n",
      "[]\n",
      "2\n",
      "[[2, 3, 4]]\n",
      "3\n",
      "[]\n"
     ]
    },
    {
     "data": {
      "text/plain": [
       "[[1, 2, 3], [1, 2, 4], [1, 3, 4], [2, 3, 4]]"
      ]
     },
     "execution_count": 135,
     "metadata": {},
     "output_type": "execute_result"
    }
   ],
   "source": [
    "SolutionBT().combine(4,3)"
   ]
  },
  {
   "cell_type": "code",
   "execution_count": null,
   "metadata": {},
   "outputs": [],
   "source": []
  }
 ],
 "metadata": {
  "kernelspec": {
   "display_name": "Python 3",
   "language": "python",
   "name": "python3"
  },
  "language_info": {
   "codemirror_mode": {
    "name": "ipython",
    "version": 3
   },
   "file_extension": ".py",
   "mimetype": "text/x-python",
   "name": "python",
   "nbconvert_exporter": "python",
   "pygments_lexer": "ipython3",
   "version": "3.7.6"
  }
 },
 "nbformat": 4,
 "nbformat_minor": 2
}
