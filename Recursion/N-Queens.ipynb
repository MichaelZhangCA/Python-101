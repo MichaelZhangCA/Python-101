{
 "cells": [
  {
   "cell_type": "markdown",
   "metadata": {},
   "source": [
    "The n-queens puzzle is the problem of placing n queens on an n×n chessboard such that no two queens attack each other.\n",
    "\n",
    "<img src=\"https://assets.leetcode.com/uploads/2018/10/12/8-queens.png\" />\n",
    "\n",
    "Given an integer n, return the number of distinct solutions to the n-queens puzzle.\n"
   ]
  },
  {
   "cell_type": "raw",
   "metadata": {},
   "source": [
    "Input: 4\n",
    "Output: 2\n",
    "Explanation: There are two distinct solutions to the 4-queens puzzle as shown below.\n",
    "[\n",
    " [\".Q..\",  // Solution 1\n",
    "  \"...Q\",\n",
    "  \"Q...\",\n",
    "  \"..Q.\"],\n",
    "\n",
    " [\"..Q.\",  // Solution 2\n",
    "  \"Q...\",\n",
    "  \"...Q\",\n",
    "  \".Q..\"]\n",
    "]"
   ]
  },
  {
   "cell_type": "code",
   "execution_count": 1,
   "metadata": {},
   "outputs": [],
   "source": [
    "# use recrusivce to walk through all the possibility and count it\n",
    "# the key is once touch the end of the row, it's a success\n",
    "# then go back to the previous step and try different place\n"
   ]
  },
  {
   "cell_type": "code",
   "execution_count": 149,
   "metadata": {},
   "outputs": [],
   "source": [
    "class ChessBoard2():\n",
    "\n",
    "    def __init__(self, n):\n",
    "        self.n = n\n",
    "        self.board = [[\".\" for _ in range(n)] for _ in range(n)]\n",
    "        self.queen = set()\n",
    "    \n",
    "    def printBoard(self):\n",
    "        for i in range(self.n):\n",
    "            print(''.join(self.board[i]))\n",
    "            \n",
    "        print('')\n",
    "    \n",
    "    def placeQueen(self, row, col):\n",
    "        \n",
    "        # mark Queen\n",
    "        self.board[row][col] = 'Q'\n",
    "        self.queen.add((row,col))\n",
    "        \n",
    "        pass\n",
    "        \n",
    "    def removeQueen(self, row, col):\n",
    "        self.board[row][col] = '.'\n",
    "        self.queen.remove((row,col))\n",
    "        pass\n",
    "    \n",
    "    def isUnderAttack(self, row, col):\n",
    "        # if the cell under any attack\n",
    "        #return self.boardCover[(row,col)] >=1\n",
    "        return (row in [row for row,col in self.queen]) or ((col in [col for row,col in self.queen])) \\\n",
    "            or (0 in [(abs(row - r) - abs(col - l)) for r,l in self.queen ])\n"
   ]
  },
  {
   "cell_type": "code",
   "execution_count": 160,
   "metadata": {},
   "outputs": [
    {
     "name": "stdout",
     "output_type": "stream",
     "text": [
      "False\n"
     ]
    }
   ],
   "source": [
    "print(cb2.isUnderAttack(2,3))"
   ]
  },
  {
   "cell_type": "code",
   "execution_count": 150,
   "metadata": {},
   "outputs": [
    {
     "name": "stdout",
     "output_type": "stream",
     "text": [
      "....\n",
      ".Q..\n",
      "....\n",
      "....\n",
      "\n",
      "{(1, 1)}\n"
     ]
    }
   ],
   "source": [
    "cb2 = ChessBoard2(4)\n",
    "cb2.placeQueen(1,1)\n",
    "#cb2.removeQueen(1,1)\n",
    "cb2.printBoard()\n",
    "print(cb2.queen)\n"
   ]
  },
  {
   "cell_type": "code",
   "execution_count": 161,
   "metadata": {},
   "outputs": [],
   "source": [
    "from collections import defaultdict\n",
    "class Solution:\n",
    "    def totalNQueens(self, n: int) -> int:\n",
    "\n",
    "        def walkThrough(n, row, board):\n",
    "\n",
    "            nonlocal cnt\n",
    "            \n",
    "            # try find each cell in this row which can put a queen\n",
    "            for col in range(n):\n",
    "                if (not board.isUnderAttack(row,col)):\n",
    "                    board.placeQueen(row, col)\n",
    "\n",
    "                    # if is the last row, find 1\n",
    "                    if (row == n-1):\n",
    "                        #board.printBoard()\n",
    "                        cnt += 1\n",
    "                    else:\n",
    "                        # go to next row\n",
    "                        walkThrough(n, row+1, board)\n",
    "\n",
    "                    # remove just placed queen and go to the next combination\n",
    "                    board.removeQueen(row, col)\n",
    "        \n",
    "        \n",
    "        if (n<=0):\n",
    "            return 0\n",
    "        \n",
    "        chessBoard = ChessBoard2(n)\n",
    "        cnt = 0\n",
    "        walkThrough(n, 0, chessBoard)\n",
    "        return cnt\n",
    "        \n",
    "        pass\n",
    "        \n",
    "class ChessBoard():\n",
    "\n",
    "    def __init__(self, n):\n",
    "        self.n = n\n",
    "        self.boardCover = defaultdict(int)\n",
    "        self.board = [[\".\" for _ in range(n)] for _ in range(n)]\n",
    "        self.directions = [(1,1),(-1,1),(1,-1),(-1,-1)]\n",
    "    \n",
    "    def printBoard(self):\n",
    "        for i in range(self.n):\n",
    "            print(''.join(self.board[i]))\n",
    "            \n",
    "        print('')\n",
    "    \n",
    "    def printCover(self):\n",
    "        tempBoard = [[\".\" for _ in range(self.n)] for _ in range(self.n)]\n",
    "        for row in range(self.n):\n",
    "            for col in range(self.n):\n",
    "                tempBoard[row][col] = 'X' if self.boardCover[(row,col)] else \".\"\n",
    "        \n",
    "        for i in range(self.n):\n",
    "            print(''.join(tempBoard[i]))\n",
    "    \n",
    "    def placeQueen(self, row, col):\n",
    "        \n",
    "        # to avoid dup record attack cover range\n",
    "        if (self.board[row][col] == 'Q'):\n",
    "            return\n",
    "            \n",
    "        # +1 for all impacted cell\n",
    "        self._adjQueenAttack(row,col,1)\n",
    "        \n",
    "        # mark Queen\n",
    "        self.board[row][col] = 'Q'\n",
    "        \n",
    "        pass\n",
    "        \n",
    "    def removeQueen(self, row, col):\n",
    "        # -1 for all impacted cell\n",
    "        self._adjQueenAttack(row,col,-1)\n",
    "        \n",
    "        self.board[row][col] = '.'\n",
    "        pass\n",
    "    \n",
    "    def _adjQueenAttack(self, row, col, adj):\n",
    "        for i in range(self.n):\n",
    "            self.boardCover[(row,i)] += adj\n",
    "            self.boardCover[(i,col)] += adj\n",
    "        \n",
    "        for delta in self.directions:\n",
    "\n",
    "            newrow = row + delta[0]\n",
    "            newcol = col + delta[1]\n",
    "            while (newrow>=0 and newrow<self.n and newcol>=0 and newcol<self.n):\n",
    "                self.boardCover[(newrow,newcol)] +=adj\n",
    "                \n",
    "                newrow = newrow + delta[0]\n",
    "                newcol = newcol + delta[1]\n",
    "        \n",
    "    def isUnderAttack(self, row, col):\n",
    "        # if the cell under any attack\n",
    "        return self.boardCover[(row,col)] >=1\n"
   ]
  },
  {
   "cell_type": "code",
   "execution_count": 162,
   "metadata": {},
   "outputs": [
    {
     "data": {
      "text/plain": [
       "10"
      ]
     },
     "execution_count": 162,
     "metadata": {},
     "output_type": "execute_result"
    }
   ],
   "source": [
    "Solution().totalNQueens(5)"
   ]
  },
  {
   "cell_type": "code",
   "execution_count": 163,
   "metadata": {},
   "outputs": [],
   "source": [
    "# all a all-in-one solution"
   ]
  },
  {
   "cell_type": "code",
   "execution_count": 182,
   "metadata": {},
   "outputs": [],
   "source": [
    "\n",
    "class Solution1:\n",
    "    def totalNQueens(self, n: int) -> int:\n",
    "\n",
    "        \n",
    "        def placeQueen(row, col):\n",
    "            queen[(row,col)] = True\n",
    "\n",
    "        def removeQueen(row, col):\n",
    "            del queen[(row,col)]\n",
    "\n",
    "        def isUnderAttack(row, col):\n",
    "            # if the cell under any attack\n",
    "            return (row in [k[0] for k,v in queen.items()]) or ((col in [k[1] for k,v in queen.items()])) \\\n",
    "                or (0 in [(abs(row - k[0]) - abs(col - k[1])) for k,v in queen.items() ])\n",
    "        \n",
    "        def walkThrough(n, row):\n",
    "\n",
    "            nonlocal cnt\n",
    "            \n",
    "            # try find each cell in this row which can put a queen\n",
    "            for col in range(n):\n",
    "                if (not isUnderAttack(row,col)):\n",
    "                    placeQueen(row, col)\n",
    "\n",
    "                    # if is the last row, find 1\n",
    "                    if (row == n-1):\n",
    "                        #board.printBoard()\n",
    "                        cnt += 1\n",
    "                    else:\n",
    "                        # go to next row\n",
    "                        walkThrough(n, row+1)\n",
    "\n",
    "                    # remove just placed queen and go to the next combination\n",
    "                    removeQueen(row, col)\n",
    "        \n",
    "        \n",
    "        if (n<=0):\n",
    "            return 0\n",
    "        \n",
    "        queen = {}\n",
    "        cnt = 0\n",
    "        walkThrough(n, 0)\n",
    "        return cnt\n",
    "        \n",
    "        pass\n"
   ]
  },
  {
   "cell_type": "code",
   "execution_count": 183,
   "metadata": {},
   "outputs": [
    {
     "data": {
      "text/plain": [
       "4"
      ]
     },
     "execution_count": 183,
     "metadata": {},
     "output_type": "execute_result"
    }
   ],
   "source": [
    "Solution1().totalNQueens(6)"
   ]
  },
  {
   "cell_type": "code",
   "execution_count": null,
   "metadata": {},
   "outputs": [],
   "source": []
  }
 ],
 "metadata": {
  "kernelspec": {
   "display_name": "Python 3",
   "language": "python",
   "name": "python3"
  },
  "language_info": {
   "codemirror_mode": {
    "name": "ipython",
    "version": 3
   },
   "file_extension": ".py",
   "mimetype": "text/x-python",
   "name": "python",
   "nbconvert_exporter": "python",
   "pygments_lexer": "ipython3",
   "version": "3.7.6"
  }
 },
 "nbformat": 4,
 "nbformat_minor": 2
}
