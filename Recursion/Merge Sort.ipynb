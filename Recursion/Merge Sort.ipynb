{
 "cells": [
  {
   "cell_type": "code",
   "execution_count": 1,
   "metadata": {},
   "outputs": [],
   "source": [
    "# Divide and Conquer\n",
    "\n"
   ]
  },
  {
   "cell_type": "code",
   "execution_count": 2,
   "metadata": {},
   "outputs": [],
   "source": [
    "def mergeSort(nums):\n",
    "    \n",
    "    if (len(nums)<=1):\n",
    "        return nums\n",
    "    \n",
    "    # pick a pivot\n",
    "    piv = len(nums) // 2\n",
    "    left = mergeSort(nums[:piv])\n",
    "    right = mergeSort(nums[piv:])\n",
    "    \n",
    "    return merge(left, right)\n",
    "\n",
    "\n",
    "def merge(left, right):\n",
    "    \n",
    "    res = []\n",
    "    l, r = 0, 0\n",
    "    while l<len(left) and r<len(right):\n",
    "        \n",
    "        if (left[l]<right[r]):\n",
    "            res.append(left[l])\n",
    "            l += 1\n",
    "        else:\n",
    "            res.append(right[r])\n",
    "            r += 1\n",
    "            \n",
    "    # append what ever lest\n",
    "    res += left[l:]\n",
    "    res += right[r:]\n",
    "    \n",
    "    return res"
   ]
  },
  {
   "cell_type": "code",
   "execution_count": 3,
   "metadata": {},
   "outputs": [
    {
     "data": {
      "text/plain": [
       "[1, 2, 3, 4, 5, 6, 7, 8]"
      ]
     },
     "execution_count": 3,
     "metadata": {},
     "output_type": "execute_result"
    }
   ],
   "source": [
    "mergeSort([3,2,5,7,1,6,4,8])"
   ]
  },
  {
   "cell_type": "code",
   "execution_count": 4,
   "metadata": {},
   "outputs": [],
   "source": [
    "# bottom to top version, use a queue to save the merge result for each step"
   ]
  },
  {
   "cell_type": "code",
   "execution_count": 31,
   "metadata": {},
   "outputs": [],
   "source": [
    "from collections import deque\n",
    "def mergeBU(nums):\n",
    "\n",
    "    q = deque([n] for n in nums)\n",
    "    while (q):\n",
    "        print(q)\n",
    "        if (len(q)==1):\n",
    "            return list(q)[0]\n",
    "        \n",
    "        # pop 2\n",
    "        left, right = q.popleft(), q.popleft()\n",
    "        m = merge(left, right)\n",
    "        \n",
    "        # push back to queue\n",
    "        q.append(m)"
   ]
  },
  {
   "cell_type": "code",
   "execution_count": 32,
   "metadata": {},
   "outputs": [
    {
     "name": "stdout",
     "output_type": "stream",
     "text": [
      "deque([[3], [2], [5], [6], [1], [4], [7], [8]])\n",
      "deque([[5], [6], [1], [4], [7], [8], [2, 3]])\n",
      "deque([[1], [4], [7], [8], [2, 3], [5, 6]])\n",
      "deque([[7], [8], [2, 3], [5, 6], [1, 4]])\n",
      "deque([[2, 3], [5, 6], [1, 4], [7, 8]])\n",
      "deque([[1, 4], [7, 8], [2, 3, 5, 6]])\n",
      "deque([[2, 3, 5, 6], [1, 4, 7, 8]])\n",
      "deque([[1, 2, 3, 4, 5, 6, 7, 8]])\n"
     ]
    },
    {
     "data": {
      "text/plain": [
       "[1, 2, 3, 4, 5, 6, 7, 8]"
      ]
     },
     "execution_count": 32,
     "metadata": {},
     "output_type": "execute_result"
    }
   ],
   "source": [
    "mergeBU([3,2,5,6,1,4,7,8])"
   ]
  },
  {
   "cell_type": "code",
   "execution_count": 33,
   "metadata": {},
   "outputs": [],
   "source": [
    "nums = [3,2,5,6,1,4,7,8]"
   ]
  },
  {
   "cell_type": "code",
   "execution_count": 22,
   "metadata": {},
   "outputs": [
    {
     "data": {
      "text/plain": [
       "<generator object <genexpr> at 0x000001F0638CAD48>"
      ]
     },
     "execution_count": 22,
     "metadata": {},
     "output_type": "execute_result"
    }
   ],
   "source": [
    "([n] for n in nums)"
   ]
  },
  {
   "cell_type": "code",
   "execution_count": null,
   "metadata": {},
   "outputs": [],
   "source": []
  }
 ],
 "metadata": {
  "kernelspec": {
   "display_name": "Python 3",
   "language": "python",
   "name": "python3"
  },
  "language_info": {
   "codemirror_mode": {
    "name": "ipython",
    "version": 3
   },
   "file_extension": ".py",
   "mimetype": "text/x-python",
   "name": "python",
   "nbconvert_exporter": "python",
   "pygments_lexer": "ipython3",
   "version": "3.7.6"
  }
 },
 "nbformat": 4,
 "nbformat_minor": 2
}
