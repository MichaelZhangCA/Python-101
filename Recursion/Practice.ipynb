{
 "cells": [
  {
   "cell_type": "code",
   "execution_count": 5,
   "metadata": {},
   "outputs": [],
   "source": [
    "# reserve print the string\n",
    "def printReverse(s):\n",
    "    \n",
    "    resPrint(0,s)\n",
    "    \n",
    "def resPrint(idx, s):\n",
    "    if(s is None or idx>=len(s)):\n",
    "        return\n",
    "\n",
    "    resPrint(idx+1, s)\n",
    "    print(s[idx])"
   ]
  },
  {
   "cell_type": "code",
   "execution_count": 6,
   "metadata": {},
   "outputs": [
    {
     "name": "stdout",
     "output_type": "stream",
     "text": [
      "e\n",
      "d\n",
      "c\n",
      "b\n",
      "a\n"
     ]
    }
   ],
   "source": [
    "printReverse('abcde')"
   ]
  },
  {
   "cell_type": "code",
   "execution_count": 21,
   "metadata": {},
   "outputs": [],
   "source": [
    "# reserver the string\n",
    "from typing import List\n",
    "class Solution:\n",
    "    def reverseString(self, s: List[str]) -> None:\n",
    "        \"\"\"\n",
    "        Do not return anything, modify s in-place instead.\n",
    "        \"\"\"\n",
    "        self.rev(0, len(s)-1,s)\n",
    "        \n",
    "    def rev(self, left, right, s):\n",
    "        if (left >= right):\n",
    "            return\n",
    "        \n",
    "        s[left], s[right] = s[right], s[left]\n",
    "        self.rev(left+1, right-1, s)"
   ]
  },
  {
   "cell_type": "code",
   "execution_count": 22,
   "metadata": {},
   "outputs": [],
   "source": [
    "Solution().reverseString(list('hello'))"
   ]
  },
  {
   "cell_type": "code",
   "execution_count": 31,
   "metadata": {},
   "outputs": [],
   "source": [
    "# reserve adjacent nodes of linked list\n",
    "class Node():\n",
    "    def __init__(self, val):\n",
    "        self.val = val\n",
    "        self.next = None\n",
    "\n",
    "def createLL(lst):\n",
    "    head = Node(0)\n",
    "    cur = head\n",
    "    for l in lst:\n",
    "        node = Node(l)\n",
    "        cur.next = node\n",
    "        cur = cur.next\n",
    "        \n",
    "    return head.next\n",
    "\n",
    "def showLL(node):\n",
    "    s = ''\n",
    "    while (node):\n",
    "        s +=\n",
    "        node = node.next"
   ]
  },
  {
   "cell_type": "code",
   "execution_count": 32,
   "metadata": {},
   "outputs": [],
   "source": [
    "ll = createLL([1,2,3,4,5,6])"
   ]
  },
  {
   "cell_type": "code",
   "execution_count": 33,
   "metadata": {},
   "outputs": [
    {
     "data": {
      "text/plain": [
       "<__main__.Node at 0x28f372619c8>"
      ]
     },
     "execution_count": 33,
     "metadata": {},
     "output_type": "execute_result"
    }
   ],
   "source": [
    "ll"
   ]
  },
  {
   "cell_type": "code",
   "execution_count": 34,
   "metadata": {},
   "outputs": [
    {
     "name": "stdout",
     "output_type": "stream",
     "text": [
      "1\n",
      "2\n",
      "3\n",
      "4\n",
      "5\n",
      "6\n"
     ]
    }
   ],
   "source": [
    "\n",
    "showLL(ll)"
   ]
  },
  {
   "cell_type": "code",
   "execution_count": 40,
   "metadata": {},
   "outputs": [],
   "source": [
    "def reverseLL(node):\n",
    "    #if (node is None or node.next is None):\n",
    "    #    return node\n",
    "    \n",
    "    return revLL(node)\n",
    "        \n",
    "def revLL(node):\n",
    "    if (node is None or node.next is None):\n",
    "        return node\n",
    "    \n",
    "    head = node.next\n",
    "    node.next = revLL(node.next.next)\n",
    "    head.next = node\n",
    "    \n",
    "    return head"
   ]
  },
  {
   "cell_type": "code",
   "execution_count": 41,
   "metadata": {},
   "outputs": [],
   "source": [
    "revLL = reverseLL(ll)"
   ]
  },
  {
   "cell_type": "code",
   "execution_count": 42,
   "metadata": {},
   "outputs": [
    {
     "name": "stdout",
     "output_type": "stream",
     "text": [
      "2\n",
      "1\n",
      "4\n",
      "3\n",
      "6\n",
      "5\n"
     ]
    }
   ],
   "source": [
    "showLL(revLL)"
   ]
  },
  {
   "cell_type": "code",
   "execution_count": 43,
   "metadata": {},
   "outputs": [],
   "source": [
    "# POW"
   ]
  },
  {
   "cell_type": "code",
   "execution_count": 46,
   "metadata": {},
   "outputs": [],
   "source": [
    "class SolutionP():    \n",
    "    def fastPow(self, x, n):\n",
    "        if (n == 0):\n",
    "            return 1;\n",
    "        \n",
    "        half = self.fastPow(x, n // 2)\n",
    "        if (n % 2 == 0):\n",
    "            return half * half\n",
    "        else:\n",
    "            return half * half * x\n",
    "\n",
    "    def pow(self, x, n):\n",
    "        if (n < 0):\n",
    "            x = 1 / x\n",
    "            n = -m\n",
    "            \n",
    "        return self.fastPow(x, n)"
   ]
  },
  {
   "cell_type": "code",
   "execution_count": 47,
   "metadata": {},
   "outputs": [
    {
     "data": {
      "text/plain": [
       "1024"
      ]
     },
     "execution_count": 47,
     "metadata": {},
     "output_type": "execute_result"
    }
   ],
   "source": [
    "SolutionP().pow(2, 10)"
   ]
  },
  {
   "cell_type": "raw",
   "metadata": {},
   "source": [
    "# k-th in Grammar\n",
    "\n",
    "On the first row, we write a 0. Now in every subsequent row, we look at the previous row and replace each occurrence of 0 with 01, and each occurrence of 1 with 10.\n",
    "\n",
    "Given row N and index K, return the K-th indexed symbol in row N. (The values of K are 1-indexed.) (1 indexed).\n",
    "\n"
   ]
  },
  {
   "cell_type": "code",
   "execution_count": 49,
   "metadata": {},
   "outputs": [],
   "source": [
    "# k-th in row n = k//2 in row-1"
   ]
  },
  {
   "cell_type": "code",
   "execution_count": 78,
   "metadata": {},
   "outputs": [],
   "source": [
    "class Solution:\n",
    "    def kthGrammar(self, N: int, K: int) -> int:\n",
    "        \n",
    "        return self.k(N-1,K-1)\n",
    "        \n",
    "    def k(self, N, K):\n",
    "        if (N==0):\n",
    "            return 0\n",
    "        \n",
    "        prev = self.k(N-1, K//2)\n",
    "        return (0,1)[(K)%2] if prev==0 else (1,0)[(K)%2]"
   ]
  },
  {
   "cell_type": "code",
   "execution_count": 83,
   "metadata": {},
   "outputs": [
    {
     "data": {
      "text/plain": [
       "1"
      ]
     },
     "execution_count": 83,
     "metadata": {},
     "output_type": "execute_result"
    }
   ],
   "source": [
    "Solution().kthGrammar(4,5)"
   ]
  },
  {
   "cell_type": "code",
   "execution_count": 124,
   "metadata": {},
   "outputs": [],
   "source": [
    "# conbination of N\n",
    "import itertools\n",
    "class SolutionN():\n",
    "    \n",
    "    def comb(self, n):\n",
    "        if (n==1):\n",
    "            return [[1]]\n",
    "        \n",
    "        res = []\n",
    "        for c in self.comb(n-1):\n",
    "            res.append( [n] + c)\n",
    "            res.append( c + [n])\n",
    "        return res\n",
    "    \n",
    "    def permutation(self,n):\n",
    "        res = [i for i in range(1,n+1)]\n",
    "        return list(itertools.permutations(res,n))"
   ]
  },
  {
   "cell_type": "code",
   "execution_count": 125,
   "metadata": {},
   "outputs": [
    {
     "data": {
      "text/plain": [
       "[(1, 2, 3), (1, 3, 2), (2, 1, 3), (2, 3, 1), (3, 1, 2), (3, 2, 1)]"
      ]
     },
     "execution_count": 125,
     "metadata": {},
     "output_type": "execute_result"
    }
   ],
   "source": [
    "SolutionN().permutation(3)"
   ]
  },
  {
   "cell_type": "code",
   "execution_count": 117,
   "metadata": {},
   "outputs": [
    {
     "data": {
      "text/plain": [
       "[(1, 2, 3), (1, 3, 2), (2, 1, 3), (2, 3, 1), (3, 1, 2), (3, 2, 1)]"
      ]
     },
     "execution_count": 117,
     "metadata": {},
     "output_type": "execute_result"
    }
   ],
   "source": [
    "import itertools\n",
    "list(itertools.permutations ([1,2,3],3))"
   ]
  },
  {
   "cell_type": "code",
   "execution_count": 111,
   "metadata": {},
   "outputs": [
    {
     "ename": "NameError",
     "evalue": "name 'TreeNode' is not defined",
     "output_type": "error",
     "traceback": [
      "\u001b[1;31m---------------------------------------------------------------------------\u001b[0m",
      "\u001b[1;31mNameError\u001b[0m                                 Traceback (most recent call last)",
      "\u001b[1;32m<ipython-input-111-7c44436f73e3>\u001b[0m in \u001b[0;36m<module>\u001b[1;34m\u001b[0m\n\u001b[0;32m      7\u001b[0m \u001b[1;33m\u001b[0m\u001b[0m\n\u001b[0;32m      8\u001b[0m \u001b[1;33m\u001b[0m\u001b[0m\n\u001b[1;32m----> 9\u001b[1;33m \u001b[1;32mclass\u001b[0m \u001b[0mSolution\u001b[0m\u001b[1;33m:\u001b[0m\u001b[1;33m\u001b[0m\u001b[1;33m\u001b[0m\u001b[0m\n\u001b[0m\u001b[0;32m     10\u001b[0m     \u001b[1;32mdef\u001b[0m \u001b[0mgenerateTrees\u001b[0m\u001b[1;33m(\u001b[0m\u001b[0mself\u001b[0m\u001b[1;33m,\u001b[0m \u001b[0mn\u001b[0m\u001b[1;33m:\u001b[0m \u001b[0mint\u001b[0m\u001b[1;33m)\u001b[0m \u001b[1;33m->\u001b[0m \u001b[0mList\u001b[0m\u001b[1;33m[\u001b[0m\u001b[0mTreeNode\u001b[0m\u001b[1;33m]\u001b[0m\u001b[1;33m:\u001b[0m\u001b[1;33m\u001b[0m\u001b[1;33m\u001b[0m\u001b[0m\n\u001b[0;32m     11\u001b[0m \u001b[1;33m\u001b[0m\u001b[0m\n",
      "\u001b[1;32m<ipython-input-111-7c44436f73e3>\u001b[0m in \u001b[0;36mSolution\u001b[1;34m()\u001b[0m\n\u001b[0;32m      8\u001b[0m \u001b[1;33m\u001b[0m\u001b[0m\n\u001b[0;32m      9\u001b[0m \u001b[1;32mclass\u001b[0m \u001b[0mSolution\u001b[0m\u001b[1;33m:\u001b[0m\u001b[1;33m\u001b[0m\u001b[1;33m\u001b[0m\u001b[0m\n\u001b[1;32m---> 10\u001b[1;33m     \u001b[1;32mdef\u001b[0m \u001b[0mgenerateTrees\u001b[0m\u001b[1;33m(\u001b[0m\u001b[0mself\u001b[0m\u001b[1;33m,\u001b[0m \u001b[0mn\u001b[0m\u001b[1;33m:\u001b[0m \u001b[0mint\u001b[0m\u001b[1;33m)\u001b[0m \u001b[1;33m->\u001b[0m \u001b[0mList\u001b[0m\u001b[1;33m[\u001b[0m\u001b[0mTreeNode\u001b[0m\u001b[1;33m]\u001b[0m\u001b[1;33m:\u001b[0m\u001b[1;33m\u001b[0m\u001b[1;33m\u001b[0m\u001b[0m\n\u001b[0m\u001b[0;32m     11\u001b[0m \u001b[1;33m\u001b[0m\u001b[0m\n\u001b[0;32m     12\u001b[0m         \u001b[0mcmb\u001b[0m \u001b[1;33m=\u001b[0m \u001b[0mself\u001b[0m\u001b[1;33m.\u001b[0m\u001b[0mcomb\u001b[0m\u001b[1;33m(\u001b[0m\u001b[0mn\u001b[0m\u001b[1;33m)\u001b[0m\u001b[1;33m\u001b[0m\u001b[1;33m\u001b[0m\u001b[0m\n",
      "\u001b[1;31mNameError\u001b[0m: name 'TreeNode' is not defined"
     ]
    }
   ],
   "source": [
    "# Definition for a binary tree node.\n",
    "#class TreeNode:\n",
    "#    def __init__(self, x):\n",
    "#        self.val = x\n",
    "#        self.left = None\n",
    "#        self.right = None\n",
    "\n",
    "    \n",
    "class Solution:\n",
    "    def generateTrees(self, n: int) -> List[TreeNode]:\n",
    "        \n",
    "        cmb = self.comb(n)\n",
    "        \n",
    "        # create treeNode\n",
    "        res = []\n",
    "        for c in cmb:\n",
    "            res.append(self.create_bst(c))\n",
    "            \n",
    "        return res\n",
    "        \n",
    "    def create_bst(self, vals):\n",
    "        \n",
    "        root = TreeNode(vals[0])\n",
    "        for i in range(1, len(vals)):\n",
    "            root = self.insert_node(root, vals[i])\n",
    "        \n",
    "        return root\n",
    "    \n",
    "    def insert_node(self, node, val):\n",
    "        if (node is None):\n",
    "            return Node(val)\n",
    "\n",
    "        else:\n",
    "            if (node.value < val):\n",
    "                node.right = self._dfs_insert(node.right, val)\n",
    "            else:\n",
    "                node.left = self._dfs_insert(node.left, val)\n",
    "\n",
    "        return node\n",
    "\n",
    "        \n",
    "    def comb(self, n):\n",
    "        if (n==1):\n",
    "            return [[1]]\n",
    "        \n",
    "        res = []\n",
    "        for c in self.comb(n-1):\n",
    "            res.append( [n] + c)\n",
    "            res.append( c + [n])\n",
    "        return res    "
   ]
  },
  {
   "cell_type": "code",
   "execution_count": null,
   "metadata": {},
   "outputs": [],
   "source": []
  }
 ],
 "metadata": {
  "kernelspec": {
   "display_name": "Python 3",
   "language": "python",
   "name": "python3"
  },
  "language_info": {
   "codemirror_mode": {
    "name": "ipython",
    "version": 3
   },
   "file_extension": ".py",
   "mimetype": "text/x-python",
   "name": "python",
   "nbconvert_exporter": "python",
   "pygments_lexer": "ipython3",
   "version": "3.7.6"
  }
 },
 "nbformat": 4,
 "nbformat_minor": 2
}
