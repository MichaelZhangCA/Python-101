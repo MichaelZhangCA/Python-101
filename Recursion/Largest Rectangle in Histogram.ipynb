{
 "cells": [
  {
   "cell_type": "raw",
   "metadata": {},
   "source": [
    "Given n non-negative integers representing the histogram's bar height where the width of each bar is 1, find the area of largest rectangle in the histogram.\n",
    "\n"
   ]
  },
  {
   "cell_type": "markdown",
   "metadata": {},
   "source": [
    "<img src=\"https://assets.leetcode.com/uploads/2018/10/12/histogram_area.png\" />\n",
    "histogram where width of each bar is 1, given height = [2,1,5,6,2,3].\n",
    "The largest rectangle is shown in the shaded area, which has area = 10 unit.\n"
   ]
  },
  {
   "cell_type": "code",
   "execution_count": 1,
   "metadata": {},
   "outputs": [],
   "source": [
    "# find the min value of the bar, cal min * num as 1 value\n",
    "# split the bars to left & right, do the same\n",
    "# return the max (left, min, right)\n",
    "# continue until there is only one bar"
   ]
  },
  {
   "cell_type": "code",
   "execution_count": 8,
   "metadata": {},
   "outputs": [],
   "source": [
    "from typing import List\n",
    "class Solution:\n",
    "    def largestRectangleArea(self, heights: List[int]) -> int:\n",
    "\n",
    "        def helper(bar):\n",
    "            \n",
    "            if (not bar):\n",
    "                return 0\n",
    "            \n",
    "            if (len(bar)==1):\n",
    "                return bar[0]\n",
    "            \n",
    "            pivot = 0\n",
    "            minbar = bar[0]\n",
    "            \n",
    "            #find the min pivot\n",
    "            for i in range(len(bar)):\n",
    "                if (minbar > bar[i]):\n",
    "                    pivot = i\n",
    "                    minbar = bar[i]\n",
    "            \n",
    "            mid = minbar * len(bar)\n",
    "            print(bar[:pivot], bar[pivot+1:])\n",
    "            return max(mid, helper(bar[:pivot]), helper(bar[pivot+1:]))\n",
    "            \n",
    "\n",
    "        if (not heights):\n",
    "            return 0\n",
    "        \n",
    "        return helper(heights)"
   ]
  },
  {
   "cell_type": "code",
   "execution_count": 9,
   "metadata": {},
   "outputs": [],
   "source": [
    "bar = [2,1,5,6,2,3]"
   ]
  },
  {
   "cell_type": "code",
   "execution_count": 10,
   "metadata": {},
   "outputs": [
    {
     "name": "stdout",
     "output_type": "stream",
     "text": [
      "[2] [5, 6, 2, 3]\n",
      "[5, 6] [3]\n",
      "[] [6]\n"
     ]
    },
    {
     "data": {
      "text/plain": [
       "10"
      ]
     },
     "execution_count": 10,
     "metadata": {},
     "output_type": "execute_result"
    }
   ],
   "source": [
    "Solution().largestRectangleArea(bar)"
   ]
  },
  {
   "cell_type": "code",
   "execution_count": 11,
   "metadata": {},
   "outputs": [],
   "source": [
    "# a math version\n"
   ]
  },
  {
   "cell_type": "code",
   "execution_count": null,
   "metadata": {},
   "outputs": [],
   "source": [
    "from collections import deque\n",
    "class Solution():\n",
    "    \n",
    "    def largestRectangleArea(heights):\n",
    "        \n",
    "        maxArea = 0\n",
    "        q = deque([-1])\n",
    "        \n",
    "        for i in range(len(heights)):\n",
    "\n",
    "give up!!\n"
   ]
  }
 ],
 "metadata": {
  "kernelspec": {
   "display_name": "Python 3",
   "language": "python",
   "name": "python3"
  },
  "language_info": {
   "codemirror_mode": {
    "name": "ipython",
    "version": 3
   },
   "file_extension": ".py",
   "mimetype": "text/x-python",
   "name": "python",
   "nbconvert_exporter": "python",
   "pygments_lexer": "ipython3",
   "version": "3.7.6"
  }
 },
 "nbformat": 4,
 "nbformat_minor": 2
}
