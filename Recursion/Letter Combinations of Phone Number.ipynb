{
 "cells": [
  {
   "cell_type": "code",
   "execution_count": null,
   "metadata": {},
   "outputs": [],
   "source": [
    "Given a string containing digits from 2-9 inclusive, return all possible letter combinations that the number could represent.\n",
    "\n",
    "A mapping of digit to letters (just like on the telephone buttons) is given below. Note that 1 does not map to any letters.\n",
    "\n",
    "\n",
    "\n",
    "Example:\n",
    "\n",
    "Input: \"23\"\n",
    "Output: [\"ad\", \"ae\", \"af\", \"bd\", \"be\", \"bf\", \"cd\", \"ce\", \"cf\"].\n",
    "Note:\n",
    "\n",
    "Although the above answer is in lexicographical order, your answer could be in any order you want.\n",
    "\n"
   ]
  },
  {
   "cell_type": "code",
   "execution_count": 12,
   "metadata": {},
   "outputs": [],
   "source": [
    "class Solution:\n",
    "    def letterCombinations(self, digits):\n",
    "        \"\"\"\n",
    "        :type digits: str\n",
    "        :rtype: List[str]\n",
    "        \"\"\"\n",
    "        phone = {'2': ['a', 'b', 'c'],\n",
    "                 '3': ['d', 'e', 'f'],\n",
    "                 '4': ['g', 'h', 'i'],\n",
    "                 '5': ['j', 'k', 'l'],\n",
    "                 '6': ['m', 'n', 'o'],\n",
    "                 '7': ['p', 'q', 'r', 's'],\n",
    "                 '8': ['t', 'u', 'v'],\n",
    "                 '9': ['w', 'x', 'y', 'z']}\n",
    "        \n",
    "        def backtrack(comb, digital):\n",
    "            if (len(digital)==0):\n",
    "                res.append(comb) \n",
    "            else:\n",
    "                # for all rest numbers, continue all combinations\n",
    "                for l in phone[digital[0]]:\n",
    "                    backtrack(comb + l, digital[1:])\n",
    "                \n",
    "                \n",
    "        res = []\n",
    "        backtrack(\"\", digits)\n",
    "        \n",
    "        return res"
   ]
  },
  {
   "cell_type": "code",
   "execution_count": 13,
   "metadata": {},
   "outputs": [
    {
     "data": {
      "text/plain": [
       "['ad', 'ae', 'af', 'bd', 'be', 'bf', 'cd', 'ce', 'cf']"
      ]
     },
     "execution_count": 13,
     "metadata": {},
     "output_type": "execute_result"
    }
   ],
   "source": [
    "Solution().letterCombinations(\"23\")"
   ]
  },
  {
   "cell_type": "code",
   "execution_count": null,
   "metadata": {},
   "outputs": [],
   "source": []
  }
 ],
 "metadata": {
  "kernelspec": {
   "display_name": "Python 3",
   "language": "python",
   "name": "python3"
  },
  "language_info": {
   "codemirror_mode": {
    "name": "ipython",
    "version": 3
   },
   "file_extension": ".py",
   "mimetype": "text/x-python",
   "name": "python",
   "nbconvert_exporter": "python",
   "pygments_lexer": "ipython3",
   "version": "3.7.6"
  }
 },
 "nbformat": 4,
 "nbformat_minor": 2
}
