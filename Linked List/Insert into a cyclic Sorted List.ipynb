{
 "cells": [
  {
   "cell_type": "code",
   "execution_count": 1,
   "metadata": {},
   "outputs": [],
   "source": [
    "# keep sorted after inserting"
   ]
  },
  {
   "cell_type": "code",
   "execution_count": 3,
   "metadata": {},
   "outputs": [],
   "source": [
    "from linkedlist import Node, createLL"
   ]
  },
  {
   "cell_type": "code",
   "execution_count": 40,
   "metadata": {},
   "outputs": [
    {
     "name": "stdout",
     "output_type": "stream",
     "text": [
      "6 -> 6 -> 7 -> 1\n"
     ]
    }
   ],
   "source": [
    "head = createLL([6,6,7,1])\n",
    "head.traverseForewards()"
   ]
  },
  {
   "cell_type": "code",
   "execution_count": 41,
   "metadata": {},
   "outputs": [],
   "source": [
    "tail = head\n",
    "while(tail.next):\n",
    "    tail = tail.next\n",
    "    \n",
    "tail.next = head"
   ]
  },
  {
   "cell_type": "code",
   "execution_count": 42,
   "metadata": {},
   "outputs": [
    {
     "data": {
      "text/plain": [
       "6"
      ]
     },
     "execution_count": 42,
     "metadata": {},
     "output_type": "execute_result"
    }
   ],
   "source": [
    "tail.next.value"
   ]
  },
  {
   "cell_type": "code",
   "execution_count": 43,
   "metadata": {},
   "outputs": [],
   "source": [
    "def insertCycle(head, insertVal):\n",
    "    \n",
    "    if (not head):\n",
    "        node = Node(insertVal)\n",
    "        node.next = node\n",
    "        return node\n",
    "    \n",
    "    # find the node to insert, which is before the one larger than the val, or the cycle back to the smamller\n",
    "    node = head\n",
    "    while (node):\n",
    "        \n",
    "        if (node.value <= insertVal <= node.next.value) or \\\n",
    "           (node.next.value >= insertVal and node.value > node.next.value) or \\\n",
    "           (node.value <= insertVal and node.value > node.next.value):\n",
    "            break\n",
    "\n",
    "        node = node.next\n",
    "        \n",
    "        # stop loop if cycle back to the head\n",
    "        # which happens when there is only 1 item, or all the numbera are the same\n",
    "        if (node == head):\n",
    "            break\n",
    "    \n",
    "    # find the prev for inserting\n",
    "    to_add = Node(insertVal)\n",
    "    to_add.next = node.next\n",
    "    node.next = to_add\n",
    "    \n",
    "    return head\n",
    "            "
   ]
  },
  {
   "cell_type": "code",
   "execution_count": 44,
   "metadata": {},
   "outputs": [],
   "source": [
    "ir = insertCycle(head, 5)"
   ]
  },
  {
   "cell_type": "code",
   "execution_count": 45,
   "metadata": {},
   "outputs": [
    {
     "data": {
      "text/plain": [
       "6"
      ]
     },
     "execution_count": 45,
     "metadata": {},
     "output_type": "execute_result"
    }
   ],
   "source": [
    "ir.value"
   ]
  },
  {
   "cell_type": "code",
   "execution_count": 46,
   "metadata": {},
   "outputs": [
    {
     "data": {
      "text/plain": [
       "6"
      ]
     },
     "execution_count": 46,
     "metadata": {},
     "output_type": "execute_result"
    }
   ],
   "source": [
    "ir.next.value"
   ]
  },
  {
   "cell_type": "code",
   "execution_count": null,
   "metadata": {},
   "outputs": [],
   "source": []
  }
 ],
 "metadata": {
  "kernelspec": {
   "display_name": "Python 3",
   "language": "python",
   "name": "python3"
  },
  "language_info": {
   "codemirror_mode": {
    "name": "ipython",
    "version": 3
   },
   "file_extension": ".py",
   "mimetype": "text/x-python",
   "name": "python",
   "nbconvert_exporter": "python",
   "pygments_lexer": "ipython3",
   "version": "3.7.6"
  }
 },
 "nbformat": 4,
 "nbformat_minor": 2
}
