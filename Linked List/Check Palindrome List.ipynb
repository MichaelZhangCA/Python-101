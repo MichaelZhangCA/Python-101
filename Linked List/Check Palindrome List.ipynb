{
 "cells": [
  {
   "cell_type": "code",
   "execution_count": 2,
   "metadata": {},
   "outputs": [],
   "source": [
    "# check if a linked list is palindrome\n",
    "# pass all nodes and save the value to an array, then check. it's O(n) but space also O(n)\n",
    "# to make it space O(1), could use two pointers strategy:\n",
    "# 1, find the middle node by slow/fast pointer\n",
    "# 2, reverse the second half\n",
    "# 3, compare the first half with the reversd second half"
   ]
  },
  {
   "cell_type": "code",
   "execution_count": 24,
   "metadata": {},
   "outputs": [],
   "source": [
    "def checkPalindrome(head):\n",
    "    \n",
    "    if (head is None or head.next is None):\n",
    "        return True\n",
    "    \n",
    "    vals = []\n",
    "    while (head):\n",
    "        vals.append(head.value)\n",
    "        head = head.next\n",
    "        \n",
    "    #return vals == vals[::-1]\n",
    "    # or, use two pointers to check palindrome\n",
    "    left, right = 0, len(vals)-1\n",
    "    while left<right:\n",
    "        if (vals[left] != vals[right]):\n",
    "            return False\n",
    "        left += 1\n",
    "        right -= 1\n",
    "    return True"
   ]
  },
  {
   "cell_type": "code",
   "execution_count": 117,
   "metadata": {},
   "outputs": [],
   "source": [
    "from linkedlist import Node, createLL\n",
    "head = createLL([1,2,3,4,4,4,3,2,1])"
   ]
  },
  {
   "cell_type": "code",
   "execution_count": 118,
   "metadata": {},
   "outputs": [
    {
     "data": {
      "text/plain": [
       "True"
      ]
     },
     "execution_count": 118,
     "metadata": {},
     "output_type": "execute_result"
    }
   ],
   "source": [
    "checkPalindrome(head)"
   ]
  },
  {
   "cell_type": "code",
   "execution_count": 119,
   "metadata": {},
   "outputs": [],
   "source": [
    "# two pointers with inplace checking"
   ]
  },
  {
   "cell_type": "code",
   "execution_count": 120,
   "metadata": {},
   "outputs": [],
   "source": [
    "def checkPalindromeInPlace(head):\n",
    "    \n",
    "    if (head is None or head.next is None):\n",
    "        return True\n",
    "    \n",
    "    slow, fast = head, head\n",
    "    while (fast.next and fast.next.next):\n",
    "        slow = slow.next\n",
    "        fast = fast.next.next\n",
    "        \n",
    "    # cut the fist half\n",
    "    half_head, prev = slow.next, slow.next\n",
    "    slow.next = None\n",
    "\n",
    "    # reverse the second half\n",
    "    node = half_head.next\n",
    "    while (node):\n",
    "        \n",
    "        nxt = node.next\n",
    "        \n",
    "        prev.next = node.next\n",
    "        node.next = half_head\n",
    "        half_head = node\n",
    "        \n",
    "        node = nxt\n",
    "    \n",
    "\n",
    "    # now get two sub list head & half_head\n",
    "    node1 = head\n",
    "    node2 = half_head\n",
    "    \n",
    "    while (node2 and node2):\n",
    "        if (node1.value != node2.value):\n",
    "            return False\n",
    "        \n",
    "        node1 = node1.next\n",
    "        node2 = node2.next\n",
    "    \n",
    "    return True\n"
   ]
  },
  {
   "cell_type": "code",
   "execution_count": 121,
   "metadata": {},
   "outputs": [
    {
     "data": {
      "text/plain": [
       "True"
      ]
     },
     "execution_count": 121,
     "metadata": {},
     "output_type": "execute_result"
    }
   ],
   "source": [
    "checkPalindromeInPlace(head)"
   ]
  },
  {
   "cell_type": "code",
   "execution_count": null,
   "metadata": {},
   "outputs": [],
   "source": []
  }
 ],
 "metadata": {
  "kernelspec": {
   "display_name": "Python 3",
   "language": "python",
   "name": "python3"
  },
  "language_info": {
   "codemirror_mode": {
    "name": "ipython",
    "version": 3
   },
   "file_extension": ".py",
   "mimetype": "text/x-python",
   "name": "python",
   "nbconvert_exporter": "python",
   "pygments_lexer": "ipython3",
   "version": "3.7.6"
  }
 },
 "nbformat": 4,
 "nbformat_minor": 2
}
