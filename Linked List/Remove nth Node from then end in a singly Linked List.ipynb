{
 "cells": [
  {
   "cell_type": "code",
   "execution_count": 2,
   "metadata": {},
   "outputs": [],
   "source": [
    "# try use one pass by two pointers"
   ]
  },
  {
   "cell_type": "code",
   "execution_count": 33,
   "metadata": {},
   "outputs": [],
   "source": [
    "from linkedlist import Node\n",
    "def createLL(arr):\n",
    "    head = None\n",
    "    node = None\n",
    "    for n in arr:\n",
    "        if (head is None):\n",
    "            head = Node(n)\n",
    "            node = head\n",
    "        else:\n",
    "            node.next = Node(n)\n",
    "            node = node.next\n",
    "    \n",
    "    return head"
   ]
  },
  {
   "cell_type": "code",
   "execution_count": 44,
   "metadata": {},
   "outputs": [],
   "source": [
    "def removeNthFromEnd(head, n):\n",
    "    \n",
    "    if (head is None):\n",
    "        return head\n",
    "    \n",
    "    # check n\n",
    "    node = head\n",
    "    for i in range(n-1):\n",
    "        if (node is None):\n",
    "            return head\n",
    "        node = node.next\n",
    "    \n",
    "    # if current node is the end\n",
    "    if (node.next is None):\n",
    "        # it's a remove head scenario\n",
    "        return head.next\n",
    "    \n",
    "    print(head.value)\n",
    "    # parent node will be the node to remove next node\n",
    "    par_node = head\n",
    "    # move to next node\n",
    "    node = node.next\n",
    "    # go through the list\n",
    "    while (node):\n",
    "        if (node.next is None):\n",
    "            # here is the end of list\n",
    "            par_node.next = par_node.next.next\n",
    "            break\n",
    "            \n",
    "        node = node.next\n",
    "        par_node = par_node.next\n",
    "    \n",
    "    return head\n",
    "        "
   ]
  },
  {
   "cell_type": "code",
   "execution_count": 46,
   "metadata": {},
   "outputs": [
    {
     "name": "stdout",
     "output_type": "stream",
     "text": [
      "1\n"
     ]
    }
   ],
   "source": [
    "ll = createLL([1])\n",
    "ll.traverseForewards()"
   ]
  },
  {
   "cell_type": "code",
   "execution_count": 47,
   "metadata": {},
   "outputs": [],
   "source": [
    "removeNthFromEnd(ll, 1)"
   ]
  },
  {
   "cell_type": "code",
   "execution_count": null,
   "metadata": {},
   "outputs": [],
   "source": []
  }
 ],
 "metadata": {
  "kernelspec": {
   "display_name": "Python 3",
   "language": "python",
   "name": "python3"
  },
  "language_info": {
   "codemirror_mode": {
    "name": "ipython",
    "version": 3
   },
   "file_extension": ".py",
   "mimetype": "text/x-python",
   "name": "python",
   "nbconvert_exporter": "python",
   "pygments_lexer": "ipython3",
   "version": "3.7.6"
  }
 },
 "nbformat": 4,
 "nbformat_minor": 2
}
