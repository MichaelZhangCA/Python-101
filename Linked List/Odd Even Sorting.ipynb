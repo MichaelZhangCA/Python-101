{
 "cells": [
  {
   "cell_type": "code",
   "execution_count": 2,
   "metadata": {},
   "outputs": [],
   "source": [
    "# reorder a linked list by odd nodes first, follow by even nodes\n",
    "# it's about the sequence not the value"
   ]
  },
  {
   "cell_type": "code",
   "execution_count": 143,
   "metadata": {},
   "outputs": [],
   "source": [
    "def reorder(head):\n",
    "    \n",
    "    # base case\n",
    "    if (head is None or head.next is None or head.next.next is None):\n",
    "        return head\n",
    "    \n",
    "    odd_head = head\n",
    "    even_head = head.next\n",
    "    \n",
    "    # prev node\n",
    "    odd_prev = odd_head\n",
    "    even_prev = even_head\n",
    "    \n",
    "    node = even_head.next\n",
    "    isodd = True\n",
    "    \n",
    "    while (node.next):\n",
    "        print(odd_prev.value, even_prev.value, node.value)\n",
    "        \n",
    "        if (isodd == True):\n",
    "            odd_prev.next = node\n",
    "            odd_prev = node\n",
    "        else:\n",
    "            even_prev.next = node\n",
    "            even_prev = node\n",
    "        \n",
    "        \n",
    "        # move to next\n",
    "        isodd = not isodd\n",
    "        node = node.next\n",
    "        \n",
    "    # come to the last node \n",
    "    print(node.value, isodd)\n",
    "    \n",
    "    if (isodd==True):\n",
    "        odd_prev.next = node\n",
    "        odd_prev = node\n",
    "    else:\n",
    "        even_prev.next = node\n",
    "        even_prev = node\n",
    "    \n",
    "    # cut even last node\n",
    "    even_prev.next = None\n",
    "    \n",
    "    # linke both list\n",
    "    odd_prev.next = even_head\n",
    "    \n",
    "    return odd_head"
   ]
  },
  {
   "cell_type": "code",
   "execution_count": 144,
   "metadata": {},
   "outputs": [],
   "source": [
    "from linkedlist import Node, createLL"
   ]
  },
  {
   "cell_type": "code",
   "execution_count": 153,
   "metadata": {},
   "outputs": [],
   "source": [
    "head = createLL([1,2,3])"
   ]
  },
  {
   "cell_type": "code",
   "execution_count": 154,
   "metadata": {},
   "outputs": [
    {
     "name": "stdout",
     "output_type": "stream",
     "text": [
      "3 True\n"
     ]
    }
   ],
   "source": [
    "r = reorder(head)"
   ]
  },
  {
   "cell_type": "code",
   "execution_count": 155,
   "metadata": {},
   "outputs": [
    {
     "name": "stdout",
     "output_type": "stream",
     "text": [
      "1 -> 3 -> 2\n"
     ]
    }
   ],
   "source": [
    "r.traverseForewards()"
   ]
  },
  {
   "cell_type": "code",
   "execution_count": null,
   "metadata": {},
   "outputs": [],
   "source": []
  }
 ],
 "metadata": {
  "kernelspec": {
   "display_name": "Python 3",
   "language": "python",
   "name": "python3"
  },
  "language_info": {
   "codemirror_mode": {
    "name": "ipython",
    "version": 3
   },
   "file_extension": ".py",
   "mimetype": "text/x-python",
   "name": "python",
   "nbconvert_exporter": "python",
   "pygments_lexer": "ipython3",
   "version": "3.7.6"
  }
 },
 "nbformat": 4,
 "nbformat_minor": 2
}
