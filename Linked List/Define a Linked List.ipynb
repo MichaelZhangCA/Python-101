{
 "cells": [
  {
   "cell_type": "code",
   "execution_count": 1,
   "metadata": {},
   "outputs": [],
   "source": [
    "# an implementation of Linked List"
   ]
  },
  {
   "cell_type": "code",
   "execution_count": 97,
   "metadata": {},
   "outputs": [],
   "source": [
    "class Node():\n",
    "    \n",
    "    def __init__(self, val, nextNode=None, prevNode=None, mark=''):\n",
    "        self.value = val\n",
    "        self.next = nextNode\n",
    "        self.prev = prevNode\n",
    "        self.mark = mark\n",
    "\n",
    "    def addNextNode(self, val):\n",
    "        to_add = Node(val)\n",
    "        \n",
    "        if (self.next):\n",
    "            to_add.next = self.next\n",
    "            self.next.prev = to_add\n",
    "        \n",
    "        self.next = to_add\n",
    "        to_add.prev = self\n",
    "        \n",
    "        return to_add\n",
    "\n",
    "    def deleteNextNode(self):\n",
    "        self.next = self.next.next\n",
    "        if (self.next.next):\n",
    "            self.next.next.prev = self\n",
    "    \n",
    "    def traverseForewards(self):\n",
    "        res = []\n",
    "        node = self\n",
    "        while (node):\n",
    "            res.append(node.mark if node.mark else str(node.value))\n",
    "            node = node.next\n",
    "            \n",
    "        print(\" -> \".join(res))\n",
    "\n",
    "    def traverseBackwards(self):\n",
    "        res = []\n",
    "        node = self\n",
    "        while (node):\n",
    "            res.append(node.mark if node.mark else str(node.value))\n",
    "            node = node.prev\n",
    "            \n",
    "        print(\" <- \".join(list(reversed(res))))\n",
    "    \n",
    "    def getNextN(self, n):\n",
    "        node = self\n",
    "        i = 0\n",
    "        while (node):\n",
    "            node = node.next\n",
    "            i += 1\n",
    "            if (i==n):\n",
    "                break\n",
    "                \n",
    "        return node"
   ]
  },
  {
   "cell_type": "code",
   "execution_count": 130,
   "metadata": {},
   "outputs": [],
   "source": [
    "class LinkedList():\n",
    "    \n",
    "    def __init__(self):\n",
    "        \n",
    "        self.head = Node(0, mark='H')\n",
    "        self.tail = Node(0, mark='T')\n",
    "        \n",
    "        self.head.next = self.tail\n",
    "        self.tail.prev = self.head\n",
    "\n",
    "    def show(self, reverse=False):\n",
    "        \n",
    "        if (reverse):\n",
    "            self.tail.traverseBackwards()\n",
    "        else:\n",
    "            self.head.traverseForewards()\n",
    "\n",
    "    def getAt(self, idx):\n",
    "        node = self.head.getNextN(idx)\n",
    "        return None if (node is None or node.mark!=\"\") else node\n",
    "    \n",
    "    def insertAt(self, idx, val):\n",
    "        node = self.head.getNextN(idx)\n",
    "        if (node):\n",
    "            return node.addNextNode(val)\n",
    "    \n",
    "        return None\n",
    "    \n",
    "    def addHead(self, val:int):\n",
    "        # add behind the sentinel head\n",
    "        added = self.head.addNextNode(val)\n",
    "        return added\n",
    "    \n",
    "    def addTail(self, val:int):\n",
    "        # add behind the predecessor sentinel tail\n",
    "        added = self.tail.prev.addNextNode(val)\n",
    "        return added\n",
    "    \n",
    "    def deleteAt(self, idx):\n",
    "        node = self.getAt(idx)\n",
    "        if (node):\n",
    "            node.prev.deleteNextNode()"
   ]
  },
  {
   "cell_type": "code",
   "execution_count": 131,
   "metadata": {},
   "outputs": [
    {
     "data": {
      "text/plain": [
       "<__main__.Node at 0x23b16e431c8>"
      ]
     },
     "execution_count": 131,
     "metadata": {},
     "output_type": "execute_result"
    }
   ],
   "source": [
    "ll = LinkedList()\n",
    "ll.addHead(1)\n",
    "ll.addTail(9)"
   ]
  },
  {
   "cell_type": "code",
   "execution_count": 136,
   "metadata": {},
   "outputs": [
    {
     "name": "stdout",
     "output_type": "stream",
     "text": [
      "H -> 1 -> 3 -> T\n"
     ]
    }
   ],
   "source": [
    "ll.show()"
   ]
  },
  {
   "cell_type": "code",
   "execution_count": 133,
   "metadata": {},
   "outputs": [
    {
     "data": {
      "text/plain": [
       "<__main__.Node at 0x23b16e49788>"
      ]
     },
     "execution_count": 133,
     "metadata": {},
     "output_type": "execute_result"
    }
   ],
   "source": [
    "ll.insertAt(2,3)"
   ]
  },
  {
   "cell_type": "code",
   "execution_count": 135,
   "metadata": {},
   "outputs": [],
   "source": [
    "ll.deleteAt(2)"
   ]
  },
  {
   "cell_type": "code",
   "execution_count": null,
   "metadata": {},
   "outputs": [],
   "source": []
  },
  {
   "cell_type": "code",
   "execution_count": null,
   "metadata": {},
   "outputs": [],
   "source": []
  }
 ],
 "metadata": {
  "kernelspec": {
   "display_name": "Python 3",
   "language": "python",
   "name": "python3"
  },
  "language_info": {
   "codemirror_mode": {
    "name": "ipython",
    "version": 3
   },
   "file_extension": ".py",
   "mimetype": "text/x-python",
   "name": "python",
   "nbconvert_exporter": "python",
   "pygments_lexer": "ipython3",
   "version": "3.7.6"
  }
 },
 "nbformat": 4,
 "nbformat_minor": 2
}
