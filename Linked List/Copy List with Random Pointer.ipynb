{
 "cells": [
  {
   "cell_type": "code",
   "execution_count": 1,
   "metadata": {},
   "outputs": [],
   "source": [
    "# chart below"
   ]
  },
  {
   "cell_type": "markdown",
   "metadata": {},
   "source": [
    "<img src=\"https://assets.leetcode.com/uploads/2019/12/18/e1.png\" />"
   ]
  },
  {
   "cell_type": "code",
   "execution_count": null,
   "metadata": {},
   "outputs": [],
   "source": [
    "def copyList(head):\n",
    "    \n",
    "    if (not head):\n",
    "        return head\n",
    "\n",
    "    # create a shadow copy of nodes\n",
    "    node = head\n",
    "    while(node):\n",
    "        newnode = Node(node.val)\n",
    "        newnode.next = node.next\n",
    "        node.next = newnode\n",
    "\n",
    "        node = newnode.next\n",
    "\n",
    "    # assign all random pointers to the shadow nodes\n",
    "    node = head\n",
    "    while(node):\n",
    "        # the random pointer might be None\n",
    "        node.next.random = node.random.next if node.random else None\n",
    "        # jump to next original node\n",
    "        node = node.next.next\n",
    "\n",
    "    # disconnect from the original list\n",
    "    newhead = head.next\n",
    "    node = head.next\n",
    "    while (node.next):  # check node.next because it's loop the shadows\n",
    "        node.next = node.next.next\n",
    "        node = node.next\n",
    "\n",
    "    return newhead\n",
    "    "
   ]
  }
 ],
 "metadata": {
  "kernelspec": {
   "display_name": "Python 3",
   "language": "python",
   "name": "python3"
  },
  "language_info": {
   "codemirror_mode": {
    "name": "ipython",
    "version": 3
   },
   "file_extension": ".py",
   "mimetype": "text/x-python",
   "name": "python",
   "nbconvert_exporter": "python",
   "pygments_lexer": "ipython3",
   "version": "3.7.6"
  }
 },
 "nbformat": 4,
 "nbformat_minor": 2
}
