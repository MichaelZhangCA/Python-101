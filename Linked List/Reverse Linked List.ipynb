{
 "cells": [
  {
   "cell_type": "code",
   "execution_count": 1,
   "metadata": {},
   "outputs": [],
   "source": [
    "# try only one pass to reverse it\n",
    "# which has time O(N) and space O(1)"
   ]
  },
  {
   "cell_type": "code",
   "execution_count": 1,
   "metadata": {},
   "outputs": [],
   "source": [
    "from linkedlist import Node, createLL"
   ]
  },
  {
   "cell_type": "code",
   "execution_count": 54,
   "metadata": {},
   "outputs": [
    {
     "name": "stdout",
     "output_type": "stream",
     "text": [
      "1 -> 2 -> 3 -> 4 -> 5 -> 6 -> 7 -> 8 -> 9\n"
     ]
    }
   ],
   "source": [
    "head = createLL([1,2,3,4,5,6,7,8,9])\n",
    "head.traverseForewards()"
   ]
  },
  {
   "cell_type": "code",
   "execution_count": 55,
   "metadata": {},
   "outputs": [],
   "source": [
    "def rev(head):\n",
    "    \n",
    "    if (head is None or head.next is None):\n",
    "        return head\n",
    "    \n",
    "    prev = head\n",
    "    node = head.next\n",
    "    while (node):\n",
    "        #print(head.value, prev.value, node.value)\n",
    "        # when moving, the next will change to head, so save the cur for loop\n",
    "        nxt = node.next\n",
    "        \n",
    "        # move node to the head\n",
    "        prev.next = node.next\n",
    "        node.next = head\n",
    "        head = node\n",
    "        \n",
    "        # the prev will NOT change and always be the original head\n",
    "        node = nxt\n",
    "    \n",
    "    return head            "
   ]
  },
  {
   "cell_type": "code",
   "execution_count": 60,
   "metadata": {},
   "outputs": [],
   "source": [
    "r = rev(r)"
   ]
  },
  {
   "cell_type": "code",
   "execution_count": 61,
   "metadata": {},
   "outputs": [
    {
     "name": "stdout",
     "output_type": "stream",
     "text": [
      "9 -> 8 -> 7 -> 6 -> 5 -> 4 -> 3 -> 2 -> 1\n"
     ]
    }
   ],
   "source": [
    "r.traverseForewards()"
   ]
  },
  {
   "cell_type": "code",
   "execution_count": null,
   "metadata": {},
   "outputs": [],
   "source": []
  }
 ],
 "metadata": {
  "kernelspec": {
   "display_name": "Python 3",
   "language": "python",
   "name": "python3"
  },
  "language_info": {
   "codemirror_mode": {
    "name": "ipython",
    "version": 3
   },
   "file_extension": ".py",
   "mimetype": "text/x-python",
   "name": "python",
   "nbconvert_exporter": "python",
   "pygments_lexer": "ipython3",
   "version": "3.7.6"
  }
 },
 "nbformat": 4,
 "nbformat_minor": 2
}
