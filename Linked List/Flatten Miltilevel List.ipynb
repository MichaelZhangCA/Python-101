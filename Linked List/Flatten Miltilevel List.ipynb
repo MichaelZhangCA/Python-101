{
 "cells": [
  {
   "cell_type": "markdown",
   "metadata": {},
   "source": [
    "<img src=\"https://assets.leetcode.com/uploads/2018/10/12/multilevellinkedlist.png\" />"
   ]
  },
  {
   "cell_type": "code",
   "execution_count": 1,
   "metadata": {},
   "outputs": [],
   "source": [
    "# fletten to"
   ]
  },
  {
   "cell_type": "markdown",
   "metadata": {},
   "source": [
    "<img src=\"https://assets.leetcode.com/uploads/2018/10/12/multilevellinkedlistflattened.png\" />"
   ]
  },
  {
   "cell_type": "code",
   "execution_count": 4,
   "metadata": {},
   "outputs": [],
   "source": [
    "from collections import deque\n",
    "def flatten(head):\n",
    "    \n",
    "    if (head is None):\n",
    "        return head\n",
    "\n",
    "    # add a sentinel node to cover the first node has child\n",
    "    sentinel = ListNode(0)\n",
    "    prev = sentinel\n",
    "    q = deque([head])\n",
    "\n",
    "    while (q):\n",
    "        # pop a node from queue (will pop the child first)\n",
    "        node = q.pop()\n",
    "\n",
    "        # loop until\n",
    "        while (node):\n",
    "            # linke the node to prev\n",
    "            prev.next = node\n",
    "            node.prev = prev\n",
    "\n",
    "            prev = node\n",
    "\n",
    "            if (node.child):\n",
    "                # add the next to queue\n",
    "                q.append(node.next)\n",
    "                # change to the child\n",
    "                node = node.child\n",
    "            else:\n",
    "                node = node.next\n",
    "\n",
    "            # clean up the child node, otherwise it's not a pure doubly linked list\n",
    "            prev.child = None\n",
    "\n",
    "\n",
    "    # delete the sentinel\n",
    "    sentinel.next = None\n",
    "    head.prev = None\n",
    "\n",
    "    return head\n",
    "    \n",
    "    "
   ]
  },
  {
   "cell_type": "code",
   "execution_count": 5,
   "metadata": {},
   "outputs": [],
   "source": [
    "# a optimized solution"
   ]
  },
  {
   "cell_type": "code",
   "execution_count": 6,
   "metadata": {},
   "outputs": [],
   "source": [
    "def opt():\n",
    "    \n",
    "    if (not head):\n",
    "        return head\n",
    "    \n",
    "    dummy = prev = ListNode(0)\n",
    "    stk = [head]\n",
    "    \n",
    "    while (stk):\n",
    "        # pop the last one\n",
    "        node = stk.pop()\n",
    "        prev.next = node\n",
    "        node.prev = prev\n",
    "        \n",
    "        # push the next if there is one\n",
    "        if (node.next):\n",
    "            stk.append(node.next)\n",
    "        \n",
    "        # then push the child if there is one, in this case, the child will be popped first\n",
    "        if (node.child):\n",
    "            stk.append(node.child)\n",
    "            # clear up the child link to makt the Linked List valid\n",
    "            node.child = None\n",
    "            \n",
    "        prev = node\n",
    "        \n",
    "    # clean up dummy node\n",
    "    dummy.next.prev = None\n",
    "    return dummy.next\n"
   ]
  },
  {
   "cell_type": "code",
   "execution_count": null,
   "metadata": {},
   "outputs": [],
   "source": []
  }
 ],
 "metadata": {
  "kernelspec": {
   "display_name": "Python 3",
   "language": "python",
   "name": "python3"
  },
  "language_info": {
   "codemirror_mode": {
    "name": "ipython",
    "version": 3
   },
   "file_extension": ".py",
   "mimetype": "text/x-python",
   "name": "python",
   "nbconvert_exporter": "python",
   "pygments_lexer": "ipython3",
   "version": "3.7.6"
  }
 },
 "nbformat": 4,
 "nbformat_minor": 2
}
