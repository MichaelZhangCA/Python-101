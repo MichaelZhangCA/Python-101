{
 "cells": [
  {
   "cell_type": "code",
   "execution_count": 1,
   "metadata": {},
   "outputs": [],
   "source": [
    "from linkedlist import Node, createLL"
   ]
  },
  {
   "cell_type": "code",
   "execution_count": 31,
   "metadata": {},
   "outputs": [],
   "source": [
    "l1 = createLL([1,2,4,6])\n",
    "l2 = createLL([1,3,5,7])"
   ]
  },
  {
   "cell_type": "code",
   "execution_count": 32,
   "metadata": {},
   "outputs": [
    {
     "name": "stdout",
     "output_type": "stream",
     "text": [
      "1 -> 3 -> 5 -> 7\n"
     ]
    }
   ],
   "source": [
    "l2.traverseForewards()"
   ]
  },
  {
   "cell_type": "code",
   "execution_count": 33,
   "metadata": {},
   "outputs": [],
   "source": [
    "\n",
    "def mergeList(l1, l2):\n",
    "    \n",
    "    sentinel = Node(0)\n",
    "    tracker = sentinel\n",
    "    \n",
    "    while (l1 and l2):\n",
    "        if (l1.value == l2.value):\n",
    "            tracker.next = l1\n",
    "            tracker = tracker.next\n",
    "            l1 = l1.next\n",
    "            \n",
    "            # !!! cannot set both l1 & l2 then move l1 & l2, cause very wired error\n",
    "            tracker.next = l2\n",
    "            tracker = tracker.next\n",
    "            l2 = l2.next\n",
    "            \n",
    "        elif (l1.value < l2.value):\n",
    "            tracker.next = l1\n",
    "            l1 = l1.next\n",
    "            tracker = tracker.next\n",
    "        else:\n",
    "            tracker.next = l2\n",
    "            l2 = l2.next\n",
    "            tracker = tracker.next\n",
    "    \n",
    "    while(l1):\n",
    "        tracker.next = l1\n",
    "        tracker = tracker.next\n",
    "        l1 = l1.next\n",
    "        \n",
    "    while(l2):\n",
    "        tracker.next = l2\n",
    "        tracker = tracker.next\n",
    "        l2 = l2.next\n",
    "        \n",
    "    return sentinel.next"
   ]
  },
  {
   "cell_type": "code",
   "execution_count": 34,
   "metadata": {},
   "outputs": [
    {
     "data": {
      "text/plain": [
       "<linkedlist.Node at 0x20219710548>"
      ]
     },
     "execution_count": 34,
     "metadata": {},
     "output_type": "execute_result"
    }
   ],
   "source": [
    "mergeList(l1,l2)"
   ]
  },
  {
   "cell_type": "code",
   "execution_count": null,
   "metadata": {},
   "outputs": [],
   "source": []
  },
  {
   "cell_type": "code",
   "execution_count": null,
   "metadata": {},
   "outputs": [],
   "source": []
  }
 ],
 "metadata": {
  "kernelspec": {
   "display_name": "Python 3",
   "language": "python",
   "name": "python3"
  },
  "language_info": {
   "codemirror_mode": {
    "name": "ipython",
    "version": 3
   },
   "file_extension": ".py",
   "mimetype": "text/x-python",
   "name": "python",
   "nbconvert_exporter": "python",
   "pygments_lexer": "ipython3",
   "version": "3.7.6"
  }
 },
 "nbformat": 4,
 "nbformat_minor": 2
}
