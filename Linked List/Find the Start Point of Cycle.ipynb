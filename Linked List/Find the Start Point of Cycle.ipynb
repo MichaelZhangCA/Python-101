{
 "cells": [
  {
   "cell_type": "code",
   "execution_count": 2,
   "metadata": {},
   "outputs": [],
   "source": [
    "# check start point of cycle\n",
    "# based on the math below"
   ]
  },
  {
   "cell_type": "markdown",
   "metadata": {},
   "source": [
    "<img src=\"https://leetcode.com/explore/learn/card/linked-list/214/two-pointer-technique/Figures/142/diagram.png\" />"
   ]
  },
  {
   "cell_type": "code",
   "execution_count": 4,
   "metadata": {},
   "outputs": [],
   "source": [
    "# 1, start from -F\n",
    "# 2, slow & fast meet at h\n",
    "# slow goes (F + a) *2\n",
    "# fast goes (F + a + b + a)\n",
    "# so, F = b\n",
    "# 3, slow & fast with same speed, slow from -F, fast from h\n",
    "# 4, will meet at 0"
   ]
  },
  {
   "cell_type": "code",
   "execution_count": 5,
   "metadata": {},
   "outputs": [],
   "source": [
    "def findCyclePoint(head):\n",
    "    \n",
    "    def findMeet(head):\n",
    "    \n",
    "        slow = head\n",
    "        fast = head.next\n",
    "\n",
    "        while (slow != fast):\n",
    "            if (fast is None or fast.next is None):\n",
    "                return None\n",
    "\n",
    "            slow = slow.next\n",
    "            fast = fast.next.next\n",
    "        \n",
    "        return slow\n",
    "        \n",
    "    meet = findMeet(head)\n",
    "    if (meet):\n",
    "        slow = head\n",
    "        fast = meet\n",
    "        \n",
    "        while (slow != fast):\n",
    "            slow = slow.next\n",
    "            fast = fast.next\n",
    "        \n",
    "        return slow\n",
    "        \n",
    "    return None\n"
   ]
  },
  {
   "cell_type": "code",
   "execution_count": null,
   "metadata": {},
   "outputs": [],
   "source": []
  }
 ],
 "metadata": {
  "kernelspec": {
   "display_name": "Python 3",
   "language": "python",
   "name": "python3"
  },
  "language_info": {
   "codemirror_mode": {
    "name": "ipython",
    "version": 3
   },
   "file_extension": ".py",
   "mimetype": "text/x-python",
   "name": "python",
   "nbconvert_exporter": "python",
   "pygments_lexer": "ipython3",
   "version": "3.7.6"
  }
 },
 "nbformat": 4,
 "nbformat_minor": 2
}
