{
 "cells": [
  {
   "cell_type": "code",
   "execution_count": 2,
   "metadata": {},
   "outputs": [],
   "source": [
    "# two reversed single number list present a numer: (2->4->3) = 342\n",
    "# add two list and output the result"
   ]
  },
  {
   "cell_type": "code",
   "execution_count": 4,
   "metadata": {},
   "outputs": [],
   "source": [
    "from linkedlist import Node, createLL"
   ]
  },
  {
   "cell_type": "code",
   "execution_count": 14,
   "metadata": {},
   "outputs": [],
   "source": [
    "def addTwoList(l1, l2):\n",
    "    \n",
    "    sentinel = Node(0)\n",
    "    cur = sentinel\n",
    "    shift = 0\n",
    "    while (l1 and l2):\n",
    "        # the sum max is 18 so won't be 20 anyway\n",
    "        s = l1.value + l2.value + shift\n",
    "        if (s) >= 10:\n",
    "            cur.next = Node(s -10)\n",
    "            shift = 1\n",
    "        else:\n",
    "            cur.next = Node(s)\n",
    "            shift = 0\n",
    "    \n",
    "        l1 = l1.next\n",
    "        l2 = l2.next\n",
    "        cur = cur.next\n",
    "\n",
    "    # if l1 is longer\n",
    "    while (l1):\n",
    "        if (l1.value + shift) == 10:\n",
    "            cur.next = Node(0)\n",
    "            shift = 1\n",
    "        else:\n",
    "            cur.next = Node(l1.value + shift)\n",
    "            shift = 0            \n",
    "            \n",
    "        l1 = l1.next\n",
    "        cur = cur.next\n",
    "\n",
    "    # if l2 is longer\n",
    "    while (l2):\n",
    "        if (l2.value + shift) == 10:\n",
    "            cur.next = Node(0)\n",
    "            shift = 1\n",
    "        else:\n",
    "            cur.next = Node(l2.value + shift)\n",
    "            shift = 0\n",
    "            \n",
    "        l2 = l2.next\n",
    "        cur = cur.next\n",
    "\n",
    "    # if shift still is 1\n",
    "    if (shift == 1):\n",
    "        cur.next = Node(1)\n",
    "    \n",
    "    return sentinel.next"
   ]
  },
  {
   "cell_type": "code",
   "execution_count": 30,
   "metadata": {},
   "outputs": [],
   "source": [
    "l1 = createLL([5,3,5,9,9])\n",
    "l2 = createLL([5,6,4])"
   ]
  },
  {
   "cell_type": "code",
   "execution_count": 31,
   "metadata": {},
   "outputs": [],
   "source": [
    "s = addTwoList(l1,l2)"
   ]
  },
  {
   "cell_type": "code",
   "execution_count": 32,
   "metadata": {},
   "outputs": [
    {
     "name": "stdout",
     "output_type": "stream",
     "text": [
      "0 -> 0 -> 0 -> 0 -> 0 -> 1\n"
     ]
    }
   ],
   "source": [
    "s.traverseForewards()"
   ]
  },
  {
   "cell_type": "code",
   "execution_count": null,
   "metadata": {},
   "outputs": [],
   "source": []
  }
 ],
 "metadata": {
  "kernelspec": {
   "display_name": "Python 3",
   "language": "python",
   "name": "python3"
  },
  "language_info": {
   "codemirror_mode": {
    "name": "ipython",
    "version": 3
   },
   "file_extension": ".py",
   "mimetype": "text/x-python",
   "name": "python",
   "nbconvert_exporter": "python",
   "pygments_lexer": "ipython3",
   "version": "3.7.6"
  }
 },
 "nbformat": 4,
 "nbformat_minor": 2
}
