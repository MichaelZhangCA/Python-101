{
 "cells": [
  {
   "cell_type": "code",
   "execution_count": 1,
   "metadata": {},
   "outputs": [],
   "source": [
    "# see the chart below\n",
    "# for performance, use set\n",
    "# for space, use math (two pointers)"
   ]
  },
  {
   "cell_type": "markdown",
   "metadata": {},
   "source": [
    "<img src=\"https://assets.leetcode.com/uploads/2018/12/13/160_statement.png\" />"
   ]
  },
  {
   "cell_type": "code",
   "execution_count": 2,
   "metadata": {},
   "outputs": [],
   "source": [
    "# the math is\n",
    "# point A go through all A path then start with B\n",
    "# point B go through all B path then start with A\n",
    "# A will go a + c + b\n",
    "# B will go b + c + a\n",
    "# then Point A/B will meet at c1, BINGO!\n"
   ]
  },
  {
   "cell_type": "code",
   "execution_count": 9,
   "metadata": {},
   "outputs": [],
   "source": [
    "from linkedlist import Node\n",
    "def createLL(arr):\n",
    "    head = None\n",
    "    node = None\n",
    "    for n in arr:\n",
    "        if (head is None):\n",
    "            head = Node(n)\n",
    "            node = head\n",
    "        else:\n",
    "            node.next = Node(n)\n",
    "            node = node.next\n",
    "    \n",
    "    return head"
   ]
  },
  {
   "cell_type": "code",
   "execution_count": 38,
   "metadata": {},
   "outputs": [],
   "source": [
    "def findInter(headA, headB):\n",
    "    \n",
    "    if (headA is None or headB is None):\n",
    "        return None\n",
    "    \n",
    "    pa = headA\n",
    "    pb = headB\n",
    "    \n",
    "    while (pa != pb):\n",
    "        \n",
    "        # point A/B will go the same length even the two lists has no intersection\n",
    "        # in this case, both will be next==None at the same time\n",
    "        if (pa.next is None and pb.next is None):\n",
    "            return None\n",
    "        \n",
    "        if (pa.next is None):\n",
    "            pa = headB\n",
    "        else:\n",
    "            pa = pa.next\n",
    "        \n",
    "        if (pb.next is None):\n",
    "            pb = headA\n",
    "        else:\n",
    "            pb = pb.next\n",
    "            \n",
    "    return pa"
   ]
  },
  {
   "cell_type": "code",
   "execution_count": 52,
   "metadata": {},
   "outputs": [],
   "source": [
    "ha = createLL([1,3,5,7,9,11,13,15,17,19, 21])\n",
    "hb = createLL([2])"
   ]
  },
  {
   "cell_type": "code",
   "execution_count": 53,
   "metadata": {},
   "outputs": [
    {
     "name": "stdout",
     "output_type": "stream",
     "text": [
      "1 -> 3 -> 5 -> 7 -> 9 -> 11 -> 13 -> 15 -> 17 -> 19 -> 21\n"
     ]
    }
   ],
   "source": [
    "ha.traverseForewards()"
   ]
  },
  {
   "cell_type": "code",
   "execution_count": 41,
   "metadata": {},
   "outputs": [],
   "source": [
    "meet = findInter(ha,hb)"
   ]
  },
  {
   "cell_type": "code",
   "execution_count": 47,
   "metadata": {},
   "outputs": [],
   "source": [
    "def findInter_per(ha,hb):\n",
    "\n",
    "    if (headA is None or headB is None):\n",
    "        return None    \n",
    "    seta = set()\n",
    "    \n",
    "    node = ha\n",
    "    while (node):\n",
    "        seta.add(node)\n",
    "        node = node.next\n",
    "        \n",
    "    node = hb\n",
    "    while (node):\n",
    "        if (node in seta):\n",
    "            return node\n",
    "        node = node.next\n",
    "        \n",
    "    return None\n",
    "    "
   ]
  },
  {
   "cell_type": "code",
   "execution_count": 50,
   "metadata": {},
   "outputs": [],
   "source": [
    "meet = findInter_per(ha,hb)"
   ]
  },
  {
   "cell_type": "code",
   "execution_count": 51,
   "metadata": {},
   "outputs": [],
   "source": [
    "meet"
   ]
  },
  {
   "cell_type": "code",
   "execution_count": null,
   "metadata": {},
   "outputs": [],
   "source": []
  }
 ],
 "metadata": {
  "kernelspec": {
   "display_name": "Python 3",
   "language": "python",
   "name": "python3"
  },
  "language_info": {
   "codemirror_mode": {
    "name": "ipython",
    "version": 3
   },
   "file_extension": ".py",
   "mimetype": "text/x-python",
   "name": "python",
   "nbconvert_exporter": "python",
   "pygments_lexer": "ipython3",
   "version": "3.7.6"
  }
 },
 "nbformat": 4,
 "nbformat_minor": 2
}
