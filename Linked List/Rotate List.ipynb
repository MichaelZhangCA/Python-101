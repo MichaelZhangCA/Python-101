{
 "cells": [
  {
   "cell_type": "code",
   "execution_count": 1,
   "metadata": {},
   "outputs": [],
   "source": [
    "# a singly linked list, rotate to right k times\n",
    "# 1, use 2 pointers to find the one become the last one after rotate\n",
    "# 2, make the list a cycle, then find the n - k as the first node (may use k %n if k>n )"
   ]
  },
  {
   "cell_type": "code",
   "execution_count": 13,
   "metadata": {},
   "outputs": [],
   "source": [
    "def rotateList(head,k):\n",
    "    \n",
    "    if (not head):\n",
    "        return head\n",
    "    \n",
    "    n = 0\n",
    "    node = head\n",
    "    while (node):\n",
    "        n += 1\n",
    "        node = node.next\n",
    "    \n",
    "    k = k % n\n",
    "    \n",
    "    if (k==0):\n",
    "        return head\n",
    "    \n",
    "    # use two pointers\n",
    "    # !!! here is the stupidy, shold just go to the n-k-1 as the new tail\n",
    "    gap = 0\n",
    "    newlast = head\n",
    "    node = head\n",
    "    while (node.next):\n",
    "        node = node.next\n",
    "        gap += 1\n",
    "        if (gap > k):\n",
    "            newlast = newlast.next\n",
    "    \n",
    "    # find the newhead and the last node\n",
    "    newhead = newlast.next\n",
    "    newlast.next = None\n",
    "    node.next = head\n",
    "    \n",
    "    return newhead\n"
   ]
  },
  {
   "cell_type": "code",
   "execution_count": 14,
   "metadata": {},
   "outputs": [],
   "source": [
    "from linkedlist import Node, createLL"
   ]
  },
  {
   "cell_type": "code",
   "execution_count": 16,
   "metadata": {},
   "outputs": [
    {
     "name": "stdout",
     "output_type": "stream",
     "text": [
      "5\n",
      "4 -> 5 -> 1 -> 2 -> 3\n"
     ]
    }
   ],
   "source": [
    "head = createLL([1,2,3,4,5])\n",
    "r = rotateList(head, 22)\n",
    "r.traverseForewards()"
   ]
  },
  {
   "cell_type": "code",
   "execution_count": null,
   "metadata": {},
   "outputs": [],
   "source": []
  },
  {
   "cell_type": "code",
   "execution_count": 19,
   "metadata": {},
   "outputs": [],
   "source": [
    "# use math, got to the n-k-1 as the new head\n",
    "\n",
    "def rotateList2(head,k):\n",
    "    \n",
    "    if (not head):\n",
    "        return head\n",
    "    \n",
    "    # check list length, also locate the last node\n",
    "    n = 1\n",
    "    node = head\n",
    "    while (node.next):\n",
    "        n += 1\n",
    "        node = node.next\n",
    "    \n",
    "    # save the tail\n",
    "    tail = node\n",
    "    \n",
    "    k = k % n\n",
    "    if (k==0):\n",
    "        return head\n",
    "    \n",
    "    # the new tail should be the n-k%n-1, new head is n-k%n\n",
    "    node = head\n",
    "    for _ in range(n-k-1):\n",
    "        node = node.next\n",
    "    \n",
    "    # find the new head\n",
    "    newhead = node.next\n",
    "    # cur the new tail\n",
    "    node.next = None\n",
    "    # linke the original tail\n",
    "    tail.next = head\n",
    "    \n",
    "    return newhead\n"
   ]
  },
  {
   "cell_type": "code",
   "execution_count": 22,
   "metadata": {},
   "outputs": [
    {
     "name": "stdout",
     "output_type": "stream",
     "text": [
      "4 -> 5 -> 1 -> 2 -> 3\n"
     ]
    }
   ],
   "source": [
    "head = createLL([1,2,3,4,5])\n",
    "r = rotateList2(head, 22)\n",
    "r.traverseForewards()"
   ]
  },
  {
   "cell_type": "code",
   "execution_count": null,
   "metadata": {},
   "outputs": [],
   "source": []
  }
 ],
 "metadata": {
  "kernelspec": {
   "display_name": "Python 3",
   "language": "python",
   "name": "python3"
  },
  "language_info": {
   "codemirror_mode": {
    "name": "ipython",
    "version": 3
   },
   "file_extension": ".py",
   "mimetype": "text/x-python",
   "name": "python",
   "nbconvert_exporter": "python",
   "pygments_lexer": "ipython3",
   "version": "3.7.6"
  }
 },
 "nbformat": 4,
 "nbformat_minor": 2
}
