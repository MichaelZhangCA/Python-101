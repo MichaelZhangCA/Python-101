{
 "cells": [
  {
   "cell_type": "raw",
   "metadata": {},
   "source": [
    "Given an int array nums and an int target, find how many unique TRHEE numbers in the array such that their sum is equal to target. Return the number of pairs.\n",
    "\n",
    "Example 1:\n",
    "\n",
    "Input: nums = [1, 1, 2, 45, 46, 46], target = 48\n",
    "Output: 2\n",
    "Explanation:\n",
    "1 + 1 + 46 = 48\n",
    "1 + 2 + 45 = 48\n",
    "\n",
    "Example 2:\n",
    "\n",
    "Input: nums = [1, 1], target = 3\n",
    "Output: 0\n",
    "Explanation:\n",
    "1 + 1 = 2\n",
    "\n",
    "Example 3:\n",
    "\n",
    "Input: nums = [1, 5, 1, 5], target = 7\n",
    "Output: 1\n",
    "Explanation:\n",
    "[1, 1, 5] and [1, 5, 1] are considered the same.\n"
   ]
  },
  {
   "cell_type": "code",
   "execution_count": 34,
   "metadata": {},
   "outputs": [],
   "source": [
    "from collections import defaultdict\n",
    "class Solution():\n",
    "    def uniqueThreeSum(self, nums, target):\n",
    "        \n",
    "        if (not nums):\n",
    "            return []\n",
    "        \n",
    "        ans, comp = set(), defaultdict(int)\n",
    "        \n",
    "        for i in range(len(nums)):\n",
    "            ri = target - nums[i]\n",
    "            for j in range(i,len(nums)):\n",
    "                rj = ri - nums[j]\n",
    "                \n",
    "                if rj in comp:\n",
    "                    # if do not allow repeatedly use the number, add check here\n",
    "                    #if (comp[rj] != i and comp[rj]!=j):\n",
    "                    \n",
    "                    res = sorted([nums[i], nums[j], rj])\n",
    "                    ans.add(tuple(res))\n",
    "        \n",
    "            # put the number in comp\n",
    "            comp[nums[i]] = i\n",
    "\n",
    "        return [list(a) for a in ans]\n"
   ]
  },
  {
   "cell_type": "code",
   "execution_count": 35,
   "metadata": {},
   "outputs": [],
   "source": [
    "nums = [1, 0, 2, 45, 46, 46]\n",
    "target = 47"
   ]
  },
  {
   "cell_type": "code",
   "execution_count": 36,
   "metadata": {},
   "outputs": [
    {
     "data": {
      "text/plain": [
       "[[0, 1, 46], [0, 2, 45]]"
      ]
     },
     "execution_count": 36,
     "metadata": {},
     "output_type": "execute_result"
    }
   ],
   "source": [
    "Solution().uniqueThreeSum(nums, target)"
   ]
  },
  {
   "cell_type": "code",
   "execution_count": null,
   "metadata": {},
   "outputs": [],
   "source": []
  }
 ],
 "metadata": {
  "kernelspec": {
   "display_name": "Python 3",
   "language": "python",
   "name": "python3"
  },
  "language_info": {
   "codemirror_mode": {
    "name": "ipython",
    "version": 3
   },
   "file_extension": ".py",
   "mimetype": "text/x-python",
   "name": "python",
   "nbconvert_exporter": "python",
   "pygments_lexer": "ipython3",
   "version": "3.7.6"
  }
 },
 "nbformat": 4,
 "nbformat_minor": 2
}
