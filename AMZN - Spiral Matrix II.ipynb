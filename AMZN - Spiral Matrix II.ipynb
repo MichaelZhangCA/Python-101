{
 "cells": [
  {
   "cell_type": "raw",
   "metadata": {},
   "source": [
    "Given a positive integer n, generate a square matrix filled with elements from 1 to n2 in spiral order.\n",
    "\n",
    "Example:\n",
    "\n",
    "Input: 3\n",
    "Output:\n",
    "[\n",
    " [ 1, 2, 3 ],\n",
    " [ 8, 9, 4 ],\n",
    " [ 7, 6, 5 ]\n",
    "]\n"
   ]
  },
  {
   "cell_type": "code",
   "execution_count": 6,
   "metadata": {},
   "outputs": [],
   "source": [
    "n = 3"
   ]
  },
  {
   "cell_type": "code",
   "execution_count": 17,
   "metadata": {},
   "outputs": [],
   "source": [
    "from typing import List\n",
    "class Solution:\n",
    "    def generateMatrix(self, n: int) -> List[List[int]]:\n",
    "        \n",
    "        matrix = []\n",
    "        for i in range(n):\n",
    "            matrix.append([0 for j in range(n)])\n",
    "            \n",
    "        rowBegin = 0\n",
    "        rowEnd = n-1\n",
    "        colBegin = 0\n",
    "        colEnd = n-1\n",
    "        number = 1\n",
    "        \n",
    "        while rowBegin <= rowEnd and colBegin <= colEnd:\n",
    "            for i in range(colBegin, colEnd+1):\n",
    "                matrix[rowBegin][i] = number\n",
    "                number += 1\n",
    "            rowBegin += 1\n",
    "            \n",
    "            for i in range(rowBegin, rowEnd+1):\n",
    "                matrix[i][colEnd] = number\n",
    "                number += 1\n",
    "            colEnd -= 1\n",
    "            \n",
    "            if rowBegin <= rowEnd:\n",
    "                for i in range(colEnd, colBegin-1, -1):\n",
    "                    matrix[rowEnd][i] = number\n",
    "                    number += 1\n",
    "                rowEnd -= 1\n",
    "            \n",
    "            if colBegin <= colEnd:\n",
    "                for i in range(rowEnd, rowBegin-1, -1):\n",
    "                    matrix[i][colBegin] = number\n",
    "                    number += 1\n",
    "                colBegin += 1\n",
    "                \n",
    "        return matrix\n"
   ]
  },
  {
   "cell_type": "code",
   "execution_count": 18,
   "metadata": {},
   "outputs": [],
   "source": [
    "spiral = Solution().generateMatrix(3)"
   ]
  },
  {
   "cell_type": "code",
   "execution_count": 19,
   "metadata": {},
   "outputs": [
    {
     "name": "stdout",
     "output_type": "stream",
     "text": [
      "[1, 2, 3]\r\n",
      "[8, 9, 4]\r\n",
      "[7, 6, 5]\n"
     ]
    }
   ],
   "source": [
    "#import os\n",
    "print('\\r\\n'.join([str(item) for item in spiral]))"
   ]
  },
  {
   "cell_type": "code",
   "execution_count": null,
   "metadata": {},
   "outputs": [],
   "source": []
  }
 ],
 "metadata": {
  "kernelspec": {
   "display_name": "Python 3",
   "language": "python",
   "name": "python3"
  },
  "language_info": {
   "codemirror_mode": {
    "name": "ipython",
    "version": 3
   },
   "file_extension": ".py",
   "mimetype": "text/x-python",
   "name": "python",
   "nbconvert_exporter": "python",
   "pygments_lexer": "ipython3",
   "version": "3.7.6"
  }
 },
 "nbformat": 4,
 "nbformat_minor": 2
}
