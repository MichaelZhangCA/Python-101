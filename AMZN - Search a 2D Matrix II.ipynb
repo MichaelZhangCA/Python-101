{
 "cells": [
  {
   "cell_type": "raw",
   "metadata": {},
   "source": [
    "Write an efficient algorithm that searches for a value in an m x n matrix. This matrix has the following properties:\n",
    "\n",
    "Integers in each row are sorted in ascending from left to right.\n",
    "Integers in each column are sorted in ascending from top to bottom.\n",
    "Example:\n",
    "\n",
    "Consider the following matrix:\n",
    "\n",
    "[\n",
    "  [1,   4,  7, 11, 15],\n",
    "  [2,   5,  8, 12, 19],\n",
    "  [3,   6,  9, 16, 22],\n",
    "  [10, 13, 14, 17, 24],\n",
    "  [18, 21, 23, 26, 30]\n",
    "]\n",
    "Given target = 5, return true.\n",
    "\n",
    "Given target = 20, return false."
   ]
  },
  {
   "cell_type": "code",
   "execution_count": 1,
   "metadata": {},
   "outputs": [],
   "source": [
    "# a typical 2D matrix search\n",
    "# by sorint the matrix, the search could be from top/right or bottom/left"
   ]
  },
  {
   "cell_type": "code",
   "execution_count": 18,
   "metadata": {},
   "outputs": [],
   "source": [
    "from typing import List\n",
    "class Solution():\n",
    "    def searchMatrix(self, matrix, target) -> List[List[int]]:\n",
    "        \n",
    "        if (not matrix):\n",
    "            return False\n",
    "        \n",
    "        # return a list with matrix index [[row, col]]\n",
    "        res = []\n",
    "        \n",
    "        # this is start from top/right\n",
    "        row, col =0, len(matrix[0])-1\n",
    "        while (row < len(matrix) and col>=0):\n",
    "            if (matrix[row][col] == target):\n",
    "                res.append([row, col])\n",
    "                # could return True here if only want to find one\n",
    "            \n",
    "            if (matrix[row][col] > target):\n",
    "                col -= 1\n",
    "            else:\n",
    "                row += 1\n",
    "        \n",
    "        return (res != [])"
   ]
  },
  {
   "cell_type": "code",
   "execution_count": null,
   "metadata": {},
   "outputs": [],
   "source": []
  },
  {
   "cell_type": "code",
   "execution_count": 19,
   "metadata": {},
   "outputs": [],
   "source": [
    "src = [\n",
    "  [1,   4,  7, 11, 15],\n",
    "  [2,   5,  8, 12, 19],\n",
    "  [3,   6,  9, 16, 22],\n",
    "  [10, 13, 14, 17, 24],\n",
    "  [18, 21, 23, 26, 30]\n",
    "]\n",
    "target = 20"
   ]
  },
  {
   "cell_type": "code",
   "execution_count": 20,
   "metadata": {},
   "outputs": [
    {
     "data": {
      "text/plain": [
       "True"
      ]
     },
     "execution_count": 20,
     "metadata": {},
     "output_type": "execute_result"
    }
   ],
   "source": [
    "Solution().searchMatrix(src, 5)"
   ]
  },
  {
   "cell_type": "code",
   "execution_count": null,
   "metadata": {},
   "outputs": [],
   "source": []
  }
 ],
 "metadata": {
  "kernelspec": {
   "display_name": "Python 3",
   "language": "python",
   "name": "python3"
  },
  "language_info": {
   "codemirror_mode": {
    "name": "ipython",
    "version": 3
   },
   "file_extension": ".py",
   "mimetype": "text/x-python",
   "name": "python",
   "nbconvert_exporter": "python",
   "pygments_lexer": "ipython3",
   "version": "3.7.6"
  }
 },
 "nbformat": 4,
 "nbformat_minor": 2
}
