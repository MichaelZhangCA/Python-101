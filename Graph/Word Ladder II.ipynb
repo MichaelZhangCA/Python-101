{
 "cells": [
  {
   "cell_type": "code",
   "execution_count": 1,
   "metadata": {},
   "outputs": [],
   "source": [
    "# the same as word ladder but output ALL trasform path"
   ]
  },
  {
   "cell_type": "code",
   "execution_count": null,
   "metadata": {},
   "outputs": [],
   "source": [
    "from collections import defaultdict, deque\n",
    "from typing import List\n",
    "\n",
    "class Solution():\n",
    "    def ladderLength(self, beginWord: str, endWord: str, wordList: List[str]) -> int:\n",
    "        \n",
    "        if (endWord not in wordList):\n",
    "            return 0\n",
    "\n",
    "        def getPattern(word):\n",
    "            return [ word[:i] + '*' + word[i+1:] for i in range(len(word))]\n",
    "        \n",
    "        pattern = defaultdict(list)\n",
    "        for word in wordList:\n",
    "            for i in range(len(word)):\n",
    "                pattern[word[:i] + '*' + word[i+1:]].append(word)\n",
    "        \n",
    "        # use bfs to find the shortest path\n",
    "        def bfs(node, tar):\n",
    "            visited = {node: True}\n",
    "            q = deque([(node,1)])\n",
    "            while(q):\n",
    "                node, s = q.popleft()\n",
    "                if (node == tar):\n",
    "                    return s\n",
    "\n",
    "                \n",
    "                ptar = getPattern(node)\n",
    "                for p in ptar:\n",
    "                    # push all subnode in a new queue\n",
    "                    for child in pattern[p]:\n",
    "                        if (child not in visited):\n",
    "                            visited[child] = True\n",
    "                            q.append((child, s+1))\n",
    "\n",
    "            return 0\n",
    "        \n",
    "        return bfs(beginWord, endWord)\n",
    "        "
   ]
  }
 ],
 "metadata": {
  "kernelspec": {
   "display_name": "Python 3",
   "language": "python",
   "name": "python3"
  },
  "language_info": {
   "codemirror_mode": {
    "name": "ipython",
    "version": 3
   },
   "file_extension": ".py",
   "mimetype": "text/x-python",
   "name": "python",
   "nbconvert_exporter": "python",
   "pygments_lexer": "ipython3",
   "version": "3.7.6"
  }
 },
 "nbformat": 4,
 "nbformat_minor": 2
}
