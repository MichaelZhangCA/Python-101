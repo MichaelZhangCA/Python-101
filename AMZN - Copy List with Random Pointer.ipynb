{
 "cells": [
  {
   "cell_type": "raw",
   "metadata": {},
   "source": [
    "A linked list is given such that each node contains an additional random pointer which could point to any node in the list or null.\n",
    "\n",
    "Return a deep copy of the list.\n",
    "\n",
    "The Linked List is represented in the input/output as a list of n nodes. Each node is represented as a pair of [val, random_index] where:\n",
    "\n",
    "val: an integer representing Node.val\n",
    "random_index: the index of the node (range from 0 to n-1) where random pointer points to, or null if it does not point to any node.\n",
    " \n",
    "\n",
    "Example 1:\n",
    "\n",
    "\n",
    "Input: head = [[7,null],[13,0],[11,4],[10,2],[1,0]]\n",
    "Output: [[7,null],[13,0],[11,4],[10,2],[1,0]]\n",
    "Example 2:\n",
    "\n",
    "\n",
    "Input: head = [[1,1],[2,1]]\n",
    "Output: [[1,1],[2,1]]\n",
    "Example 3:\n",
    "\n",
    "\n",
    "\n",
    "Input: head = [[3,null],[3,0],[3,null]]\n",
    "Output: [[3,null],[3,0],[3,null]]\n",
    "Example 4:\n",
    "\n",
    "Input: head = []\n",
    "Output: []\n",
    "Explanation: Given linked list is empty (null pointer), so return null.\n"
   ]
  },
  {
   "cell_type": "code",
   "execution_count": null,
   "metadata": {},
   "outputs": [],
   "source": []
  },
  {
   "cell_type": "code",
   "execution_count": 2,
   "metadata": {},
   "outputs": [],
   "source": [
    "class Solution(object):\n",
    "    def copyRandomList(self, head):\n",
    "        if not head:\n",
    "            return head\n",
    "                \n",
    "        # create the new node which is the copy of the old first node of the old list\n",
    "        node = Node(head.val, None, None)\n",
    "        # initialize an \"useless\" node which will point to the beginning of the new created list\n",
    "        res = Node(0, None, None)\n",
    "        res.next = node\n",
    "        \n",
    "        # dic is the hash map;  structure: old node: new created node(copy of the old node)\n",
    "        dic = {head: node}\n",
    "        \n",
    "        while head:\n",
    "            # if the node is not created, create this node (copy of the old head node)\n",
    "            if head not in dic:\n",
    "                dic[head] = Node(head.val, None, None)\n",
    "            \n",
    "            # created the (copied) node to which this copied node points (next pointer);\n",
    "            # if this node (head) points to the null, we do not create this node\n",
    "            if head.random not in dic and head.random:\n",
    "                dic[head.random] = Node(head.random.val, None, None)\n",
    "            \n",
    "            # created the (copied) node to which this copied node points (random pointer);\n",
    "            # if this node (head) points to the null, we do not create this node\n",
    "            if head.next not in dic and head.next:\n",
    "                dic[head.next] = Node(head.next.val, None, None)\n",
    "            \n",
    "            # dic[head] is the node which is the copy of the head\n",
    "            # we now define its connections (next and random) which have been created in the above steps\n",
    "            dic[head].next = dic[head.next] if head.next else None\n",
    "            dic[head].random = dic[head.random] if head.random else None\n",
    "            head = head.next\n",
    "        return res.next\n",
    " "
   ]
  },
  {
   "cell_type": "code",
   "execution_count": null,
   "metadata": {},
   "outputs": [],
   "source": []
  }
 ],
 "metadata": {
  "kernelspec": {
   "display_name": "Python 3",
   "language": "python",
   "name": "python3"
  },
  "language_info": {
   "codemirror_mode": {
    "name": "ipython",
    "version": 3
   },
   "file_extension": ".py",
   "mimetype": "text/x-python",
   "name": "python",
   "nbconvert_exporter": "python",
   "pygments_lexer": "ipython3",
   "version": "3.7.5"
  }
 },
 "nbformat": 4,
 "nbformat_minor": 2
}
