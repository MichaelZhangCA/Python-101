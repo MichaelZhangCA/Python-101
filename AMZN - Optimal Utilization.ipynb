{
 "cells": [
  {
   "cell_type": "raw",
   "metadata": {},
   "source": [
    "Given 2 lists a and b. Each element is a pair of integers where the first integer represents the unique id and the second integer represents a value. Your task is to find an element from a and an element form b such that the sum of their values is less or equal to target and as close to target as possible. Return a list of ids of selected elements. If no pair is possible, return an empty list.\n",
    "\n",
    "Example 1:\n",
    "\n",
    "Input:\n",
    "a = [[1, 2], [2, 4], [3, 6]]\n",
    "b = [[1, 2]]\n",
    "target = 7\n",
    "\n",
    "Output: [[2, 1]]\n",
    "\n",
    "Explanation:\n",
    "There are only three combinations [1, 1], [2, 1], and [3, 1], which have a total sum of 4, 6 and 8, respectively.\n",
    "Since 6 is the largest sum that does not exceed 7, [2, 1] is the optimal pair.\n",
    "Example 2:\n",
    "\n",
    "Input:\n",
    "a = [[1, 3], [2, 5], [3, 7], [4, 10]]\n",
    "b = [[1, 2], [2, 3], [3, 4], [4, 5]]\n",
    "target = 10\n",
    "\n",
    "Output: [[2, 4], [3, 2]]\n",
    "\n",
    "Explanation:\n",
    "There are two pairs possible. Element with id = 2 from the list `a` has a value 5, and element with id = 4 from the list `b` also has a value 5.\n",
    "Combined, they add up to 10. Similarily, element with id = 3 from `a` has a value 7, and element with id = 2 from `b` has a value 3.\n",
    "These also add up to 10. Therefore, the optimal pairs are [2, 4] and [3, 2].\n",
    "Example 3:\n",
    "\n",
    "Input:\n",
    "a = [[1, 8], [2, 7], [3, 14]]\n",
    "b = [[1, 5], [2, 10], [3, 14]]\n",
    "target = 20\n",
    "\n",
    "Output: [[3, 1]]\n",
    "Example 4:\n",
    "\n",
    "Input:\n",
    "a = [[1, 8], [2, 15], [3, 9]]\n",
    "b = [[1, 8], [2, 11], [3, 12]]\n",
    "target = 20\n",
    "\n",
    "Output: [[1, 3], [3, 2]]\n"
   ]
  },
  {
   "cell_type": "code",
   "execution_count": 185,
   "metadata": {},
   "outputs": [],
   "source": [
    "# a simpler version O(m*n)\n",
    "# combin the 2 array for all the posibilities [row, col, val]\n",
    "# find the max( < target) from the vals\n",
    "# find all [row,col] with value == new target"
   ]
  },
  {
   "cell_type": "code",
   "execution_count": 206,
   "metadata": {},
   "outputs": [],
   "source": [
    "import numpy as np\n",
    "from typing import List\n",
    "\n",
    "class Solution2():\n",
    "    def getClosestPairsToTarget(self, a: List[List[int]], b: List[List[int]], target: int) -> List[List[int]]:\n",
    "        \n",
    "        # generate the combination\n",
    "        comb = [ [row[0],col[0], row[1]+col[1]] for row in a for col in b]\n",
    "\n",
    "        # find the real target value\n",
    "        less_than_target = [c[2] for c in comb if c[2] <=target]\n",
    "        if (not less_than_target):\n",
    "            return [[]]\n",
    "        \n",
    "        target = max(less_than_target)\n",
    "        #print('target for searching : {}'.format(target))\n",
    "\n",
    "        matches = [[c[0], c[1]] for c in comb if c[2] == target]\n",
    "        \n",
    "        # sort the output to pass test cases\n",
    "        return sorted(matches, key=lambda x:(x[0],x[1]))\n",
    "    "
   ]
  },
  {
   "cell_type": "code",
   "execution_count": 218,
   "metadata": {},
   "outputs": [],
   "source": [
    "# O(M * logN) version\n",
    "# sort a,b\n",
    "# loop a and use binary search to find the closest sum from b\n",
    "#     a value : [index] dict need to be generated from b as well\n",
    "#     it will be used to find all the duplicated value from b\n",
    "# keep tracking the closest sum and only add to final result when sum <= target and\n",
    "# sort the final result decend and grab the top N with the max values\n",
    "#     or just filter out with the closest value be logged"
   ]
  },
  {
   "cell_type": "code",
   "execution_count": 314,
   "metadata": {},
   "outputs": [],
   "source": [
    "#import numpy as np\n",
    "from typing import List\n",
    "from collections import defaultdict\n",
    "\n",
    "class Solution3():\n",
    "    def getClosestPairsToTarget(self, a: List[List[int]], b: List[List[int]], target: int) -> List[List[int]]:\n",
    "        \n",
    "        # edge case check\n",
    "        if (not a or not b):\n",
    "            return [[]]\n",
    "        \n",
    "        a = sorted(a, key=lambda x:x[1])\n",
    "        b = sorted(b, key=lambda x:x[1])\n",
    "        \n",
    "        # create a index list for all values\n",
    "        bdict = defaultdict(list)\n",
    "        for ele in b:\n",
    "            bdict[ele[1]].append(ele[0])\n",
    "        \n",
    "        # tracking the closest smaller number\n",
    "        closest = float('-inf')\n",
    "        res = []\n",
    "        \n",
    "        for i in range(len(a)):\n",
    "            \n",
    "            # diff will be decresing since the value in a increases from left -> right\n",
    "            diff = target - a[i][1]\n",
    "            bs = self._bsearch(b, diff)\n",
    "            \n",
    "            # if cannot find any value smaller than diff, stop loop because the rest diff will be even smaller\n",
    "            if (not bs):\n",
    "                break\n",
    "            \n",
    "            # tracking the sum vesus target\n",
    "            s = a[i][1] + bs[1]\n",
    "            closest = max(closest, s)\n",
    "            \n",
    "            # add all pair to the res which has the same value (bs[1]) from the bdict\n",
    "            res += [ [a[i][0], idx, s] for idx in bdict[bs[1]]]\n",
    "        \n",
    "        if (not res):\n",
    "            return [[]]\n",
    "        \n",
    "        # sort the output to pass test cases\n",
    "        matches = [[c[0], c[1]] for c in res if c[2] == closest]\n",
    "        return sorted(matches, key=lambda x:(x[0],x[1]))\n",
    "\n",
    "    def _bsearch(self, arr, target):\n",
    "        \n",
    "        left, right = 0, len(arr)-1\n",
    "        while left < right:\n",
    "            mid = 1 + (right+left)//2\n",
    "            #print(left,right,mid)\n",
    "            \n",
    "            if arr[mid][1] == target:\n",
    "                return arr[mid]\n",
    "            elif arr[mid][1] < target:\n",
    "                left = mid\n",
    "            else:\n",
    "                right = mid -1\n",
    "        \n",
    "        # if the left/smallest one is still larger than target\n",
    "        if (right==0 and arr[right][1]>target):\n",
    "            return []\n",
    "        \n",
    "        # return the closest smaller one\n",
    "        return arr[right]\n",
    "            "
   ]
  },
  {
   "cell_type": "code",
   "execution_count": 315,
   "metadata": {},
   "outputs": [
    {
     "data": {
      "text/plain": [
       "[[2, 3], [3, 2]]"
      ]
     },
     "execution_count": 315,
     "metadata": {},
     "output_type": "execute_result"
    }
   ],
   "source": [
    "a = [[1, 20], [2, 15], [3, 5]]\n",
    "b = [[1, 80], [2, 11], [3, 1]]\n",
    "target = 17\n",
    "Solution3().getClosestPairsToTarget(a,b,target)"
   ]
  },
  {
   "cell_type": "code",
   "execution_count": null,
   "metadata": {},
   "outputs": [],
   "source": [
    "# structure a 2D matrix with all the sum\n",
    "#     index matrix for the output\n",
    "#     value matrix for search target\n",
    "# flat the value matrix and find the real target\n",
    "#     max( <= target)\n",
    "#     reassign the target\n",
    "# loog the WHOLE value matrix to find all combinations\n",
    "#     cannot use typical 2D matrix search since it only walk through half matrix\n",
    "# get a list of matrix index\n",
    "# map back to the source array index from index matrix"
   ]
  },
  {
   "cell_type": "code",
   "execution_count": 316,
   "metadata": {},
   "outputs": [],
   "source": [
    "# !!! this is not a good solution \n",
    "# since the 2D matrix search has to walk through the whole matrix to get a full list of combination\n",
    "# so not optimized !!!!"
   ]
  },
  {
   "cell_type": "code",
   "execution_count": 213,
   "metadata": {},
   "outputs": [],
   "source": [
    "import numpy as np\n",
    "from typing import List\n",
    "\n",
    "class Solution():\n",
    "    def getClosestPairsToTarget(self, a: List[List[int]], b: List[List[int]], target: int) -> List[List[int]]:\n",
    "        \n",
    "        # sort by the value first\n",
    "        a.sort(key= lambda x: x[1])\n",
    "        b.sort(key= lambda x: x[1])\n",
    "\n",
    "        #print(' '*8 + str(a))\n",
    "        #print('\\r\\n'.join([str(bb) for bb in b]))\n",
    "        #print('-' * 20)\n",
    "        \n",
    "        # generate 2 matix with same sequence a * b\n",
    "        idx_matrix = []\n",
    "        val_matrix = []\n",
    "        for row in b:\n",
    "            idx_matrix.append( [[col[0], row[0]] for col in a] )\n",
    "            val_matrix.append( [col[1] + row[1] for col in a] )\n",
    "        \n",
    "        #print('\\r\\n'.join([str(idx) for idx in idx_matrix]))\n",
    "        #print('-' * 20)\n",
    "        #print('\\r\\n'.join([str(val) for val in val_matrix]))\n",
    "        \n",
    "        # flat the value matrix and find the max(<=target)\n",
    "        flat = list(np.array(val_matrix).flat)\n",
    "        less_than_target = [v for v in flat if v <=target]\n",
    "        if (not less_than_target):\n",
    "            return [[]]\n",
    "        \n",
    "        target = max(less_than_target)\n",
    "        #print('target for searching : {}'.format(target))\n",
    "        \n",
    "        # call search 2D matrix\n",
    "        matches = self._findAllMatches(val_matrix, target)\n",
    "        # map the matrix postion to array index\n",
    "        #print(matches)\n",
    "        \n",
    "        res = [ idx_matrix[mat[0]][mat[1]] for mat in matches]\n",
    "        #print(res)\n",
    "        # sort the output to pass test cases\n",
    "        return sorted(res, key=lambda x:(x[0],x[1]))\n",
    "        \n",
    "    def _searchMatrix(self, matrix, target) -> List[List[int]]:\n",
    "        # return a list with matrix index [[row, col]]\n",
    "        res = []\n",
    "        row, col =0, len(matrix[0])-1\n",
    "        while (row < len(matrix) and col>=0):\n",
    "            if (matrix[row][col] == target):\n",
    "                res.append([row, col])\n",
    "            \n",
    "            if (matrix[row][col] > target):\n",
    "                col -= 1\n",
    "            else:\n",
    "                row += 1\n",
    "        \n",
    "        return res\n",
    "\n",
    "    def _findAllMatches(self, matrix, target) -> List[List[int]]:\n",
    "        # return a list with matrix index [[row, col]]\n",
    "        res = []\n",
    "        \n",
    "        for row in range(len(matrix)):\n",
    "            for col in range(len(matrix[row])):\n",
    "                if (matrix[row][col] == target):\n",
    "                    res.append([row, col])\n",
    "            \n",
    "        return res\n",
    "        "
   ]
  },
  {
   "cell_type": "code",
   "execution_count": 188,
   "metadata": {},
   "outputs": [],
   "source": [
    "a = [[1, 20], [2, 15], [3, 5]]\n",
    "b = [[1, 80], [2, 11], [3, 1]]\n",
    "target = 20        "
   ]
  },
  {
   "cell_type": "code",
   "execution_count": 204,
   "metadata": {},
   "outputs": [
    {
     "data": {
      "text/plain": [
       "[[2, 3], [3, 2]]"
      ]
     },
     "execution_count": 204,
     "metadata": {},
     "output_type": "execute_result"
    }
   ],
   "source": [
    "Solution2().getClosestPairsToTarget(a,b,target)\n"
   ]
  },
  {
   "cell_type": "code",
   "execution_count": null,
   "metadata": {},
   "outputs": [],
   "source": []
  },
  {
   "cell_type": "code",
   "execution_count": 307,
   "metadata": {},
   "outputs": [],
   "source": [
    "import unittest\n",
    "class Test(unittest.TestCase):\n",
    "    def test_get_closes_pairs_to_target(self):\n",
    "        \n",
    "        solution = Solution3()\n",
    "        \n",
    "        a = [[1, 20], [2, 15], [3, 5]]\n",
    "        b = [[1, 80], [2, 11], [3, 1]]\n",
    "        target = 17\n",
    "        self.assertEqual([[2, 3], [3, 2]], solution.getClosestPairsToTarget(a, b, target),\n",
    "                         \"Should return correct list of closes pairs to target when input is unsorted lists\")\n",
    "\n",
    "        a = [[1, 2], [2, 4], [3, 6]]\n",
    "        b = [[1, 2]]\n",
    "        target = 7\n",
    "        self.assertEqual([[2, 1]], solution.getClosestPairsToTarget(a, b, target), \"Should return correct list of closes pairs to target\")\n",
    "\n",
    "        a = [[1, 3], [2, 5], [3, 7], [4, 10]]\n",
    "        b = [[1, 2], [2, 3], [3, 4], [4, 5]]\n",
    "        target = 10\n",
    "        self.assertEqual([[2, 4], [3, 2]], solution.getClosestPairsToTarget(a, b, target),\n",
    "                         \"Should return correct list of closes pairs to target\")\n",
    "\n",
    "        a = [[1, 8], [2, 7], [3, 14]]\n",
    "        b = [[1, 5], [2, 10], [3, 14]]\n",
    "        target = 20\n",
    "        self.assertEqual([[3, 1]], solution.getClosestPairsToTarget(a, b, target),\n",
    "                         \"Should return correct list of closes pairs to target\")\n",
    "\n",
    "        a = [[1, 8], [2, 15], [3, 9]]\n",
    "        b = [[1, 8], [2, 11], [3, 12]]\n",
    "        target = 20\n",
    "        self.assertEqual([[1, 3], [3, 2]], solution.getClosestPairsToTarget(a, b, target),\n",
    "                         \"Should return correct list of closes pairs to target\")\n",
    "\n",
    "        a = [[1, -8], [2, 15], [3, -9]]\n",
    "        b = [[1, 8], [2, -11], [3, -12]]\n",
    "        target = 1\n",
    "        self.assertEqual([[1, 1]], solution.getClosestPairsToTarget(a, b, target),\n",
    "                         \"Should return correct list of closes pairs to target when inputs have negative numbers\")\n",
    "\n",
    "        a = []\n",
    "        b = [[1, 8], [2, 11], [3, 12]]\n",
    "        target = 20\n",
    "        self.assertEqual([[]], solution.getClosestPairsToTarget(a, b, target),\n",
    "                         \"Should return empty list when a is empty list\")\n",
    "\n",
    "        a = [[1, 8], [2, 15], [3, 9]]\n",
    "        b = []\n",
    "        target = 20\n",
    "        self.assertEqual([[]], solution.getClosestPairsToTarget(a, b, target),\n",
    "                         \"Should return empty list when b is empty list\")\n",
    "\n",
    "        a = []\n",
    "        b = []\n",
    "        target = 20\n",
    "        self.assertEqual([[]], solution.getClosestPairsToTarget(a, b, target),\n",
    "                         \"Should return empty list when a and b is empty list\")\n",
    "\n",
    "        a, b, target = [ [1, 5], [2, 5] ], [ [1, 5], [2, 5] ], 10\n",
    "        self.assertEqual([[1,1],[1,2],[2,1],[2,2]], solution.getClosestPairsToTarget(a, b, target),\n",
    "                         \"Should return all combination when all matches\")\n",
    "\n",
    "        a, b, target = [ [1, 4], [2, 5] ], [ [1, 6], [2, 7] ], 5\n",
    "        self.assertEqual([[]], solution.getClosestPairsToTarget(a, b, target),\n",
    "                         \"Should return empty due to all sum are larger than target\")\n",
    "\n",
    "        print('run all the test')"
   ]
  },
  {
   "cell_type": "code",
   "execution_count": 312,
   "metadata": {},
   "outputs": [
    {
     "name": "stdout",
     "output_type": "stream",
     "text": [
      "run all the test\n"
     ]
    }
   ],
   "source": [
    "Test().test_get_closes_pairs_to_target()"
   ]
  },
  {
   "cell_type": "code",
   "execution_count": 216,
   "metadata": {},
   "outputs": [],
   "source": [
    "# this one doesn't have the test case coverage due to only walk through half of the matrix\n",
    "\n",
    "def get_closes_pairs_to_target2(a, b, target):\n",
    "    \"\"\"\n",
    "    Using 2 pointers technique to run from left of a and from right of b\n",
    "    Store pairs in a dictionary, keep track closest_to_target. Return dict[closest_to_target]\n",
    "    T(n): O(m + n)\n",
    "    \"\"\"\n",
    "    if not a or not b:\n",
    "        return []\n",
    "\n",
    "    # sort by value\n",
    "    a = sorted(a, key=lambda tup: tup[1])\n",
    "    b = sorted(b, key=lambda tup: tup[1])\n",
    "\n",
    "    dict = {}\n",
    "    closest_to_target = 0\n",
    "    min = float(\"Inf\")\n",
    "    # 2 pointers:\n",
    "    # - i run from left -> right of a\n",
    "    # - j run from right -> left of b\n",
    "    i, j = 0, len(b) - 1\n",
    "\n",
    "    while i < len(a) and j >= 0:\n",
    "        sum = a[i][1] + b[j][1]\n",
    "\n",
    "        if sum <= target:\n",
    "            if sum in dict:\n",
    "                dict.get(sum).append([a[i][0], b[j][0]])\n",
    "            else:\n",
    "                dict[sum] = [[a[i][0], b[j][0]]]\n",
    "\n",
    "            i += 1\n",
    "\n",
    "            if target - sum < min:\n",
    "                min = target - sum\n",
    "                closest_to_target = sum\n",
    "        else:\n",
    "            j -= 1\n",
    "\n",
    "    # sort to satisfies test cases, we can return unsorted list\n",
    "    return sorted(dict[closest_to_target], key=lambda tup: tup[0])\n",
    "\n"
   ]
  },
  {
   "cell_type": "code",
   "execution_count": 215,
   "metadata": {},
   "outputs": [],
   "source": [
    "a, b, target = [ [1, 5], [2, 5] ], [ [1, 5], [2, 5] ], 10"
   ]
  },
  {
   "cell_type": "code",
   "execution_count": 217,
   "metadata": {},
   "outputs": [
    {
     "data": {
      "text/plain": [
       "[[1, 2], [2, 2]]"
      ]
     },
     "execution_count": 217,
     "metadata": {},
     "output_type": "execute_result"
    }
   ],
   "source": [
    "get_closes_pairs_to_target2(a,b,target)"
   ]
  },
  {
   "cell_type": "code",
   "execution_count": null,
   "metadata": {},
   "outputs": [],
   "source": []
  }
 ],
 "metadata": {
  "kernelspec": {
   "display_name": "Python 3",
   "language": "python",
   "name": "python3"
  },
  "language_info": {
   "codemirror_mode": {
    "name": "ipython",
    "version": 3
   },
   "file_extension": ".py",
   "mimetype": "text/x-python",
   "name": "python",
   "nbconvert_exporter": "python",
   "pygments_lexer": "ipython3",
   "version": "3.7.6"
  }
 },
 "nbformat": 4,
 "nbformat_minor": 2
}
