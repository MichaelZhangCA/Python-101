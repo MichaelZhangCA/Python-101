{
 "cells": [
  {
   "cell_type": "raw",
   "metadata": {},
   "source": [
    "Given an int array nums and an int target, find how many unique pairs in the array such that their sum is equal to target. Return the number of pairs.\n",
    "\n",
    "Example 1:\n",
    "\n",
    "Input: nums = [1, 1, 2, 45, 46, 46], target = 47\n",
    "Output: 2\n",
    "Explanation:\n",
    "1 + 46 = 47\n",
    "2 + 45 = 47\n",
    "Example 2:\n",
    "\n",
    "Input: nums = [1, 1], target = 2\n",
    "Output: 1\n",
    "Explanation:\n",
    "1 + 1 = 2\n",
    "Example 3:\n",
    "\n",
    "Input: nums = [1, 5, 1, 5], target = 6\n",
    "Output: 1\n",
    "Explanation:\n",
    "[1, 5] and [5, 1] are considered the same.\n"
   ]
  },
  {
   "cell_type": "code",
   "execution_count": 7,
   "metadata": {},
   "outputs": [],
   "source": [
    "class Solution():\n",
    "    def uniqueTwoSum(self, nums, target):\n",
    "        ans, comp = set(), set()\n",
    "        for n in nums:\n",
    "            c = target-n\n",
    "            if c in comp:\n",
    "                res = (n, c) if n > c else (c, n)\n",
    "                #if res not in ans:\n",
    "                ans.add(res)\n",
    "            comp.add(n)\n",
    "        return len(ans)\n"
   ]
  },
  {
   "cell_type": "code",
   "execution_count": 8,
   "metadata": {},
   "outputs": [],
   "source": [
    "nums = [1, 1, 2, 45, 46, 46]\n",
    "target = 47"
   ]
  },
  {
   "cell_type": "code",
   "execution_count": 9,
   "metadata": {},
   "outputs": [
    {
     "data": {
      "text/plain": [
       "2"
      ]
     },
     "execution_count": 9,
     "metadata": {},
     "output_type": "execute_result"
    }
   ],
   "source": [
    "Solution().uniqueTwoSum(nums, target)"
   ]
  },
  {
   "cell_type": "code",
   "execution_count": null,
   "metadata": {},
   "outputs": [],
   "source": []
  }
 ],
 "metadata": {
  "kernelspec": {
   "display_name": "Python 3",
   "language": "python",
   "name": "python3"
  },
  "language_info": {
   "codemirror_mode": {
    "name": "ipython",
    "version": 3
   },
   "file_extension": ".py",
   "mimetype": "text/x-python",
   "name": "python",
   "nbconvert_exporter": "python",
   "pygments_lexer": "ipython3",
   "version": "3.7.6"
  }
 },
 "nbformat": 4,
 "nbformat_minor": 2
}
