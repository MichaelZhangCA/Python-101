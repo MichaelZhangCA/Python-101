{
 "cells": [
  {
   "cell_type": "raw",
   "metadata": {},
   "source": [
    "en n pairs of parentheses, write a function to generate all combinations of well-formed parentheses.\n",
    "\n",
    "For example, given n = 3, a solution set is:\n",
    "\n",
    "[\n",
    "  \"((()))\",\n",
    "  \"(()())\",\n",
    "  \"(())()\",\n",
    "  \"()(())\",\n",
    "  \"()()()\"\n",
    "]"
   ]
  },
  {
   "cell_type": "code",
   "execution_count": 72,
   "metadata": {},
   "outputs": [],
   "source": [
    "# this is a backtracking version\n",
    "# add (( until it's not valid, then pop the last one\n",
    "# add )) until it's not valid, then pop the last one try again\n",
    "\n",
    "class Solution2(object):\n",
    "    def generateParenthesis(self, n):\n",
    "        def generate(A = []):\n",
    "            if len(A) == 2*n:\n",
    "                if valid(A):\n",
    "                    ans.append(\"\".join(A))\n",
    "            else:\n",
    "                A.append('(')\n",
    "                generate(A)\n",
    "                print(A)\n",
    "                A.pop()\n",
    "                print(A)\n",
    "\n",
    "                A.append(')')\n",
    "                generate(A)\n",
    "                print(A)\n",
    "                A.pop()\n",
    "                print(A)\n",
    "                print('--')\n",
    "                \n",
    "        def valid(A):\n",
    "            bal = 0\n",
    "            for c in A:\n",
    "                if c == '(': bal += 1\n",
    "                else: bal -= 1\n",
    "                if bal < 0: return False\n",
    "            return bal == 0\n",
    "\n",
    "        ans = []\n",
    "        generate()\n",
    "        return ans"
   ]
  },
  {
   "cell_type": "code",
   "execution_count": 73,
   "metadata": {},
   "outputs": [],
   "source": [
    "# use recursive function to generate all combinations"
   ]
  },
  {
   "cell_type": "code",
   "execution_count": 62,
   "metadata": {},
   "outputs": [],
   "source": [
    "class s():\n",
    "    def generateParentheses(self, n):\n",
    "\n",
    "        if (n<=0):\n",
    "            return ''\n",
    "\n",
    "        dic = dict()\n",
    "        lst = self._generateParentheses(n,dic)\n",
    "        return list(set(lst))\n",
    "\n",
    "    def _generateParentheses(self, n,dic):\n",
    "\n",
    "        if (n==1):\n",
    "            return ['()']\n",
    "\n",
    "        if (n in dic):\n",
    "            return dic[n]\n",
    "\n",
    "        lst = []\n",
    "\n",
    "        for i in range(1,n):\n",
    "            lpart = self._generateParentheses(i, dic)\n",
    "            rpart = self._generateParentheses(n-i, dic)\n",
    "            \n",
    "            lst += [ l+r for l in lpart for r in rpart]\n",
    "\n",
    "        # include scenario\n",
    "        lst += [ '(' + p + ')' for p in self._generateParentheses(n-1, dic)]\n",
    "            \n",
    "        dic[n] = lst\n",
    "        return lst\n",
    "\n"
   ]
  },
  {
   "cell_type": "code",
   "execution_count": 66,
   "metadata": {},
   "outputs": [
    {
     "data": {
      "text/plain": [
       "14"
      ]
     },
     "execution_count": 66,
     "metadata": {},
     "output_type": "execute_result"
    }
   ],
   "source": [
    "len(s().generateParentheses(4))"
   ]
  },
  {
   "cell_type": "code",
   "execution_count": 67,
   "metadata": {},
   "outputs": [],
   "source": [
    "my = [\"(()(()))\",\"()((()))\",\"(())()()\",\"((())())\",\"(((())))\",\"(()())()\",\"()()()()\",\"()(()())\",\"((()()))\",\"((()))()\",\"()()(())\",\"(()()())\",\"()(())()\"]\n",
    "ex = [\"(((())))\",\"((()()))\",\"((())())\",\"((()))()\",\"(()(()))\",\"(()()())\",\"(()())()\",\"(())(())\",\"(())()()\",\"()((()))\",\"()(()())\",\"()(())()\",\"()()(())\",\"()()()()\"]"
   ]
  },
  {
   "cell_type": "code",
   "execution_count": null,
   "metadata": {},
   "outputs": [],
   "source": []
  }
 ],
 "metadata": {
  "kernelspec": {
   "display_name": "Python 3",
   "language": "python",
   "name": "python3"
  },
  "language_info": {
   "codemirror_mode": {
    "name": "ipython",
    "version": 3
   },
   "file_extension": ".py",
   "mimetype": "text/x-python",
   "name": "python",
   "nbconvert_exporter": "python",
   "pygments_lexer": "ipython3",
   "version": "3.7.6"
  }
 },
 "nbformat": 4,
 "nbformat_minor": 2
}
