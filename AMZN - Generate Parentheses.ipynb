{
 "cells": [
  {
   "cell_type": "raw",
   "metadata": {},
   "source": [
    "en n pairs of parentheses, write a function to generate all combinations of well-formed parentheses.\n",
    "\n",
    "For example, given n = 3, a solution set is:\n",
    "\n",
    "[\n",
    "  \"((()))\",\n",
    "  \"(()())\",\n",
    "  \"(())()\",\n",
    "  \"()(())\",\n",
    "  \"()()()\"\n",
    "]"
   ]
  },
  {
   "cell_type": "code",
   "execution_count": 54,
   "metadata": {},
   "outputs": [],
   "source": [
    "class Solution2(object):\n",
    "    def generateParenthesis(self, n):\n",
    "        def generate(A = []):\n",
    "            if len(A) == 2*n:\n",
    "                if valid(A):\n",
    "                    ans.append(\"\".join(A))\n",
    "            else:\n",
    "                A.append('(')\n",
    "                generate(A)\n",
    "                print(A)\n",
    "                A.pop()\n",
    "                print(A)\n",
    "\n",
    "                A.append(')')\n",
    "                generate(A)\n",
    "                print(A)\n",
    "                A.pop()\n",
    "                print(A)\n",
    "                print('--')\n",
    "                \n",
    "        def valid(A):\n",
    "            bal = 0\n",
    "            for c in A:\n",
    "                if c == '(': bal += 1\n",
    "                else: bal -= 1\n",
    "                if bal < 0: return False\n",
    "            return bal == 0\n",
    "\n",
    "        ans = []\n",
    "        generate()\n",
    "        return ans"
   ]
  },
  {
   "cell_type": "code",
   "execution_count": 55,
   "metadata": {},
   "outputs": [
    {
     "name": "stdout",
     "output_type": "stream",
     "text": [
      "['(', '(', '(', '(']\n",
      "['(', '(', '(']\n",
      "['(', '(', '(', ')']\n",
      "['(', '(', '(']\n",
      "--\n",
      "['(', '(', '(']\n",
      "['(', '(']\n",
      "['(', '(', ')', '(']\n",
      "['(', '(', ')']\n",
      "['(', '(', ')', ')']\n",
      "['(', '(', ')']\n",
      "--\n",
      "['(', '(', ')']\n",
      "['(', '(']\n",
      "--\n",
      "['(', '(']\n",
      "['(']\n",
      "['(', ')', '(', '(']\n",
      "['(', ')', '(']\n",
      "['(', ')', '(', ')']\n",
      "['(', ')', '(']\n",
      "--\n",
      "['(', ')', '(']\n",
      "['(', ')']\n",
      "['(', ')', ')', '(']\n",
      "['(', ')', ')']\n",
      "['(', ')', ')', ')']\n",
      "['(', ')', ')']\n",
      "--\n",
      "['(', ')', ')']\n",
      "['(', ')']\n",
      "--\n",
      "['(', ')']\n",
      "['(']\n",
      "--\n",
      "['(']\n",
      "[]\n",
      "[')', '(', '(', '(']\n",
      "[')', '(', '(']\n",
      "[')', '(', '(', ')']\n",
      "[')', '(', '(']\n",
      "--\n",
      "[')', '(', '(']\n",
      "[')', '(']\n",
      "[')', '(', ')', '(']\n",
      "[')', '(', ')']\n",
      "[')', '(', ')', ')']\n",
      "[')', '(', ')']\n",
      "--\n",
      "[')', '(', ')']\n",
      "[')', '(']\n",
      "--\n",
      "[')', '(']\n",
      "[')']\n",
      "[')', ')', '(', '(']\n",
      "[')', ')', '(']\n",
      "[')', ')', '(', ')']\n",
      "[')', ')', '(']\n",
      "--\n",
      "[')', ')', '(']\n",
      "[')', ')']\n",
      "[')', ')', ')', '(']\n",
      "[')', ')', ')']\n",
      "[')', ')', ')', ')']\n",
      "[')', ')', ')']\n",
      "--\n",
      "[')', ')', ')']\n",
      "[')', ')']\n",
      "--\n",
      "[')', ')']\n",
      "[')']\n",
      "--\n",
      "[')']\n",
      "[]\n",
      "--\n"
     ]
    },
    {
     "data": {
      "text/plain": [
       "['(())', '()()']"
      ]
     },
     "execution_count": 55,
     "metadata": {},
     "output_type": "execute_result"
    }
   ],
   "source": [
    "Solution2().generateParenthesis(2)"
   ]
  },
  {
   "cell_type": "code",
   "execution_count": 1,
   "metadata": {},
   "outputs": [],
   "source": [
    "# use recursive function to generate all combinations"
   ]
  },
  {
   "cell_type": "code",
   "execution_count": 42,
   "metadata": {},
   "outputs": [],
   "source": [
    "from typing import List\n",
    "class Solution:\n",
    "    def generateParenthesis(self, n: int) -> List[str]:\n",
    "        res = []\n",
    "        self._recursive(res, n)\n",
    "        \n",
    "        return list(set(res))\n",
    "\n",
    "    def _recursive(self, res, n):\n",
    "        \n",
    "        if (n==1):\n",
    "            res = ['()']\n",
    "        \n",
    "        if (n==0):\n",
    "            res = ['']\n",
    "        \n",
    "        else:\n",
    "            for i in range(1,n):\n",
    "                lpart = self._recursive(res, i)\n",
    "                rpart = self._recursive(res, n-i)\n",
    "\n",
    "                cmb = [l+r for l in lpart for r in rpart ]\n",
    "\n",
    "                print(cmb)\n",
    "\n",
    "                inc = ['(' * i + r + ')' * i for r in rpart]\n",
    "                print(inc)\n",
    "\n",
    "                res += cmb\n",
    "                res += inc\n",
    "        \n",
    "        return res\n"
   ]
  },
  {
   "cell_type": "code",
   "execution_count": 43,
   "metadata": {},
   "outputs": [
    {
     "name": "stdout",
     "output_type": "stream",
     "text": [
      "['()()']\n",
      "['(())']\n",
      "['()()()', '()(())']\n",
      "['(()())', '((()))']\n",
      "['()()']\n",
      "['(())']\n",
      "['()()()', '(())()', '()()()()', '()(())()', '(()())()', '((()))()', '()()()', '(())()']\n",
      "['((()))']\n"
     ]
    },
    {
     "data": {
      "text/plain": [
       "['()()',\n",
       " '(())',\n",
       " '()()()',\n",
       " '()(())',\n",
       " '(()())',\n",
       " '((()))',\n",
       " '()()',\n",
       " '(())',\n",
       " '()()()',\n",
       " '(())()',\n",
       " '()()()()',\n",
       " '()(())()',\n",
       " '(()())()',\n",
       " '((()))()',\n",
       " '()()()',\n",
       " '(())()',\n",
       " '((()))']"
      ]
     },
     "execution_count": 43,
     "metadata": {},
     "output_type": "execute_result"
    }
   ],
   "source": [
    "#Solution().generateParenthesis(3)\n",
    "res=[]\n",
    "Solution()._recursive(res, 3)"
   ]
  },
  {
   "cell_type": "code",
   "execution_count": null,
   "metadata": {},
   "outputs": [],
   "source": []
  }
 ],
 "metadata": {
  "kernelspec": {
   "display_name": "Python 3",
   "language": "python",
   "name": "python3"
  },
  "language_info": {
   "codemirror_mode": {
    "name": "ipython",
    "version": 3
   },
   "file_extension": ".py",
   "mimetype": "text/x-python",
   "name": "python",
   "nbconvert_exporter": "python",
   "pygments_lexer": "ipython3",
   "version": "3.7.6"
  }
 },
 "nbformat": 4,
 "nbformat_minor": 2
}
