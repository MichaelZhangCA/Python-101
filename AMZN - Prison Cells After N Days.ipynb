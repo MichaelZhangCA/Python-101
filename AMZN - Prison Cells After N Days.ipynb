{
 "cells": [
  {
   "cell_type": "raw",
   "metadata": {},
   "source": [
    "There are 8 prison cells in a row, and each cell is either occupied or vacant.\n",
    "\n",
    "Each day, whether the cell is occupied or vacant changes according to the following rules:\n",
    "\n",
    "If a cell has two adjacent neighbors that are both occupied or both vacant, then the cell becomes occupied.\n",
    "Otherwise, it becomes vacant.\n",
    "(Note that because the prison is a row, the first and the last cells in the row can't have two adjacent neighbors.)\n",
    "\n",
    "We describe the current state of the prison in the following way: cells[i] == 1 if the i-th cell is occupied, else cells[i] == 0.\n",
    "\n",
    "Given the initial state of the prison, return the state of the prison after N days (and N such changes described above.)\n",
    "\n",
    " \n",
    "\n",
    "Example 1:\n",
    "\n",
    "Input: cells = [0,1,0,1,1,0,0,1], N = 7\n",
    "Output: [0,0,1,1,0,0,0,0]\n",
    "Explanation: \n",
    "The following table summarizes the state of the prison on each day:\n",
    "Day 0: [0, 1, 0, 1, 1, 0, 0, 1]\n",
    "Day 1: [0, 1, 1, 0, 0, 0, 0, 0]\n",
    "Day 2: [0, 0, 0, 0, 1, 1, 1, 0]\n",
    "Day 3: [0, 1, 1, 0, 0, 1, 0, 0]\n",
    "Day 4: [0, 0, 0, 0, 0, 1, 0, 0]\n",
    "Day 5: [0, 1, 1, 1, 0, 1, 0, 0]\n",
    "Day 6: [0, 0, 1, 0, 1, 1, 0, 0]\n",
    "Day 7: [0, 0, 1, 1, 0, 0, 0, 0]\n",
    "\n",
    "Example 2:\n",
    "\n",
    "Input: cells = [1,0,0,1,0,0,1,0], N = 1000000000\n",
    "Output: [0,0,1,1,1,1,1,0]\n"
   ]
  },
  {
   "cell_type": "code",
   "execution_count": 5,
   "metadata": {},
   "outputs": [],
   "source": [
    "# make a switch function from the logic\n",
    "# swith for each day\n",
    "# log all the new combination until find the first repeat\n",
    "# the pattern will repeat from there\n",
    "# get the rest by %pattern length\n",
    "# continue finish the switch (or directly grab from the pattern list)"
   ]
  },
  {
   "cell_type": "code",
   "execution_count": 6,
   "metadata": {},
   "outputs": [],
   "source": [
    "from typing import List\n",
    "import numpy as np\n",
    "class Solution:\n",
    "    def prisonAfterNDays(self, cells: List[int], N: int) -> List[int]:\n",
    "\n",
    "        # define a history list to get the pattern\n",
    "        seen = {}\n",
    "                \n",
    "        for i in range(0, N):\n",
    "            print('Day {} : {}'.format(i, cells))\n",
    "\n",
    "            # do the switch\n",
    "            cells = self._switchCell(cells)\n",
    "\n",
    "            # add the result to a dict, once repeated, will be able to run % to shorten the process\n",
    "            c = tuple(cells)\n",
    "            if (c not in seen):\n",
    "                seen[c] = N\n",
    "            else:\n",
    "                # if find the pattern, only need roll the rest within the pattern\n",
    "                leftover = (N-i-1) % len(seen)\n",
    "\n",
    "                print(\"seen pattern:\\r\\n{}\".format('\\r\\n'.join([str(list(item)) for item in seen])))\n",
    "                print('pattern length: {}'.format(len(seen)))\n",
    "                print('dup array found: {}'.format(cells))\n",
    "                print('left count: {}'.format(N-i))       \n",
    "                print('leftover: {}'.format(leftover))\n",
    "                \n",
    "                for j in range(leftover):\n",
    "                    cells = self._switchCell(cells)\n",
    "                \n",
    "                return cells\n",
    "\n",
    "        # in the case of N is less than the pattern length\n",
    "        return cells\n",
    "    \n",
    "    def _switchCell(self, cells):\n",
    "        return [0] + [ 1 if cells[i-1]==cells[i+1] else 0 for i in range(1,len(cells)-1)] + [0]\n"
   ]
  },
  {
   "cell_type": "code",
   "execution_count": 202,
   "metadata": {},
   "outputs": [],
   "source": [
    "cells = [1,0,0,1,0,0,1,0]\n",
    "N = 1000000000"
   ]
  },
  {
   "cell_type": "code",
   "execution_count": 203,
   "metadata": {},
   "outputs": [
    {
     "name": "stdout",
     "output_type": "stream",
     "text": [
      "Day 0 : [1, 0, 0, 1, 0, 0, 1, 0]\n",
      "Day 1 : [0, 0, 0, 1, 0, 0, 1, 0]\n",
      "Day 2 : [0, 1, 0, 1, 0, 0, 1, 0]\n",
      "Day 3 : [0, 1, 1, 1, 0, 0, 1, 0]\n",
      "Day 4 : [0, 0, 1, 0, 0, 0, 1, 0]\n",
      "Day 5 : [0, 0, 1, 0, 1, 0, 1, 0]\n",
      "Day 6 : [0, 0, 1, 1, 1, 1, 1, 0]\n",
      "Day 7 : [0, 0, 0, 1, 1, 1, 0, 0]\n",
      "Day 8 : [0, 1, 0, 0, 1, 0, 0, 0]\n",
      "Day 9 : [0, 1, 0, 0, 1, 0, 1, 0]\n",
      "Day 10 : [0, 1, 0, 0, 1, 1, 1, 0]\n",
      "Day 11 : [0, 1, 0, 0, 0, 1, 0, 0]\n",
      "Day 12 : [0, 1, 0, 1, 0, 1, 0, 0]\n",
      "Day 13 : [0, 1, 1, 1, 1, 1, 0, 0]\n",
      "Day 14 : [0, 0, 1, 1, 1, 0, 0, 0]\n",
      "seen pattern:\r\n",
      "[0, 0, 0, 1, 0, 0, 1, 0]\r\n",
      "[0, 1, 0, 1, 0, 0, 1, 0]\r\n",
      "[0, 1, 1, 1, 0, 0, 1, 0]\r\n",
      "[0, 0, 1, 0, 0, 0, 1, 0]\r\n",
      "[0, 0, 1, 0, 1, 0, 1, 0]\r\n",
      "[0, 0, 1, 1, 1, 1, 1, 0]\r\n",
      "[0, 0, 0, 1, 1, 1, 0, 0]\r\n",
      "[0, 1, 0, 0, 1, 0, 0, 0]\r\n",
      "[0, 1, 0, 0, 1, 0, 1, 0]\r\n",
      "[0, 1, 0, 0, 1, 1, 1, 0]\r\n",
      "[0, 1, 0, 0, 0, 1, 0, 0]\r\n",
      "[0, 1, 0, 1, 0, 1, 0, 0]\r\n",
      "[0, 1, 1, 1, 1, 1, 0, 0]\r\n",
      "[0, 0, 1, 1, 1, 0, 0, 0]\n",
      "pattern length: 14\n",
      "dup array found: [0, 0, 0, 1, 0, 0, 1, 0]\n",
      "left count: 999999986\n",
      "leftover: 5\n"
     ]
    },
    {
     "data": {
      "text/plain": [
       "[0, 0, 1, 1, 1, 1, 1, 0]"
      ]
     },
     "execution_count": 203,
     "metadata": {},
     "output_type": "execute_result"
    }
   ],
   "source": [
    "Solution().prisonAfterNDays(cells, N)"
   ]
  },
  {
   "cell_type": "code",
   "execution_count": null,
   "metadata": {},
   "outputs": [],
   "source": []
  }
 ],
 "metadata": {
  "kernelspec": {
   "display_name": "Python 3",
   "language": "python",
   "name": "python3"
  },
  "language_info": {
   "codemirror_mode": {
    "name": "ipython",
    "version": 3
   },
   "file_extension": ".py",
   "mimetype": "text/x-python",
   "name": "python",
   "nbconvert_exporter": "python",
   "pygments_lexer": "ipython3",
   "version": "3.7.6"
  }
 },
 "nbformat": 4,
 "nbformat_minor": 2
}
