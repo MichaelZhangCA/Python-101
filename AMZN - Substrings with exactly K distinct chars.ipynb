{
 "cells": [
  {
   "cell_type": "raw",
   "metadata": {},
   "source": [
    "Given a string s and an int k, return an int representing the number of substrings (not unique) of s with exactly k distinct characters. If the given string doesn't have k distinct characters, return 0.\n",
    "https://leetcode.com/problems/subarrays-with-k-different-integers\n",
    "\n",
    "Example 1:\n",
    "\n",
    "Input: s = \"pqpqs\", k = 2\n",
    "Output: 7\n",
    "Explanation: [\"pq\", \"pqp\", \"pqpq\", \"qp\", \"qpq\", \"pq\", \"qs\"]\n",
    "\n",
    "Example 2:\n",
    "\n",
    "Input: s = \"aabab\", k = 3\n",
    "Output: 0\n",
    "Constraints:\n",
    "\n",
    "The input string consists of only lowercase English letters [a-z]\n",
    "0 ≤ k ≤ 26\n"
   ]
  },
  {
   "cell_type": "code",
   "execution_count": null,
   "metadata": {},
   "outputs": [],
   "source": [
    "# use a "
   ]
  },
  {
   "cell_type": "code",
   "execution_count": 12,
   "metadata": {},
   "outputs": [
    {
     "name": "stdout",
     "output_type": "stream",
     "text": [
      "defaultdict(<class 'int'>, {'p': 1, 'q': 1})\n",
      "defaultdict(<class 'int'>, {'q': 1, 's': 1})\n",
      "4\n"
     ]
    }
   ],
   "source": [
    "import collections\n",
    "def subStringsWithKDistinctCharacters(s, k):\n",
    "    \n",
    "    s = list(s)\n",
    "    count = 0\n",
    "    right, left = 0, 0\n",
    "    hmap = collections.defaultdict(int)\n",
    "    for x in s:\n",
    "        hmap[x] += 1\n",
    "        \n",
    "        # add unique char from the string into hmp until has exactly k items\n",
    "        if len(hmap) < k:\n",
    "            continue\n",
    "        \n",
    "        # when the K+1 uniqe letter added, remove the first (QUEUE) to keep k items in the dict\n",
    "        if len(hmap) > k:\n",
    "            del hmap[s[right]]\n",
    "            right += 1\n",
    "            left = right\n",
    "\n",
    "        # count how many time the \"right\" position letter counted (represent the unique substring)\n",
    "        while hmap[s[right]] > 1:\n",
    "            hmap[s[right]] -= 1\n",
    "            right +=1\n",
    "        count += right-left+1\n",
    "        \n",
    "        print(hmap)\n",
    "    return count\n",
    "\n",
    "print(subStringsWithKDistinctCharacters('pppqs', 2))\n"
   ]
  },
  {
   "cell_type": "code",
   "execution_count": 9,
   "metadata": {},
   "outputs": [],
   "source": [
    "s = list('abcd')"
   ]
  },
  {
   "cell_type": "code",
   "execution_count": 13,
   "metadata": {},
   "outputs": [
    {
     "name": "stdout",
     "output_type": "stream",
     "text": [
      "defaultdict(<class 'int'>, {'a': 1, 'b': 1, 'c': 1})\n",
      "defaultdict(<class 'int'>, {'a': 1, 'b': 1, 'c': 1})\n",
      "3\n"
     ]
    }
   ],
   "source": [
    "print(subStringsWithKDistinctCharacters('abca', 3))"
   ]
  },
  {
   "cell_type": "code",
   "execution_count": 10,
   "metadata": {},
   "outputs": [
    {
     "data": {
      "text/plain": [
       "'a'"
      ]
     },
     "execution_count": 10,
     "metadata": {},
     "output_type": "execute_result"
    }
   ],
   "source": [
    "s[0]"
   ]
  },
  {
   "cell_type": "code",
   "execution_count": null,
   "metadata": {},
   "outputs": [],
   "source": []
  }
 ],
 "metadata": {
  "kernelspec": {
   "display_name": "Python 3",
   "language": "python",
   "name": "python3"
  },
  "language_info": {
   "codemirror_mode": {
    "name": "ipython",
    "version": 3
   },
   "file_extension": ".py",
   "mimetype": "text/x-python",
   "name": "python",
   "nbconvert_exporter": "python",
   "pygments_lexer": "ipython3",
   "version": "3.7.6"
  }
 },
 "nbformat": 4,
 "nbformat_minor": 2
}
