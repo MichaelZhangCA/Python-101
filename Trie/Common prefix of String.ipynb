{
 "cells": [
  {
   "cell_type": "code",
   "execution_count": 1,
   "metadata": {},
   "outputs": [],
   "source": [
    "# given a string array, find the common prefix, return \"\" if there is none\n",
    "\n",
    "# use Trie to build the structure of the words\n",
    "# then find the longest common prefix\n",
    "# it's gaurentted O(N)\n",
    "# and 97% faster and space smalle than 100%!!!!"
   ]
  },
  {
   "cell_type": "code",
   "execution_count": 142,
   "metadata": {},
   "outputs": [],
   "source": [
    "# make a Trie\n",
    "class TrieNode():\n",
    "    def __init__(self):\n",
    "        self.children = {}\n",
    "        self.ending = False\n",
    "    \n",
    "class Trie():\n",
    "    \n",
    "    def __init__(self):\n",
    "        self.root = TrieNode()\n",
    "        \n",
    "    def addWord(self, word):\n",
    "        \n",
    "        cur = self.root\n",
    "        for c in word:\n",
    "            if (c not in cur.children):\n",
    "                cur.children[c] = TrieNode()\n",
    "            cur = cur.children[c]\n",
    "        \n",
    "        cur.ending = True\n",
    "        \n",
    "    def _iterateChildren(self, node, word):\n",
    "        \n",
    "        res = []\n",
    "        # check node self, then goto next level\n",
    "        if (node.ending):\n",
    "            res.append(word)\n",
    "            \n",
    "        if (node.children):\n",
    "            for c, v in node.children.items():\n",
    "                res += self._iterateChildren(v, word +c)\n",
    "    \n",
    "        return res\n",
    "    \n",
    "    def search(self, word):\n",
    "        \n",
    "        res = []\n",
    "        cur = self.root\n",
    "        for c in word:\n",
    "            \n",
    "            if (c not in cur.children):\n",
    "                return []\n",
    "            cur = cur.children[c]\n",
    "        \n",
    "        if (cur.ending):\n",
    "            res.append(word)\n",
    "            \n",
    "        # continue the rest of children\n",
    "        if (cur.children):\n",
    "            for c, n in cur.children.items():\n",
    "                res += self._iterateChildren(n, word+c)\n",
    "                \n",
    "        return res\n",
    "    \n",
    "    def _countChildren(self, node):\n",
    "        \n",
    "        cnt = 0\n",
    "        for c, v in node.children.items():\n",
    "            if (v.ending):\n",
    "                cnt += 1\n",
    "            \n",
    "            cnt += self._countChildren(v)\n",
    "            \n",
    "        return cnt\n",
    "    \n",
    "    def searchCount(self, word):\n",
    "        \n",
    "        cnt = 0\n",
    "        cur = self.root\n",
    "        \n",
    "        # find the ending of word first\n",
    "        for c in word:\n",
    "            if (c not in cur.children):\n",
    "                return 0\n",
    "            \n",
    "            cur = cur.children[c]\n",
    "            \n",
    "        # get to the ending of word, check if is the end of node\n",
    "        if (cur.ending):\n",
    "            cnt += 1\n",
    "            \n",
    "        # check all children\n",
    "        cnt += self._countChildren(cur)\n",
    "        \n",
    "        return cnt\n",
    "    \n",
    "    def commonPrefix(self):\n",
    "        # go untile a node has multiple children\n",
    "        cur = self.root\n",
    "        res = ''\n",
    "        \n",
    "        while (len(cur.children)==1 and not cur.ending):\n",
    "            nxt = list(cur.children.items())[0]\n",
    "            res += nxt[0]\n",
    "            \n",
    "            cur = nxt[1]\n",
    "            \n",
    "        return res"
   ]
  },
  {
   "cell_type": "code",
   "execution_count": 143,
   "metadata": {},
   "outputs": [
    {
     "data": {
      "text/plain": [
       "tuple"
      ]
     },
     "execution_count": 143,
     "metadata": {},
     "output_type": "execute_result"
    }
   ],
   "source": [
    "d = {'d': TrieNode()}\n",
    "type(list(d.items())[0])"
   ]
  },
  {
   "cell_type": "code",
   "execution_count": 144,
   "metadata": {},
   "outputs": [],
   "source": [
    "trie = Trie()"
   ]
  },
  {
   "cell_type": "code",
   "execution_count": 145,
   "metadata": {},
   "outputs": [],
   "source": [
    "trie.addWord('flight')\n",
    "trie.addWord('fly')\n",
    "trie.addWord('flower')\n",
    "trie.addWord('flowout')"
   ]
  },
  {
   "cell_type": "code",
   "execution_count": 146,
   "metadata": {},
   "outputs": [
    {
     "name": "stdout",
     "output_type": "stream",
     "text": [
      "('f', <__main__.TrieNode object at 0x00000178CFDA8308>)\n",
      "('l', <__main__.TrieNode object at 0x00000178CFDA87C8>)\n"
     ]
    },
    {
     "data": {
      "text/plain": [
       "'fl'"
      ]
     },
     "execution_count": 146,
     "metadata": {},
     "output_type": "execute_result"
    }
   ],
   "source": [
    "trie.search('flowt')\n",
    "trie.searchCount('f')\n",
    "trie.commonPrefix()"
   ]
  },
  {
   "cell_type": "code",
   "execution_count": 102,
   "metadata": {},
   "outputs": [],
   "source": [
    "class Solution():\n",
    "    \n",
    "    def longestCommonPrefix(self, words):\n",
    "        \n",
    "        if (not words):\n",
    "            return \"\"\n",
    "        \n",
    "        if (not all(words)):\n",
    "            return \"\"\n",
    "        \n",
    "        trie = Trie()\n",
    "        # change the word to set to eliminate duplications, Trie will ignore duplicated words\n",
    "        wordset = set(words)\n",
    "        for word in wordset:\n",
    "            if (word):\n",
    "                trie.addWord(word)\n",
    "\n",
    "        # get the common prefix from the tries directly\n",
    "        res = trie.commonPrefix()\n",
    "        '''\n",
    "        # pick any of the word from the list, check tire from the first letter\n",
    "        word = words[0]\n",
    "        res = \"\"\n",
    "        for i in range(len(word)):\n",
    "            #matches = trie.search(word[0:i+1])\n",
    "            #if (len(matches) == len(wordset)):\n",
    "            #    res += word[i]\n",
    "\n",
    "            matchCount = trie.searchCount(word[:i+1])\n",
    "            if (matchCount == len(wordset)):\n",
    "                res += word[i]\n",
    "        '''        \n",
    "        return res\n"
   ]
  },
  {
   "cell_type": "code",
   "execution_count": 103,
   "metadata": {},
   "outputs": [],
   "source": [
    "strs = [\"fliwer\",\"fliw\",\"flight\", \"flighter\"]\n",
    "#strs = ['a', 'a']"
   ]
  },
  {
   "cell_type": "code",
   "execution_count": 104,
   "metadata": {},
   "outputs": [
    {
     "data": {
      "text/plain": [
       "'fli'"
      ]
     },
     "execution_count": 104,
     "metadata": {},
     "output_type": "execute_result"
    }
   ],
   "source": [
    "Solution().longestCommonPrefix(strs)"
   ]
  },
  {
   "cell_type": "code",
   "execution_count": null,
   "metadata": {},
   "outputs": [],
   "source": [
    "# a quick solution by using defaultdict\n",
    "# try each time use more letter to create defaultdict\n",
    "# if any time create more than one dict items, which means the prefix is not the same\n",
    "# faster than 88% and space less than 100%"
   ]
  },
  {
   "cell_type": "code",
   "execution_count": null,
   "metadata": {},
   "outputs": [],
   "source": [
    "from collections import defaultdict\n",
    "\n",
    "class Solution():\n",
    "    def longestCommonPrefix(self, words):\n",
    "        \n",
    "        if (not words):\n",
    "            return \"\"\n",
    "        \n",
    "        if (not any(words)):\n",
    "            return \"\"\n",
    "        \n",
    "        # cleanse the duplications\n",
    "        wordset = set(words)\n",
    "        \n",
    "        res = \"\"\n",
    "        # pick any of the word as the sample, it will only loop to the shortest one anyway\n",
    "        sample = words[0]\n",
    "        for i in range(0, len(sample)):\n",
    "            wdict = defaultdict(list)\n",
    "            for word in wordset:\n",
    "                # if reach end of any word\n",
    "                if (i==len(word)):\n",
    "                    return res\n",
    "                \n",
    "                # add the letter dict item\n",
    "                wdict[word[:i+1]].append(word)\n",
    "\n",
    "            # check if there is more than i dict items\n",
    "            if (len(wdict) == 1):\n",
    "                res += sample[i]\n",
    "            \n",
    "        return res"
   ]
  }
 ],
 "metadata": {
  "kernelspec": {
   "display_name": "Python 3",
   "language": "python",
   "name": "python3"
  },
  "language_info": {
   "codemirror_mode": {
    "name": "ipython",
    "version": 3
   },
   "file_extension": ".py",
   "mimetype": "text/x-python",
   "name": "python",
   "nbconvert_exporter": "python",
   "pygments_lexer": "ipython3",
   "version": "3.7.6"
  }
 },
 "nbformat": 4,
 "nbformat_minor": 2
}
