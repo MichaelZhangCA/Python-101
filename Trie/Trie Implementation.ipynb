{
 "cells": [
  {
   "cell_type": "code",
   "execution_count": 14,
   "metadata": {},
   "outputs": [],
   "source": [
    "class TrieNode():\n",
    "    \n",
    "    def __init__(self):\n",
    "        self.children = {}\n",
    "        self.end = False\n",
    "        \n",
    "        \n",
    "class Trie:\n",
    "    \n",
    "    def __init__(self):\n",
    "        self.root = TrieNode()\n",
    "        \n",
    "    def insert(self, word):\n",
    "        \n",
    "        cur = self.root\n",
    "        for c in word:\n",
    "            if (c not in cur.children):\n",
    "                cur.children[c] = TrieNode()\n",
    "            \n",
    "            # move to next layer\n",
    "            cur = cur.children[c]\n",
    "            \n",
    "        cur.end = True\n",
    "\n",
    "    # by given any prefix, return all possible words\n",
    "    def search(self, pre):\n",
    "        \n",
    "        words = []\n",
    "        cur = self.root\n",
    "        for c in pre:\n",
    "            if (c not in cur.children):\n",
    "                return []\n",
    "            \n",
    "            cur = cur.children[c]\n",
    "        \n",
    "        if (cur.end):\n",
    "            words.append(pre)\n",
    "\n",
    "        # continue to all children combinations\n",
    "        words += self._iterate_children(cur, pre)\n",
    "        return words\n",
    "\n",
    "    def _iterate_children(self, node, word):\n",
    "        words = []\n",
    "        for k, v in node.children.items():\n",
    "            v = node.children[k]\n",
    "            if v.end:\n",
    "                words.append(word+k)\n",
    "        \n",
    "            words += self._iterate_children(v, word+k)\n",
    "        \n",
    "        return words"
   ]
  },
  {
   "cell_type": "code",
   "execution_count": 15,
   "metadata": {},
   "outputs": [],
   "source": [
    "t = Trie()"
   ]
  },
  {
   "cell_type": "code",
   "execution_count": 18,
   "metadata": {},
   "outputs": [],
   "source": [
    "l = [\"cat\", \"cats\", \"and\", \"sand\", \"dog\"]\n",
    "for w in l:\n",
    "    t.insert(w)\n"
   ]
  },
  {
   "cell_type": "code",
   "execution_count": 22,
   "metadata": {},
   "outputs": [
    {
     "data": {
      "text/plain": [
       "['and']"
      ]
     },
     "execution_count": 22,
     "metadata": {},
     "output_type": "execute_result"
    }
   ],
   "source": [
    "t.search('a')"
   ]
  },
  {
   "cell_type": "code",
   "execution_count": null,
   "metadata": {},
   "outputs": [],
   "source": []
  }
 ],
 "metadata": {
  "kernelspec": {
   "display_name": "Python 3",
   "language": "python",
   "name": "python3"
  },
  "language_info": {
   "codemirror_mode": {
    "name": "ipython",
    "version": 3
   },
   "file_extension": ".py",
   "mimetype": "text/x-python",
   "name": "python",
   "nbconvert_exporter": "python",
   "pygments_lexer": "ipython3",
   "version": "3.7.6"
  }
 },
 "nbformat": 4,
 "nbformat_minor": 2
}
