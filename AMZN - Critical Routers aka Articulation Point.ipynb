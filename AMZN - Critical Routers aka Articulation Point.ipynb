{
 "cells": [
  {
   "cell_type": "raw",
   "metadata": {},
   "source": [
    "u are given an undirected connected graph. An articulation point (or cut vertex) is defined as a vertex which, when removed along with associated edges, makes the graph disconnected (or more precisely, increases the number of connected components in the graph). The task is to find all articulation points in the given graph.\n",
    "\n",
    "Input:\n",
    "The input to the function/method consists of three arguments:\n",
    "\n",
    "numNodes, an integer representing the number of nodes in the graph.\n",
    "numEdges, an integer representing the number of edges in the graph.\n",
    "edges, the list of pair of integers - A, B representing an edge between the nodes A and B.\n",
    "Output:\n",
    "Return a list of integers representing the critical nodes.\n",
    "\n",
    "Example:\n",
    "\n",
    "Input: numNodes = 7, numEdges = 7, edges = [[0, 1], [0, 2], [1, 3], [2, 3], [2, 5], [5, 6], [3, 4]]\n",
    "Output: [2, 3, 5]"
   ]
  },
  {
   "cell_type": "markdown",
   "metadata": {},
   "source": [
    "<img src=\"https://i.imgur.com/kcO9OUI.png\"></img>"
   ]
  },
  {
   "cell_type": "code",
   "execution_count": null,
   "metadata": {},
   "outputs": [],
   "source": [
    "# Targan's algorithm to find articulation points from a graph\n",
    "# from any nodes, if \n",
    "# 1, root node has 2 outbound children (cycle back edge will not count)\n",
    "# 2, not root chode, and discovery time <= min discovery time of children\n",
    "#    (if child has smaller discovery time, means there is another path)\n",
    "# then it's a articulation point"
   ]
  },
  {
   "cell_type": "code",
   "execution_count": 73,
   "metadata": {},
   "outputs": [],
   "source": [
    "numNodes = 7\n",
    "numEdges = 7\n",
    "n = 7\n",
    "edges = [[0, 1], [0, 2], [1, 3], [2, 3], [2, 5], [5, 6], [3, 4]]"
   ]
  },
  {
   "cell_type": "code",
   "execution_count": 80,
   "metadata": {},
   "outputs": [],
   "source": [
    "from typing import List\n",
    "from collections import defaultdict\n",
    "\n",
    "class Solution(object):\n",
    "    def criticalNodes(self, n: int, connections: List[List[int]]) -> List[List[int]]:\n",
    "        \"\"\"\n",
    "        :type n: int\n",
    "        :type connections: List[List[int]]\n",
    "        :rtype: List[List[int]]\n",
    "        \"\"\"\n",
    "        \n",
    "        # build the graph (undirected)\n",
    "        graph = defaultdict(list)\n",
    "        for v in connections:\n",
    "            graph[v[0]].append(v[1])\n",
    "            graph[v[1]].append(v[0])\n",
    "        \n",
    "        #print(graph)\n",
    "        \n",
    "        # to log visited nodes and the lowest links of the node (the node start with 0)\n",
    "        visited = [None for _ in range(n)]\n",
    "        low = [None for _ in range(n)]\n",
    "\n",
    "        res = []\n",
    "        # the total discovery time\n",
    "        cur = 0\n",
    "        root_outbound_children = 0\n",
    "        \n",
    "        def dfs(node, parent):\n",
    "            # use the cur variable out of this function\n",
    "            nonlocal cur, root_outbound_children\n",
    "        \n",
    "            # add node to visited\n",
    "            if (visited[node]==None):\n",
    "                visited[node] = cur\n",
    "                low[node] = cur\n",
    "            \n",
    "                cur +=1\n",
    "                \n",
    "            #print(visited)\n",
    "            \n",
    "            # move to children\n",
    "            for to in graph[node]:\n",
    "                #print(\"from {} to {} with parent {}\".format(node, to, parent))\n",
    "\n",
    "                if (to == parent):\n",
    "                    #print('{} is the parent, ignore'.format(to))\n",
    "                    continue\n",
    "                \n",
    "                if (visited[to]!=None):\n",
    "                    #print('{} is visited'.format(to))\n",
    "                    \n",
    "                    # if the child in the vistied, log the min of low value\n",
    "                    low[node] = min(low[node], low[to])\n",
    "                else:\n",
    "                    #print('{} is a new node'.format(to))\n",
    "                    \n",
    "                    # a new node, call dfs\n",
    "                    dfs(to, node)\n",
    "                    # when finished \"to\" recurse, compare low value again\n",
    "                    low[node] = min(low[node], low[to])\n",
    "                    \n",
    "                    # special count for root node\n",
    "                    if (parent == -1):\n",
    "                        # if there is a cycle from the root, the other child should have been round back and in the visited\n",
    "                        # which will not come here when next loop\n",
    "                        #print('child when adding root outbound:{}'.format(to))\n",
    "                        root_outbound_children += 1\n",
    "            \n",
    "        # start from any node, with no parent, will get the same result\n",
    "        root = 4\n",
    "        dfs(root, -1)\n",
    "        \n",
    "        #print(visited)\n",
    "        #print(low)\n",
    "        \n",
    "        # find articulation points, check if the root is articulation point\n",
    "        if (root_outbound_children >1):\n",
    "            res.append(root)\n",
    "\n",
    "        # add any other node with smaller(or equal) discrovery time than all the children\n",
    "        res += [i for i in range(n) if i!=root and visited[i] <= max([ low[c] for c in graph[i]])]\n",
    "        \n",
    "        #print(res)\n",
    "        \n",
    "        return sorted(res)\n"
   ]
  },
  {
   "cell_type": "code",
   "execution_count": 81,
   "metadata": {},
   "outputs": [
    {
     "data": {
      "text/plain": [
       "[2, 3, 5]"
      ]
     },
     "execution_count": 81,
     "metadata": {},
     "output_type": "execute_result"
    }
   ],
   "source": [
    "Solution().criticalNodes(n, edges)"
   ]
  },
  {
   "cell_type": "code",
   "execution_count": null,
   "metadata": {},
   "outputs": [],
   "source": []
  },
  {
   "cell_type": "code",
   "execution_count": null,
   "metadata": {},
   "outputs": [],
   "source": []
  }
 ],
 "metadata": {
  "kernelspec": {
   "display_name": "Python 3",
   "language": "python",
   "name": "python3"
  },
  "language_info": {
   "codemirror_mode": {
    "name": "ipython",
    "version": 3
   },
   "file_extension": ".py",
   "mimetype": "text/x-python",
   "name": "python",
   "nbconvert_exporter": "python",
   "pygments_lexer": "ipython3",
   "version": "3.7.6"
  }
 },
 "nbformat": 4,
 "nbformat_minor": 2
}
