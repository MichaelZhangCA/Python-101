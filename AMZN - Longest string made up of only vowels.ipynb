{
 "cells": [
  {
   "cell_type": "raw",
   "metadata": {},
   "source": [
    "You are given with a string . Your task is to remove atmost two substrings of any length from the given string such that the remaining string contains vowels('a','e','i','o','u') only. Your aim is the maximise the length of the remaining string. Output the length of remaining string after removal of atmost two substrings.\n",
    "NOTE: The answer may be 0, i.e. removing the entire string.\n",
    "\n",
    "Sample Input\n",
    "earthproblem\n",
    "letsgosomewhere\n",
    "\n",
    "Sample Output\n",
    "3\n",
    "2"
   ]
  },
  {
   "cell_type": "code",
   "execution_count": 1,
   "metadata": {},
   "outputs": [],
   "source": [
    "# break down to 3 scenarios\n",
    "# 1, with vowels at the beginning and the end, will be begin + end + max(middle)\n",
    "# 2, with beginning or ending, begin/end + max(middle)\n",
    "# 3, there is no beginning and ending, only the max(middle)\n",
    "\n",
    "# so, the max length = beginning + ending + max(middle)"
   ]
  },
  {
   "cell_type": "code",
   "execution_count": 18,
   "metadata": {},
   "outputs": [],
   "source": [
    "class Solution():\n",
    "    def longestVowelsOnlySubstring(self, S):\n",
    "        \n",
    "        vowels = set('aeiou')\n",
    "        vowelstring = []\n",
    "\n",
    "        count = 0\n",
    "        # add 'z' at the end to make sure it will hit the elif logic to add the last vowel string at the end\n",
    "        for l in S + 'z':\n",
    "            if (l in vowels):\n",
    "                count+=1\n",
    "            elif (count):\n",
    "                # add a length of vowel string if hit any vowel\n",
    "                vowelstring.append(count)\n",
    "                count = 0\n",
    "        \n",
    "        if (S[0] not in vowels): \n",
    "            vowelstring = [0] + vowelstring\n",
    "        if (S[-1] not in vowels):\n",
    "            vowelstring = vowelstring + [0]\n",
    "        \n",
    "        print(vowelstring)\n",
    "        # return the sum of all\n",
    "        return vowelstring[0] + vowelstring[-1] + ( max(vowelstring[1:-1]) if len(vowelstring)>=3 else 0)"
   ]
  },
  {
   "cell_type": "code",
   "execution_count": 27,
   "metadata": {},
   "outputs": [
    {
     "name": "stdout",
     "output_type": "stream",
     "text": [
      "[0, 0]\n"
     ]
    },
    {
     "data": {
      "text/plain": [
       "0"
      ]
     },
     "execution_count": 27,
     "metadata": {},
     "output_type": "execute_result"
    }
   ],
   "source": [
    "Solution().longestVowelsOnlySubstring('rthprblm')"
   ]
  },
  {
   "cell_type": "code",
   "execution_count": null,
   "metadata": {},
   "outputs": [],
   "source": []
  }
 ],
 "metadata": {
  "kernelspec": {
   "display_name": "Python 3",
   "language": "python",
   "name": "python3"
  },
  "language_info": {
   "codemirror_mode": {
    "name": "ipython",
    "version": 3
   },
   "file_extension": ".py",
   "mimetype": "text/x-python",
   "name": "python",
   "nbconvert_exporter": "python",
   "pygments_lexer": "ipython3",
   "version": "3.7.6"
  }
 },
 "nbformat": 4,
 "nbformat_minor": 2
}
