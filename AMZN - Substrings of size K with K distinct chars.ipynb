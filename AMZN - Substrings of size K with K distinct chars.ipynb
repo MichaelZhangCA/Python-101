{
 "cells": [
  {
   "cell_type": "raw",
   "metadata": {},
   "source": [
    "Given a string s and an int k, return all unique substrings of s of size k with k distinct characters.\n",
    "\n",
    "Example 1:\n",
    "\n",
    "Input: s = \"abcabc\", k = 3\n",
    "Output: [\"abc\", \"bca\", \"cab\"]\n",
    "Example 2:\n",
    "\n",
    "Input: s = \"abacab\", k = 3\n",
    "Output: [\"bac\", \"cab\"]\n",
    "Example 3:\n",
    "\n",
    "Input: s = \"awaglknagawunagwkwagl\", k = 4\n",
    "Output: [\"wagl\", \"aglk\", \"glkn\", \"lkna\", \"knag\", \"gawu\", \"awun\", \"wuna\", \"unag\", \"nagw\", \"agwk\", \"kwag\"]\n",
    "Explanation: \n",
    "Substrings in order are: \"wagl\", \"aglk\", \"glkn\", \"lkna\", \"knag\", \"gawu\", \"awun\", \"wuna\", \"unag\", \"nagw\", \"agwk\", \"kwag\", \"wagl\" \n",
    "\"wagl\" is repeated twice, but is included in the output once.\n",
    "Constraints:\n",
    "\n",
    "The input string consists of only lowercase English letters [a-z]\n",
    "0 ≤ k ≤ 26\n"
   ]
  },
  {
   "cell_type": "code",
   "execution_count": null,
   "metadata": {},
   "outputs": [],
   "source": [
    "# sliding window"
   ]
  },
  {
   "cell_type": "code",
   "execution_count": 1,
   "metadata": {},
   "outputs": [],
   "source": [
    "def substringk(s, k):\n",
    "    if not s or k == 0:\n",
    "        return []\n",
    "    \n",
    "    letter, res = {}, set()\n",
    "    start = 0\n",
    "    for i in range(len(s)):\n",
    "        if s[i] in letter and letter[s[i]] >= start:\n",
    "            start = letter[s[i]]+1\n",
    "        letter[s[i]] = i\n",
    "        if i-start+1 == k:\n",
    "            res.add(s[start:i+1])\n",
    "            start += 1\n",
    "    return list(res)\n"
   ]
  },
  {
   "cell_type": "code",
   "execution_count": 75,
   "metadata": {},
   "outputs": [],
   "source": [
    "s = \"awaglknagawunagwkwagl\"\n",
    "k = 4"
   ]
  },
  {
   "cell_type": "code",
   "execution_count": 76,
   "metadata": {},
   "outputs": [
    {
     "data": {
      "text/plain": [
       "['nagw',\n",
       " 'aglk',\n",
       " 'wuna',\n",
       " 'awun',\n",
       " 'lkna',\n",
       " 'gawu',\n",
       " 'agwk',\n",
       " 'unag',\n",
       " 'kwag',\n",
       " 'wagl',\n",
       " 'knag',\n",
       " 'glkn']"
      ]
     },
     "execution_count": 76,
     "metadata": {},
     "output_type": "execute_result"
    }
   ],
   "source": [
    "substringk(s,k)"
   ]
  },
  {
   "cell_type": "code",
   "execution_count": 77,
   "metadata": {},
   "outputs": [],
   "source": [
    "from collections import defaultdict\n",
    "class Solution():\n",
    "    def subStringk(self, s, k):\n",
    "        # define a slide window, and a result set\n",
    "        window, final = [], set()\n",
    "        # define a defaultdict for counting distinct letters\n",
    "        unicount = defaultdict(int)\n",
    "        \n",
    "        for i in range(len(s)):\n",
    "            # add a letter in the window\n",
    "            window.append(s[i])\n",
    "            unicount[s[i]] += 1\n",
    "            \n",
    "            # check the window length\n",
    "            if (len(window) < k):\n",
    "                continue\n",
    "                \n",
    "            # if the window length > k, remove the first one\n",
    "            if (len(window) > k):\n",
    "                pop = window.pop(0)\n",
    "                # also decrease the count of the letter popped\n",
    "                unicount[pop] -= 1\n",
    "                # remove the letter from unique dict if count == 0\n",
    "                if (unicount[pop]==0):\n",
    "                    unicount.pop(pop)\n",
    "            \n",
    "            # if the wnidow lenght = k, add to final set\n",
    "            if (len(window) == k and len(unicount)==k):\n",
    "                final.add(''.join(window))\n",
    "        \n",
    "            #print(window)\n",
    "        return list(final)"
   ]
  },
  {
   "cell_type": "code",
   "execution_count": 78,
   "metadata": {},
   "outputs": [],
   "source": [
    "from collections import defaultdict\n",
    "class Solution2():\n",
    "    def subStringk(self, s, k):\n",
    "        # define a slide window, and a result set\n",
    "        window, final = [], set()\n",
    "        # define a defaultdict for counting distinct letters\n",
    "        unicount = defaultdict(int)\n",
    "        \n",
    "        # add first k letters\n",
    "        for i in range(k):\n",
    "            window.append(s[i])\n",
    "            unicount[s[i]] += 1\n",
    "            \n",
    "        for i in range(k, len(s)):\n",
    "            # add a letter in the window\n",
    "            window.append(s[i])\n",
    "            unicount[s[i]] += 1\n",
    "            \n",
    "            pop = window.pop(0)\n",
    "            # also decrease the count of the letter popped\n",
    "            unicount[pop] -= 1\n",
    "            # remove the letter from unique dict if count == 0\n",
    "            if (unicount[pop]==0):\n",
    "                unicount.pop(pop)\n",
    "            \n",
    "            # if the wnidow lenght = k, add to final set\n",
    "            if (len(window) == k and len(unicount)==k):\n",
    "                final.add(''.join(window))\n",
    "        \n",
    "            #print(window)\n",
    "        return list(final)"
   ]
  },
  {
   "cell_type": "code",
   "execution_count": 79,
   "metadata": {},
   "outputs": [
    {
     "data": {
      "text/plain": [
       "['nagw',\n",
       " 'aglk',\n",
       " 'wuna',\n",
       " 'awun',\n",
       " 'lkna',\n",
       " 'gawu',\n",
       " 'agwk',\n",
       " 'unag',\n",
       " 'kwag',\n",
       " 'wagl',\n",
       " 'knag',\n",
       " 'glkn']"
      ]
     },
     "execution_count": 79,
     "metadata": {},
     "output_type": "execute_result"
    }
   ],
   "source": [
    "Solution2().subStringk(s,k)"
   ]
  },
  {
   "cell_type": "code",
   "execution_count": 67,
   "metadata": {},
   "outputs": [
    {
     "name": "stdout",
     "output_type": "stream",
     "text": [
      "range(3, 6)\n"
     ]
    }
   ],
   "source": [
    "x"
   ]
  },
  {
   "cell_type": "code",
   "execution_count": null,
   "metadata": {},
   "outputs": [],
   "source": []
  }
 ],
 "metadata": {
  "kernelspec": {
   "display_name": "Python 3",
   "language": "python",
   "name": "python3"
  },
  "language_info": {
   "codemirror_mode": {
    "name": "ipython",
    "version": 3
   },
   "file_extension": ".py",
   "mimetype": "text/x-python",
   "name": "python",
   "nbconvert_exporter": "python",
   "pygments_lexer": "ipython3",
   "version": "3.7.5"
  }
 },
 "nbformat": 4,
 "nbformat_minor": 2
}
