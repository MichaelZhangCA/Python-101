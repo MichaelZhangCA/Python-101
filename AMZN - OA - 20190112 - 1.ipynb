{
 "cells": [
  {
   "cell_type": "code",
   "execution_count": 1,
   "metadata": {},
   "outputs": [],
   "source": [
    "# Top N compititors"
   ]
  },
  {
   "cell_type": "code",
   "execution_count": 181,
   "metadata": {},
   "outputs": [],
   "source": [
    "# input\n",
    "numCompetitors = 6\n",
    "topN = 2\n",
    "competitors = ['anacell', 'betacellular', 'cetracular', 'deltacellular', 'eurocell', 'anacell']\n",
    "numReviews = 3\n",
    "reviews = ['Best services provided by anacell!', \n",
    "           'betacellular has great service', 'anacell cetracular much cetracular services cetracular than all other']\n"
   ]
  },
  {
   "cell_type": "code",
   "execution_count": 186,
   "metadata": {},
   "outputs": [
    {
     "data": {
      "text/plain": [
       "{'anacell': 0,\n",
       " 'betacellular': 0,\n",
       " 'cetracular': 0,\n",
       " 'deltacellular': 0,\n",
       " 'eurocell': 0}"
      ]
     },
     "execution_count": 186,
     "metadata": {},
     "output_type": "execute_result"
    }
   ],
   "source": [
    "{ comp: 0 for comp in competitors}"
   ]
  },
  {
   "cell_type": "code",
   "execution_count": 212,
   "metadata": {},
   "outputs": [
    {
     "data": {
      "text/plain": [
       "['anacell', 'betacellular']"
      ]
     },
     "execution_count": 212,
     "metadata": {},
     "output_type": "execute_result"
    }
   ],
   "source": [
    "topNCompetitors(numCompetitors, topN, competitors, numReviews, reviews)"
   ]
  },
  {
   "cell_type": "code",
   "execution_count": 211,
   "metadata": {},
   "outputs": [
    {
     "name": "stdout",
     "output_type": "stream",
     "text": [
      "['Best', 'services', 'provided', 'by', 'anacell!']\n",
      "['betacellular', 'has', 'great', 'service']\n",
      "['anacell', 'cetracular', 'much', 'cetracular', 'services', 'cetracular', 'than', 'all', 'other']\n"
     ]
    }
   ],
   "source": [
    "for review in reviews:\n",
    "    print(re.split(r'[\\.;,\\s]+',review))"
   ]
  },
  {
   "cell_type": "code",
   "execution_count": 210,
   "metadata": {},
   "outputs": [],
   "source": [
    "import re\n",
    "\n",
    "def topNCompetitors(numCompetitors, topN, competitors, \n",
    "                    numReviews, reviews):\n",
    "    # check edge case\n",
    "    if (not reviews or not competitors):\n",
    "        return []\n",
    "    \n",
    "    if (not numCompetitors or not topN or not numReviews):\n",
    "        return []\n",
    "    \n",
    "    # init montioned times for all competitors []\n",
    "    # duplicated competitor in the list will not impact the dict\n",
    "    cnt = { comp: 0 for comp in competitors}\n",
    "\n",
    "    # loop the reviews, and split the words by spece and other spliters\n",
    "    for review in reviews:\n",
    "        words = review.lower().split(' ')\n",
    "        isMentioned = {}        \n",
    "        for word in words:\n",
    "            word = re.sub('[^a-z]','',word)\n",
    "            \n",
    "            if (word in competitors):\n",
    "                # repeated word will still keep one item in the dict\n",
    "                isMentioned[word] = True\n",
    "\n",
    "        # all mentioned will increase counting\n",
    "        for comp in isMentioned:\n",
    "            cnt[comp] -= 1\n",
    "    \n",
    "    # order by how many times mentioned in the reviews and competitor's name\n",
    "    res = sorted([item for item in cnt.items() if item[1]<0], key=lambda x:(x[1],x[0]))[:topN]\n",
    "    return [comp[0] for comp in res]\n",
    "    \n",
    "    pass\n",
    "\n",
    "\n"
   ]
  },
  {
   "cell_type": "code",
   "execution_count": 195,
   "metadata": {},
   "outputs": [],
   "source": [
    "#topNCompetitors(numCompetitors, topN, competitors, numReviews, reviews)\n",
    "isMentioned = {'anacell': True, 'betacellular': False, 'cetracular': False, 'deltacellular': False, 'eurocell': False}"
   ]
  },
  {
   "cell_type": "code",
   "execution_count": null,
   "metadata": {},
   "outputs": [],
   "source": []
  }
 ],
 "metadata": {
  "kernelspec": {
   "display_name": "Python 3",
   "language": "python",
   "name": "python3"
  },
  "language_info": {
   "codemirror_mode": {
    "name": "ipython",
    "version": 3
   },
   "file_extension": ".py",
   "mimetype": "text/x-python",
   "name": "python",
   "nbconvert_exporter": "python",
   "pygments_lexer": "ipython3",
   "version": "3.7.6"
  }
 },
 "nbformat": 4,
 "nbformat_minor": 2
}
