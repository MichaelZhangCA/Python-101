{
 "cells": [
  {
   "cell_type": "code",
   "execution_count": 1,
   "metadata": {},
   "outputs": [],
   "source": [
    "# hard"
   ]
  },
  {
   "cell_type": "raw",
   "metadata": {},
   "source": [
    "Merge k sorted linked lists and return it as one sorted list. Analyze and describe its complexity.\n",
    "\n",
    "Example:\n",
    "\n",
    "Input:\n",
    "[\n",
    "  1->4->5,\n",
    "  1->3->4,\n",
    "  2->6\n",
    "]\n",
    "Output: 1->1->2->3->4->4->5->6\n"
   ]
  },
  {
   "cell_type": "code",
   "execution_count": 4,
   "metadata": {},
   "outputs": [],
   "source": [
    "from typing import List\n",
    "import heapq\n",
    "# Definition for singly-linked list.\n",
    "class ListNode:\n",
    "    def __init__(self, x):\n",
    "        self.val = x\n",
    "        self.next = None\n",
    "\n",
    "class Solution:\n",
    "    def mergeKLists(self, lists: List[ListNode]) -> ListNode:\n",
    "        \n",
    "        if (not lists):\n",
    "            return None\n",
    "        \n",
    "        # define a sentinel node\n",
    "        dummy = ListNode(0)\n",
    "        tracker = dummy\n",
    "        # define an array to track all the current node in the list\n",
    "        nodes = [ l for l in lists]\n",
    "        \n",
    "        while any(nodes):\n",
    "            \n",
    "            minVal = min([n.val for v in nodes])\n",
    "            # if the node == min, move it to the next\n",
    "            for n in nodes:\n",
    "                if (n.val == minVal):\n",
    "                    tracker.next = n\n",
    "                    tracker = tracker.next\n",
    "                    n = n.next\n",
    "            \n",
    "        return dummy.next\n",
    "    \n",
    "    \n",
    "    def mergeKLists(self, lists: List[ListNode]) -> ListNode:\n",
    "        if (not lists):\n",
    "            return None\n",
    "        \n",
    "        # define a sentinel node\n",
    "        dummy = tracker = ListNode(0)\n",
    "        res = []\n",
    "        for idx, node in enumerate(lists):\n",
    "            if (node):\n",
    "                heapq.heappush(res, (node.val, idx))\n",
    "            \n",
    "        # pop the min one and continue\n",
    "        while res:\n",
    "            val, idx = heapq.heappop(res)\n",
    "            tracker.next = lists[idx]\n",
    "            \n",
    "            lists[idx] = lists[idx].next\n",
    "            if (lists[idx]):\n",
    "                heapq.heappush(res, (lists[idx].val, idx))\n",
    "            \n",
    "            tracker = tracker.next\n",
    "            \n",
    "        return dummy.next\n",
    "\n",
    "        "
   ]
  },
  {
   "cell_type": "code",
   "execution_count": null,
   "metadata": {},
   "outputs": [],
   "source": []
  }
 ],
 "metadata": {
  "kernelspec": {
   "display_name": "Python 3",
   "language": "python",
   "name": "python3"
  },
  "language_info": {
   "codemirror_mode": {
    "name": "ipython",
    "version": 3
   },
   "file_extension": ".py",
   "mimetype": "text/x-python",
   "name": "python",
   "nbconvert_exporter": "python",
   "pygments_lexer": "ipython3",
   "version": "3.7.6"
  }
 },
 "nbformat": 4,
 "nbformat_minor": 2
}
