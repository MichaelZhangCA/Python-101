{
 "cells": [
  {
   "cell_type": "raw",
   "metadata": {},
   "source": [
    "The string \"PAYPALISHIRING\" is written in a zigzag pattern on a given number of rows like this: (you may want to display this pattern in a fixed font for better legibility)\n",
    "\n",
    "P   A   H   N\n",
    "A P L S I I G\n",
    "Y   I   R\n",
    "\n",
    "And then read line by line: \"PAHNAPLSIIGYIR\""
   ]
  },
  {
   "cell_type": "code",
   "execution_count": 14,
   "metadata": {},
   "outputs": [],
   "source": [
    "class Solution:\n",
    "    def convert(self, s: str, numRows: int) -> str:\n",
    "        \n",
    "        arr = [[] for _ in range(numRows)]\n",
    "        \n",
    "        zig = 1\n",
    "        for i in range(len(s)):\n",
    "            \n",
    "            row = i % numRows\n",
    "            print(row, zig)\n",
    "            if (zig == 1):\n",
    "                arr[row].append(s[i])\n",
    "                if (row==len(arr)-1):\n",
    "                    zig = 0\n",
    "            else:\n",
    "                arr[numRows - row - 2].append(s[i])\n",
    "                if (row==1):\n",
    "                    zig = 1\n",
    "                    \n",
    "        print([ ''])\n",
    "        return ''.join([ ''.join(s) for s in arr ])"
   ]
  },
  {
   "cell_type": "code",
   "execution_count": 15,
   "metadata": {},
   "outputs": [
    {
     "name": "stdout",
     "output_type": "stream",
     "text": [
      "0 1\n",
      "1 1\n",
      "2 1\n",
      "0 0\n",
      "1 0\n",
      "2 1\n",
      "0 0\n",
      "1 0\n",
      "2 1\n",
      "0 0\n",
      "1 0\n",
      "2 1\n",
      "0 0\n",
      "1 0\n"
     ]
    },
    {
     "data": {
      "text/plain": [
       "'PASRGAPIINYLHI'"
      ]
     },
     "execution_count": 15,
     "metadata": {},
     "output_type": "execute_result"
    }
   ],
   "source": [
    "s = 'PAYPALISHIRING'\n",
    "Solution().convert(s,3)"
   ]
  },
  {
   "cell_type": "code",
   "execution_count": null,
   "metadata": {},
   "outputs": [],
   "source": []
  }
 ],
 "metadata": {
  "kernelspec": {
   "display_name": "Python 3",
   "language": "python",
   "name": "python3"
  },
  "language_info": {
   "codemirror_mode": {
    "name": "ipython",
    "version": 3
   },
   "file_extension": ".py",
   "mimetype": "text/x-python",
   "name": "python",
   "nbconvert_exporter": "python",
   "pygments_lexer": "ipython3",
   "version": "3.7.5"
  }
 },
 "nbformat": 4,
 "nbformat_minor": 2
}
