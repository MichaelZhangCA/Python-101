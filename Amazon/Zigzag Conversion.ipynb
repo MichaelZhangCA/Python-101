{
 "cells": [
  {
   "cell_type": "raw",
   "metadata": {},
   "source": [
    "The string \"PAYPALISHIRING\" is written in a zigzag pattern on a given number of rows like this: (you may want to display this pattern in a fixed font for better legibility)\n",
    "\n",
    "P   A   H   N\n",
    "A P L S I I G\n",
    "Y   I   R\n",
    "\n",
    "And then read line by line: \"PAHNAPLSIIGYIR\""
   ]
  },
  {
   "cell_type": "code",
   "execution_count": 30,
   "metadata": {},
   "outputs": [],
   "source": [
    "class Solution:\n",
    "    def convert(self, s: str, numRows: int) -> str:\n",
    "\n",
    "        if (not s or len(s)<=numRows):\n",
    "            return s\n",
    "        \n",
    "        arr = [[] for _ in range(numRows)]\n",
    "        \n",
    "        zig = False\n",
    "        for i in range(len(s)):\n",
    "            \n",
    "            row = i % (numRows - 1)\n",
    "            if (row == 0):\n",
    "                zig = not zig\n",
    "            \n",
    "            if (zig):\n",
    "                # from top to bottom, until the last second row\n",
    "                arr[row].append(s[i])\n",
    "            else:\n",
    "                # from bottom to top \n",
    "                #arr[numRows-row-1] # use array index from 0 if not use Pythong -1/-2 indice\n",
    "                arr[-(row + 1)].append(s[i])\n",
    "                    \n",
    "        print([''.join(x) for x in arr])\n",
    "        return ''.join([ ''.join(s) for s in arr ])\n",
    "    \n",
    "    \n",
    "    def convert2(self, s: str, numRows: int) -> str:\n",
    "\n",
    "        if (not s or len(s)<=numRows or numRows==1):\n",
    "            return s\n",
    "        \n",
    "        arr = [[] for _ in range(numRows)]\n",
    "        \n",
    "        row, step = 0,-1\n",
    "        for i in range(len(s)):\n",
    "            \n",
    "            if (row == 0 or row == numRows-1):\n",
    "                step = -step\n",
    "\n",
    "            arr[row].append(s[i])\n",
    "            row += step\n",
    "                    \n",
    "        return ''.join([ ''.join(s) for s in arr ])    \n"
   ]
  },
  {
   "cell_type": "code",
   "execution_count": 31,
   "metadata": {},
   "outputs": [
    {
     "name": "stdout",
     "output_type": "stream",
     "text": [
      "['PAHN', 'APLSIIG', 'YIR']\n"
     ]
    },
    {
     "data": {
      "text/plain": [
       "'PAHNAPLSIIGYIR'"
      ]
     },
     "execution_count": 31,
     "metadata": {},
     "output_type": "execute_result"
    }
   ],
   "source": [
    "s = 'PAYPALISHIRING'\n",
    "Solution().convert2(s,3)"
   ]
  },
  {
   "cell_type": "code",
   "execution_count": null,
   "metadata": {},
   "outputs": [],
   "source": [
    "PAHNAPLSIIGYIR"
   ]
  }
 ],
 "metadata": {
  "kernelspec": {
   "display_name": "Python 3",
   "language": "python",
   "name": "python3"
  },
  "language_info": {
   "codemirror_mode": {
    "name": "ipython",
    "version": 3
   },
   "file_extension": ".py",
   "mimetype": "text/x-python",
   "name": "python",
   "nbconvert_exporter": "python",
   "pygments_lexer": "ipython3",
   "version": "3.7.6"
  }
 },
 "nbformat": 4,
 "nbformat_minor": 2
}
