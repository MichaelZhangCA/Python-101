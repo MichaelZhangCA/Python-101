{
 "cells": [
  {
   "cell_type": "code",
   "execution_count": 1,
   "metadata": {},
   "outputs": [],
   "source": [
    "# by given data stream, call addNum for each new data\n",
    "# can get the median anytime"
   ]
  },
  {
   "cell_type": "code",
   "execution_count": 96,
   "metadata": {},
   "outputs": [],
   "source": [
    "import heapq\n",
    "class MedianFinder:\n",
    "\n",
    "    def __init__(self):\n",
    "        \"\"\"\n",
    "        initialize your data structure here.\n",
    "        \"\"\"\n",
    "        self.left = []\n",
    "        self.right = []\n",
    "        \n",
    "        #heapq.heapify(self.left)\n",
    "        #heapq.heapify(self.right)\n",
    "        \n",
    "    def addNum(self, num: int) -> None:\n",
    "\n",
    "        # the heapq is a min heap, so will use right side for checking\n",
    "        # the left side will be saved by *-1 so it will keep the max number at the top\n",
    "        # in this case, the right side will always have equal length as left side, or has one more item\n",
    "        \n",
    "        print (self.left, self.right)\n",
    "        if (not self.right):\n",
    "            # this is the situation that nothing in both side yet\n",
    "            heapq.heappush(self.right, num)\n",
    "        else:\n",
    "            print (self.left, self.right)\n",
    "            if (num >= self.right[0]):\n",
    "                # add to right side\n",
    "                heapq.heappush(self.right, num)\n",
    "                # right side might have 2 more items than left, pop one to the left\n",
    "                if (len(self.right) - len(self.left) == 2):\n",
    "                    minR = heapq.heappop(self.right)\n",
    "                    # add to left by * -1\n",
    "                    heapq.heappush(self.left, minR * -1)\n",
    "            else:\n",
    "                # add to left side\n",
    "                heapq.heappush(self.left, num * -1)\n",
    "                # if left side has more item than right side, pop one to right side\n",
    "                if (len(self.left) > len(self.right)):\n",
    "                    maxL = heapq.heappop(self.left) * -1\n",
    "                    # add to right\n",
    "                    heapq.heappush(self.right, maxL)\n",
    "        \n",
    "        print (self.left, self.right)\n",
    "        \n",
    "    def findMedian(self) -> float:\n",
    "        \n",
    "        if (not self.left and not self.right):\n",
    "            return 0\n",
    "\n",
    "        if (len(self.left) == len(self.right)):\n",
    "            return (self.left[0] * (-1) + self.right[0]) /2\n",
    "        else:\n",
    "            return self.right[0]\n",
    "\n",
    "# Your MedianFinder object will be instantiated and called as such:\n",
    "# obj = MedianFinder()\n",
    "# obj.addNum(num)\n",
    "# param_2 = obj.findMedian()"
   ]
  },
  {
   "cell_type": "code",
   "execution_count": 97,
   "metadata": {},
   "outputs": [
    {
     "name": "stdout",
     "output_type": "stream",
     "text": [
      "[] []\n",
      "[] [-1]\n"
     ]
    },
    {
     "data": {
      "text/plain": [
       "-1"
      ]
     },
     "execution_count": 97,
     "metadata": {},
     "output_type": "execute_result"
    }
   ],
   "source": [
    "mf = MedianFinder()\n",
    "mf.addNum(-1)\n",
    "mf.findMedian()"
   ]
  },
  {
   "cell_type": "code",
   "execution_count": 98,
   "metadata": {},
   "outputs": [
    {
     "name": "stdout",
     "output_type": "stream",
     "text": [
      "[] [-1]\n",
      "[] [-1]\n",
      "[2] [-1]\n"
     ]
    },
    {
     "data": {
      "text/plain": [
       "-1.5"
      ]
     },
     "execution_count": 98,
     "metadata": {},
     "output_type": "execute_result"
    }
   ],
   "source": [
    "mf.addNum(-2)\n",
    "mf.findMedian()"
   ]
  },
  {
   "cell_type": "code",
   "execution_count": 99,
   "metadata": {},
   "outputs": [
    {
     "name": "stdout",
     "output_type": "stream",
     "text": [
      "[2] [-1]\n",
      "[2] [-1]\n",
      "[3] [-2, -1]\n"
     ]
    },
    {
     "data": {
      "text/plain": [
       "-2"
      ]
     },
     "execution_count": 99,
     "metadata": {},
     "output_type": "execute_result"
    }
   ],
   "source": [
    "mf.addNum(-3)\n",
    "mf.findMedian()"
   ]
  },
  {
   "cell_type": "code",
   "execution_count": 100,
   "metadata": {},
   "outputs": [
    {
     "name": "stdout",
     "output_type": "stream",
     "text": [
      "[3] [-2, -1]\n",
      "[3] [-2, -1]\n",
      "[3, 4] [-2, -1]\n"
     ]
    },
    {
     "data": {
      "text/plain": [
       "-2.5"
      ]
     },
     "execution_count": 100,
     "metadata": {},
     "output_type": "execute_result"
    }
   ],
   "source": [
    "mf.addNum(-4)\n",
    "mf.findMedian()"
   ]
  },
  {
   "cell_type": "code",
   "execution_count": 101,
   "metadata": {},
   "outputs": [
    {
     "name": "stdout",
     "output_type": "stream",
     "text": [
      "[3, 4] [-2, -1]\n",
      "[3, 4] [-2, -1]\n",
      "[4, 5] [-3, -1, -2]\n"
     ]
    },
    {
     "data": {
      "text/plain": [
       "-3"
      ]
     },
     "execution_count": 101,
     "metadata": {},
     "output_type": "execute_result"
    }
   ],
   "source": [
    "mf.addNum(-5)\n",
    "mf.findMedian()"
   ]
  },
  {
   "cell_type": "code",
   "execution_count": 102,
   "metadata": {},
   "outputs": [
    {
     "name": "stdout",
     "output_type": "stream",
     "text": [
      "[4, 5] [-3, -1, -2]\n",
      "[4, 5] [-3, -1, -2]\n",
      "[4, 5, 6] [-3, -1, -2]\n"
     ]
    },
    {
     "data": {
      "text/plain": [
       "-3.5"
      ]
     },
     "execution_count": 102,
     "metadata": {},
     "output_type": "execute_result"
    }
   ],
   "source": [
    "mf.addNum(-6)\n",
    "mf.findMedian()"
   ]
  },
  {
   "cell_type": "code",
   "execution_count": null,
   "metadata": {},
   "outputs": [],
   "source": []
  }
 ],
 "metadata": {
  "kernelspec": {
   "display_name": "Python 3",
   "language": "python",
   "name": "python3"
  },
  "language_info": {
   "codemirror_mode": {
    "name": "ipython",
    "version": 3
   },
   "file_extension": ".py",
   "mimetype": "text/x-python",
   "name": "python",
   "nbconvert_exporter": "python",
   "pygments_lexer": "ipython3",
   "version": "3.7.6"
  }
 },
 "nbformat": 4,
 "nbformat_minor": 2
}
