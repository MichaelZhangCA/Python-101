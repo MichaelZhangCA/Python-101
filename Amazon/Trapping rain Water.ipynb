{
 "cells": [
  {
   "cell_type": "raw",
   "metadata": {},
   "source": [
    "Given n non-negative integers representing an elevation map where the width of each bar is 1, compute how much water it is able to trap after raining.\n",
    "\n",
    "\n",
    "The above elevation map is represented by array [0,1,0,2,1,0,1,3,2,1,2,1]. In this case, 6 units of rain water (blue section) are being trapped. Thanks Marcos for contributing this image!\n",
    "\n",
    "Example:\n",
    "\n",
    "Input: [0,1,0,2,1,0,1,3,2,1,2,1]\n",
    "Output: 6\n"
   ]
  },
  {
   "cell_type": "markdown",
   "metadata": {},
   "source": [
    "<img src=\"https://assets.leetcode.com/uploads/2018/10/22/rainwatertrap.png\" />"
   ]
  },
  {
   "cell_type": "code",
   "execution_count": 44,
   "metadata": {},
   "outputs": [],
   "source": [
    "# this is not a solutin!!!\n",
    "\n",
    "from typing import List\n",
    "from collections import deque\n",
    "class Solution:\n",
    "    def trap(self, height: List[int]) -> int:\n",
    "        \n",
    "        if (len(height)<3):\n",
    "            return 0\n",
    "        \n",
    "        # find the zigzag points\n",
    "        ext = [0] + height + [0]\n",
    "        hq, lq = deque(), deque()\n",
    "        \n",
    "        for i in range(1, len(ext)-1):\n",
    "            if (ext[i-1] < ext[i] >= ext[i+1]):\n",
    "                hq.append(i-1)\n",
    "                hq.append(i-1)\n",
    "            elif (ext[i-1] > ext[i] <= ext[i+1]):\n",
    "                lq.append(i-1)\n",
    "\n",
    "        hq.pop()\n",
    "        hq.popleft()\n",
    "        \n",
    "        trap = 0\n",
    "        # start from a 1, then -1, then 1\n",
    "        while hq and lq:\n",
    "            left = hq.popleft()\n",
    "            low = lq.popleft()\n",
    "            right = hq.popleft()\n",
    "        \n",
    "            scope = height[left:right+1]\n",
    "            boundry = min(height[left], height[right])\n",
    "            trap += sum([ 0 if n > boundry else boundry-n for n in scope ])\n",
    "        \n",
    "        return trap\n",
    "            "
   ]
  },
  {
   "cell_type": "code",
   "execution_count": 51,
   "metadata": {},
   "outputs": [],
   "source": [
    "h = [0,1,0,2,1,0,1,3,2,1,2,1]"
   ]
  },
  {
   "cell_type": "code",
   "execution_count": 52,
   "metadata": {},
   "outputs": [
    {
     "name": "stdout",
     "output_type": "stream",
     "text": [
      "[1, 0, 2]\n",
      "[0, 1, 0]\n",
      "[2, 1, 0, 1, 3]\n",
      "[0, 1, 2, 1, 0]\n",
      "[3, 2, 1, 2]\n",
      "[0, 0, 1, 0]\n"
     ]
    },
    {
     "data": {
      "text/plain": [
       "6"
      ]
     },
     "execution_count": 52,
     "metadata": {},
     "output_type": "execute_result"
    }
   ],
   "source": [
    "Solution().trap(h)"
   ]
  },
  {
   "cell_type": "code",
   "execution_count": 49,
   "metadata": {},
   "outputs": [],
   "source": [
    "from typing import List\n",
    "from collections import deque\n",
    "class Solution2:\n",
    "    def trap(self, height: List[int]) -> int:\n",
    "        \n",
    "        if (len(height)<3):\n",
    "            return 0\n",
    "        \n",
    "        # the idea is from the left side, find the max, find the max right as well\n",
    "        # all the middle is unknow, but at least:\n",
    "        # 1, when max(left) < max(right), move to right and all the smaller left could keep to max(left)\n",
    "        # 2, when max(left) > max(right), reverse\n",
    "\n",
    "        left, right = 0, len(height)-1\n",
    "        maxLeft,maxRight = 0,0\n",
    "        \n",
    "        trap = 0\n",
    "        while left<right:\n",
    "            maxLeft = max(maxLeft, height[left])\n",
    "            maxRight = max(maxRight, height[right])\n",
    "            \n",
    "            if (maxLeft < maxRight):\n",
    "                trap += maxLeft - height[left]\n",
    "                left += 1\n",
    "            else:\n",
    "                trap += maxRight - height[right]\n",
    "                right -= 1\n",
    "            \n",
    "        return trap\n"
   ]
  },
  {
   "cell_type": "code",
   "execution_count": 53,
   "metadata": {},
   "outputs": [
    {
     "data": {
      "text/plain": [
       "6"
      ]
     },
     "execution_count": 53,
     "metadata": {},
     "output_type": "execute_result"
    }
   ],
   "source": [
    "Solution2().trap(h)"
   ]
  },
  {
   "cell_type": "code",
   "execution_count": null,
   "metadata": {},
   "outputs": [],
   "source": []
  }
 ],
 "metadata": {
  "kernelspec": {
   "display_name": "Python 3",
   "language": "python",
   "name": "python3"
  },
  "language_info": {
   "codemirror_mode": {
    "name": "ipython",
    "version": 3
   },
   "file_extension": ".py",
   "mimetype": "text/x-python",
   "name": "python",
   "nbconvert_exporter": "python",
   "pygments_lexer": "ipython3",
   "version": "3.7.6"
  }
 },
 "nbformat": 4,
 "nbformat_minor": 2
}
