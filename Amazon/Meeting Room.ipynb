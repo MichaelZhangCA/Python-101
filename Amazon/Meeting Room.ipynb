{
 "cells": [
  {
   "cell_type": "code",
   "execution_count": 1,
   "metadata": {},
   "outputs": [],
   "source": [
    "# by given meetings with (start time, end time), figure out the minimal meeting room needed"
   ]
  },
  {
   "cell_type": "code",
   "execution_count": 55,
   "metadata": {},
   "outputs": [],
   "source": [
    "import heapq\n",
    "\n",
    "class Solution():\n",
    "    \n",
    "    def minMeetingRooms(self, intervals):\n",
    "        \n",
    "        events = [ (s,'s') for s,e in intervals] + [ (e,'e') for s,e in intervals]\n",
    "        \n",
    "        #sort = sorted(events, key=lambda e:(e[0], e[1]))\n",
    "        room= 0\n",
    "        maxroom = 0\n",
    "        heapq.heapify(events)\n",
    "        while (events):\n",
    "            e = heapq.heappop(events)\n",
    "            \n",
    "            if (e[1] == 's'):\n",
    "                room +=1\n",
    "            else:\n",
    "                room -=1\n",
    "        \n",
    "            maxroom = max(maxroom,room)\n",
    "        \n",
    "        return maxroom"
   ]
  },
  {
   "cell_type": "code",
   "execution_count": 56,
   "metadata": {},
   "outputs": [],
   "source": [
    "meetings = [(1, 10), (2, 7), (3, 19), (8, 12), (10, 20), (11, 30)]"
   ]
  },
  {
   "cell_type": "code",
   "execution_count": 57,
   "metadata": {},
   "outputs": [
    {
     "data": {
      "text/plain": [
       "4"
      ]
     },
     "execution_count": 57,
     "metadata": {},
     "output_type": "execute_result"
    }
   ],
   "source": [
    "Solution().minMeetingRoom(meetings)"
   ]
  },
  {
   "cell_type": "code",
   "execution_count": null,
   "metadata": {},
   "outputs": [],
   "source": []
  }
 ],
 "metadata": {
  "kernelspec": {
   "display_name": "Python 3",
   "language": "python",
   "name": "python3"
  },
  "language_info": {
   "codemirror_mode": {
    "name": "ipython",
    "version": 3
   },
   "file_extension": ".py",
   "mimetype": "text/x-python",
   "name": "python",
   "nbconvert_exporter": "python",
   "pygments_lexer": "ipython3",
   "version": "3.7.6"
  }
 },
 "nbformat": 4,
 "nbformat_minor": 2
}
