{
 "cells": [
  {
   "cell_type": "code",
   "execution_count": 1,
   "metadata": {},
   "outputs": [],
   "source": [
    "# a string only has {} () []\n",
    "# check if it's a palindromic string"
   ]
  },
  {
   "cell_type": "code",
   "execution_count": 141,
   "metadata": {},
   "outputs": [],
   "source": [
    "from collections import deque\n",
    "class Solution:\n",
    "    def isValid(self, s: str) -> bool:\n",
    "        \n",
    "        if (not s):\n",
    "            return True\n",
    "        \n",
    "        if (len(s)%2 ==1):\n",
    "            return False\n",
    "\n",
    "        mp = {'(':1, ')':-1, '[':2, ']':-2, '{':3, '}':-3}\n",
    "        \n",
    "        last = mp[s[0]]\n",
    "        q = deque([last])\n",
    "        for i in range(1,len(s)):\n",
    "            if (q):\n",
    "                last = q.pop()\n",
    "                if (last + mp[s[i]] == 0):\n",
    "                    # close one pair\n",
    "                    continue\n",
    "                elif (mp[s[i]] > 0):\n",
    "                    q.append(last)\n",
    "                    # an open char\n",
    "                    q.append(mp[s[i]])\n",
    "                else:\n",
    "                    return False\n",
    "            else:\n",
    "                if (mp[s[i]] > 0):\n",
    "                    q.append(mp[s[i]])\n",
    "                else:\n",
    "                    return False\n",
    "                \n",
    "        return len(q)==0\n",
    "\n",
    "    def isValid2(self, s: str) -> bool:\n",
    "        \n",
    "        if (not s):\n",
    "            return True\n",
    "        \n",
    "        if (len(s)%2 ==1):\n",
    "            return False\n",
    "\n",
    "        mp = {'(':1, ')':-1, '[':2, ']':-2, '{':3, '}':-3}\n",
    "        \n",
    "        q = deque()\n",
    "        for c in s:\n",
    "            if (q):\n",
    "                last = q.pop()\n",
    "                if (last + mp[c] == 0):\n",
    "                    # close one pair\n",
    "                    continue\n",
    "                elif (mp[c] > 0):\n",
    "                    q.append(last)\n",
    "                    # an open char\n",
    "                    q.append(mp[c])\n",
    "                else:\n",
    "                    return False\n",
    "            else:\n",
    "                if (mp[c] > 0):\n",
    "                    q.append(mp[c])\n",
    "                else:\n",
    "                    return False\n",
    "                \n",
    "        return len(q)==0\n",
    "\n",
    "    def isValid3(self, s: str) -> bool:\n",
    "        \n",
    "        if (not s):\n",
    "            return True\n",
    "        \n",
    "        if (len(s)%2 ==1):\n",
    "            return False\n",
    "\n",
    "        mp = {'(':')', '[':']', '{':'}'}\n",
    "        \n",
    "        stk = []\n",
    "        for c in s:\n",
    "            if (c in mp):\n",
    "                stk.append(c)\n",
    "            else:\n",
    "                if (not stk):\n",
    "                    return False\n",
    "                else:\n",
    "                    last = stk.pop()\n",
    "                    if (mp[last] !=c):\n",
    "                        return False\n",
    "                \n",
    "        return len(stk)==0\n",
    "    "
   ]
  },
  {
   "cell_type": "code",
   "execution_count": 146,
   "metadata": {},
   "outputs": [],
   "source": [
    "s = '(('"
   ]
  },
  {
   "cell_type": "code",
   "execution_count": 147,
   "metadata": {},
   "outputs": [
    {
     "data": {
      "text/plain": [
       "False"
      ]
     },
     "execution_count": 147,
     "metadata": {},
     "output_type": "execute_result"
    }
   ],
   "source": [
    "Solution().isValid3(s)"
   ]
  },
  {
   "cell_type": "code",
   "execution_count": null,
   "metadata": {},
   "outputs": [],
   "source": []
  }
 ],
 "metadata": {
  "kernelspec": {
   "display_name": "Python 3",
   "language": "python",
   "name": "python3"
  },
  "language_info": {
   "codemirror_mode": {
    "name": "ipython",
    "version": 3
   },
   "file_extension": ".py",
   "mimetype": "text/x-python",
   "name": "python",
   "nbconvert_exporter": "python",
   "pygments_lexer": "ipython3",
   "version": "3.7.6"
  }
 },
 "nbformat": 4,
 "nbformat_minor": 2
}
