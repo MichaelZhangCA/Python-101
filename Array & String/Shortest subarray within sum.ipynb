{
 "cells": [
  {
   "cell_type": "code",
   "execution_count": 13,
   "metadata": {},
   "outputs": [],
   "source": [
    "# find the shortest sub array which has sum great than a given k"
   ]
  },
  {
   "cell_type": "code",
   "execution_count": 56,
   "metadata": {},
   "outputs": [],
   "source": [
    "def shortestArray(arr, k):\n",
    "    \n",
    "    left, cur_sum = 0, 0\n",
    "    min_len = float('inf')\n",
    "    \n",
    "    for i in range(len(arr)):\n",
    "        cur_sum += arr[i]\n",
    "        if (cur_sum >= k):\n",
    "            cur_len = (i-left+1)\n",
    "            \n",
    "            # remove left and count the sum again\n",
    "            print(i, arr[i])\n",
    "            while (cur_sum >=k and left<=i):\n",
    "                print(cur_sum, left, cur_len)\n",
    "                cur_sum -= arr[left]\n",
    "                left +=1\n",
    "                cur_len -= 1\n",
    "\n",
    "            min_len = min(min_len, cur_len + 1)\n",
    "                \n",
    "    return min_len if (min_len < float('inf')) else 0"
   ]
  },
  {
   "cell_type": "code",
   "execution_count": 62,
   "metadata": {},
   "outputs": [],
   "source": [
    "arr = [1,2,3,4,5,6,7,8]"
   ]
  },
  {
   "cell_type": "code",
   "execution_count": 66,
   "metadata": {},
   "outputs": [
    {
     "name": "stdout",
     "output_type": "stream",
     "text": [
      "7 8\n",
      "36 0 8\n",
      "35 1 7\n",
      "33 2 6\n",
      "30 3 5\n"
     ]
    },
    {
     "data": {
      "text/plain": [
       "5"
      ]
     },
     "execution_count": 66,
     "metadata": {},
     "output_type": "execute_result"
    }
   ],
   "source": [
    "shortestArray(arr, 30)"
   ]
  },
  {
   "cell_type": "code",
   "execution_count": null,
   "metadata": {},
   "outputs": [],
   "source": []
  },
  {
   "cell_type": "code",
   "execution_count": null,
   "metadata": {},
   "outputs": [],
   "source": []
  }
 ],
 "metadata": {
  "kernelspec": {
   "display_name": "Python 3",
   "language": "python",
   "name": "python3"
  },
  "language_info": {
   "codemirror_mode": {
    "name": "ipython",
    "version": 3
   },
   "file_extension": ".py",
   "mimetype": "text/x-python",
   "name": "python",
   "nbconvert_exporter": "python",
   "pygments_lexer": "ipython3",
   "version": "3.7.6"
  }
 },
 "nbformat": 4,
 "nbformat_minor": 2
}
