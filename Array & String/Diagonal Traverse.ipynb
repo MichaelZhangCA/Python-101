{
 "cells": [
  {
   "cell_type": "code",
   "execution_count": 2,
   "metadata": {},
   "outputs": [
    {
     "data": {
      "text/plain": [
       "[[1, 2, 3], [4, 5, 6], [7, 8, 9]]"
      ]
     },
     "execution_count": 2,
     "metadata": {},
     "output_type": "execute_result"
    }
   ],
   "source": [
    "# a 2-D array, traverse as below\n",
    "\n",
    "[\n",
    " [ 1, 2, 3 ],\n",
    " [ 4, 5, 6 ],\n",
    " [ 7, 8, 9 ]\n",
    "]"
   ]
  },
  {
   "cell_type": "markdown",
   "metadata": {},
   "source": [
    "<img src = \"https://assets.leetcode.com/uploads/2018/10/12/diagonal_traverse.png\" />"
   ]
  },
  {
   "cell_type": "code",
   "execution_count": 77,
   "metadata": {},
   "outputs": [],
   "source": [
    "from typing import List\n",
    "def diagonalTraverse(arr : List[List[int]]) -> List[int]:\n",
    "\n",
    "        \n",
    "    if (not arr):\n",
    "        return []\n",
    "\n",
    "    if (len(arr) == 1):\n",
    "        return arr[0]\n",
    "            \n",
    "    max_row = len(arr) -1\n",
    "    max_col = len(arr[0]) -1\n",
    "    row, col = 0, 0\n",
    "    \n",
    "    # add the first one\n",
    "    res = [arr[0][0]]\n",
    "    i = 1\n",
    "    while i <= (max_row + max_col -1):\n",
    "        \n",
    "        strip = []\n",
    "        # befreo to the end of col\n",
    "        if (i<=max_col):\n",
    "            \n",
    "            row = 0\n",
    "            col = i\n",
    "            while col >=0 and row <= max_row:\n",
    "                strip.append(arr[row][col])\n",
    "                col -=1\n",
    "                row +=1\n",
    "\n",
    "        # process the rest\n",
    "        else:\n",
    "            row = i - max_col\n",
    "            col = max_col\n",
    "\n",
    "            while row <= max_row and col >=0:\n",
    "                strip.append(arr[row][col])\n",
    "                row += 1\n",
    "                col -= 1\n",
    "                                      \n",
    "                \n",
    "        # reverse strip if even col\n",
    "        if (i % 2 == 0):\n",
    "            strip = list(reversed(strip))\n",
    "\n",
    "        #print(i,strip)\n",
    "        res += strip\n",
    "        i +=1\n",
    "    \n",
    "    # add the last one\n",
    "    res.append(arr[max_row][max_col])\n",
    "\n",
    "    return res"
   ]
  },
  {
   "cell_type": "code",
   "execution_count": 80,
   "metadata": {},
   "outputs": [],
   "source": [
    "arr = \\\n",
    "[\n",
    " [ 1, 2, 3, 4, 5 ],\n",
    " [ 6, 7, 8, 9, 10 ],\n",
    " [ 11, 12, 13, 14, 15],\n",
    " [ 16, 17, 18 ,19, 20]\n",
    "]\n",
    "\n",
    "arr2 = \\\n",
    "[\n",
    " [ 1, 2, 3 ],\n",
    " [ 4, 5, 6 ],\n",
    " [ 7, 8, 9 ],\n",
    " [ 10, 11, 12],\n",
    " [ 13, 14, 15],\n",
    " [ 16, 17, 18]\n",
    "]\n"
   ]
  },
  {
   "cell_type": "code",
   "execution_count": 81,
   "metadata": {},
   "outputs": [
    {
     "data": {
      "text/plain": [
       "[1, 2, 4, 7, 5, 3, 6, 8, 10, 13, 11, 9, 12, 14, 16, 17, 15, 18]"
      ]
     },
     "execution_count": 81,
     "metadata": {},
     "output_type": "execute_result"
    }
   ],
   "source": [
    "diagonalTraverse(arr2)"
   ]
  },
  {
   "cell_type": "code",
   "execution_count": null,
   "metadata": {},
   "outputs": [],
   "source": []
  }
 ],
 "metadata": {
  "kernelspec": {
   "display_name": "Python 3",
   "language": "python",
   "name": "python3"
  },
  "language_info": {
   "codemirror_mode": {
    "name": "ipython",
    "version": 3
   },
   "file_extension": ".py",
   "mimetype": "text/x-python",
   "name": "python",
   "nbconvert_exporter": "python",
   "pygments_lexer": "ipython3",
   "version": "3.7.6"
  }
 },
 "nbformat": 4,
 "nbformat_minor": 2
}
