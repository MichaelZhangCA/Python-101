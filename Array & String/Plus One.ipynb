{
 "cells": [
  {
   "cell_type": "code",
   "execution_count": 1,
   "metadata": {},
   "outputs": [],
   "source": [
    "# an array presens an integer, add 1 then output the new list"
   ]
  },
  {
   "cell_type": "code",
   "execution_count": 5,
   "metadata": {},
   "outputs": [],
   "source": [
    "from typing import List\n",
    "def addOne(digits:List[int]) -> List[int]:\n",
    "    shift = 1\n",
    "    for i in range(len(digits)-1,-1,-1):\n",
    "        if (digits[i] == 9):\n",
    "            digits[i] = 0\n",
    "        else:\n",
    "            digits [i] += 1\n",
    "            shift = 0\n",
    "        \n",
    "        if (shift==0):\n",
    "            break\n",
    "    \n",
    "    return ([1] if (shift==1) else []) + digits"
   ]
  },
  {
   "cell_type": "code",
   "execution_count": null,
   "metadata": {},
   "outputs": [],
   "source": []
  }
 ],
 "metadata": {
  "kernelspec": {
   "display_name": "Python 3",
   "language": "python",
   "name": "python3"
  },
  "language_info": {
   "codemirror_mode": {
    "name": "ipython",
    "version": 3
   },
   "file_extension": ".py",
   "mimetype": "text/x-python",
   "name": "python",
   "nbconvert_exporter": "python",
   "pygments_lexer": "ipython3",
   "version": "3.7.6"
  }
 },
 "nbformat": 4,
 "nbformat_minor": 2
}
