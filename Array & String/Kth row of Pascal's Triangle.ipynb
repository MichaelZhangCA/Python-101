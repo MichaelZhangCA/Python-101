{
 "cells": [
  {
   "cell_type": "code",
   "execution_count": 1,
   "metadata": {},
   "outputs": [],
   "source": [
    "# only return the last Pascal's Trangle row of given K\n",
    "# use minimal space\n",
    "# it's much faster than recursive, even with memoize"
   ]
  },
  {
   "cell_type": "code",
   "execution_count": 121,
   "metadata": {},
   "outputs": [],
   "source": [
    "def ptRow(k):\n",
    "    \n",
    "    if (k==0):\n",
    "        return [1]\n",
    "    if (k==1):\n",
    "        return [1,1]\n",
    "    \n",
    "    arr = [1]\n",
    "    \n",
    "    for i in range(2, k+1):\n",
    "        print(i, arr)\n",
    "        if (i%2 == 0):\n",
    "            arr.append(arr[-1] * 2)\n",
    "        else:\n",
    "            arr[-1] = arr[-1] + arr[-2]\n",
    "        \n",
    "        for j in range((i//2)-1,0,-1):\n",
    "            arr[j] = arr[j] + arr[j-1]\n",
    "        \n",
    "\n",
    "    \n",
    "    for i in range((k-1)//2,-1,-1):\n",
    "        arr.append(arr[i])\n",
    "\n",
    "    return arr\n",
    "        "
   ]
  },
  {
   "cell_type": "code",
   "execution_count": 122,
   "metadata": {},
   "outputs": [
    {
     "name": "stdout",
     "output_type": "stream",
     "text": [
      "2 [1]\n",
      "3 [1, 2]\n",
      "4 [1, 3]\n"
     ]
    },
    {
     "data": {
      "text/plain": [
       "[1, 4, 6, 4, 1]"
      ]
     },
     "execution_count": 122,
     "metadata": {},
     "output_type": "execute_result"
    }
   ],
   "source": [
    "ptRow(4)"
   ]
  },
  {
   "cell_type": "code",
   "execution_count": null,
   "metadata": {},
   "outputs": [],
   "source": []
  },
  {
   "cell_type": "code",
   "execution_count": 34,
   "metadata": {},
   "outputs": [],
   "source": [
    "from typing import List\n",
    "class SolutionR:\n",
    "    def getRow(self, k: int) -> List[int]:\n",
    "\n",
    "        row = []\n",
    "        for j in range(0, k+1):\n",
    "            row.append(self.f(k,j, {}))\n",
    "            \n",
    "        return row\n",
    "    \n",
    "    def f(self, i,j, mem):\n",
    "        if (j==0 or i==j):\n",
    "            return 1\n",
    "\n",
    "        if((i,j) in mem):\n",
    "            return mem[(i,j)]\n",
    "        \n",
    "        else:\n",
    "            p = self.f(i-1, j-1, mem) + self.f(i-1,j,mem) \n",
    "            mem[(i,j)] = p\n",
    "            return p\n"
   ]
  },
  {
   "cell_type": "code",
   "execution_count": 35,
   "metadata": {},
   "outputs": [
    {
     "data": {
      "text/plain": [
       "[1, 3, 3, 1]"
      ]
     },
     "execution_count": 35,
     "metadata": {},
     "output_type": "execute_result"
    }
   ],
   "source": [
    "SolutionR().getRow(3)"
   ]
  },
  {
   "cell_type": "code",
   "execution_count": 37,
   "metadata": {},
   "outputs": [
    {
     "data": {
      "text/plain": [
       "[0, 0, 0]"
      ]
     },
     "execution_count": 37,
     "metadata": {},
     "output_type": "execute_result"
    }
   ],
   "source": [
    "[0] * 3"
   ]
  },
  {
   "cell_type": "code",
   "execution_count": null,
   "metadata": {},
   "outputs": [],
   "source": []
  }
 ],
 "metadata": {
  "kernelspec": {
   "display_name": "Python 3",
   "language": "python",
   "name": "python3"
  },
  "language_info": {
   "codemirror_mode": {
    "name": "ipython",
    "version": 3
   },
   "file_extension": ".py",
   "mimetype": "text/x-python",
   "name": "python",
   "nbconvert_exporter": "python",
   "pygments_lexer": "ipython3",
   "version": "3.7.6"
  }
 },
 "nbformat": 4,
 "nbformat_minor": 2
}
