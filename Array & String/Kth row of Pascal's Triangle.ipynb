{
 "cells": [
  {
   "cell_type": "code",
   "execution_count": 1,
   "metadata": {},
   "outputs": [],
   "source": [
    "# only return the last Pascal's Trangle row of given K\n",
    "# use minimal space"
   ]
  },
  {
   "cell_type": "code",
   "execution_count": 121,
   "metadata": {},
   "outputs": [],
   "source": [
    "def ptRow(k):\n",
    "    \n",
    "    if (k==0):\n",
    "        return [1]\n",
    "    if (k==1):\n",
    "        return [1,1]\n",
    "    \n",
    "    arr = [1]\n",
    "    \n",
    "    for i in range(2, k+1):\n",
    "        print(i, arr)\n",
    "        if (i%2 == 0):\n",
    "            arr.append(arr[-1] * 2)\n",
    "        else:\n",
    "            arr[-1] = arr[-1] + arr[-2]\n",
    "        \n",
    "        for j in range((i//2)-1,0,-1):\n",
    "            arr[j] = arr[j] + arr[j-1]\n",
    "        \n",
    "\n",
    "    \n",
    "    for i in range((k-1)//2,-1,-1):\n",
    "        arr.append(arr[i])\n",
    "\n",
    "    return arr\n",
    "        "
   ]
  },
  {
   "cell_type": "code",
   "execution_count": 122,
   "metadata": {},
   "outputs": [
    {
     "name": "stdout",
     "output_type": "stream",
     "text": [
      "2 [1]\n",
      "3 [1, 2]\n",
      "4 [1, 3]\n"
     ]
    },
    {
     "data": {
      "text/plain": [
       "[1, 4, 6, 4, 1]"
      ]
     },
     "execution_count": 122,
     "metadata": {},
     "output_type": "execute_result"
    }
   ],
   "source": [
    "ptRow(4)"
   ]
  },
  {
   "cell_type": "code",
   "execution_count": null,
   "metadata": {},
   "outputs": [],
   "source": []
  },
  {
   "cell_type": "code",
   "execution_count": null,
   "metadata": {},
   "outputs": [],
   "source": []
  }
 ],
 "metadata": {
  "kernelspec": {
   "display_name": "Python 3",
   "language": "python",
   "name": "python3"
  },
  "language_info": {
   "codemirror_mode": {
    "name": "ipython",
    "version": 3
   },
   "file_extension": ".py",
   "mimetype": "text/x-python",
   "name": "python",
   "nbconvert_exporter": "python",
   "pygments_lexer": "ipython3",
   "version": "3.7.6"
  }
 },
 "nbformat": 4,
 "nbformat_minor": 2
}
