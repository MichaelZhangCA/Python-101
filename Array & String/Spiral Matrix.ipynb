{
 "cells": [
  {
   "cell_type": "code",
   "execution_count": 1,
   "metadata": {},
   "outputs": [],
   "source": [
    "# traverse the matrix from outside to innerside"
   ]
  },
  {
   "cell_type": "code",
   "execution_count": 18,
   "metadata": {},
   "outputs": [],
   "source": [
    "def spiral(arr):\n",
    "\n",
    "    if (not arr):\n",
    "        return []\n",
    "    \n",
    "    if (len(arr)==1):\n",
    "        return arr[0]\n",
    "    \n",
    "    # log min_row, max_row, min_col, max_col have been traversed\n",
    "    min_trow, max_trow, min_tcol, max_tcol = -1, len(arr), -1, len(arr[0])\n",
    "    \n",
    "    cur_row, cur_col = 0, 0\n",
    "    directions = [(0,1), (1,0), (0,-1), (-1,0)]\n",
    "    cur_direction = 0\n",
    "    delta_row, delta_col = directions[cur_direction]\n",
    "    \n",
    "    res = [arr[0][0]]\n",
    "    visited = 0\n",
    "    \n",
    "    while (visited < len(arr) * len(arr[0])- 1):\n",
    "        \n",
    "        # if the next direction hit any visited row/col, change direction\n",
    "        next_row = cur_row + delta_row\n",
    "        next_col = cur_col + delta_col\n",
    "        \n",
    "        # hit any visited row/col, change direction\n",
    "        if (next_row == max_trow or next_row == min_trow or next_col == max_tcol or next_col == min_tcol):\n",
    "            # mark current row/col visited\n",
    "            if (next_col == max_tcol):\n",
    "                min_trow = cur_row\n",
    "            elif (next_col == min_tcol):\n",
    "                max_trow = cur_row\n",
    "            elif (next_row == max_trow):\n",
    "                max_tcol = cur_col\n",
    "            elif (next_row == min_trow):\n",
    "                min_tcol = cur_col\n",
    "        \n",
    "            cur_direction = (cur_direction + 1) % 4\n",
    "            delta_row, delta_col = directions[cur_direction]\n",
    "            # because the cur_row/cur_col is not moved, no item add to the result\n",
    "        else:\n",
    "            # move one more step\n",
    "            cur_row += delta_row\n",
    "            cur_col += delta_col\n",
    "            \n",
    "            # add new point\n",
    "            res.append(arr[cur_row][cur_col])\n",
    "            visited +=1\n",
    "\n",
    "    return res"
   ]
  },
  {
   "cell_type": "code",
   "execution_count": 21,
   "metadata": {},
   "outputs": [],
   "source": [
    "arr = \\\n",
    "[\n",
    " [ 1, 2, 3 ],\n",
    " [ 4, 5, 6 ],\n",
    " [ 7, 8, 9 ]\n",
    "]\n",
    "\n",
    "arr2 = \\\n",
    "[\n",
    " [ 1, 2, 3, 4 ],\n",
    " [ 5, 6, 7, 8 ],\n",
    " [ 9, 10, 11, 12 ]\n",
    "]\n"
   ]
  },
  {
   "cell_type": "code",
   "execution_count": 22,
   "metadata": {},
   "outputs": [
    {
     "name": "stdout",
     "output_type": "stream",
     "text": [
      "0 1\n",
      "0 2\n",
      "0 3\n",
      "1 3\n",
      "2 3\n",
      "2 2\n",
      "2 1\n",
      "2 0\n",
      "1 0\n",
      "1 1\n",
      "1 2\n"
     ]
    },
    {
     "data": {
      "text/plain": [
       "[1, 2, 3, 4, 8, 12, 11, 10, 9, 5, 6, 7]"
      ]
     },
     "execution_count": 22,
     "metadata": {},
     "output_type": "execute_result"
    }
   ],
   "source": [
    "spiral(arr2)"
   ]
  },
  {
   "cell_type": "code",
   "execution_count": null,
   "metadata": {},
   "outputs": [],
   "source": []
  }
 ],
 "metadata": {
  "kernelspec": {
   "display_name": "Python 3",
   "language": "python",
   "name": "python3"
  },
  "language_info": {
   "codemirror_mode": {
    "name": "ipython",
    "version": 3
   },
   "file_extension": ".py",
   "mimetype": "text/x-python",
   "name": "python",
   "nbconvert_exporter": "python",
   "pygments_lexer": "ipython3",
   "version": "3.7.6"
  }
 },
 "nbformat": 4,
 "nbformat_minor": 2
}
