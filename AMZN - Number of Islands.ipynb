{
 "cells": [
  {
   "cell_type": "raw",
   "metadata": {},
   "source": [
    "Given a 2d grid map of '1's (land) and '0's (water), count the number of islands. An island is surrounded by water and is formed by connecting adjacent lands horizontally or vertically. You may assume all four edges of the grid are all surrounded by water.\n",
    "\n",
    "Example 1:\n",
    "\n",
    "Input:\n",
    "11110\n",
    "11010\n",
    "11000\n",
    "00000\n",
    "\n",
    "Output: 1\n",
    "Example 2:\n",
    "\n",
    "Input:\n",
    "11000\n",
    "11000\n",
    "00100\n",
    "00011\n",
    "\n",
    "Output: 3\n"
   ]
  },
  {
   "cell_type": "code",
   "execution_count": null,
   "metadata": {},
   "outputs": [],
   "source": [
    "# use a queue\n",
    "# find the first island\n",
    "# use BFS to check all neighbours, \n",
    "#    add to the queue if also island\n",
    "#    cheng the cell to water so it will not been hit again"
   ]
  },
  {
   "cell_type": "code",
   "execution_count": 53,
   "metadata": {},
   "outputs": [],
   "source": [
    "from collections import deque\n",
    "from typing import List\n",
    "class Solution:\n",
    "\n",
    "    def numIslands(self, grid: List[List[str]]) -> int:\n",
    "\n",
    "        ans = 0\n",
    "        delta = [(1, 0), (0, 1), (-1, 0), (0, -1)]\n",
    "\n",
    "        for i in range(len(grid)):\n",
    "            for j in range(len(grid[i])):\n",
    "                if grid[i][j] == '1':\n",
    "                    # start the queue\n",
    "                    queue = deque([(i, j)])\n",
    "                    while queue:\n",
    "                        # check the first item in the queue\n",
    "                        x, y = queue.popleft()\n",
    "                        for dx, dy in delta:\n",
    "                            new_x, new_y = x + dx, y + dy\n",
    "                            # add to the queue if neighbour is also island\n",
    "                            if self.is_island(new_x, new_y, grid):\n",
    "                                queue.append((new_x, new_y))\n",
    "                                grid[new_x][new_y] = '0'\n",
    "                    \n",
    "                    # count island\n",
    "                    ans += 1 \n",
    "        return ans\n",
    "\n",
    "    def is_island(self, x, y, grid):\n",
    "        return not( x >= len(grid) or x < 0 or y >= len(grid[0]) or y < 0 or grid[x][y] == '0')\n"
   ]
  },
  {
   "cell_type": "code",
   "execution_count": 54,
   "metadata": {},
   "outputs": [],
   "source": [
    "grid = [['1','1','1','1','0'],['1','1','0','1','0'],['1','1','0','0','0'],['0','0','0','0','0']]"
   ]
  },
  {
   "cell_type": "code",
   "execution_count": 60,
   "metadata": {},
   "outputs": [
    {
     "data": {
      "text/plain": [
       "3"
      ]
     },
     "execution_count": 60,
     "metadata": {},
     "output_type": "execute_result"
    }
   ],
   "source": [
    "Solution().numIslands(grid)"
   ]
  },
  {
   "cell_type": "code",
   "execution_count": 59,
   "metadata": {},
   "outputs": [],
   "source": [
    "grid = [['1','1','0','0','0'],['1','1','0','0','0'],['0','0','1','0','0'],['0','0','0','1','1']]"
   ]
  },
  {
   "cell_type": "code",
   "execution_count": 58,
   "metadata": {},
   "outputs": [
    {
     "data": {
      "text/plain": [
       "3"
      ]
     },
     "execution_count": 58,
     "metadata": {},
     "output_type": "execute_result"
    }
   ],
   "source": [
    "Solution2().numIslands(grid)"
   ]
  },
  {
   "cell_type": "code",
   "execution_count": null,
   "metadata": {},
   "outputs": [],
   "source": [
    "# find the fist island\n",
    "# use BFS to walk through the whole island\n",
    "# and mark all island as water so won't hit again\n",
    "# loop the matrix for the next island"
   ]
  },
  {
   "cell_type": "code",
   "execution_count": 41,
   "metadata": {},
   "outputs": [],
   "source": [
    "class Solution2(object):\n",
    "    def numIslands(self, matrix):\n",
    "        res = 0\n",
    "        for row in range(len(matrix)):\n",
    "            for col in range(len(matrix[row])):\n",
    "                if matrix[row][col] == \"1\":\n",
    "                    self.walkThroughIsland(matrix, row, col)\n",
    "                    res += 1\n",
    "\n",
    "        return res\n",
    "\t\n",
    "    def walkThroughIsland(self, matrix, row, col):\n",
    "        \n",
    "        if row < 0 or row >= len(matrix) or col < 0 or col >= len(matrix[row]) or matrix[row][col] == \"0\":\n",
    "            return\n",
    "        \n",
    "        # mark the island as water and walk through neighbours\n",
    "        matrix[row][col] = \"0\"\n",
    "\n",
    "        self.walkThroughIsland(matrix, row - 1, col)\n",
    "        self.walkThroughIsland(matrix, row + 1, col)\n",
    "        self.walkThroughIsland(matrix, row, col + 1)\n",
    "        self.walkThroughIsland(matrix, row, col - 1)"
   ]
  },
  {
   "cell_type": "code",
   "execution_count": null,
   "metadata": {},
   "outputs": [],
   "source": []
  },
  {
   "cell_type": "code",
   "execution_count": null,
   "metadata": {},
   "outputs": [],
   "source": []
  }
 ],
 "metadata": {
  "kernelspec": {
   "display_name": "Python 3",
   "language": "python",
   "name": "python3"
  },
  "language_info": {
   "codemirror_mode": {
    "name": "ipython",
    "version": 3
   },
   "file_extension": ".py",
   "mimetype": "text/x-python",
   "name": "python",
   "nbconvert_exporter": "python",
   "pygments_lexer": "ipython3",
   "version": "3.7.6"
  }
 },
 "nbformat": 4,
 "nbformat_minor": 2
}
