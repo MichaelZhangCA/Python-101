{
 "cells": [
  {
   "cell_type": "raw",
   "metadata": {},
   "source": [
    "Given an undirected graph with n nodes labeled 1..n. Some of the nodes are already connected. The i-th edge connects nodes edges[i][0] and edges[i][1] together. Your task is to augment this set of edges with additional edges to connect all the nodes. Find the minimum cost to add new edges between the nodes such that all the nodes are accessible from each other.\n",
    "\n",
    "Input:\n",
    "\n",
    "n, an int representing the total number of nodes.\n",
    "edges, a list of integer pair representing the nodes already connected by an edge.\n",
    "newEdges, a list where each element is a triplet representing the pair of nodes between which an edge can be added and the cost of addition, respectively (e.g. [1, 2, 5] means to add an edge between node 1 and 2, the cost would be 5).\n",
    "Example 1:\n",
    "\n",
    "Input: n = 6, edges = [[1, 4], [4, 5], [2, 3]], newEdges = [[1, 2, 5], [1, 3, 10], [1, 6, 2], [5, 6, 5]]\n",
    "Output: 7\n",
    "Explanation:\n",
    "There are 3 connected components [1, 4, 5], [2, 3] and [6].\n",
    "We can connect these components into a single component by connecting node 1 to node 2 and node 1 to node 6 at a minimum cost of 5 + 2 = 7.\n"
   ]
  },
  {
   "cell_type": "code",
   "execution_count": 1,
   "metadata": {},
   "outputs": [],
   "source": [
    "# use Kruskal's MST (Minimul Spinning Tree) algorithm\n",
    "# current edges treaded as cost = 0\n",
    "# order current edges and repair edges together\n",
    "# user Kruskal's MST, find & union to find the minual cost"
   ]
  },
  {
   "cell_type": "code",
   "execution_count": 130,
   "metadata": {},
   "outputs": [],
   "source": [
    "class Solution():\n",
    "    aux = [-1, -1, -1, -1, -1, -1]\n",
    "    def _find(self, node):\n",
    "        # loop parent node untile get the end\n",
    "        while (self.aux[node-1] !=-1):\n",
    "            node = self.aux[node-1]\n",
    "        return node\n",
    "\n",
    "    #def _findReverse(self, node):\n",
    "        # loop child node untile get the start node\n",
    "        # if node in the aux, means there is another one linked to it\n",
    "    #    while (node in self.aux):\n",
    "            # get the index of linked to this node\n",
    "    #        node = self.aux.index(node) + 1\n",
    "    #    return node\n",
    "\n",
    "    def _union(self, node1, node2):\n",
    "        # connect node1's end & start of node2\n",
    "        eo_node1 = self._find(node1)\n",
    "        #so_node2 = self._findReverse(node2)\n",
    "        # link eo_node1 and so_node2\n",
    "        # when union, directly join the end of first to the second node, also works\n",
    "        self.aux[eo_node1-1] = node2\n",
    "\n",
    "    def minCostToConnectAllNodes(self, n, edges, newEdges):\n",
    "        \n",
    "        # define node parents array\n",
    "        self.aux = [-1 for i in range(1,n+1)]\n",
    "\n",
    "        \n",
    "        # merge edges\n",
    "        current_edges = [ item + [0] for item in edges]\n",
    "        all_edges = sorted(current_edges + newEdges, key=lambda x:x[2])\n",
    "        print(all_edges)\n",
    "        res = 0\n",
    "        print(self.aux)\n",
    "        \n",
    "        # loop all edges and find MST\n",
    "        for edge in all_edges:\n",
    "            eo_node0 = self._find(edge[0])\n",
    "            eo_node1 = self._find(edge[1])\n",
    "                           \n",
    "            if (eo_node0 != eo_node1 or eo_node0==-1 or eo_node1==-1):\n",
    "                # two nodes not connected\n",
    "                self._union(edge[0], edge[1])\n",
    "                res += edge[2]\n",
    "            \n",
    "                print(edge)\n",
    "                print(self.aux)\n",
    "            else:\n",
    "                # if two nodes already connected, ignore this edge\n",
    "                pass\n",
    "\n",
    "        # check if the MST cover all ndoes\n",
    "        #covered_nodes = sum([(0 if i==node-1 else 1) for i, node in enumerate(self.aux)])\n",
    "        #covered_nodes = self.aux.count(-1)\n",
    "        #print(covered_nodes)\n",
    "        \n",
    "        return res if (self.aux.count(-1) == 1) else -1"
   ]
  },
  {
   "cell_type": "code",
   "execution_count": 133,
   "metadata": {},
   "outputs": [],
   "source": [
    "n = 6\n",
    "edges = [[1, 4], [4, 5]]\n",
    "newEdges = [[1, 2, 5], [1, 6, 2], [5, 6, 5]]"
   ]
  },
  {
   "cell_type": "code",
   "execution_count": 134,
   "metadata": {},
   "outputs": [
    {
     "name": "stdout",
     "output_type": "stream",
     "text": [
      "[[1, 4, 0], [4, 5, 0], [1, 6, 2], [1, 2, 5], [5, 6, 5]]\n",
      "[-1, -1, -1, -1, -1, -1]\n",
      "[1, 4, 0]\n",
      "[4, -1, -1, -1, -1, -1]\n",
      "[4, 5, 0]\n",
      "[4, -1, -1, 5, -1, -1]\n",
      "[1, 6, 2]\n",
      "[4, -1, -1, 5, 6, -1]\n",
      "[1, 2, 5]\n",
      "[4, -1, -1, 5, 6, 2]\n"
     ]
    },
    {
     "data": {
      "text/plain": [
       "-1"
      ]
     },
     "execution_count": 134,
     "metadata": {},
     "output_type": "execute_result"
    }
   ],
   "source": [
    "Solution().minCostToConnectAllNodes(n, edges, newEdges)"
   ]
  },
  {
   "cell_type": "code",
   "execution_count": 100,
   "metadata": {},
   "outputs": [],
   "source": [
    "class Solution2():\n",
    "    # aux will keep node itself as then end at the beginning\n",
    "    aux = []\n",
    "    def _find(self, node):\n",
    "        # loop parent node untile get the end\n",
    "        while (self.aux[node-1] !=node):\n",
    "            node = self.aux[node-1]\n",
    "        return node\n",
    "\n",
    "    def _union(self, node1, node2):\n",
    "        # connect node1's end & node2\n",
    "        eo_node1 = self._find(node1)\n",
    "        # when union, directly join the end of first to the second node, also works\n",
    "        self.aux[eo_node1-1] = node2\n",
    "\n",
    "    def minCostToConnectAllNodes(self, n, edges, newEdges):\n",
    "        \n",
    "        # define node parents array to itself\n",
    "        self.aux = [i for i in range(1,n+1)]\n",
    "\n",
    "        # merge edges\n",
    "        current_edges = [ item + [0] for item in edges]\n",
    "        all_edges = sorted(current_edges + newEdges, key=lambda x:x[2])\n",
    "        print(all_edges)\n",
    "        res = 0\n",
    "        print(self.aux)\n",
    "        \n",
    "        # loop all edges and find MST\n",
    "        for edge in all_edges:\n",
    "            eo_node0 = self._find(edge[0])\n",
    "            eo_node1 = self._find(edge[1])\n",
    "                           \n",
    "            if (eo_node0 != eo_node1): \n",
    "                # two nodes not connected\n",
    "                self._union(edge[0], edge[1])\n",
    "                res += edge[2]\n",
    "            \n",
    "                print(edge)\n",
    "                print(self.aux)\n",
    "            else:\n",
    "                # if two nodes already connected, ignore this edge\n",
    "                pass\n",
    "        \n",
    "        # check if the MST cover all ndoes\n",
    "        covered_nodes = sum([(0 if i==node-1 else 1) for i, node in enumerate(self.aux)])\n",
    "\n",
    "        return res"
   ]
  },
  {
   "cell_type": "code",
   "execution_count": 102,
   "metadata": {},
   "outputs": [
    {
     "name": "stdout",
     "output_type": "stream",
     "text": [
      "[[1, 4, 0], [4, 5, 0], [2, 3, 0], [1, 6, 2], [1, 2, 5], [5, 6, 5], [1, 3, 10]]\n",
      "[1, 2, 3, 4, 5, 6]\n",
      "[1, 4, 0]\n",
      "[4, 2, 3, 4, 5, 6]\n",
      "[4, 5, 0]\n",
      "[4, 2, 3, 5, 5, 6]\n",
      "[2, 3, 0]\n",
      "[4, 3, 3, 5, 5, 6]\n",
      "[1, 6, 2]\n",
      "[4, 3, 3, 5, 6, 6]\n",
      "[1, 2, 5]\n",
      "[4, 3, 3, 5, 6, 2]\n"
     ]
    },
    {
     "data": {
      "text/plain": [
       "7"
      ]
     },
     "execution_count": 102,
     "metadata": {},
     "output_type": "execute_result"
    }
   ],
   "source": [
    "Solution2().minCostToConnectAllNodes(n, edges, newEdges)"
   ]
  },
  {
   "cell_type": "code",
   "execution_count": 110,
   "metadata": {},
   "outputs": [
    {
     "data": {
      "text/plain": [
       "[-1, -1, -1, -1, -1, -1]"
      ]
     },
     "execution_count": 110,
     "metadata": {},
     "output_type": "execute_result"
    }
   ],
   "source": [
    "aux"
   ]
  },
  {
   "cell_type": "code",
   "execution_count": 112,
   "metadata": {},
   "outputs": [
    {
     "name": "stdout",
     "output_type": "stream",
     "text": [
      "0 -1\n",
      "1 -1\n",
      "2 -1\n",
      "3 -1\n",
      "4 -1\n",
      "5 -1\n"
     ]
    }
   ],
   "source": [
    "for i,v in enumerate(aux):\n",
    "    print(i,v)"
   ]
  },
  {
   "cell_type": "code",
   "execution_count": null,
   "metadata": {},
   "outputs": [],
   "source": []
  }
 ],
 "metadata": {
  "kernelspec": {
   "display_name": "Python 3",
   "language": "python",
   "name": "python3"
  },
  "language_info": {
   "codemirror_mode": {
    "name": "ipython",
    "version": 3
   },
   "file_extension": ".py",
   "mimetype": "text/x-python",
   "name": "python",
   "nbconvert_exporter": "python",
   "pygments_lexer": "ipython3",
   "version": "3.7.6"
  }
 },
 "nbformat": 4,
 "nbformat_minor": 2
}
