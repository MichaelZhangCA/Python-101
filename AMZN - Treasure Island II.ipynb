{
 "cells": [
  {
   "cell_type": "raw",
   "metadata": {},
   "source": [
    "You have a map that marks the locations of treasure islands. Some of the map area has jagged rocks and dangerous reefs. Other areas are safe to sail in. There are other explorers trying to find the treasure. So you must figure out a shortest route to one of the treasure islands.\n",
    "\n",
    "Assume the map area is a two dimensional grid, represented by a matrix of characters. You must start from one of the starting point (marked as S) of the map and can move one block up, down, left or right at a time. The treasure island is marked as X. Any block with dangerous rocks or reefs will be marked as D. You must not enter dangerous blocks. You cannot leave the map area. Other areas O are safe to sail in. Output the minimum number of steps to get to any of the treasure islands.\n",
    "\n",
    "Example:\n",
    "\n",
    "Input:\n",
    "[['S', 'O', 'O', 'S', 'S'],\n",
    " ['D', 'O', 'D', 'O', 'D'],\n",
    " ['O', 'O', 'O', 'O', 'X'],\n",
    " ['X', 'D', 'D', 'O', 'O'],\n",
    " ['X', 'D', 'D', 'D', 'O']]\n",
    "\n",
    "Output: 3\n",
    "Explanation:\n",
    "You can start from (0,0), (0, 3) or (0, 4). The treasure locations are (2, 4) (3, 0) and (4, 0). Here the shortest route is (0, 3), (1, 3), (2, 3), (2, 4).\n"
   ]
  },
  {
   "cell_type": "code",
   "execution_count": 4,
   "metadata": {},
   "outputs": [],
   "source": [
    "# it's a multiple path finding\n",
    "# from any of start point, find the nearest treasure\n",
    "#    use BFS to walkthrough the map until hit a trasure\n",
    "# then output\n",
    "# be careful each time need a copy of map, otherwise only the first travesal works"
   ]
  },
  {
   "cell_type": "code",
   "execution_count": 28,
   "metadata": {},
   "outputs": [],
   "source": [
    "from collections import deque\n",
    "from copy import deepcopy\n",
    "\n",
    "class Solution():\n",
    "    \n",
    "    def findTreasure(self, matrix):\n",
    "        nrow, ncol = len(matrix), len(matrix[0])\n",
    "        \n",
    "        # edge case check\n",
    "        if (nrow==0 or ncol==0):\n",
    "            return -1\n",
    "        \n",
    "        shortest = nrow * ncol + 1\n",
    "        # call walkthrough from all start cells\n",
    "        for row in range(nrow):\n",
    "            for col in range(ncol):\n",
    "                if (matrix[row][col] == 'S'):\n",
    "                    step = self._walkThrough(matrix, row, col, nrow, ncol)\n",
    "                    print(step)\n",
    "                    if (step != -1):\n",
    "                        shortest = min(shortest, step)\n",
    "        \n",
    "        return -1 if (shortest == nrow * ncol + 1) else shortest\n",
    "    \n",
    "    def _walkThrough(self, m, sx, sy, nrow, ncol):\n",
    "        \n",
    "        matrix = deepcopy(m)\n",
    "        print(matrix)\n",
    "        \n",
    "        q = deque([(sx, sy, 0)])\n",
    "        delta = [[0,1],[0,-1],[1,0],[-1,0]]\n",
    "        \n",
    "        while q:\n",
    "            x,y,step = q.popleft()\n",
    "\n",
    "            # check here make sure if start from a X also return 0, not -1\n",
    "            if (matrix[x][y]==\"X\"):\n",
    "                return step\n",
    "            \n",
    "            # mark this cell as rock so it won't visit again\n",
    "            matrix[x][y] = \"D\"\n",
    "            # add all neighbour cells to the queue\n",
    "            for dx, dy in delta:\n",
    "                nx, ny = x+dx, y+dy\n",
    "                if ( 0<= nx < nrow and 0<= ny < ncol):\n",
    "                    if (matrix[nx][ny] in [\"O\",\"X\",\"S\"]):\n",
    "                        q.append([nx, ny, step+1])\n",
    "        \n",
    "        # never hit a treasure\n",
    "        return -1\n",
    "        "
   ]
  },
  {
   "cell_type": "code",
   "execution_count": 29,
   "metadata": {},
   "outputs": [],
   "source": [
    "maps = [['S', 'O', 'O', 'S', 'S'],\n",
    "        ['O', 'O', 'D', 'O', 'D'],\n",
    "        ['D', 'O', 'O', 'O', 'S'],\n",
    "        ['X', 'D', 'D', 'O', 'O'],\n",
    "        ['X', 'D', 'D', 'O', 'O']]\n"
   ]
  },
  {
   "cell_type": "code",
   "execution_count": 30,
   "metadata": {},
   "outputs": [
    {
     "name": "stdout",
     "output_type": "stream",
     "text": [
      "[['S', 'O', 'O', 'S', 'S'], ['O', 'O', 'D', 'O', 'D'], ['D', 'O', 'O', 'O', 'S'], ['X', 'D', 'D', 'O', 'O'], ['X', 'D', 'D', 'O', 'O']]\n",
      "-1\n",
      "[['S', 'O', 'O', 'S', 'S'], ['O', 'O', 'D', 'O', 'D'], ['D', 'O', 'O', 'O', 'S'], ['X', 'D', 'D', 'O', 'O'], ['X', 'D', 'D', 'O', 'O']]\n",
      "-1\n",
      "[['S', 'O', 'O', 'S', 'S'], ['O', 'O', 'D', 'O', 'D'], ['D', 'O', 'O', 'O', 'S'], ['X', 'D', 'D', 'O', 'O'], ['X', 'D', 'D', 'O', 'O']]\n",
      "-1\n",
      "[['S', 'O', 'O', 'S', 'S'], ['O', 'O', 'D', 'O', 'D'], ['D', 'O', 'O', 'O', 'S'], ['X', 'D', 'D', 'O', 'O'], ['X', 'D', 'D', 'O', 'O']]\n",
      "-1\n"
     ]
    },
    {
     "data": {
      "text/plain": [
       "-1"
      ]
     },
     "execution_count": 30,
     "metadata": {},
     "output_type": "execute_result"
    }
   ],
   "source": [
    "Solution().findTreasure(maps)"
   ]
  },
  {
   "cell_type": "code",
   "execution_count": 1,
   "metadata": {},
   "outputs": [
    {
     "name": "stdout",
     "output_type": "stream",
     "text": [
      "(1, (2, 1))\n"
     ]
    }
   ],
   "source": [
    "def find_treasure(t_map, row, col, curr_steps, min_steps):\n",
    "    if row >= len(t_map) or row < 0 or col >= len(t_map[0]) or col < 0 or t_map[row][col] == 'D' or t_map[row][col] == '#':\n",
    "        return None, min_steps\n",
    "\n",
    "    if t_map[row][col] == 'X':\n",
    "        curr_steps += 1\n",
    "        if min_steps > curr_steps:\n",
    "            min_steps = min(curr_steps, min_steps)\n",
    "\n",
    "        return None, min_steps\n",
    "\n",
    "    else:\n",
    "        tmp = t_map[row][col]\n",
    "        t_map[row][col] = '#'\n",
    "        curr_steps += 1\n",
    "        left = find_treasure(t_map, row, col-1, curr_steps, min_steps)\n",
    "        right = find_treasure(t_map, row, col+1, curr_steps, min_steps)\n",
    "        up = find_treasure(t_map, row-1, col, curr_steps, min_steps)\n",
    "        down = find_treasure(t_map, row+1, col, curr_steps, min_steps)\n",
    "\n",
    "        t_map[row][col] = tmp\n",
    "\n",
    "        return curr_steps, min(left[1], right[1], up[1], down[1])\n",
    "\n",
    "\n",
    "def main(tr_mp):\n",
    "    main_min_steps = float('inf')\n",
    "    start = None\n",
    "    for row in range(len(treasure_map)):\n",
    "        for col in range(len(treasure_map[0])):\n",
    "            # min_res = [0, 0]\n",
    "            if treasure_map[row][col] == 'S':\n",
    "                min_res = find_treasure(tr_mp, row, col, -1, main_min_steps)\n",
    "\n",
    "            if min_res[1] < main_min_steps:\n",
    "                start = row, col\n",
    "                main_min_steps = min_res[1]\n",
    "\n",
    "    return main_min_steps, start\n",
    "\n",
    "\n",
    "if __name__ == '__main__':\n",
    "    treasure_map = [['S', '1', '1', 'X'],\n",
    "                    ['D', 'D', 'X', '1'],\n",
    "                    ['1', 'S', '1', '1'],\n",
    "                    ['1', 'X', 'X', '1']]\n",
    "    print(main(treasure_map))\n",
    "\n"
   ]
  },
  {
   "cell_type": "code",
   "execution_count": 3,
   "metadata": {},
   "outputs": [
    {
     "name": "stdout",
     "output_type": "stream",
     "text": [
      "(3, (0, 3))\n"
     ]
    }
   ],
   "source": [
    "treasure_map =  [['S', 'O', 'O', 'S', 'S'],\n",
    "                 ['D', 'O', 'D', 'O', 'D'],\n",
    "                 ['O', 'O', 'O', 'O', 'X'],\n",
    "                 ['X', 'D', 'D', 'O', 'O'],\n",
    "                 ['X', 'D', 'D', 'D', 'O']]\n",
    "#print(main(treasure_map))"
   ]
  },
  {
   "cell_type": "code",
   "execution_count": null,
   "metadata": {},
   "outputs": [],
   "source": []
  }
 ],
 "metadata": {
  "kernelspec": {
   "display_name": "Python 3",
   "language": "python",
   "name": "python3"
  },
  "language_info": {
   "codemirror_mode": {
    "name": "ipython",
    "version": 3
   },
   "file_extension": ".py",
   "mimetype": "text/x-python",
   "name": "python",
   "nbconvert_exporter": "python",
   "pygments_lexer": "ipython3",
   "version": "3.7.6"
  }
 },
 "nbformat": 4,
 "nbformat_minor": 2
}
