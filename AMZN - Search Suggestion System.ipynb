{
 "cells": [
  {
   "cell_type": "raw",
   "metadata": {},
   "source": [
    "Given an array of strings products and a string searchWord. We want to design a system that suggests at most three product \n",
    "names from products after each character of searchWord is typed. Suggested products should have common prefix with the searchWord. If there are more than three products with a common prefix return the three lexicographically minimums products.\n",
    "\n",
    "Return list of lists of the suggested products after each character of searchWord is typed. \n",
    "\n",
    "\n",
    "Example 1:\n",
    "\n",
    "Input: products = [\"mobile\",\"mouse\",\"moneypot\",\"monitor\",\"mousepad\"], searchWord = \"mouse\"\n",
    "Output: [\n",
    "[\"mobile\",\"moneypot\",\"monitor\"],\n",
    "[\"mobile\",\"moneypot\",\"monitor\"],\n",
    "[\"mouse\",\"mousepad\"],\n",
    "[\"mouse\",\"mousepad\"],\n",
    "[\"mouse\",\"mousepad\"]\n",
    "]\n",
    "Explanation: products sorted lexicographically = [\"mobile\",\"moneypot\",\"monitor\",\"mouse\",\"mousepad\"]\n",
    "After typing m and mo all products match and we show user [\"mobile\",\"moneypot\",\"monitor\"]\n",
    "After typing mou, mous and mouse the system suggests [\"mouse\",\"mousepad\"]\n",
    "\n",
    "Example 2:\n",
    "\n",
    "Input: products = [\"havana\"], searchWord = \"havana\"\n",
    "Output: [[\"havana\"],[\"havana\"],[\"havana\"],[\"havana\"],[\"havana\"],[\"havana\"]]\n",
    "Example 3:\n",
    "\n",
    "Input: products = [\"bags\",\"baggage\",\"banner\",\"box\",\"cloths\"], searchWord = \"bags\"\n",
    "Output: [[\"baggage\",\"bags\",\"banner\"],[\"baggage\",\"bags\",\"banner\"],[\"baggage\",\"bags\"],[\"bags\"]]\n",
    "Example 4:\n",
    "\n",
    "Input: products = [\"havana\"], searchWord = \"tatiana\"\n",
    "Output: [[],[],[],[],[],[],[]]\n"
   ]
  },
  {
   "cell_type": "code",
   "execution_count": null,
   "metadata": {},
   "outputs": [],
   "source": [
    "# build a tire to fullfill word search\n",
    "# define a TrieNode and a Tire\n",
    "# 1, add multpile words and build the tire internally\n",
    "# 2, expose iteration & search function"
   ]
  },
  {
   "cell_type": "code",
   "execution_count": 8,
   "metadata": {},
   "outputs": [],
   "source": [
    "from collections import defaultdict\n",
    "from typing import List\n",
    "\n",
    "class TrieNode:\n",
    "    def __init__(self):\n",
    "        self.children = defaultdict(TrieNode)\n",
    "        self.terminating = False\n",
    "        \n",
    "class Trie:\n",
    "    def __init__(self):\n",
    "        self.root = TrieNode()\n",
    "    \n",
    "    def insert(self, word):\n",
    "        node = self.root\n",
    "        for ch in word:          \n",
    "            node = node.children[ch]\n",
    "        node.terminating = True\n",
    "         \n",
    "    def _iterate_children(self, node, word):\n",
    "        for k, v in node.children.items():\n",
    "            v = node.children[k]\n",
    "            if v.terminating:\n",
    "                yield word+k\n",
    "        \n",
    "            yield from self._iterate_children(v, word+k)\n",
    "            \n",
    "    def search(self, word):\n",
    "        node = self.root\n",
    "        for ch in word:\n",
    "            if not node.children.get(ch):\n",
    "                return None\n",
    "            node = node.children[ch]\n",
    "        if node.terminating:\n",
    "            yield word \n",
    "            \n",
    "        for word in self._iterate_children(node, word):\n",
    "            yield word\n",
    "\n",
    "class Solution:\n",
    "    def suggestedProducts(self, products: List[str], searchWord: str) -> List[List[str]]:\n",
    "        t = Trie()\n",
    "        for p in sorted(products):\n",
    "            t.insert(p)\n",
    "        \n",
    "        res = []\n",
    "        for i in range(1, len(searchWord)+1):\n",
    "            sug = []\n",
    "            for suggestion in t.search(searchWord[:i]):\n",
    "                sug.append(suggestion)\n",
    "                # only return max 3 suggestion for each search word\n",
    "                if len(sug) >= 3:\n",
    "                    break\n",
    "            res.append(sug)\n",
    "            \n",
    "        return res\n",
    "\n"
   ]
  },
  {
   "cell_type": "code",
   "execution_count": 9,
   "metadata": {},
   "outputs": [],
   "source": [
    "products = [\"mobile\",\"mouse\",\"moneypot\",\"monitor\",\"mousepad\"]\n",
    "searchWord = \"mouse\""
   ]
  },
  {
   "cell_type": "code",
   "execution_count": 10,
   "metadata": {},
   "outputs": [],
   "source": [
    "lst = Solution().suggestedProducts(products, searchWord)"
   ]
  },
  {
   "cell_type": "code",
   "execution_count": 11,
   "metadata": {},
   "outputs": [
    {
     "data": {
      "text/plain": [
       "[['mobile', 'moneypot', 'monitor'],\n",
       " ['mobile', 'moneypot', 'monitor'],\n",
       " ['mouse', 'mousepad'],\n",
       " ['mouse', 'mousepad'],\n",
       " ['mouse', 'mousepad']]"
      ]
     },
     "execution_count": 11,
     "metadata": {},
     "output_type": "execute_result"
    }
   ],
   "source": [
    "lst"
   ]
  },
  {
   "cell_type": "code",
   "execution_count": 17,
   "metadata": {},
   "outputs": [],
   "source": [
    "# another implmentation without tire\n",
    "def suggestedProducts(products, searchWord):\n",
    "    res, w = [], \"\"\n",
    "    n, m = len(products), len(searchWord)\n",
    "    p = products # instead of searching products for every character,\n",
    "                 #  search the filtered list \n",
    "    for k in range(m):\n",
    "        w = searchWord[k]\n",
    "        words = [] #unsorted lists\n",
    "        for i in range(len(p)):\n",
    "            if k<len(p[i]) and p[i][k] == w:\n",
    "                words.append(p[i])\n",
    "        if not words:\n",
    "            res += [[] for _ in range(m-k)]\n",
    "            return res\n",
    "        p = words\n",
    "        res.append(sorted(words)[:3])\n",
    "    return res\n",
    "    "
   ]
  },
  {
   "cell_type": "code",
   "execution_count": 18,
   "metadata": {},
   "outputs": [
    {
     "data": {
      "text/plain": [
       "[['mobile', 'moneypot', 'monitor'],\n",
       " ['mobile', 'moneypot', 'monitor'],\n",
       " ['mouse', 'mousepad'],\n",
       " ['mouse', 'mousepad'],\n",
       " ['mouse', 'mousepad']]"
      ]
     },
     "execution_count": 18,
     "metadata": {},
     "output_type": "execute_result"
    }
   ],
   "source": [
    "suggestedProducts(products, searchWord)"
   ]
  },
  {
   "cell_type": "code",
   "execution_count": null,
   "metadata": {},
   "outputs": [],
   "source": []
  }
 ],
 "metadata": {
  "kernelspec": {
   "display_name": "Python 3",
   "language": "python",
   "name": "python3"
  },
  "language_info": {
   "codemirror_mode": {
    "name": "ipython",
    "version": 3
   },
   "file_extension": ".py",
   "mimetype": "text/x-python",
   "name": "python",
   "nbconvert_exporter": "python",
   "pygments_lexer": "ipython3",
   "version": "3.7.6"
  }
 },
 "nbformat": 4,
 "nbformat_minor": 2
}
