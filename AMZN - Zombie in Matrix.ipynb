{
 "cells": [
  {
   "cell_type": "raw",
   "metadata": {},
   "source": [
    "Given a 2D grid, each cell is either a zombie 1 or a human 0. Zombies can turn adjacent (up/down/left/right) human beings into zombies every hour. Find out how many hours does it take to infect all humans?\n",
    "\n",
    "Example:\n",
    "\n",
    "Input:\n",
    "[[0, 1, 1, 0, 1],\n",
    " [0, 1, 0, 1, 0],\n",
    " [0, 0, 0, 0, 1],\n",
    " [0, 1, 0, 0, 0]]\n",
    "\n",
    "Output: 2\n",
    "\n",
    "Explanation:\n",
    "At the end of the 1st hour, the status of the grid:\n",
    "[[1, 1, 1, 1, 1],\n",
    " [1, 1, 1, 1, 1],\n",
    " [0, 1, 0, 1, 1],\n",
    " [1, 1, 1, 0, 1]]\n",
    "\n",
    "At the end of the 2nd hour, the status of the grid:\n",
    "[[1, 1, 1, 1, 1],\n",
    " [1, 1, 1, 1, 1],\n",
    " [1, 1, 1, 1, 1],\n",
    " [1, 1, 1, 1, 1]]\n"
   ]
  },
  {
   "cell_type": "code",
   "execution_count": 1,
   "metadata": {},
   "outputs": [],
   "source": [
    "class Solution:\n",
    "    def minHour(self, rows, columns, grid):\n",
    "        if not rows or not columns:\n",
    "            return 0\n",
    "        \n",
    "        q = [[i,j] for i in range(rows) for j in range(columns) if grid[i][j]==1]\n",
    "        directions = [[1,0],[-1,0],[0,1],[0,-1]]\n",
    "        time = 0\n",
    "\n",
    "        if not q:\n",
    "            return -1\n",
    "\n",
    "        while True:\n",
    "            new = []\n",
    "            for [i,j] in q:\n",
    "                for d in directions:\n",
    "                    ni, nj = i + d[0], j + d[1]\n",
    "                    if 0 <= ni < rows and 0 <= nj < columns and grid[ni][nj] == 0:\n",
    "                        grid[ni][nj] = 1\n",
    "                        new.append([ni,nj])\n",
    "            q = new\n",
    "            if not q:\n",
    "                break\n",
    "            time += 1\n",
    "            \n",
    "        return time"
   ]
  },
  {
   "cell_type": "code",
   "execution_count": 11,
   "metadata": {},
   "outputs": [],
   "source": [
    "grid = [[0, 1, 1, 0, 1],\n",
    " [0, 1, 0, 1, 0],\n",
    " [0, 0, 0, 0, 1],\n",
    " [0, 1, 0, 0, 0]]\n",
    "\n",
    "rows = len(grid)\n",
    "columns = len(grid[0])"
   ]
  },
  {
   "cell_type": "code",
   "execution_count": 13,
   "metadata": {},
   "outputs": [],
   "source": [
    "hr = Solution().minHour(rows, columns, grid)"
   ]
  },
  {
   "cell_type": "code",
   "execution_count": 14,
   "metadata": {},
   "outputs": [
    {
     "data": {
      "text/plain": [
       "2"
      ]
     },
     "execution_count": 14,
     "metadata": {},
     "output_type": "execute_result"
    }
   ],
   "source": [
    "hr"
   ]
  },
  {
   "cell_type": "code",
   "execution_count": null,
   "metadata": {},
   "outputs": [],
   "source": []
  }
 ],
 "metadata": {
  "kernelspec": {
   "display_name": "Python 3",
   "language": "python",
   "name": "python3"
  },
  "language_info": {
   "codemirror_mode": {
    "name": "ipython",
    "version": 3
   },
   "file_extension": ".py",
   "mimetype": "text/x-python",
   "name": "python",
   "nbconvert_exporter": "python",
   "pygments_lexer": "ipython3",
   "version": "3.7.6"
  }
 },
 "nbformat": 4,
 "nbformat_minor": 2
}
