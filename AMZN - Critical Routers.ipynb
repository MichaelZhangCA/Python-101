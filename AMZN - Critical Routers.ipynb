{
 "cells": [
  {
   "cell_type": "raw",
   "metadata": {},
   "source": [
    "u are given an undirected connected graph. An articulation point (or cut vertex) is defined as a vertex which, when removed along with associated edges, makes the graph disconnected (or more precisely, increases the number of connected components in the graph). The task is to find all articulation points in the given graph.\n",
    "\n",
    "Input:\n",
    "The input to the function/method consists of three arguments:\n",
    "\n",
    "numNodes, an integer representing the number of nodes in the graph.\n",
    "numEdges, an integer representing the number of edges in the graph.\n",
    "edges, the list of pair of integers - A, B representing an edge between the nodes A and B.\n",
    "Output:\n",
    "Return a list of integers representing the critical nodes.\n",
    "\n",
    "Example:\n",
    "\n",
    "Input: numNodes = 7, numEdges = 7, edges = [[0, 1], [0, 2], [1, 3], [2, 3], [2, 5], [5, 6], [3, 4]]\n",
    "Output: [2, 3, 5]"
   ]
  },
  {
   "cell_type": "markdown",
   "metadata": {},
   "source": [
    "<img src=\"https://i.imgur.com/kcO9OUI.png\"></img>"
   ]
  },
  {
   "cell_type": "code",
   "execution_count": null,
   "metadata": {},
   "outputs": [],
   "source": [
    "# Targan's algorithm to find articulation points from a graph\n",
    "# from any nodes, if \n",
    "# 1, root node has 2 outbound children (cycle back edge will not count)\n",
    "# 2, not root chode, and discovery time <= min discovery time of children\n",
    "#    (if child has smaller discovery time, means there is another path)\n",
    "# then it's a articulation point"
   ]
  },
  {
   "cell_type": "code",
   "execution_count": 7,
   "metadata": {},
   "outputs": [
    {
     "name": "stdout",
     "output_type": "stream",
     "text": [
      "[2, 3, 5]\n"
     ]
    }
   ],
   "source": [
    "from collections import defaultdict\n",
    "def findcriticalnodes(n, edges):\n",
    "    \n",
    "    # creat the graph\n",
    "    g = defaultdict(list)\n",
    "    for conn in edges:\n",
    "        g[conn[0]].append(conn[1])\n",
    "        g[conn[1]].append(conn[0])\n",
    "        \n",
    "    # setup auxes\n",
    "    visited = [0]* n\n",
    "    isarticulationpoints = [0]*n\n",
    "    order = [0]*n\n",
    "    low = [0]*n\n",
    "    seq = 0\n",
    "\n",
    "    def dfs(u, p):\n",
    "        \n",
    "        nonlocal seq\n",
    "        visited[u] = 1\n",
    "        order[u] = low[u] = seq\n",
    "        seq = seq + 1\n",
    "        children = 0 \n",
    "        for to in g[u]:\n",
    "            if to == p:\n",
    "                continue\n",
    "            if visited[to]:\n",
    "                low[u] = min(low[u], low[to])\n",
    "            else:\n",
    "                dfs(to, u)\n",
    "                low[u] = min(low[u], low[to])\n",
    "                if order[u] <= low[to] and p!= -1:\n",
    "                    isarticulationpoints[u] = 1\n",
    "                children += 1\n",
    "        \n",
    "        if p == -1 and children > 1:\n",
    "            isarticulationpoints[u] = 1\n",
    "    \n",
    "    # start from the first node and set the parent is -1 (null)\n",
    "    dfs(0, -1)\n",
    "    ans = []\n",
    "    for i in range(len(isarticulationpoints)):\n",
    "        if isarticulationpoints[i]:\n",
    "            ans.append(i)\n",
    "    return ans\n",
    "    \n",
    "if __name__ == \"__main__\":\n",
    "    a = [[0, 1], [0, 2], [1, 3], [2, 3], [2, 5], [5, 6], [3, 4]]\n",
    "    print(findcriticalnodes(7, a))\n",
    " "
   ]
  },
  {
   "cell_type": "code",
   "execution_count": 13,
   "metadata": {},
   "outputs": [],
   "source": [
    "numNodes = 7\n",
    "numEdges = 7\n",
    "n = 7\n",
    "edges = [[0, 1], [0, 2], [1, 3], [2, 3], [2, 5], [5, 6], [3, 4]]"
   ]
  },
  {
   "cell_type": "code",
   "execution_count": 71,
   "metadata": {},
   "outputs": [],
   "source": [
    "from typing import List\n",
    "from collections import defaultdict\n",
    "\n",
    "class Solution(object):\n",
    "    def criticalNodes(self, n: int, connections: List[List[int]]) -> List[List[int]]:\n",
    "        \"\"\"\n",
    "        :type n: int\n",
    "        :type connections: List[List[int]]\n",
    "        :rtype: List[List[int]]\n",
    "        \"\"\"\n",
    "        \n",
    "        # build the graph (undirected)\n",
    "        graph = defaultdict(list)\n",
    "        for v in connections:\n",
    "            graph[v[0]].append(v[1])\n",
    "            graph[v[1]].append(v[0])\n",
    "        \n",
    "        print(graph)\n",
    "        \n",
    "        # to log visited nodes and the lowest links of the node\n",
    "        visited = [None for _ in range(n)]\n",
    "        low = [None for _ in range(n)]\n",
    "\n",
    "        res = []\n",
    "        # the total discovery time\n",
    "        cur = 0\n",
    "        root_outbound_children = 0\n",
    "        \n",
    "        def dfs(node, parent):\n",
    "            # use the cur variable out of this function\n",
    "            nonlocal cur, root_outbound_children\n",
    "        \n",
    "            # add node to visited\n",
    "            if (visited[node]==None):\n",
    "                visited[node] = cur\n",
    "                low[node] = cur\n",
    "            \n",
    "                cur +=1\n",
    "                \n",
    "            print(visited)\n",
    "            \n",
    "            # move to children\n",
    "            for to in graph[node]:\n",
    "                print(\"from {} to {} with parent {}\".format(node, to, parent))\n",
    "\n",
    "                if (to == parent):\n",
    "                    print('{} is the parent, ignore'.format(to))\n",
    "                    continue\n",
    "                \n",
    "                if (visited[to]!=None):\n",
    "                    print('{} is visited'.format(to))\n",
    "                    \n",
    "                    # if the child in the vistied, log the min of low value\n",
    "                    low[node] = min(low[node], low[to])\n",
    "                else:\n",
    "                    print('{} is a new node'.format(to))\n",
    "                    \n",
    "                    # a new node, call dfs\n",
    "                    dfs(to, node)\n",
    "                    # when finished \"to\" recurse, compare low value again\n",
    "                    low[node] = min(low[node], low[to])\n",
    "                    \n",
    "                    # special count for root node\n",
    "                    if (parent == -1):\n",
    "                        # if there is a cycle from the root, the other child should have been round back and in the visited\n",
    "                        # which will not come here when next loop\n",
    "                        print('child when adding root outbound:{}'.format(to))\n",
    "                        root_outbound_children += 1\n",
    "            \n",
    "        # start from node 1, with no parent\n",
    "        root = 4\n",
    "        dfs(root, -1)\n",
    "        \n",
    "        print(visited)\n",
    "        print(low)\n",
    "        \n",
    "        # find articulation points\n",
    "        if (root_outbound_children >1):\n",
    "            res.append(root)\n",
    "\n",
    "        res += [i for i in range(n) if i!=root and visited[i] <= max([ low[c] for c in graph[i]])]\n",
    "        \n",
    "        print(res)\n",
    "        \n",
    "        return sorted(res)\n"
   ]
  },
  {
   "cell_type": "code",
   "execution_count": 72,
   "metadata": {},
   "outputs": [
    {
     "name": "stdout",
     "output_type": "stream",
     "text": [
      "defaultdict(<class 'list'>, {0: [1, 2], 1: [0, 3], 2: [0, 3, 5], 3: [1, 2, 4], 5: [2, 6], 6: [5], 4: [3]})\n",
      "[None, None, None, None, 0, None, None]\n",
      "from 4 to 3 with parent -1\n",
      "3 is a new node\n",
      "[None, None, None, 1, 0, None, None]\n",
      "from 3 to 1 with parent 4\n",
      "1 is a new node\n",
      "[None, 2, None, 1, 0, None, None]\n",
      "from 1 to 0 with parent 3\n",
      "0 is a new node\n",
      "[3, 2, None, 1, 0, None, None]\n",
      "from 0 to 1 with parent 1\n",
      "1 is the parent, ignore\n",
      "from 0 to 2 with parent 1\n",
      "2 is a new node\n",
      "[3, 2, 4, 1, 0, None, None]\n",
      "from 2 to 0 with parent 0\n",
      "0 is the parent, ignore\n",
      "from 2 to 3 with parent 0\n",
      "3 is visited\n",
      "from 2 to 5 with parent 0\n",
      "5 is a new node\n",
      "[3, 2, 4, 1, 0, 5, None]\n",
      "from 5 to 2 with parent 2\n",
      "2 is the parent, ignore\n",
      "from 5 to 6 with parent 2\n",
      "6 is a new node\n",
      "[3, 2, 4, 1, 0, 5, 6]\n",
      "from 6 to 5 with parent 5\n",
      "5 is the parent, ignore\n",
      "from 1 to 3 with parent 3\n",
      "3 is the parent, ignore\n",
      "from 3 to 2 with parent 4\n",
      "2 is visited\n",
      "from 3 to 4 with parent 4\n",
      "4 is the parent, ignore\n",
      "child when adding root outbound:3\n",
      "[3, 2, 4, 1, 0, 5, 6]\n",
      "[1, 1, 1, 1, 0, 5, 6]\n",
      "[2, 3, 5]\n"
     ]
    },
    {
     "data": {
      "text/plain": [
       "[2, 3, 5]"
      ]
     },
     "execution_count": 72,
     "metadata": {},
     "output_type": "execute_result"
    }
   ],
   "source": [
    "Solution().criticalNodes(n, edges)"
   ]
  },
  {
   "cell_type": "code",
   "execution_count": null,
   "metadata": {},
   "outputs": [],
   "source": []
  },
  {
   "cell_type": "code",
   "execution_count": null,
   "metadata": {},
   "outputs": [],
   "source": []
  }
 ],
 "metadata": {
  "kernelspec": {
   "display_name": "Python 3",
   "language": "python",
   "name": "python3"
  },
  "language_info": {
   "codemirror_mode": {
    "name": "ipython",
    "version": 3
   },
   "file_extension": ".py",
   "mimetype": "text/x-python",
   "name": "python",
   "nbconvert_exporter": "python",
   "pygments_lexer": "ipython3",
   "version": "3.7.6"
  }
 },
 "nbformat": 4,
 "nbformat_minor": 2
}
