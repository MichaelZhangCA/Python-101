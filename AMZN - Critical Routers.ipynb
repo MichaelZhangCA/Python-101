{
 "cells": [
  {
   "cell_type": "raw",
   "metadata": {},
   "source": [
    "u are given an undirected connected graph. An articulation point (or cut vertex) is defined as a vertex which, when removed along with associated edges, makes the graph disconnected (or more precisely, increases the number of connected components in the graph). The task is to find all articulation points in the given graph.\n",
    "\n",
    "Input:\n",
    "The input to the function/method consists of three arguments:\n",
    "\n",
    "numNodes, an integer representing the number of nodes in the graph.\n",
    "numEdges, an integer representing the number of edges in the graph.\n",
    "edges, the list of pair of integers - A, B representing an edge between the nodes A and B.\n",
    "Output:\n",
    "Return a list of integers representing the critical nodes.\n",
    "\n",
    "Example:\n",
    "\n",
    "Input: numNodes = 7, numEdges = 7, edges = [[0, 1], [0, 2], [1, 3], [2, 3], [2, 5], [5, 6], [3, 4]]"
   ]
  },
  {
   "cell_type": "markdown",
   "metadata": {},
   "source": [
    "<img src=\"https://i.imgur.com/kcO9OUI.png\"></img>"
   ]
  },
  {
   "cell_type": "code",
   "execution_count": null,
   "metadata": {},
   "outputs": [],
   "source": [
    "# define a recursive function by deepth first search\n",
    "# call the functino from 0 to -1, which will try walk through all the graph\n",
    "# count all the nodes found\n",
    "# compare to the node count with full graph nodes count\n",
    "# if cannot walk through all the nodes, then it's a critical node"
   ]
  },
  {
   "cell_type": "code",
   "execution_count": 7,
   "metadata": {},
   "outputs": [
    {
     "name": "stdout",
     "output_type": "stream",
     "text": [
      "[2, 3, 5]\n"
     ]
    }
   ],
   "source": [
    "from collections import defaultdict\n",
    "def findcriticalnodes(n, edges):\n",
    "    g = defaultdict(list)\n",
    "    for conn in edges:\n",
    "        g[conn[0]].append(conn[1])\n",
    "        g[conn[1]].append(conn[0])\n",
    "    visited = [0]* n\n",
    "    isarticulationpoints = [0]*n\n",
    "    order = [0]*n\n",
    "    low = [0]*n\n",
    "    seq = 0\n",
    "\n",
    "    def dfs(u, p):\n",
    "        nonlocal seq\n",
    "        visited[u] = 1\n",
    "        order[u] = low[u] = seq\n",
    "        seq = seq + 1\n",
    "        children = 0 \n",
    "        for to in g[u]:\n",
    "            if to == p:\n",
    "                continue\n",
    "            if visited[to]:\n",
    "                low[u] = min(low[u], low[to])\n",
    "            else:\n",
    "                dfs(to, u)\n",
    "                low[u] = min(low[u], low[to])\n",
    "                if order[u] <= low[to] and p!= -1:\n",
    "                    isarticulationpoints[u] = 1\n",
    "                children += 1\n",
    "        \n",
    "        if p == -1 and children > 1:\n",
    "            isarticulationpoints[u] = 1\n",
    "    \n",
    "    dfs(0, -1)\n",
    "    ans = []\n",
    "    for i in range(len(isarticulationpoints)):\n",
    "        if isarticulationpoints[i]:\n",
    "            ans.append(i)\n",
    "    return ans\n",
    "    \n",
    "if __name__ == \"__main__\":\n",
    "    a = [[0, 1], [0, 2], [1, 3], [2, 3], [2, 5], [5, 6], [3, 4]]\n",
    "    print(findcriticalnodes(7, a))\n",
    " "
   ]
  },
  {
   "cell_type": "code",
   "execution_count": 6,
   "metadata": {},
   "outputs": [],
   "source": [
    "numNodes = 7\n",
    "numEdges = 7\n",
    "edges = [[0, 1], [0, 2], [1, 3], [2, 3], [2, 5], [5, 6], [3, 4]]"
   ]
  },
  {
   "cell_type": "code",
   "execution_count": null,
   "metadata": {},
   "outputs": [],
   "source": []
  }
 ],
 "metadata": {
  "kernelspec": {
   "display_name": "Python 3",
   "language": "python",
   "name": "python3"
  },
  "language_info": {
   "codemirror_mode": {
    "name": "ipython",
    "version": 3
   },
   "file_extension": ".py",
   "mimetype": "text/x-python",
   "name": "python",
   "nbconvert_exporter": "python",
   "pygments_lexer": "ipython3",
   "version": "3.7.6"
  }
 },
 "nbformat": 4,
 "nbformat_minor": 2
}
