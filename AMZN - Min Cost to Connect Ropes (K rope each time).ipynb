{
 "cells": [
  {
   "cell_type": "raw",
   "metadata": {},
   "source": [
    "Given n ropes of different lengths, we need to connect these ropes into one rope. We can connect only k ropes at a time. The cost required to connect k ropes is equal to sum of their lengths. The length of this connected rope is also equal to the sum of their lengths. This process is repeated until n ropes are connected into a single rope. Find the min possible cost required to connect all ropes.\n",
    "\n",
    "Example 1:\n",
    "\n",
    "Input: ropes = [3,2,4,1], K = 2\n",
    "Output: 19\n",
    "Explanation: \n",
    "We start with [3, 2, 4, 1].\n",
    "We merge [2, 1] for a cost of 3, and we are left with [3,3,4].\n",
    "We merge [3, 3] for a cost of 6, and we are left with [6, 4].\n",
    "We merge [6, 4] for a cost of 10, and we are left with [10].\n",
    "The total cost was 19, and this is the minimum possible.\n",
    "\n",
    "Example 2:\n",
    "\n",
    "Input: ropes = [3,2,4,1], K = 3\n",
    "Output: -1\n",
    "Explanation: After any merge operation, there are 2 ropes left, and we can't merge anymore.  So the task is impossible.\n",
    "\n",
    "Example 3:\n",
    "\n",
    "Input: ropes = [3,5,1,2,6], K = 3\n",
    "Output: 23\n",
    "Explanation: \n",
    "We start with [3, 5, 1, 2, 6].\n",
    "We merge [3, 1, 2] for a cost of 6, and we are left with [6, 5, 6].\n",
    "We merge [6, 5, 6] for a cost of 17, and we are left with [17].\n",
    "The total cost was 23, and this is the minimum possible.\n"
   ]
  },
  {
   "cell_type": "code",
   "execution_count": null,
   "metadata": {},
   "outputs": [],
   "source": [
    "# a doable merging will require (n-1) % (k-1) == 0\n",
    "# use a minheap to keep all the left ropes\n",
    "# the minheap is NOT necessary sorted as a whole\n",
    "# but it will gaurenttee each time pops the smallest value"
   ]
  },
  {
   "cell_type": "code",
   "execution_count": null,
   "metadata": {},
   "outputs": [],
   "source": [
    "# by given n numbers, and merge k each time\n",
    "# only when (n-1) % (k-1) == 0, it's possible to exatly merge k each time, otherwise will fail"
   ]
  },
  {
   "cell_type": "code",
   "execution_count": 19,
   "metadata": {},
   "outputs": [],
   "source": [
    "from typing import List\n",
    "from heapq import heappop, heappush, heapify\n",
    "def minCost(ropes: List[int], k:int) -> int:\n",
    "    if not ropes: return 0\n",
    "\n",
    "    # cannot merge return -1\n",
    "    if ( (len(ropes)-1) % (k-1) != 0):\n",
    "        return -1\n",
    "\n",
    "    heapify(ropes)\n",
    "    cost = 0\n",
    "    k_rope = []\n",
    "    \n",
    "    while len(ropes) > 1:\n",
    "        # each time pop two min length from the minheap\n",
    "        krope = [heappop(ropes) for i in range(k)]\n",
    "        cost += sum(krope)\n",
    "        \n",
    "        if ropes:\n",
    "            # push the coimbined rope into minheap\n",
    "            heappush(ropes, sum(krope))\n",
    "    \n",
    "    return cost\n"
   ]
  },
  {
   "cell_type": "code",
   "execution_count": 22,
   "metadata": {},
   "outputs": [],
   "source": [
    "ropes = [3,5,1,2,6]\n",
    "K = 6"
   ]
  },
  {
   "cell_type": "code",
   "execution_count": 23,
   "metadata": {},
   "outputs": [
    {
     "data": {
      "text/plain": [
       "-1"
      ]
     },
     "execution_count": 23,
     "metadata": {},
     "output_type": "execute_result"
    }
   ],
   "source": [
    "minCost(ropes,K)"
   ]
  },
  {
   "cell_type": "code",
   "execution_count": null,
   "metadata": {},
   "outputs": [],
   "source": []
  }
 ],
 "metadata": {
  "kernelspec": {
   "display_name": "Python 3",
   "language": "python",
   "name": "python3"
  },
  "language_info": {
   "codemirror_mode": {
    "name": "ipython",
    "version": 3
   },
   "file_extension": ".py",
   "mimetype": "text/x-python",
   "name": "python",
   "nbconvert_exporter": "python",
   "pygments_lexer": "ipython3",
   "version": "3.7.6"
  }
 },
 "nbformat": 4,
 "nbformat_minor": 2
}
