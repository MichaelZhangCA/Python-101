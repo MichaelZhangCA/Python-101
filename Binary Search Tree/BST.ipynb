{
 "cells": [
  {
   "cell_type": "code",
   "execution_count": 1,
   "metadata": {},
   "outputs": [],
   "source": [
    "from binarysearchtree import Node"
   ]
  },
  {
   "cell_type": "code",
   "execution_count": 378,
   "metadata": {},
   "outputs": [],
   "source": [
    "from typing import List\n",
    "\n",
    "class BST():\n",
    "    def __init__(self, *args, **kargs):\n",
    "        super().__init__(*args, **kargs)\n",
    "        \n",
    "    def createBST(self, l : List[int]) -> Node :\n",
    "        \n",
    "        # start creating tree\n",
    "        if (l is None):\n",
    "            return None\n",
    "        \n",
    "        root = Node(l[0])\n",
    "        for i in range(1, len(l)):\n",
    "            self.insertNode(root, l[i])\n",
    "        \n",
    "        return root\n",
    "\n",
    "    def insertNode(self, node, val:int) -> Node:\n",
    "        # find the leaf and insert either left or right\n",
    "        if (node is None):\n",
    "            return Node(val)\n",
    "\n",
    "        if (node.value > val):\n",
    "            node.left = self.insertNode(node.left, val)\n",
    "        else:\n",
    "            node.right = self.insertNode(node.right, val)\n",
    "\n",
    "        return node\n",
    "    \n",
    "    def findNode(self, root:Node, val:int) -> Node:\n",
    "        return self._bfs_findNode(root, val)\n",
    "        \n",
    "    def _bfs_findNode(self, node, val):\n",
    "        if (node is None):\n",
    "            return None\n",
    "        \n",
    "        if (node.value == val):\n",
    "            return node\n",
    "        \n",
    "        while (node):\n",
    "            node = node.left if (node.value >val) else node.right\n",
    "            return self._bfs_findNode(node, val)\n",
    "            \n",
    "    \n",
    "    def findSuccessor(self, root:Node, node:Node) -> Node:\n",
    "        \n",
    "        def inOrderSuccessor(node: Node, val:int, lst):\n",
    "            if (node):\n",
    "                inOrderSuccessor(node.left, val, lst)\n",
    "\n",
    "                # if already found the target node, add the next one then return\n",
    "                if (node.value >= val and len(lst)<2):\n",
    "                    lst.append(node)\n",
    "                    return\n",
    "                \n",
    "                inOrderSuccessor(node.right, val, lst)\n",
    "        \n",
    "        # a successor could be\n",
    "        # scenario #1, has right leaf, then go right then go left until the leaf\n",
    "        # which is the min of larger\n",
    "        if (node.right):\n",
    "            node = node.right\n",
    "            while node.left:\n",
    "                node = node.left\n",
    "            \n",
    "            return node\n",
    "        \n",
    "        print(\"matches scenario #2\")\n",
    "        # scenario #2, there is NO right leaf, so need go back to parent node for searching\n",
    "        # due to there is NO parent pointer, use inorder traversal and find the node, the next one will be the successor\n",
    "        lst = []\n",
    "        inOrderSuccessor(root, node.value, lst)\n",
    "        print([n.value for n in lst])\n",
    "        return lst[-1] if (len(lst) >1) else None\n",
    "\n",
    "    def findPreSuccessor(self, root:Node, node:Node) -> Node:\n",
    "        \n",
    "        def inOrderPreSuccessor(node: Node, val:int, lst):\n",
    "            if (node):\n",
    "                inOrderPreSuccessor(node.left, val, lst)\n",
    "\n",
    "                # always add the node to list\n",
    "                if (node.value <= val):\n",
    "                    lst.append(node)\n",
    "                \n",
    "                # if the node is the target node, return the list\n",
    "                if (node.value == val):\n",
    "                    return\n",
    "                \n",
    "                inOrderPreSuccessor(node.right, val, lst)\n",
    "        \n",
    "        # a pre-successor could be\n",
    "        # scenario #1, has left leaf, then go left then go right until the leaf\n",
    "        # which is the max of smaller\n",
    "        if (node.left):\n",
    "            node = node.left\n",
    "            while node.right:\n",
    "                node = node.right\n",
    "            \n",
    "            return node\n",
    "        \n",
    "        print(\"matches scenario #2\")\n",
    "        # scenario #2, there is NO left leaf, so need go back to parent node for searching\n",
    "        # due to there is NO parent pointer, use inorder traversal and find the node, the previous one will be the pre-successor\n",
    "        lst = []\n",
    "        inOrderPreSuccessor(root, node.value, lst)\n",
    "        print([n.value for n in lst])\n",
    "        return lst[-2] if (len(lst) >1) else None\n",
    "    \n",
    "    \n",
    "    def deleteNode(self, root:Node, val:int) -> Node:\n",
    "\n",
    "        def getSuccessorValue(node:Node):\n",
    "            # ganrunteed there is right leaf when call this function\n",
    "            node = node.right\n",
    "            if (node.left):\n",
    "                node = node.left\n",
    "                \n",
    "            return node.value\n",
    "\n",
    "        def getPreSuccessorValue(node:Node):\n",
    "            # ganrunteed there is left leaf when call this function\n",
    "            node = node.left\n",
    "            if (node.right):\n",
    "                node = node.right\n",
    "                \n",
    "            return node.value\n",
    "        \n",
    "        if (not root):\n",
    "            return None\n",
    "        \n",
    "        # delete from the right subtree\n",
    "        if (root.value < val):\n",
    "            root.right = self.deleteNode(root.right, val)\n",
    "            \n",
    "        # delete from left tree\n",
    "        elif(root.value > val):\n",
    "            root.left = self.deleteNode(root.left,val)\n",
    "            \n",
    "        # here it is, the node is the one to delete\n",
    "        else:\n",
    "            if (root.left is None and root.right is None):\n",
    "                root = None\n",
    "        \n",
    "            # has right leaf, use successor to replace\n",
    "            elif (root.right):\n",
    "                root.value = getSuccessorValue(root)\n",
    "                # delete the successor node from the right leaf\n",
    "                root.right = self.deleteNode(root.right, root.value)\n",
    "            else:\n",
    "                root.value = getPreSuccessorValue(root)\n",
    "                # delete the pre-successor from the left leaf\n",
    "                root.left = self.deleteNode(root.left, root.value)\n",
    "                \n",
    "        return root\n",
    "\n",
    "    \n",
    "    def findLCA(self, node: Node, val1:int, val2:int) -> Node:\n",
    "        # find LCA is much easier on a BST, for a BT, need find both path than compare the path\n",
    "        \n",
    "        while (node):\n",
    "            if (node.value < val1 and node.value< val2):\n",
    "                # go right if both values are lager\n",
    "                node = node.right\n",
    "            elif(node.value > val1 and node.value > val2):\n",
    "                # both values are smaller, go left\n",
    "                node = node.left\n",
    "            else:\n",
    "                # here it is!\n",
    "                return node\n",
    "            \n",
    "        return node\n",
    "            "
   ]
  },
  {
   "cell_type": "code",
   "execution_count": 379,
   "metadata": {},
   "outputs": [
    {
     "name": "stdout",
     "output_type": "stream",
     "text": [
      "-------7\n",
      "----4     10\n",
      "-2   6   9   12\n",
      "1 3 5 * 8 * 11 *\n"
     ]
    }
   ],
   "source": [
    "t = BST().createBST([7, 4, 2, 1, 3, 6, 5, 10, 9, 8, 12, 11])\n",
    "t.showTree()"
   ]
  },
  {
   "cell_type": "code",
   "execution_count": 384,
   "metadata": {},
   "outputs": [
    {
     "name": "stdout",
     "output_type": "stream",
     "text": [
      "10\n"
     ]
    }
   ],
   "source": [
    "print(BST().findLCA(t, 8, 11))"
   ]
  },
  {
   "cell_type": "code",
   "execution_count": 598,
   "metadata": {},
   "outputs": [],
   "source": [
    "# create a height balanced BST from a array\n",
    "# 1, sort the array\n",
    "# 2, pick from middle each time to generate a new array\n",
    "# 3, create BST from the new array\n",
    "import random\n",
    "from typing import List\n",
    "from collections import deque\n",
    "\n",
    "def prepare_hb_bst(arr : List[int]) -> List[int]:\n",
    "\n",
    "    def pick_middle(arr:List[int], hb : List[int]):\n",
    "        if (not arr):\n",
    "            return\n",
    "        \n",
    "        l = len(arr)\n",
    "        # find the middle\n",
    "        mid = l // 2\n",
    "        # random if there is odd numbers\n",
    "        if ( l % 2 == 0 and l>2):\n",
    "            mid += random.randint(0,1)\n",
    "    \n",
    "        # add the mid to output\n",
    "        hb.append(arr[mid])\n",
    "        \n",
    "        # continue left and right side\n",
    "        pick_middle(arr[0:mid], hb)\n",
    "        pick_middle(arr[mid+1:l], hb)\n",
    "    \n",
    "    def pick_middle_bfs(arr:List[int], hb):\n",
    "        \n",
    "        q = deque([arr])\n",
    "        while (q):\n",
    "            ar = q.popleft()\n",
    "\n",
    "            l = len(ar)\n",
    "            # find the middle\n",
    "            mid = l // 2\n",
    "            # random if there is odd numbers\n",
    "            if ( l % 2 == 0 and l>2):\n",
    "                mid += random.randint(0,1)\n",
    "\n",
    "            # add the mid to output\n",
    "            hb.append(ar[mid])\n",
    "            \n",
    "            # push both side to the queue\n",
    "            if (mid > 0):\n",
    "                q.append(ar[0:mid])\n",
    "            if (mid+1 < l):\n",
    "                q.append(ar[mid+1:l])\n",
    "    \n",
    "    sort = sorted(arr)\n",
    "    hb = []\n",
    "    \n",
    "    # call recursive function to regenerate the list\n",
    "    pick_middle_bfs(sort, hb)\n",
    "    \n",
    "    return hb\n",
    "\n",
    "\n",
    "def sortedArrayToBST(arr:List[int]) -> Node:\n",
    "    \n",
    "    def pick_middle(arr):\n",
    "        \n",
    "        if (not arr):\n",
    "            return None\n",
    "        \n",
    "        l = len(arr)\n",
    "        # find the middle\n",
    "        mid = l // 2\n",
    "        # random if there is odd numbers\n",
    "        if ( l % 2 == 0 and l>2):\n",
    "            mid -= random.randint(0,1)\n",
    "        \n",
    "        node = Node(arr[mid])\n",
    "        node.left = pick_middle(arr[0:mid])\n",
    "        node.right = pick_middle(arr[mid+1:l])\n",
    "        \n",
    "        return node\n",
    "        \n",
    "    return pick_middle(arr)\n",
    "\n",
    "\n",
    "def sortedArrayToBST_bfs(arr:List[int]) -> Node:\n",
    "\n",
    "    def pick_middle(ar:List[int]):\n",
    "        if (not ar):\n",
    "            return None, [], []\n",
    "    \n",
    "        l = len(ar)\n",
    "        # find the middle\n",
    "        mid = l // 2\n",
    "        # random if there is odd numbers\n",
    "        if ( l % 2 == 0 and l>2):\n",
    "            mid -= random.randint(0,1)\n",
    "\n",
    "        return mid, ar[0:mid], ar[mid+1:l]\n",
    "    \n",
    "    if (not arr):\n",
    "        return None\n",
    "    \n",
    "    # generate the first node and left/right sub array\n",
    "    mid, l, r = pick_middle(arr)\n",
    "    root = Node(arr[mid])\n",
    "    \n",
    "    dqnode = deque([root])\n",
    "    dqarr = deque([l, r])\n",
    "    \n",
    "    while (dqarr):\n",
    "        \n",
    "        node = dqnode.popleft()\n",
    "        left, right = dqarr.popleft(), dqarr.popleft()\n",
    "        \n",
    "        # add left leaf\n",
    "        mid, l, r = pick_middle(left)\n",
    "        if (mid is not None):\n",
    "            node.left = Node(left[mid])\n",
    "            dqnode.append(node.left)\n",
    "            dqarr.append(l)\n",
    "            dqarr.append(r)\n",
    "            \n",
    "        # add right leaf\n",
    "        mid, l, r = pick_middle(right)\n",
    "        if (mid is not None):\n",
    "            node.right = Node(right[mid])\n",
    "            dqnode.append(node.right)\n",
    "            dqarr.append(l)\n",
    "            dqarr.append(r)\n",
    "        \n",
    "    return root"
   ]
  },
  {
   "cell_type": "code",
   "execution_count": 599,
   "metadata": {},
   "outputs": [],
   "source": [
    "arr = [1,2,3,4,5,6,7,8,9,10,11,12]\n",
    "hb = prepare_hb_bst(arr)"
   ]
  },
  {
   "cell_type": "code",
   "execution_count": 610,
   "metadata": {},
   "outputs": [],
   "source": [
    "bfs = sortedArrayToBST_bfs(arr)"
   ]
  },
  {
   "cell_type": "code",
   "execution_count": 611,
   "metadata": {},
   "outputs": [
    {
     "name": "stdout",
     "output_type": "stream",
     "text": [
      "-------6\n",
      "----3     9\n",
      "-2   5   8   11\n",
      "1 * 4 * 7 * 10 12\n"
     ]
    }
   ],
   "source": [
    "bfs.showTree()"
   ]
  },
  {
   "cell_type": "code",
   "execution_count": 525,
   "metadata": {},
   "outputs": [
    {
     "data": {
      "text/plain": [
       "[8, 4, 12, 2, 6, 10, 1, 3, 5, 7, 9, 11]"
      ]
     },
     "execution_count": 525,
     "metadata": {},
     "output_type": "execute_result"
    }
   ],
   "source": [
    "len(hb) == len(arr)\n",
    "hb"
   ]
  },
  {
   "cell_type": "code",
   "execution_count": 560,
   "metadata": {},
   "outputs": [],
   "source": [
    "bst = sortedArrayToBST(arr)"
   ]
  },
  {
   "cell_type": "code",
   "execution_count": 578,
   "metadata": {},
   "outputs": [
    {
     "name": "stdout",
     "output_type": "stream",
     "text": [
      "-------6\n",
      "----3     10\n",
      "-2   5   8   12\n",
      "1 * 4 * 7 9 11 *\n"
     ]
    }
   ],
   "source": [
    "bst.showTree()"
   ]
  },
  {
   "cell_type": "code",
   "execution_count": 579,
   "metadata": {},
   "outputs": [],
   "source": [
    "t = BST().createBST(hb)"
   ]
  },
  {
   "cell_type": "code",
   "execution_count": 527,
   "metadata": {},
   "outputs": [
    {
     "name": "stdout",
     "output_type": "stream",
     "text": [
      "-------8\n",
      "----4     12\n",
      "-2   6   10   *\n",
      "1 3 5 7 9 11 * *\n"
     ]
    }
   ],
   "source": [
    "t.showTree()"
   ]
  },
  {
   "cell_type": "code",
   "execution_count": null,
   "metadata": {},
   "outputs": [],
   "source": []
  }
 ],
 "metadata": {
  "kernelspec": {
   "display_name": "Python 3",
   "language": "python",
   "name": "python3"
  },
  "language_info": {
   "codemirror_mode": {
    "name": "ipython",
    "version": 3
   },
   "file_extension": ".py",
   "mimetype": "text/x-python",
   "name": "python",
   "nbconvert_exporter": "python",
   "pygments_lexer": "ipython3",
   "version": "3.7.6"
  }
 },
 "nbformat": 4,
 "nbformat_minor": 2
}
