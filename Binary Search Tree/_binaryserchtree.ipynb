{
 "cells": [
  {
   "cell_type": "code",
   "execution_count": 47,
   "metadata": {},
   "outputs": [],
   "source": [
    "class Node(object):\n",
    "    def __init__(self, value, left=None, right=None):\n",
    "        self.value = value\n",
    "        self.left = left\n",
    "        self.right = right\n",
    "\n",
    "    def __str__(self):\n",
    "        return str(self.value)\n",
    "    \n",
    "    def deepth(self):\n",
    "        return self._goDeep(self)\n",
    "        \n",
    "    def _goDeep(self, node):\n",
    "        if (not node):\n",
    "            return 0\n",
    "        \n",
    "        return max( 1 + self._goDeep(node.left), 1 + self._goDeep(node.right))\n",
    "\n",
    "    # find the node with the value\n",
    "    def find_bfs(self, value):\n",
    "        return self._bfs_search(self, value)\n",
    "        \n",
    "    def _bfs_search(self, node, val):\n",
    "        while (node):\n",
    "            if (node.value==val):\n",
    "                break\n",
    "            node = node.left if (node.value > val) else node.right\n",
    "        return node\n",
    "    \n",
    "    def find_dfs(self, value):\n",
    "        return self._dfs_search(self, value)\n",
    "    \n",
    "    def _dfs_search(self, node, val):\n",
    "        if (node is None or node.value == val):\n",
    "            return node\n",
    "            \n",
    "        # go left if val is smaller\n",
    "        return self._dfs_search(node.left, val) if (node.value > val) else self._dfs_search(node.right, val)\n",
    "    \n",
    "\n",
    "    # inserting a new node\n",
    "    def insertNode(self, val: int):\n",
    "        self = self._dfs_insert(self, val)\n",
    "            \n",
    "    def _dfs_insert(self, node, val):\n",
    "        if (node is None):\n",
    "            return Node(val)\n",
    "        \n",
    "        else:\n",
    "            if (node.value < val):\n",
    "                node.right = self._dfs_insert(node.right, val)\n",
    "            else:\n",
    "                node.left = self._dfs_insert(node.left, val)\n",
    "        \n",
    "        return node\n",
    "        \n",
    "    \n",
    "    def showTree(self):\n",
    "\n",
    "        tree_deep = self.deepth()\n",
    "\n",
    "        current_level = [self]\n",
    "        level_num = 0\n",
    "        while current_level:\n",
    "            level_num +=1\n",
    "\n",
    "            pre = '-' * ((tree_deep - level_num ) * 3 - 2 )\n",
    "            intval = ' ' * ((tree_deep - level_num ) * 2 +1 )\n",
    "            print(pre + intval.join(str(node if(node) else '*') for node in current_level))\n",
    "            next_level = list()\n",
    "            for n in current_level:\n",
    "                #if n.left:\n",
    "                if (n):\n",
    "                    next_level.append(n.left)\n",
    "                    #if n.right:\n",
    "                    next_level.append(n.right)\n",
    "                else:\n",
    "                    next_level.append(None)\n",
    "                    next_level.append(None)\n",
    "\n",
    "            # only continue if there is node in the next level\n",
    "            if (any(next_level)):\n",
    "                current_level = next_level\n",
    "            else:\n",
    "                current_level = []\n",
    "    "
   ]
  },
  {
   "cell_type": "code",
   "execution_count": 64,
   "metadata": {},
   "outputs": [
    {
     "name": "stdout",
     "output_type": "stream",
     "text": [
      "-------16\n",
      "----14     19\n",
      "-12   15   17   20\n",
      "3 * * * * 18 * *\n"
     ]
    }
   ],
   "source": [
    "t = Node(16, Node(14, Node(12, Node(3)), Node(15)), Node(19, Node(17, None, Node(18)), Node(20)))\n",
    "\n",
    "t.showTree()"
   ]
  },
  {
   "cell_type": "code",
   "execution_count": 53,
   "metadata": {},
   "outputs": [
    {
     "name": "stdout",
     "output_type": "stream",
     "text": [
      "7\n"
     ]
    }
   ],
   "source": [
    "print(t.find_bfs(7))"
   ]
  },
  {
   "cell_type": "code",
   "execution_count": 28,
   "metadata": {},
   "outputs": [
    {
     "name": "stdout",
     "output_type": "stream",
     "text": [
      "None\n"
     ]
    }
   ],
   "source": [
    "print(t.find_dfs(17))"
   ]
  },
  {
   "cell_type": "code",
   "execution_count": 65,
   "metadata": {},
   "outputs": [],
   "source": [
    "t.insertNode(13)"
   ]
  },
  {
   "cell_type": "code",
   "execution_count": 66,
   "metadata": {},
   "outputs": [
    {
     "name": "stdout",
     "output_type": "stream",
     "text": [
      "-------16\n",
      "----14     19\n",
      "-12   15   17   20\n",
      "3 13 * * * 18 * *\n"
     ]
    }
   ],
   "source": [
    "t.showTree()"
   ]
  },
  {
   "cell_type": "code",
   "execution_count": null,
   "metadata": {},
   "outputs": [],
   "source": []
  }
 ],
 "metadata": {
  "kernelspec": {
   "display_name": "Python 3",
   "language": "python",
   "name": "python3"
  },
  "language_info": {
   "codemirror_mode": {
    "name": "ipython",
    "version": 3
   },
   "file_extension": ".py",
   "mimetype": "text/x-python",
   "name": "python",
   "nbconvert_exporter": "python",
   "pygments_lexer": "ipython3",
   "version": "3.7.6"
  }
 },
 "nbformat": 4,
 "nbformat_minor": 2
}
