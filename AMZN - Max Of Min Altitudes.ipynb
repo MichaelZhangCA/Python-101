{
 "cells": [
  {
   "cell_type": "raw",
   "metadata": {},
   "source": [
    "Given a matrix with r rows and c columns, find the maximum score of a path starting at [0, 0] and ending at [r-1, c-1]. The score of a path is the minimum value in that path. For example, the score of the path 8 → 4 → 5 → 9 is 4.\n",
    "\n",
    "Don't include the first or final entry. You can only move either down or right at any point in time.\n",
    "\n",
    "Example 1:\n",
    "\n",
    "Input:\n",
    "[[5, 1],\n",
    " [4, 5]]\n",
    "\n",
    "Output: 4\n",
    "Explanation:\n",
    "Possible paths:\n",
    "5 → 1 → 5 => min value is 1\n",
    "5 → 4 → 5 => min value is 4\n",
    "Return the max value among minimum values => max(4, 1) = 4.\n",
    "Example 2:\n",
    "\n",
    "Input:\n",
    "[[1, 2, 3]\n",
    " [4, 5, 1]]\n",
    "\n",
    "Output: 4\n",
    "Explanation:\n",
    "Possible paths:\n",
    "1-> 2 -> 3 -> 1\n",
    "1-> 2 -> 5 -> 1\n",
    "1-> 4 -> 5 -> 1\n",
    "So min of all the paths = [2, 2, 4]. Note that we don't include the first and final entry.\n",
    "Return the max of that, so 4.\n"
   ]
  },
  {
   "cell_type": "code",
   "execution_count": 1,
   "metadata": {},
   "outputs": [],
   "source": [
    "# A DP solution\n",
    "# find the min value for row[0] and col[0]\n",
    "# for all other cells, loop to the right/bottom\n",
    "# get the max of dp(left, top)\n",
    "# take the min of (max, num)\n",
    "\n",
    "# the max of min ( or min of max ) will change the logic of cell's value pick"
   ]
  },
  {
   "cell_type": "code",
   "execution_count": 14,
   "metadata": {},
   "outputs": [],
   "source": [
    "class Solution:\n",
    "    def maxOfMin(self, nums):\n",
    "        \n",
    "        N = len(nums)\n",
    "        M = len(nums[0])\n",
    "\n",
    "        nums[0][0] = 1e9\n",
    "        nums[N - 1][M - 1] = 1e9\n",
    "\n",
    "        dp = [[1e9] * M for i in range(N)]\n",
    "\n",
    "        print('\\r\\n'.join([str(item) for item in dp]))\n",
    "        \n",
    "        for j in range(1, M):\n",
    "            dp[0][j] = min(dp[0][j - 1], nums[0][j])\n",
    "        for i in range(1, N):\n",
    "            dp[i][0] = min(dp[i - 1][0], nums[i][0])\n",
    "\n",
    "        print('\\r\\n'.join([str(item) for item in dp]))\n",
    "            \n",
    "        for i in range(1, N):\n",
    "            for j in range(1, M):\n",
    "                # any cell will get the max from preview path (left and top), which how the path will join the compitetion\n",
    "                cur = max(dp[i - 1][j], dp[i][j - 1])\n",
    "                # but also been overrided by the cell value itself, if is smaller (how the path value been selected)\n",
    "                dp[i][j] = min(cur, nums[i][j])\n",
    "                \n",
    "        print('\\r\\n'.join([str(item) for item in dp]))\n",
    "\n",
    "        print(\"ans: \" + str(dp[N - 1][M - 1]))\n",
    "\n",
    "        \n",
    "    def minOfMax(self, nums):\n",
    "        \n",
    "        N = len(nums)\n",
    "        M = len(nums[0])\n",
    "\n",
    "        nums[0][0] = -1e9\n",
    "        nums[N - 1][M - 1] = -1e9\n",
    "\n",
    "        dp = [[-1e9] * M for i in range(N)]\n",
    "\n",
    "        print('\\r\\n'.join([str(item) for item in dp]))\n",
    "        \n",
    "        for j in range(1, M):\n",
    "            dp[0][j] = max(dp[0][j - 1], nums[0][j])\n",
    "        for i in range(1, N):\n",
    "            dp[i][0] = max(dp[i - 1][0], nums[i][0])\n",
    "\n",
    "        print('\\r\\n'.join([str(item) for item in dp]))\n",
    "            \n",
    "        for i in range(1, N):\n",
    "            for j in range(1, M):\n",
    "                # any cell will get the max from preview path (left and top), which how the path will join the compitetion\n",
    "                cur = min(dp[i - 1][j], dp[i][j - 1])\n",
    "                # but also been overrided by the cell value itself, if is smaller (how the path value been selected)\n",
    "                dp[i][j] = max(cur, nums[i][j])\n",
    "                \n",
    "        print('\\r\\n'.join([str(item) for item in dp]))\n",
    "\n",
    "        print(\"ans: \" + str(dp[N - 1][M - 1]))\n",
    "\n",
    "        "
   ]
  },
  {
   "cell_type": "code",
   "execution_count": 15,
   "metadata": {},
   "outputs": [],
   "source": [
    "nums = \\\n",
    "[[1, 2, 3, 4], \n",
    " [2, 4, 1, 3], \n",
    " [4, 5, 1, 6]]"
   ]
  },
  {
   "cell_type": "code",
   "execution_count": 12,
   "metadata": {},
   "outputs": [
    {
     "name": "stdout",
     "output_type": "stream",
     "text": [
      "[1000000000.0, 1000000000.0, 1000000000.0, 1000000000.0]\r\n",
      "[1000000000.0, 1000000000.0, 1000000000.0, 1000000000.0]\r\n",
      "[1000000000.0, 1000000000.0, 1000000000.0, 1000000000.0]\n",
      "[1000000000.0, 2, 2, 2]\r\n",
      "[2, 1000000000.0, 1000000000.0, 1000000000.0]\r\n",
      "[2, 1000000000.0, 1000000000.0, 1000000000.0]\n",
      "[1000000000.0, 2, 2, 2]\r\n",
      "[2, 2, 1, 2]\r\n",
      "[2, 2, 1, 2]\n",
      "ans: 2\n"
     ]
    }
   ],
   "source": [
    "Solution().maxOfMin(nums)"
   ]
  },
  {
   "cell_type": "code",
   "execution_count": 16,
   "metadata": {},
   "outputs": [
    {
     "name": "stdout",
     "output_type": "stream",
     "text": [
      "[-1000000000.0, -1000000000.0, -1000000000.0, -1000000000.0]\r\n",
      "[-1000000000.0, -1000000000.0, -1000000000.0, -1000000000.0]\r\n",
      "[-1000000000.0, -1000000000.0, -1000000000.0, -1000000000.0]\n",
      "[-1000000000.0, 2, 3, 4]\r\n",
      "[2, -1000000000.0, -1000000000.0, -1000000000.0]\r\n",
      "[4, -1000000000.0, -1000000000.0, -1000000000.0]\n",
      "[-1000000000.0, 2, 3, 4]\r\n",
      "[2, 4, 3, 3]\r\n",
      "[4, 5, 3, 3]\n",
      "ans: 3\n"
     ]
    }
   ],
   "source": [
    "Solution().minOfMax(nums)"
   ]
  },
  {
   "cell_type": "code",
   "execution_count": null,
   "metadata": {},
   "outputs": [],
   "source": []
  }
 ],
 "metadata": {
  "kernelspec": {
   "display_name": "Python 3",
   "language": "python",
   "name": "python3"
  },
  "language_info": {
   "codemirror_mode": {
    "name": "ipython",
    "version": 3
   },
   "file_extension": ".py",
   "mimetype": "text/x-python",
   "name": "python",
   "nbconvert_exporter": "python",
   "pygments_lexer": "ipython3",
   "version": "3.7.6"
  }
 },
 "nbformat": 4,
 "nbformat_minor": 2
}
