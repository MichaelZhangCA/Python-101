{
 "cells": [
  {
   "cell_type": "raw",
   "metadata": {},
   "source": [
    "Given a list of positive integers nums and an int target, return indices of the two numbers such that they add up to a target - 30.\n",
    "\n",
    "Conditions:\n",
    "\n",
    "You will pick exactly 2 numbers.\n",
    "You cannot pick the same element twice.\n",
    "If you have muliple pairs, select the pair with the largest number.\n",
    "Example 1:\n",
    "\n",
    "Input: nums = [1, 10, 25, 35, 60], target = 90\n",
    "Output: [2, 3]\n",
    "Explanation:\n",
    "nums[2] + nums[3] = 25 + 35 = 60 = 90 - 30\n",
    "Example 2:\n",
    "\n",
    "Input: nums = [20, 50, 40, 25, 30, 10], target = 90\n",
    "Output: [1, 5]\n",
    "Explanation:\n",
    "nums[0] + nums[2] = 20 + 40 = 60 = 90 - 30\n",
    "nums[1] + nums[5] = 50 + 10 = 60 = 90 - 30\n",
    "You should return the pair with the largest number.\n"
   ]
  },
  {
   "cell_type": "code",
   "execution_count": null,
   "metadata": {},
   "outputs": [],
   "source": []
  },
  {
   "cell_type": "code",
   "execution_count": 3,
   "metadata": {},
   "outputs": [],
   "source": [
    "from typing import List\n",
    "class Solution:\n",
    "    def twoSum(self, nums: List[int], target: int) -> List[int]:\n",
    "        \n",
    "        \"\"\"\n",
    "        Mothod-1: brute force\n",
    "        \n",
    "        i, j to store the indices of two numbers\n",
    "        keep computing the sum, and comparing with the target\n",
    "        \"\"\"\n",
    "        \n",
    "        #         for i in range(len(nums)):\n",
    "        #             for j in range(len(nums)):\n",
    "\n",
    "        #                 if i != j and nums[i] + nums[j] == target:\n",
    "\n",
    "        #                     return [i,j]\n",
    "\n",
    "\n",
    "        \"\"\"\n",
    "        3,3,5,7,7\n",
    "        target = 10\n",
    "        3 -> {0}\n",
    "        5 -> {2}\n",
    "        7 -> {4}\n",
    "        \"\"\"\n",
    "\n",
    "        #             # build the mapping from element to the largest index\n",
    "        #             hashmap = {}\n",
    "        #             for i, num in enumerate(nums):\n",
    "        #                 hashmap[num] = i\n",
    "\n",
    "        #             # for every curr, check if target - curr exists.\n",
    "\n",
    "        #             for idx, curr in enumerate(nums):\n",
    "\n",
    "        #                 rem = target - curr\n",
    "\n",
    "        #                 if rem in hashmap and hashmap[rem] != idx:\n",
    "        #                     return [idx, hashmap[rem]]\n",
    "\n",
    "\n",
    "\n",
    "        #\n",
    "        hashmap = {}\n",
    "\n",
    "        for idx, num in enumerate(nums):\n",
    "            rem  = target - num\n",
    "            if rem in hashmap:\n",
    "                return [idx, hashmap[rem]]\n",
    "            hashmap[num] = idx"
   ]
  },
  {
   "cell_type": "code",
   "execution_count": 4,
   "metadata": {},
   "outputs": [],
   "source": [
    "nums = [1, 10, 25, 35, 60]\n",
    "target = 90 -30"
   ]
  },
  {
   "cell_type": "code",
   "execution_count": 5,
   "metadata": {},
   "outputs": [],
   "source": [
    "idx = Solution().twoSum(nums, target)"
   ]
  },
  {
   "cell_type": "code",
   "execution_count": 6,
   "metadata": {},
   "outputs": [
    {
     "data": {
      "text/plain": [
       "[3, 2]"
      ]
     },
     "execution_count": 6,
     "metadata": {},
     "output_type": "execute_result"
    }
   ],
   "source": [
    "idx"
   ]
  },
  {
   "cell_type": "code",
   "execution_count": null,
   "metadata": {},
   "outputs": [],
   "source": []
  }
 ],
 "metadata": {
  "kernelspec": {
   "display_name": "Python 3",
   "language": "python",
   "name": "python3"
  },
  "language_info": {
   "codemirror_mode": {
    "name": "ipython",
    "version": 3
   },
   "file_extension": ".py",
   "mimetype": "text/x-python",
   "name": "python",
   "nbconvert_exporter": "python",
   "pygments_lexer": "ipython3",
   "version": "3.7.6"
  }
 },
 "nbformat": 4,
 "nbformat_minor": 2
}
