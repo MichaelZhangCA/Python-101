{
 "cells": [
  {
   "cell_type": "code",
   "execution_count": 1,
   "metadata": {},
   "outputs": [],
   "source": [
    "# given a string array, find the common prefix, return \"\" if there is none"
   ]
  },
  {
   "cell_type": "code",
   "execution_count": 14,
   "metadata": {},
   "outputs": [],
   "source": [
    "from collections import deque\n",
    "from typing import List\n",
    "class Solution():\n",
    "    def longestCommonPrefix(self, strs: List[str]) -> str:\n",
    "\n",
    "        if (not strs):\n",
    "            return \"\"\n",
    "        \n",
    "        if (len(strs) == 1):\n",
    "            return strs[0]\n",
    "\n",
    "        def _findCommonPrefix(str1, str2):\n",
    "            if (len(str1) > len(str2)):\n",
    "                return _findCommonPrefix(str2, str1)\n",
    "\n",
    "            res = []\n",
    "            for i in range(len(str1)):\n",
    "                if (str1[i] == str2[i]):\n",
    "                    res.append(str1[i])\n",
    "                else:\n",
    "                    break\n",
    "\n",
    "            return \"\".join(res)\n",
    "        \n",
    "        \n",
    "        q = deque(strs)\n",
    "\n",
    "        while (len(q)>1):\n",
    "\n",
    "            str1, str2 = q.popleft(), q.popleft()\n",
    "\n",
    "            # get the common prefix for these 2 strings and push back to the queue\n",
    "            cs = _findCommonPrefix(str1, str2)\n",
    "            if (not cs):\n",
    "                return \"\"\n",
    "\n",
    "            q.append(cs)\n",
    "\n",
    "        return q[0]\n",
    "\n"
   ]
  },
  {
   "cell_type": "code",
   "execution_count": 15,
   "metadata": {},
   "outputs": [],
   "source": [
    "strs = [\"flOwer\",\"flOw\",\"flight\"]"
   ]
  },
  {
   "cell_type": "code",
   "execution_count": 16,
   "metadata": {},
   "outputs": [
    {
     "data": {
      "text/plain": [
       "'fl'"
      ]
     },
     "execution_count": 16,
     "metadata": {},
     "output_type": "execute_result"
    }
   ],
   "source": [
    "Solution().longestCommonPrefix(strs)"
   ]
  },
  {
   "cell_type": "code",
   "execution_count": null,
   "metadata": {},
   "outputs": [],
   "source": []
  },
  {
   "cell_type": "code",
   "execution_count": null,
   "metadata": {},
   "outputs": [],
   "source": []
  }
 ],
 "metadata": {
  "kernelspec": {
   "display_name": "Python 3",
   "language": "python",
   "name": "python3"
  },
  "language_info": {
   "codemirror_mode": {
    "name": "ipython",
    "version": 3
   },
   "file_extension": ".py",
   "mimetype": "text/x-python",
   "name": "python",
   "nbconvert_exporter": "python",
   "pygments_lexer": "ipython3",
   "version": "3.7.6"
  }
 },
 "nbformat": 4,
 "nbformat_minor": 2
}
