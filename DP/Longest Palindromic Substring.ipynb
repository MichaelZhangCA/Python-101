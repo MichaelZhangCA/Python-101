{
 "cells": [
  {
   "cell_type": "code",
   "execution_count": 1,
   "metadata": {},
   "outputs": [],
   "source": [
    "# find the longest palindromeic substring\n",
    "# a palindromeic string has a center, either one char, or 2 same char\n",
    "# the following function return the lenght of substring\n",
    "# couild change to return the substring directly"
   ]
  },
  {
   "cell_type": "code",
   "execution_count": 20,
   "metadata": {},
   "outputs": [],
   "source": [
    "def longestPalindrom(s):\n",
    "    \n",
    "    maxlen = 0\n",
    "    \n",
    "    for i in range(len(s)):\n",
    "        \n",
    "        # check single cneter\n",
    "        maxlen = max(maxlen, palinderom_len(s,i,i))\n",
    "        \n",
    "        # check i and i+1\n",
    "        if (i<len(s)-1 and s[i] == s[i+1]):\n",
    "            maxlen = max(maxlen, palinderom_len(s,i,i+1))\n",
    "    \n",
    "    return maxlen\n",
    "\n",
    "def palinderom_len(s, i, j):\n",
    "    \n",
    "    while (i>=0 and j<len(s) and s[i]==s[j]):\n",
    "        i -= 1\n",
    "        j += 1\n",
    "    \n",
    "    # l & r both moved one more time so the length is (j-i-1)\n",
    "    return j - i - 1"
   ]
  },
  {
   "cell_type": "code",
   "execution_count": 27,
   "metadata": {},
   "outputs": [],
   "source": [
    "s = 'abcddcfgf'"
   ]
  },
  {
   "cell_type": "code",
   "execution_count": 28,
   "metadata": {},
   "outputs": [
    {
     "data": {
      "text/plain": [
       "4"
      ]
     },
     "execution_count": 28,
     "metadata": {},
     "output_type": "execute_result"
    }
   ],
   "source": [
    "longestPalindrom(s)"
   ]
  },
  {
   "cell_type": "code",
   "execution_count": null,
   "metadata": {},
   "outputs": [],
   "source": []
  }
 ],
 "metadata": {
  "kernelspec": {
   "display_name": "Python 3",
   "language": "python",
   "name": "python3"
  },
  "language_info": {
   "codemirror_mode": {
    "name": "ipython",
    "version": 3
   },
   "file_extension": ".py",
   "mimetype": "text/x-python",
   "name": "python",
   "nbconvert_exporter": "python",
   "pygments_lexer": "ipython3",
   "version": "3.7.5"
  }
 },
 "nbformat": 4,
 "nbformat_minor": 2
}
