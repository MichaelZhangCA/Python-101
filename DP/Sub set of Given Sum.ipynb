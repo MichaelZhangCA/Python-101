{
 "cells": [
  {
   "cell_type": "code",
   "execution_count": 1,
   "metadata": {},
   "outputs": [],
   "source": [
    "# given a integer array, find if there is subset which sum equals given num\n",
    "# [1,2,3,6,8,11], 12\n",
    "#[1,3,8] = 12"
   ]
  },
  {
   "cell_type": "code",
   "execution_count": 2,
   "metadata": {},
   "outputs": [],
   "source": [
    "# use divid and conquor, loop each number in the array, find if the left number can sum up to the (sum-num)"
   ]
  },
  {
   "cell_type": "code",
   "execution_count": 30,
   "metadata": {},
   "outputs": [],
   "source": [
    "class Solution():\n",
    "    \n",
    "    def subSum(self, nums, tar):\n",
    "        if (not nums or not tar):\n",
    "            return []\n",
    "        \n",
    "        res = self.dc(nums, tar)\n",
    "        srt = [sorted(r) for r in res]\n",
    "        return list(set([tuple(r) for r in srt]))\n",
    "    \n",
    "    def dc(self, nums, tar):\n",
    "        \n",
    "        if (len(nums)==1):\n",
    "            if (nums[0]==tar):\n",
    "                return [nums]\n",
    "            else:\n",
    "                return []\n",
    "        \n",
    "        res = []\n",
    "        \n",
    "        for i in range(len(nums)):\n",
    "            # if n + output of left subset = sum\n",
    "            subtar = tar - nums[i]\n",
    "            subset = nums[:i]+nums[i+1:]\n",
    "            \n",
    "            # check if there is a direct match\n",
    "            if (subtar in subset):\n",
    "                res.append([nums[i], subtar])\n",
    "            \n",
    "            # go for next combination\n",
    "            rtset = self.dc(nums[:i]+nums[i+1:], subtar)\n",
    "            \n",
    "            if (rtset):\n",
    "                for sub in rtset:\n",
    "                    res.append( [nums[i]] + sub)\n",
    "            \n",
    "        return res"
   ]
  },
  {
   "cell_type": "code",
   "execution_count": 31,
   "metadata": {},
   "outputs": [],
   "source": [
    "nums = [1,2,3,6,8,11]\n",
    "tar = 12"
   ]
  },
  {
   "cell_type": "code",
   "execution_count": 32,
   "metadata": {},
   "outputs": [
    {
     "data": {
      "text/plain": [
       "[(1, 11), (1, 3, 8), (1, 2, 3, 6)]"
      ]
     },
     "execution_count": 32,
     "metadata": {},
     "output_type": "execute_result"
    }
   ],
   "source": [
    "Solution().subSum(nums, tar)"
   ]
  },
  {
   "cell_type": "code",
   "execution_count": null,
   "metadata": {},
   "outputs": [],
   "source": []
  }
 ],
 "metadata": {
  "kernelspec": {
   "display_name": "Python 3",
   "language": "python",
   "name": "python3"
  },
  "language_info": {
   "codemirror_mode": {
    "name": "ipython",
    "version": 3
   },
   "file_extension": ".py",
   "mimetype": "text/x-python",
   "name": "python",
   "nbconvert_exporter": "python",
   "pygments_lexer": "ipython3",
   "version": "3.7.6"
  }
 },
 "nbformat": 4,
 "nbformat_minor": 2
}
