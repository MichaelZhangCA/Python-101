{
 "cells": [
  {
   "cell_type": "code",
   "execution_count": 2,
   "metadata": {},
   "outputs": [],
   "source": [
    "# a traingle array looks like below, find the max sum path from root to bottom\n",
    "#     1\n",
    "#    3 5 \n",
    "#   7 2 6\n",
    "#  4 2 9 3"
   ]
  },
  {
   "cell_type": "code",
   "execution_count": 3,
   "metadata": {},
   "outputs": [],
   "source": [
    "# use divid and conquor, from top to botoom find each node's max sum\n"
   ]
  },
  {
   "cell_type": "code",
   "execution_count": 15,
   "metadata": {},
   "outputs": [],
   "source": [
    "class Solution():\n",
    "    \n",
    "    def maxPath(self, arrs):\n",
    "        \n",
    "        return self.dc(arrs,0,0)\n",
    "        \n",
    "    def dc(self, arrs, i, lvl):\n",
    "        \n",
    "        # if it's the bottom\n",
    "        if (lvl == len(arrs)-1):\n",
    "            return arrs[lvl][i]\n",
    "        \n",
    "        # otherwise, find the max of current node\n",
    "        return arrs[lvl][i] + max(self.dc(arrs,i,lvl+1), self.dc(arrs,i+1, lvl+1))\n",
    "        \n",
    "        "
   ]
  },
  {
   "cell_type": "code",
   "execution_count": 16,
   "metadata": {},
   "outputs": [],
   "source": [
    "arrs = [[1], [3,5], [7,2,6], [4,2,9,3]]"
   ]
  },
  {
   "cell_type": "code",
   "execution_count": 17,
   "metadata": {},
   "outputs": [
    {
     "data": {
      "text/plain": [
       "21"
      ]
     },
     "execution_count": 17,
     "metadata": {},
     "output_type": "execute_result"
    }
   ],
   "source": [
    "Solution().maxPath(arr)"
   ]
  },
  {
   "cell_type": "code",
   "execution_count": null,
   "metadata": {},
   "outputs": [],
   "source": []
  }
 ],
 "metadata": {
  "kernelspec": {
   "display_name": "Python 3",
   "language": "python",
   "name": "python3"
  },
  "language_info": {
   "codemirror_mode": {
    "name": "ipython",
    "version": 3
   },
   "file_extension": ".py",
   "mimetype": "text/x-python",
   "name": "python",
   "nbconvert_exporter": "python",
   "pygments_lexer": "ipython3",
   "version": "3.7.6"
  }
 },
 "nbformat": 4,
 "nbformat_minor": 2
}
