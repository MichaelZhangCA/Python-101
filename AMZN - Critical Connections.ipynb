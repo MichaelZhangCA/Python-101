{
 "cells": [
  {
   "cell_type": "raw",
   "metadata": {},
   "source": [
    "https://leetcode.com/problems/critical-connections-in-a-network/\n",
    "\n",
    "Given an underected connected graph with n nodes labeled 1..n. A bridge (cut edge) is defined as an edge which, when removed, makes the graph disconnected (or more precisely, increases the number of connected components in the graph). Equivalently, an edge is a bridge if and only if it is not contained in any cycle. The task is to find all bridges in the given graph. Output an empty list if there are no bridges.\n",
    "\n",
    "Input:\n",
    "\n",
    "n, an int representing the total number of nodes.\n",
    "edges, a list of pairs of integers representing the nodes connected by an edge.\n",
    "Example 1:\n",
    "\n",
    "Input: n = 5, edges = [[1, 2], [1, 3], [3, 4], [1, 4], [4, 5]]\n",
    "\n",
    "\n",
    "Output: [[1, 2], [4, 5]]\n",
    "Explanation:\n",
    "There are 2 bridges:\n",
    "1. Between node 1 and 2\n",
    "2. Between node 4 and 5\n",
    "If we remove these edges, then the graph will be disconnected.\n",
    "If we remove any of the remaining edges, the graph will remain connected.\n",
    "Example 2:\n",
    "\n",
    "Input: n = 6, edges = [[1, 2], [1, 3], [2, 3], [2, 4], [2, 5], [4, 6], [5, 6]]\n",
    "\n",
    "\n",
    "Output: []\n",
    "Explanation:\n",
    "We can remove any edge, the graph will remain connected.\n",
    "Example 3:\n",
    "\n",
    "Input: n = 9, edges = [[1, 2], [1, 3], [2, 3], [3, 4], [3, 6], [4, 5], [6, 7], [6, 9], [7, 8], [8, 9]]\n",
    "\n",
    "\n",
    "Output: [[3, 4], [3, 6], [4, 5]]"
   ]
  },
  {
   "cell_type": "code",
   "execution_count": 13,
   "metadata": {},
   "outputs": [],
   "source": [
    "# This is specifically for Amazon OA. When I attempted this question during OA, 2 test cases were failing. \n",
    "# So, I tried out changing the order of vertices in edges and the test cases passed."
   ]
  },
  {
   "cell_type": "code",
   "execution_count": 18,
   "metadata": {},
   "outputs": [],
   "source": [
    "from collections import defaultdict\n",
    "class Solution(object):\n",
    "    def criticalConnections(self, n, connections):\n",
    "        \"\"\"\n",
    "        :type n: int\n",
    "        :type connections: List[List[int]]\n",
    "        :rtype: List[List[int]]\n",
    "        \"\"\"\n",
    "        graph = defaultdict(list)\n",
    "        for v in connections:\n",
    "            graph[v[0]].append(v[1])\n",
    "            graph[v[1]].append(v[0])\n",
    "        \n",
    "        disc = [None for _ in range(n+1)]\n",
    "        low = [None for _ in range(n+1)]\n",
    "\n",
    "        res = []\n",
    "        self.cur = 0\n",
    "        \n",
    "        def dfs(node, parent):\n",
    "            if disc[node] is None:\n",
    "                disc[node] = self.cur\n",
    "                low[node] = self.cur\n",
    "                self.cur += 1\n",
    "                for n in graph[node]:\n",
    "                    if disc[n] is None:\n",
    "                        dfs(n, node)\n",
    "                if parent is not None:\n",
    "                    l = min([low[i] for i in graph[node] if i!=parent]+[low[node]])\n",
    "                else:\n",
    "                    l = min(low[i] for i in graph[node]+[low[node]])\n",
    "                low[node] = l\n",
    "        \n",
    "        dfs(1, -1)\n",
    "        \n",
    "        for v in connections:\n",
    "            if low[v[0]]>disc[v[1]] or low[v[1]]>disc[v[0]]:\n",
    "                res.append(sorted(v))\n",
    "        \n",
    "        return res\n"
   ]
  },
  {
   "cell_type": "code",
   "execution_count": 19,
   "metadata": {},
   "outputs": [],
   "source": [
    "n = 9\n",
    "edges = [[1, 2], [1, 3], [2, 3], [3, 4], [3, 6], [4, 5], [6, 7], [6, 9], [7, 8], [8, 9]]"
   ]
  },
  {
   "cell_type": "code",
   "execution_count": 20,
   "metadata": {},
   "outputs": [],
   "source": [
    "cri = Solution().criticalConnections(n, edges)"
   ]
  },
  {
   "cell_type": "code",
   "execution_count": 21,
   "metadata": {},
   "outputs": [
    {
     "data": {
      "text/plain": [
       "[[3, 4], [3, 6], [4, 5]]"
      ]
     },
     "execution_count": 21,
     "metadata": {},
     "output_type": "execute_result"
    }
   ],
   "source": [
    "cri"
   ]
  },
  {
   "cell_type": "code",
   "execution_count": null,
   "metadata": {},
   "outputs": [],
   "source": []
  }
 ],
 "metadata": {
  "kernelspec": {
   "display_name": "Python 3",
   "language": "python",
   "name": "python3"
  },
  "language_info": {
   "codemirror_mode": {
    "name": "ipython",
    "version": 3
   },
   "file_extension": ".py",
   "mimetype": "text/x-python",
   "name": "python",
   "nbconvert_exporter": "python",
   "pygments_lexer": "ipython3",
   "version": "3.7.5"
  }
 },
 "nbformat": 4,
 "nbformat_minor": 2
}
