{
 "cells": [
  {
   "cell_type": "raw",
   "metadata": {},
   "source": [
    "https://leetcode.com/problems/critical-connections-in-a-network/\n",
    "\n",
    "Given an underected connected graph with n nodes labeled 1..n. A bridge (cut edge) is defined as an edge which, when removed, makes the graph disconnected (or more precisely, increases the number of connected components in the graph). Equivalently, an edge is a bridge if and only if it is not contained in any cycle. The task is to find all bridges in the given graph. Output an empty list if there are no bridges.\n",
    "\n",
    "Input:\n",
    "\n",
    "n, an int representing the total number of nodes.\n",
    "edges, a list of pairs of integers representing the nodes connected by an edge.\n",
    "Example 1:\n",
    "\n",
    "Input: n = 5, edges = [[1, 2], [1, 3], [3, 4], [1, 4], [4, 5]]\n",
    "\n",
    "\n",
    "Output: [[1, 2], [4, 5]]\n",
    "Explanation:\n",
    "There are 2 bridges:\n",
    "1. Between node 1 and 2\n",
    "2. Between node 4 and 5\n",
    "If we remove these edges, then the graph will be disconnected.\n",
    "If we remove any of the remaining edges, the graph will remain connected.\n",
    "Example 2:\n",
    "\n",
    "Input: n = 6, edges = [[1, 2], [1, 3], [2, 3], [2, 4], [2, 5], [4, 6], [5, 6]]\n",
    "\n",
    "\n",
    "Output: []\n",
    "Explanation:\n",
    "We can remove any edge, the graph will remain connected.\n",
    "Example 3:\n",
    "\n",
    "Input: n = 9, edges = [[1, 2], [1, 3], [2, 3], [3, 4], [3, 6], [4, 5], [6, 7], [6, 9], [7, 8], [8, 9]]\n",
    "\n",
    "\n",
    "Output: [[3, 4], [3, 6], [4, 5]]"
   ]
  },
  {
   "cell_type": "markdown",
   "metadata": {},
   "source": [
    "Example 1\n",
    "<img src=\"https://i.imgur.com/Swl4fjs.png\" alt=\"\">"
   ]
  },
  {
   "cell_type": "markdown",
   "metadata": {},
   "source": [
    "Example 2\n",
    "<img src=\"https://i.imgur.com/eYHEDjl.png\" alt=\"\">"
   ]
  },
  {
   "cell_type": "markdown",
   "metadata": {},
   "source": [
    "Example 3\n",
    "<img src=\"https://i.imgur.com/yevH89d.png\" alt=\"\">"
   ]
  },
  {
   "cell_type": "code",
   "execution_count": 1,
   "metadata": {},
   "outputs": [],
   "source": [
    "# This is specifically for Amazon OA. When I attempted this question during OA, 2 test cases were failing. \n",
    "# So, I tried out changing the order of vertices in edges and the test cases passed."
   ]
  },
  {
   "cell_type": "code",
   "execution_count": null,
   "metadata": {},
   "outputs": [],
   "source": [
    "# A bridge is\n",
    "# when the id of from vertex is smamller than the LOWEST link times of end vertex\n",
    "# 1, the id of from vertex, reference to the sequence number when DFS the tree, from any selected node\n",
    "# 2, the LOWEST link times of end vertex, is the smallest id where this vertex can connect to, either directly or indirectly\n",
    "# checking a bridge is directed edge (from -> to)\n",
    "# the bridge is undirected since both directions present the same edge"
   ]
  },
  {
   "cell_type": "code",
   "execution_count": 78,
   "metadata": {},
   "outputs": [],
   "source": [
    "from typing import List\n",
    "from collections import defaultdict\n",
    "\n",
    "class Solution(object):\n",
    "    def criticalConnections(self, n: int, connections: List[List[int]]) -> List[List[int]]:\n",
    "        \"\"\"\n",
    "        :type n: int\n",
    "        :type connections: List[List[int]]\n",
    "        :rtype: List[List[int]]\n",
    "        \"\"\"\n",
    "        \n",
    "        # build the graph (undirected)\n",
    "        graph = defaultdict(list)\n",
    "        for v in connections:\n",
    "            graph[v[0]].append(v[1])\n",
    "            graph[v[1]].append(v[0])\n",
    "        \n",
    "        print(graph)\n",
    "        \n",
    "        # to log visited nodes and the lowest links of the node (node start from 1 so range(n+1))\n",
    "        visited = [None for _ in range(n+1)]\n",
    "        low = [None for _ in range(n+1)]\n",
    "\n",
    "        res = []\n",
    "        # discoverty time \n",
    "        cur = 0\n",
    "        \n",
    "        def dfs(node, parent):\n",
    "            # use the cur variable out of this function\n",
    "            nonlocal cur\n",
    "        \n",
    "            # add node to visited\n",
    "            if (visited[node]==None):\n",
    "                visited[node] = cur\n",
    "                low[node] = cur\n",
    "            \n",
    "                cur +=1\n",
    "                \n",
    "            # move to children\n",
    "            for to in graph[node]:\n",
    "                if (to == parent):\n",
    "                    continue\n",
    "                \n",
    "                '''\n",
    "                if (visited[to]!=None):\n",
    "                    # if the child in the vistied, log the min of low value\n",
    "                    low[node] = min(low[node], low[to])\n",
    "                else:\n",
    "                    # a new node, call dfs\n",
    "                    dfs(to, node)\n",
    "                    # when finished \"to\" recurse, compare low value again\n",
    "                    low[node] = min(low[node], low[to])\n",
    "                '''\n",
    "                if (visited[to]==None):\n",
    "                    dfs(to, node)\n",
    "                \n",
    "                low[node] = min(low[node], low[to])\n",
    "                \n",
    "        # start from any node, with no parent, will get exactly the same result\n",
    "        root = 3\n",
    "        dfs(root, -1)\n",
    "        \n",
    "        #print(visited)\n",
    "        #print(low)\n",
    "        \n",
    "        # find bridges: a bridge is one side is smller than other side\n",
    "        for v in connections:\n",
    "            if low[v[0]]>visited[v[1]] or low[v[1]]>visited[v[0]]:\n",
    "                # sort the node of the edge to pass test\n",
    "                res.append(sorted(v))\n",
    "        \n",
    "        #print(res)\n",
    "        return res\n"
   ]
  },
  {
   "cell_type": "code",
   "execution_count": 79,
   "metadata": {},
   "outputs": [],
   "source": [
    "n = 9\n",
    "edges = [[1, 2], [1, 3], [2, 3], [3, 4], [3, 6], [4, 5], [6, 7], [6, 9], [7, 8], [8, 9]]"
   ]
  },
  {
   "cell_type": "code",
   "execution_count": 82,
   "metadata": {},
   "outputs": [
    {
     "name": "stdout",
     "output_type": "stream",
     "text": [
      "defaultdict(<class 'list'>, {1: [0, 4], 0: [1, 2, 3, 4], 2: [0, 4], 3: [0], 4: [1, 2, 0]})\n"
     ]
    },
    {
     "data": {
      "text/plain": [
       "[[0, 3]]"
      ]
     },
     "execution_count": 82,
     "metadata": {},
     "output_type": "execute_result"
    }
   ],
   "source": [
    "Solution().criticalConnections(n, edges)"
   ]
  },
  {
   "cell_type": "code",
   "execution_count": 81,
   "metadata": {},
   "outputs": [],
   "source": [
    "n = 5\n",
    "edges = [[1,0],[2,0],[3,0],[4,1],[4,2],[4,0]]"
   ]
  },
  {
   "cell_type": "code",
   "execution_count": null,
   "metadata": {},
   "outputs": [],
   "source": []
  },
  {
   "cell_type": "code",
   "execution_count": null,
   "metadata": {},
   "outputs": [],
   "source": []
  },
  {
   "cell_type": "code",
   "execution_count": 84,
   "metadata": {},
   "outputs": [],
   "source": [
    "from collections import defaultdict\n",
    "from typing import List\n",
    "class Solution2:\n",
    "    def criticalConnections(self, n: int, connections: List[List[int]]) -> List[List[int]]:\n",
    "        \n",
    "        if (n==0):\n",
    "            return []\n",
    "        if (n==1):\n",
    "            return connections\n",
    "    \n",
    "        def dfs(node, parent):\n",
    "            \n",
    "            nonlocal curstep\n",
    "            \n",
    "            if (node not in seen):\n",
    "                seen[node] = curstep\n",
    "                low[node] = curstep\n",
    "                \n",
    "                # for all the connection nodes\n",
    "                curstep +=1\n",
    "                \n",
    "            # walk through all sub nodes\n",
    "            for n in [g for g in g[node] if g !=parent]:\n",
    "                if (n in seen):\n",
    "                    low[node] = min(low[node], low[n])\n",
    "                else:\n",
    "                    dfs(n, node)\n",
    "                    low[node] = min(low[node], low[n])\n",
    "    \n",
    "        \n",
    "        # walk through all the edges and log min steps for nodes\n",
    "        # no matter which node start, it should always be the same\n",
    "        \n",
    "        g = defaultdict(list)\n",
    "        for edge in connections:\n",
    "            g[edge[0]].append(edge[1])\n",
    "            g[edge[1]].append(edge[0])\n",
    "        \n",
    "        print(g)\n",
    "        # define a dict for any visited nodes, a low dict for the min steps to reach the node, and count the steps\n",
    "        seen, low = {}, {}\n",
    "        curstep = 0\n",
    "\n",
    "        # it shouldn't matter start from which number\n",
    "        dfs(1, None)\n",
    "\n",
    "        print(seen, low)\n",
    "        # now check all edges, if the edge has different value from both side, it's cirtical connection\n",
    "        res = [ edge for edge in connections if ( seen[edge[0]] < low[edge[1]] or seen[edge[1]] < low[edge[0]] )]\n",
    "        return res\n",
    "    "
   ]
  },
  {
   "cell_type": "code",
   "execution_count": 63,
   "metadata": {},
   "outputs": [],
   "source": [
    "n = 5\n",
    "edges = [[1,0],[2,1],[3,2],[4,2],[2,0],[3,0],[4,0]]"
   ]
  },
  {
   "cell_type": "code",
   "execution_count": 85,
   "metadata": {},
   "outputs": [
    {
     "name": "stdout",
     "output_type": "stream",
     "text": [
      "defaultdict(<class 'list'>, {1: [0, 4], 0: [1, 2, 3, 4], 2: [0, 4], 3: [0], 4: [1, 2, 0]})\n",
      "{1: 0, 0: 1, 2: 2, 4: 3, 3: 4} {1: 0, 0: 0, 2: 0, 4: 0, 3: 4}\n"
     ]
    },
    {
     "data": {
      "text/plain": [
       "[[3, 0]]"
      ]
     },
     "execution_count": 85,
     "metadata": {},
     "output_type": "execute_result"
    }
   ],
   "source": [
    "Solution2().criticalConnections(n, edges)"
   ]
  },
  {
   "cell_type": "code",
   "execution_count": null,
   "metadata": {},
   "outputs": [],
   "source": []
  }
 ],
 "metadata": {
  "kernelspec": {
   "display_name": "Python 3",
   "language": "python",
   "name": "python3"
  },
  "language_info": {
   "codemirror_mode": {
    "name": "ipython",
    "version": 3
   },
   "file_extension": ".py",
   "mimetype": "text/x-python",
   "name": "python",
   "nbconvert_exporter": "python",
   "pygments_lexer": "ipython3",
   "version": "3.7.6"
  }
 },
 "nbformat": 4,
 "nbformat_minor": 2
}
