{
 "cells": [
  {
   "cell_type": "raw",
   "metadata": {},
   "source": [
    "Given an N-ary tree, find the subtree with the maximum average. Return the root of the subtree.\n",
    "A subtree of a tree is the node which have at least 1 child plus all its descendants. The average value of a subtree is the sum of its values, divided by the number of nodes.\n",
    "\n",
    "Example 1:\n",
    "\n",
    "Input:\n",
    "\t\t 20\n",
    "\t   /   \\\n",
    "\t 12     18\n",
    "  /  |  \\   / \\\n",
    "11   2   3 15  8\n",
    "\n",
    "Output: 18\n",
    "Explanation:\n",
    "There are 3 nodes which have children in this tree:\n",
    "12 => (11 + 2 + 3 + 12) / 4 = 7\n",
    "18 => (18 + 15 + 8) / 3 = 13.67\n",
    "20 => (12 + 11 + 2 + 3 + 18 + 15 + 8 + 20) / 8 = 11.125\n",
    "\n",
    "18 has the maximum average so output 18.\n"
   ]
  },
  {
   "cell_type": "code",
   "execution_count": 1,
   "metadata": {},
   "outputs": [],
   "source": [
    "# use DFS for the tree and return the max average node"
   ]
  },
  {
   "cell_type": "code",
   "execution_count": 9,
   "metadata": {},
   "outputs": [],
   "source": [
    "class TreeNode:\n",
    "    def __init__(self, value):\n",
    "        self.val = value\n",
    "        self.children = []\n",
    "        \n",
    "    def addChild(self, child):\n",
    "        self.children.append(child)\n",
    "\n",
    "class Solution: \n",
    "    \n",
    "    # final result\n",
    "    res = [float('-inf'), 0]\n",
    "    \n",
    "    def maxAverageSubtree(self, root):\n",
    "        if (not root or not root.children):\n",
    "            return None\n",
    "    \n",
    "        self._dfs(root)\n",
    "        return self.res[1]\n",
    "    \n",
    "    def _dfs(self, node):\n",
    "        # return sum & count of the node\n",
    "        if (not node.children):\n",
    "            return [node.val, 1]\n",
    "        \n",
    "        node_sum, node_count = node.val, 1\n",
    "        for child in node.children:\n",
    "            child_sum, child_count = self._dfs(child)\n",
    "\n",
    "            node_sum += child_sum\n",
    "            node_count += child_count\n",
    "            \n",
    "            # compare global average\n",
    "            if (node_sum/node_count > self.res[0]):\n",
    "                self.res = [node_sum/node_count, node.val]\n",
    "\n",
    "        return [node_sum, node_count]"
   ]
  },
  {
   "cell_type": "code",
   "execution_count": 8,
   "metadata": {},
   "outputs": [],
   "source": [
    "# prepare data\n",
    "root = TreeNode(20)\n",
    "node12 = TreeNode(12)\n",
    "node18 = TreeNode(18)\n",
    "node11 = TreeNode(11)\n",
    "node2 = TreeNode(2)\n",
    "node3 = TreeNode(3)\n",
    "node15 = TreeNode(15)\n",
    "node8 = TreeNode(8)\n",
    "\n",
    "root.addChild(node12)\n",
    "root.addChild(node18)\n",
    "\n",
    "node12.addChild(node11)\n",
    "node12.addChild(node2)\n",
    "node12.addChild(node3)\n",
    "\n",
    "node18.addChild(node15)\n",
    "node18.addChild(node8)\n"
   ]
  },
  {
   "cell_type": "code",
   "execution_count": 10,
   "metadata": {},
   "outputs": [
    {
     "data": {
      "text/plain": [
       "18"
      ]
     },
     "execution_count": 10,
     "metadata": {},
     "output_type": "execute_result"
    }
   ],
   "source": [
    "Solution().maxAverageSubtree(root)"
   ]
  },
  {
   "cell_type": "code",
   "execution_count": null,
   "metadata": {},
   "outputs": [],
   "source": []
  }
 ],
 "metadata": {
  "kernelspec": {
   "display_name": "Python 3",
   "language": "python",
   "name": "python3"
  },
  "language_info": {
   "codemirror_mode": {
    "name": "ipython",
    "version": 3
   },
   "file_extension": ".py",
   "mimetype": "text/x-python",
   "name": "python",
   "nbconvert_exporter": "python",
   "pygments_lexer": "ipython3",
   "version": "3.7.6"
  }
 },
 "nbformat": 4,
 "nbformat_minor": 2
}
