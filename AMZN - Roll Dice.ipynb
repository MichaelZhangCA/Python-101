{
 "cells": [
  {
   "cell_type": "raw",
   "metadata": {},
   "source": [
    "A six-sided die is a small cube with a different number of pips on each face (side), ranging from 1 to 6.\n",
    "On any two opposite side of the cube, the number of pips adds up to 7; that is, there are three pairs of opposite sides: 1 and 6, 2 and 5, and 3 and 4.\n",
    "There are N dice lying on a table, each showing the pips on its top face. In one move, you can take one die and rotate it to an adjacent face.\n",
    "For example, you can rotate a die that shows 1 s that it shows 2, 3, 4 or 5. However, it cannot show 6 in a single move, because the faces with one pip and six pips visible are opposite sides rather than adjacent.\n",
    "You want to show the same number of pips on the top face of all N dice. Given that each of the dice can be moved multiple times, count the minimum number of moves needed to get equal faces.\n",
    "\n",
    "Write a function that, given an array A consisting of N integers describing the number of pips (from 1 to 6) shown on each die's top face, returns the minimum number of moves necessary for each die show the same number of pips.\n",
    "\n",
    "Example 1:\n",
    "\n",
    "Input: A = [1, 2, 3]\n",
    "Output: 2\n",
    "Explanation: You can pick the first two dice and rotate each of them in one move so that they all show three pips on the top face.\n",
    "Notice that you can also pick any other pair of dice in this case.\n",
    "Example 2:\n",
    "\n",
    "Input: A = [1, 1, 6]\n",
    "Output: 2\n",
    "Explanation: The only optimal answer is to rotate the last die so that it shows one pip. It is necessary to use two rotations to achieve this.\n",
    "Example 3:\n",
    "\n",
    "Input: A = [1, 6, 2, 3]\n",
    "Output: 3\n",
    "Explanation: For instance, you can make all dice show 2: just rotate each die which is not showing 2.\n",
    "Notice that for each die you can do this in one move.\n",
    "A ssume that:\n",
    "• N is an integer within the range [1..100];\n",
    "• each element of the array A is an integer within the range [1..6]."
   ]
  },
  {
   "cell_type": "code",
   "execution_count": 49,
   "metadata": {},
   "outputs": [],
   "source": [
    "# count all the possible facing and pick the min\n",
    "# the counting logic is\n",
    "#     if target + face = 7, then roll twice\n",
    "#     if target == face, roll 0\n",
    "#     all other roll once\n",
    "\n",
    "# the bottom code is better"
   ]
  },
  {
   "cell_type": "code",
   "execution_count": 33,
   "metadata": {},
   "outputs": [],
   "source": [
    "from typing import List\n",
    "from collections import defaultdict\n",
    "class Solution():\n",
    "    def rollDice(self, A : List[int]) -> int:\n",
    "        \n",
    "        faces = defaultdict(int)\n",
    "        for i in range(1,7):\n",
    "            faces[i] += sum([0 if dice==i else (2 if dice+i==7 else 1) for dice in A])\n",
    "        \n",
    "        return min(faces.values())\n",
    "            "
   ]
  },
  {
   "cell_type": "code",
   "execution_count": 44,
   "metadata": {},
   "outputs": [],
   "source": [
    "A = [1,2,3,2,3,4]"
   ]
  },
  {
   "cell_type": "code",
   "execution_count": 45,
   "metadata": {},
   "outputs": [
    {
     "name": "stdout",
     "output_type": "stream",
     "text": [
      "defaultdict(<class 'int'>, {1: 5, 2: 4, 3: 5, 4: 7, 5: 8, 6: 7})\n"
     ]
    },
    {
     "data": {
      "text/plain": [
       "4"
      ]
     },
     "execution_count": 45,
     "metadata": {},
     "output_type": "execute_result"
    }
   ],
   "source": [
    "Solution().rollDice(A)"
   ]
  },
  {
   "cell_type": "code",
   "execution_count": 46,
   "metadata": {},
   "outputs": [],
   "source": [
    "from typing import List\n",
    "from collections import Counter\n",
    "class Solution2():\n",
    "    def rollDice(self, A : List[int]) -> int:\n",
    "        \n",
    "        dice_counter = Counter(A)\n",
    "        \n",
    "        # if dice is 7-i, roll 2 times\n",
    "        # if dice is i, do not roll\n",
    "        # other case roll once\n",
    "        flips = [( 2 * dice_counter[7-i] + (len(A) - dice_counter[7-i] - dice_counter[i]) ) for i in range(1,7)]\n",
    "        \n",
    "        return min(flips)\n",
    "            "
   ]
  },
  {
   "cell_type": "code",
   "execution_count": 47,
   "metadata": {},
   "outputs": [
    {
     "data": {
      "text/plain": [
       "4"
      ]
     },
     "execution_count": 47,
     "metadata": {},
     "output_type": "execute_result"
    }
   ],
   "source": [
    "Solution2().rollDice(A)"
   ]
  },
  {
   "cell_type": "code",
   "execution_count": null,
   "metadata": {},
   "outputs": [],
   "source": []
  }
 ],
 "metadata": {
  "kernelspec": {
   "display_name": "Python 3",
   "language": "python",
   "name": "python3"
  },
  "language_info": {
   "codemirror_mode": {
    "name": "ipython",
    "version": 3
   },
   "file_extension": ".py",
   "mimetype": "text/x-python",
   "name": "python",
   "nbconvert_exporter": "python",
   "pygments_lexer": "ipython3",
   "version": "3.7.6"
  }
 },
 "nbformat": 4,
 "nbformat_minor": 2
}
