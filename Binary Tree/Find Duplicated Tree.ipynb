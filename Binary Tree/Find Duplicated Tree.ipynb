{
 "cells": [
  {
   "cell_type": "code",
   "execution_count": 1,
   "metadata": {},
   "outputs": [],
   "source": [
    "# given binary tree, find all duplicated node (leaf also count)"
   ]
  },
  {
   "cell_type": "code",
   "execution_count": 2,
   "metadata": {},
   "outputs": [],
   "source": [
    "from binarytree import Node"
   ]
  },
  {
   "cell_type": "code",
   "execution_count": 3,
   "metadata": {},
   "outputs": [
    {
     "name": "stdout",
     "output_type": "stream",
     "text": [
      "-------1\n",
      "----2     3\n",
      "-4   *   2   4\n",
      "* * * * 4 * * *\n"
     ]
    }
   ],
   "source": [
    "t = Node(1, Node(2, Node(4)), Node(3, Node(2, Node(4)), Node(4)))\n",
    "t.showTree()"
   ]
  },
  {
   "cell_type": "code",
   "execution_count": 54,
   "metadata": {},
   "outputs": [],
   "source": [
    "from collections import deque, defaultdict\n",
    "def findDup(node):\n",
    "    \n",
    "    def preorder(node):\n",
    "        lst = []\n",
    "        lst += [node.value]\n",
    "        if (node.left):\n",
    "            lst += preorder(node.left)\n",
    "        if (node.right):\n",
    "            lst += preorder(node.right)\n",
    "        \n",
    "        return lst\n",
    "    \n",
    "    def uid(node):\n",
    "        if (node):\n",
    "            uid = (node.value, uid(node.left), uid(node.right))\n",
    "            \n",
    "            return uid\n",
    "        else:\n",
    "            return None\n",
    "    \n",
    "    # for each node, get the inorder trversal\n",
    "    dic = defaultdict(int)\n",
    "    q = deque([node])\n",
    "    while q:\n",
    "        node = q.popleft()\n",
    "        \n",
    "        # get the inorder and put in the dict\n",
    "        nodeid = preorder(node)\n",
    "        \n",
    "        dic[tuple(nodeid)] += 1\n",
    "    \n",
    "        # push leaf in the queue\n",
    "        if (node.left):\n",
    "            q.append(node.left)\n",
    "        if (node.right):\n",
    "            q.append(node.right)\n",
    "            \n",
    "    return [ list(l) for l,c in dic.items() if c>1]"
   ]
  },
  {
   "cell_type": "code",
   "execution_count": 55,
   "metadata": {},
   "outputs": [
    {
     "data": {
      "text/plain": [
       "[[2, 4], [4]]"
      ]
     },
     "execution_count": 55,
     "metadata": {},
     "output_type": "execute_result"
    }
   ],
   "source": [
    "findDup(t)"
   ]
  },
  {
   "cell_type": "code",
   "execution_count": 25,
   "metadata": {},
   "outputs": [],
   "source": [
    "def uid(node):\n",
    "    if (node):\n",
    "        u = (node.value, uid(node.left), uid(node.right))\n",
    "\n",
    "        return u\n",
    "    else:\n",
    "        return None\n"
   ]
  },
  {
   "cell_type": "code",
   "execution_count": 30,
   "metadata": {},
   "outputs": [
    {
     "data": {
      "text/plain": [
       "(2, (4, None, None), None)"
      ]
     },
     "execution_count": 30,
     "metadata": {},
     "output_type": "execute_result"
    }
   ],
   "source": [
    "uid(t.left)"
   ]
  },
  {
   "cell_type": "code",
   "execution_count": 35,
   "metadata": {},
   "outputs": [],
   "source": [
    "r = [1]\n",
    "r += [2]"
   ]
  },
  {
   "cell_type": "code",
   "execution_count": 52,
   "metadata": {},
   "outputs": [],
   "source": [
    "def inorder(node):\n",
    "\n",
    "    lst = []\n",
    "    if (node.left):\n",
    "        lst +=  inorder(node.left)\n",
    "    lst += [node.value]\n",
    "    if (node.right):\n",
    "        lst += inorder(node.right)\n",
    "\n",
    "    return lst\n"
   ]
  },
  {
   "cell_type": "code",
   "execution_count": 53,
   "metadata": {},
   "outputs": [
    {
     "data": {
      "text/plain": [
       "[1, 2, 4, 3, 2, 4, 4]"
      ]
     },
     "execution_count": 53,
     "metadata": {},
     "output_type": "execute_result"
    }
   ],
   "source": [
    "inorder(t)"
   ]
  },
  {
   "cell_type": "code",
   "execution_count": null,
   "metadata": {},
   "outputs": [],
   "source": []
  }
 ],
 "metadata": {
  "kernelspec": {
   "display_name": "Python 3",
   "language": "python",
   "name": "python3"
  },
  "language_info": {
   "codemirror_mode": {
    "name": "ipython",
    "version": 3
   },
   "file_extension": ".py",
   "mimetype": "text/x-python",
   "name": "python",
   "nbconvert_exporter": "python",
   "pygments_lexer": "ipython3",
   "version": "3.7.6"
  }
 },
 "nbformat": 4,
 "nbformat_minor": 2
}
