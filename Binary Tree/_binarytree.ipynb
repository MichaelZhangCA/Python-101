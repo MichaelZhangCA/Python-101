{
 "cells": [
  {
   "cell_type": "code",
   "execution_count": 179,
   "metadata": {},
   "outputs": [],
   "source": [
    "class Node(object):\n",
    "    def __init__(self, value, left=None, right=None):\n",
    "        self.value = value\n",
    "        self.left = left\n",
    "        self.right = right\n",
    "\n",
    "    def __str__(self):\n",
    "        return str(self.value)\n",
    "    \n",
    "    def deepth(self):\n",
    "        return self._goDeep(self)\n",
    "        \n",
    "    def _goDeep(self, node):\n",
    "        if (not node):\n",
    "            return 0\n",
    "        \n",
    "        return max( 1 + self._goDeep(node.left), 1 + self._goDeep(node.right))\n",
    "\n",
    "    # find the node with the value\n",
    "    def find(self, value):\n",
    "        return self._dfs(self, value)\n",
    "        \n",
    "    def _dfs(self, node, value):\n",
    "        if (node):\n",
    "            if (node.value == value):\n",
    "                return node\n",
    "            \n",
    "            sleft = self._dfs(node.left, value)\n",
    "            if (sleft):\n",
    "                return sleft\n",
    "            else:\n",
    "                return self._dfs(node.right, value)\n",
    "    \n",
    "        return None    \n",
    "    \n",
    "    def showTree(self):\n",
    "\n",
    "        tree_deep = self.deepth()\n",
    "\n",
    "        current_level = [self]\n",
    "        level_num = 0\n",
    "        while current_level:\n",
    "            level_num +=1\n",
    "\n",
    "            pre = '-' * ((tree_deep - level_num ) * 3 - 2 )\n",
    "            intval = ' ' * ((tree_deep - level_num ) * 2 +1 )\n",
    "            print(pre + intval.join(str(node if(node) else '*') for node in current_level))\n",
    "            next_level = list()\n",
    "            for n in current_level:\n",
    "                #if n.left:\n",
    "                if (n):\n",
    "                    next_level.append(n.left)\n",
    "                    #if n.right:\n",
    "                    next_level.append(n.right)\n",
    "                else:\n",
    "                    next_level.append(None)\n",
    "                    next_level.append(None)\n",
    "\n",
    "            # only continue if there is node in the next level\n",
    "            if (any(next_level)):\n",
    "                current_level = next_level\n",
    "            else:\n",
    "                current_level = []\n",
    "    "
   ]
  },
  {
   "cell_type": "code",
   "execution_count": 180,
   "metadata": {},
   "outputs": [
    {
     "name": "stdout",
     "output_type": "stream",
     "text": [
      "-------1\n",
      "----2     3\n",
      "-4   9   5   6\n",
      "* 7 * * 8 * * *\n"
     ]
    }
   ],
   "source": [
    "t = Node(1, Node(2, Node(4, None, Node(7)), Node(9)), Node(3, Node(5,Node(8)), Node(6)))\n",
    "\n",
    "t.showTree()"
   ]
  },
  {
   "cell_type": "code",
   "execution_count": 181,
   "metadata": {},
   "outputs": [
    {
     "data": {
      "text/plain": [
       "4"
      ]
     },
     "execution_count": 181,
     "metadata": {},
     "output_type": "execute_result"
    }
   ],
   "source": [
    "t.deepth()"
   ]
  },
  {
   "cell_type": "code",
   "execution_count": 190,
   "metadata": {},
   "outputs": [],
   "source": [
    "n = t.find(8)"
   ]
  },
  {
   "cell_type": "code",
   "execution_count": 192,
   "metadata": {},
   "outputs": [
    {
     "name": "stdout",
     "output_type": "stream",
     "text": [
      "8\n"
     ]
    }
   ],
   "source": [
    "print(n)"
   ]
  },
  {
   "cell_type": "code",
   "execution_count": null,
   "metadata": {},
   "outputs": [],
   "source": []
  }
 ],
 "metadata": {
  "kernelspec": {
   "display_name": "Python 3",
   "language": "python",
   "name": "python3"
  },
  "language_info": {
   "codemirror_mode": {
    "name": "ipython",
    "version": 3
   },
   "file_extension": ".py",
   "mimetype": "text/x-python",
   "name": "python",
   "nbconvert_exporter": "python",
   "pygments_lexer": "ipython3",
   "version": "3.7.6"
  }
 },
 "nbformat": 4,
 "nbformat_minor": 2
}
