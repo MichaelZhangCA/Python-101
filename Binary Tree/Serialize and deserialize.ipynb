{
 "cells": [
  {
   "cell_type": "code",
   "execution_count": 1,
   "metadata": {},
   "outputs": [],
   "source": [
    "from binarytree import Node"
   ]
  },
  {
   "cell_type": "code",
   "execution_count": 2,
   "metadata": {},
   "outputs": [
    {
     "name": "stdout",
     "output_type": "stream",
     "text": [
      "-------1\n",
      "----2     3\n",
      "-4   *   5   6\n",
      "* 7 * * 8 * * *\n"
     ]
    }
   ],
   "source": [
    "# init a BTree\n",
    "t = Node(1, Node(2, Node(4, None, Node(7))), Node(3, Node(5,Node(8)), Node(6)))\n",
    "t.showTree()"
   ]
  },
  {
   "cell_type": "code",
   "execution_count": 13,
   "metadata": {},
   "outputs": [],
   "source": [
    "# use pickle to dump/load a binary file\n",
    "import pickle\n",
    "class Pickle():\n",
    "    \n",
    "    def __init__(self, filename):\n",
    "        self.filename = filename\n",
    "        \n",
    "    def dump(self, obj):\n",
    "        with open(self.filename, 'wb') as f:\n",
    "            pickle.dump(obj,f)\n",
    "            \n",
    "    def load(self):\n",
    "        with open(self.filename, 'rb') as f:\n",
    "            return pickle.load(f)\n",
    "        \n",
    "    def __enter__(self):\n",
    "        return self\n",
    "    \n",
    "    def __exit__(self, tp, val, tb):\n",
    "        pass"
   ]
  },
  {
   "cell_type": "code",
   "execution_count": 6,
   "metadata": {},
   "outputs": [],
   "source": [
    "from collections import deque\n",
    "class BT_Serializer():\n",
    "\n",
    "    def serialize(self, node):\n",
    "    \n",
    "        def bfs(node):\n",
    "            lst = []\n",
    "            q = deque([node])\n",
    "\n",
    "            while (q):\n",
    "                node = q.popleft()\n",
    "                if (node):\n",
    "                    lst.append(node.value)\n",
    "\n",
    "                    # add child nodes in the queue\n",
    "                    q.append(node.left)\n",
    "                    q.append(node.right)\n",
    "                else:\n",
    "                    # a leaf's child node will not have child in the list\n",
    "                    lst.append('*')\n",
    "\n",
    "            return lst\n",
    "\n",
    "        return bfs(node)\n",
    "\n",
    "    def deserialize(self, lst):\n",
    "\n",
    "        # create a queue for child nodes\n",
    "        qchild = deque(lst)\n",
    "        # pop the the first for root\n",
    "        root = Node(qchild.popleft())\n",
    "\n",
    "        # make a queue from the parent node\n",
    "        q = deque([root])\n",
    "\n",
    "        while q and qchild:\n",
    "            # pop the parent node from the queue\n",
    "            node = q.popleft()\n",
    "            \n",
    "            # grab 2 nodes from child queue\n",
    "            left, right = qchild.popleft(), qchild.popleft()\n",
    "            if (left != '*'):\n",
    "                lnode = Node(left)\n",
    "                # push the new node to the parent queue\n",
    "                q.append(lnode)\n",
    "                node.left = lnode\n",
    "            if (right != '*'):\n",
    "                rnode = Node(right)\n",
    "                # push the new node to the parent queue\n",
    "                q.append(rnode)\n",
    "                node.right = rnode\n",
    "\n",
    "        return root        \n"
   ]
  },
  {
   "cell_type": "code",
   "execution_count": 14,
   "metadata": {},
   "outputs": [],
   "source": [
    "with Pickle(\"c:\\\\temp\\\\bt.data\") as pk:\n",
    "    s = BT_Serializer().serialize(t)\n",
    "    pk.dump(s)\n",
    "    l = pk.load()\n",
    "    d = BT_Serializer().deserialize(l)"
   ]
  },
  {
   "cell_type": "code",
   "execution_count": 17,
   "metadata": {},
   "outputs": [
    {
     "data": {
      "text/plain": [
       "[1, 2, 3, 4, '*', 5, 6, '*', 7, 8, '*', '*', '*', '*', '*', '*', '*']"
      ]
     },
     "execution_count": 17,
     "metadata": {},
     "output_type": "execute_result"
    }
   ],
   "source": [
    "s"
   ]
  },
  {
   "cell_type": "code",
   "execution_count": 15,
   "metadata": {},
   "outputs": [
    {
     "data": {
      "text/plain": [
       "[1, 2, 3, 4, '*', 5, 6, '*', 7, 8, '*', '*', '*', '*', '*', '*', '*']"
      ]
     },
     "execution_count": 15,
     "metadata": {},
     "output_type": "execute_result"
    }
   ],
   "source": [
    "l"
   ]
  },
  {
   "cell_type": "code",
   "execution_count": 16,
   "metadata": {},
   "outputs": [
    {
     "name": "stdout",
     "output_type": "stream",
     "text": [
      "-------1\n",
      "----2     3\n",
      "-4   *   5   6\n",
      "* 7 * * 8 * * *\n"
     ]
    }
   ],
   "source": [
    "d.showTree()"
   ]
  },
  {
   "cell_type": "code",
   "execution_count": 22,
   "metadata": {},
   "outputs": [
    {
     "data": {
      "text/plain": [
       "'None'"
      ]
     },
     "execution_count": 22,
     "metadata": {},
     "output_type": "execute_result"
    }
   ],
   "source": [
    "str(t.find(99))"
   ]
  },
  {
   "cell_type": "code",
   "execution_count": null,
   "metadata": {},
   "outputs": [],
   "source": []
  }
 ],
 "metadata": {
  "kernelspec": {
   "display_name": "Python 3",
   "language": "python",
   "name": "python3"
  },
  "language_info": {
   "codemirror_mode": {
    "name": "ipython",
    "version": 3
   },
   "file_extension": ".py",
   "mimetype": "text/x-python",
   "name": "python",
   "nbconvert_exporter": "python",
   "pygments_lexer": "ipython3",
   "version": "3.7.6"
  }
 },
 "nbformat": 4,
 "nbformat_minor": 2
}
