{
 "cells": [
  {
   "cell_type": "code",
   "execution_count": 3,
   "metadata": {},
   "outputs": [],
   "source": [
    "from binarytree import Node"
   ]
  },
  {
   "cell_type": "code",
   "execution_count": 4,
   "metadata": {},
   "outputs": [
    {
     "name": "stdout",
     "output_type": "stream",
     "text": [
      "-------6\n",
      "----4     9\n",
      "-2   5   8   10\n",
      "* 3 * * 7 * * *\n",
      "-------6\n",
      "----9     4\n",
      "-10   8   5   2\n",
      "* * * 7 * * 3 *\n"
     ]
    }
   ],
   "source": [
    "# init a BTree (BST)\n",
    "t = Node(6, Node(4, Node(2, None, Node(3)), Node(5)), Node(9, Node(8, Node(7)), Node(10)))\n",
    "t.showTree()\n",
    "\n",
    "tm = Node(6, Node(9, Node(10), Node(8, None, Node(7))), Node(4, Node(5), Node(2, Node(3))))\n",
    "tm.showTree()\n"
   ]
  },
  {
   "cell_type": "code",
   "execution_count": 6,
   "metadata": {},
   "outputs": [
    {
     "data": {
      "text/plain": [
       "3"
      ]
     },
     "execution_count": 6,
     "metadata": {},
     "output_type": "execute_result"
    }
   ],
   "source": [
    "t.left.deepth()\n",
    "t.right.deepth()"
   ]
  },
  {
   "cell_type": "code",
   "execution_count": 20,
   "metadata": {},
   "outputs": [],
   "source": [
    "def tree_height(node:Node) -> int:\n",
    "    if (node is None):\n",
    "        return 0\n",
    "    \n",
    "    return max(1 + tree_height(node.left), 1 + tree_height(node.right))\n",
    "\n",
    "def check_balance(root: Node) -> bool:\n",
    "\n",
    "    if (root is None):\n",
    "        return True\n",
    "    \n",
    "    if (abs (tree_height(root.left) - tree_height(root.right)) > 1):\n",
    "        return False\n",
    "    \n",
    "    return check_balance(root.left) and check_balance(root.right)\n"
   ]
  },
  {
   "cell_type": "code",
   "execution_count": 25,
   "metadata": {},
   "outputs": [
    {
     "data": {
      "text/plain": [
       "False"
      ]
     },
     "execution_count": 25,
     "metadata": {},
     "output_type": "execute_result"
    }
   ],
   "source": [
    "check_balance(tu)\n"
   ]
  },
  {
   "cell_type": "code",
   "execution_count": 17,
   "metadata": {},
   "outputs": [
    {
     "name": "stdout",
     "output_type": "stream",
     "text": [
      "-------2\n",
      "----9     2\n",
      "-*   *   3   13\n",
      "* * * * * * 3 3\n"
     ]
    }
   ],
   "source": [
    "tu = Node(2, Node(9), Node(2, Node(3), Node(13, Node(3), Node(3))))\n",
    "tu.showTree()"
   ]
  },
  {
   "cell_type": "code",
   "execution_count": null,
   "metadata": {},
   "outputs": [],
   "source": []
  }
 ],
 "metadata": {
  "kernelspec": {
   "display_name": "Python 3",
   "language": "python",
   "name": "python3"
  },
  "language_info": {
   "codemirror_mode": {
    "name": "ipython",
    "version": 3
   },
   "file_extension": ".py",
   "mimetype": "text/x-python",
   "name": "python",
   "nbconvert_exporter": "python",
   "pygments_lexer": "ipython3",
   "version": "3.7.6"
  }
 },
 "nbformat": 4,
 "nbformat_minor": 2
}
