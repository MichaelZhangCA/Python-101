{
 "cells": [
  {
   "cell_type": "code",
   "execution_count": 1,
   "metadata": {},
   "outputs": [],
   "source": [
    "from binarytree import Node"
   ]
  },
  {
   "cell_type": "code",
   "execution_count": 114,
   "metadata": {},
   "outputs": [
    {
     "name": "stdout",
     "output_type": "stream",
     "text": [
      "-------6\n",
      "----4     9\n",
      "-2   5   8   10\n",
      "* 3 * * 7 * * *\n"
     ]
    }
   ],
   "source": [
    "# init a BTree (BST)\n",
    "t = Node(6, Node(4, Node(2, None, Node(3)), Node(5)), Node(9, Node(8, Node(7)), Node(10)))\n",
    "t.showTree()"
   ]
  },
  {
   "cell_type": "code",
   "execution_count": 173,
   "metadata": {},
   "outputs": [],
   "source": [
    "from collections import deque\n",
    "class BT_Traversal():\n",
    "    def __init__(self, node, *arg, **karg):\n",
    "        self.root = node\n",
    "        super().__init__(*arg, **karg)\n",
    "\n",
    "    def inOrder2(self):\n",
    "        if (self.root):\n",
    "            return self._inOrderTraversal2(self.root)\n",
    "        \n",
    "        return []\n",
    "    \n",
    "    def _inOrderTraversal2(self, node):\n",
    "        lst = []\n",
    "        if (node.left):\n",
    "            lst += self._inOrderTraversal2(node.left)\n",
    "        lst += [node.value]\n",
    "        if (node.right):\n",
    "            lst += self._inOrderTraversal2(node.right)\n",
    "        \n",
    "        return lst\n",
    "        \n",
    "    def inOrder(self):\n",
    "        lst = []\n",
    "        self._inOrderTravesal(self.root, lst)\n",
    "        return lst\n",
    "        \n",
    "    def _inOrderTravesal(self, node, lst):\n",
    "        if (node):\n",
    "            self._inOrderTravesal(node.left, lst)\n",
    "            lst.append(node.value)\n",
    "            self._inOrderTravesal(node.right, lst)\n",
    "\n",
    "    def preOrder(self):\n",
    "        lst = []\n",
    "        self._preOrderTravesal(self.root, lst)\n",
    "        return lst\n",
    "        \n",
    "    def _preOrderTravesal(self, node, lst):\n",
    "        if (node):\n",
    "            lst.append(node.value)\n",
    "            self._preOrderTravesal(node.left, lst)\n",
    "            self._preOrderTravesal(node.right, lst)\n",
    "\n",
    "    def postOrder(self):\n",
    "        lst = []\n",
    "        self._postOrderTravesal(self.root, lst)\n",
    "        return lst\n",
    "        \n",
    "    def _postOrderTravesal(self, node, lst):\n",
    "        if (node):\n",
    "            self._postOrderTravesal(node.left, lst)\n",
    "            self._postOrderTravesal(node.right, lst)\n",
    "            lst.append(node.value)\n",
    "    \n",
    "    def levelOrder(self):\n",
    "        # traversal by each level (BFS)\n",
    "        lst = []\n",
    "        \n",
    "        cur_level = [self.root]\n",
    "        while (cur_level):\n",
    "            n_level = []\n",
    "            for n in cur_level:\n",
    "                lst.append(n.value)\n",
    "                \n",
    "                if (n.left):\n",
    "                    n_level.append(n.left)\n",
    "                if (n.right):\n",
    "                    n_level.append(n.right)\n",
    "                    \n",
    "            if (n_level):\n",
    "                cur_level = n_level\n",
    "            else:\n",
    "                break\n",
    "        \n",
    "        return lst\n",
    "\n",
    "    def _findPath(self, node, val):\n",
    "        if (not node):\n",
    "            return []\n",
    "        \n",
    "        if (node.value == val):\n",
    "            return [val]\n",
    "        \n",
    "        l = self._findPath(node.left, val)\n",
    "        if (l):\n",
    "            return [node.value] + l\n",
    "        \n",
    "        r = self._findPath(node.right, val)\n",
    "        if (r):\n",
    "            return [node.value] + r\n",
    "        \n",
    "        return []    \n",
    "    \n",
    "    def findPath(self, val):\n",
    "        return self._findPath(self.root, val)\n",
    "        \n"
   ]
  },
  {
   "cell_type": "code",
   "execution_count": 120,
   "metadata": {},
   "outputs": [
    {
     "data": {
      "text/plain": [
       "[2, 3, 4, 5, 6, 7, 8, 9, 10]"
      ]
     },
     "execution_count": 120,
     "metadata": {},
     "output_type": "execute_result"
    }
   ],
   "source": [
    "# a inorder traversal of a BST should be sorted\n",
    "#BT_Traversal(t).inOrder()\n",
    "BT_Traversal(t).inOrder2()"
   ]
  },
  {
   "cell_type": "code",
   "execution_count": 121,
   "metadata": {},
   "outputs": [
    {
     "data": {
      "text/plain": [
       "[6, 4, 9, 2, 5, 8, 10, 3, 7]"
      ]
     },
     "execution_count": 121,
     "metadata": {},
     "output_type": "execute_result"
    }
   ],
   "source": [
    "BT_Traversal(t).levelOrder()"
   ]
  },
  {
   "cell_type": "code",
   "execution_count": 174,
   "metadata": {},
   "outputs": [
    {
     "data": {
      "text/plain": [
       "[6, 4, 2]"
      ]
     },
     "execution_count": 174,
     "metadata": {},
     "output_type": "execute_result"
    }
   ],
   "source": [
    "BT_Traversal(t).findPath(2)"
   ]
  },
  {
   "cell_type": "code",
   "execution_count": 123,
   "metadata": {},
   "outputs": [],
   "source": [
    "p1 = list(BT_Traversal(t).findPath(7))\n",
    "p2 = list(BT_Traversal(t).findPath(10))"
   ]
  },
  {
   "cell_type": "code",
   "execution_count": 124,
   "metadata": {},
   "outputs": [
    {
     "data": {
      "text/plain": [
       "[[6, 9, 8, 7], [6, 9, 10]]"
      ]
     },
     "execution_count": 124,
     "metadata": {},
     "output_type": "execute_result"
    }
   ],
   "source": [
    "#list(p1) and list(p2)\n",
    "[p1, p2]"
   ]
  },
  {
   "cell_type": "code",
   "execution_count": 106,
   "metadata": {},
   "outputs": [],
   "source": [
    "# find common parent\n",
    "cp = -1\n",
    "for i in range(min(len(p1), len(p2))):\n",
    "    if (p1[i] == p2[i]):\n",
    "        continue\n",
    "    \n",
    "    if (i==0):\n",
    "        cp = -1\n",
    "    else:\n",
    "        cp = p1[i-1]\n"
   ]
  },
  {
   "cell_type": "code",
   "execution_count": 84,
   "metadata": {},
   "outputs": [
    {
     "data": {
      "text/plain": [
       "9"
      ]
     },
     "execution_count": 84,
     "metadata": {},
     "output_type": "execute_result"
    }
   ],
   "source": [
    "cp"
   ]
  },
  {
   "cell_type": "code",
   "execution_count": 191,
   "metadata": {},
   "outputs": [],
   "source": [
    "# Definition for a binary tree node.\n",
    "# class TreeNode:\n",
    "#     def __init__(self, x):\n",
    "#         self.val = x\n",
    "#         self.left = None\n",
    "#         self.right = None\n",
    "\n",
    "from collections import deque\n",
    "class Solution:\n",
    "    \n",
    "    def findPath(self, node, val):\n",
    "        if (not node):\n",
    "            return []\n",
    "        \n",
    "        if (node.value == val):\n",
    "            return [val]\n",
    "        \n",
    "        l = self.findPath(node.left, val)\n",
    "        if (l):\n",
    "            return [node.value] + l\n",
    "        \n",
    "        r = self.findPath(node.right, val)\n",
    "        if (r):\n",
    "            return [node.value] + r\n",
    "        \n",
    "        return []\n",
    "        \n",
    "    \n",
    "    def lowestCommonAncestor(self, root: 'TreeNode', p: 'TreeNode', q: 'TreeNode') -> 'TreeNode':\n",
    "        \n",
    "        if (not root):\n",
    "            return None\n",
    "            \n",
    "        ppath = self.findPath(root, p)\n",
    "        qpath = self.findPath(root, q)\n",
    "\n",
    "        p = None\n",
    "        for i in range(min(len(ppath), len(qpath))):\n",
    "            if (ppath[i] == qpath[i]):\n",
    "                p = ppath[i]\n",
    "            else:\n",
    "                break\n",
    "        return p\n",
    "            \n",
    "            \n",
    "    def findParent(self, node, p, q):\n",
    "        if (not node):\n",
    "            return False\n",
    "        \n",
    "        mid = (node.value == p.value or node.value==q.value)\n",
    "        left = self.findParent(node.left, p, q)\n",
    "        right = self.findParent(node.right, p, q)\n",
    "\n",
    "        if (mid + left + right) >= 2:\n",
    "            print(\"find node {}\".format(node.value))\n",
    "            return True\n",
    "            #return node\n",
    "        \n",
    "        return mid or left or right\n",
    "                \n",
    "            "
   ]
  },
  {
   "cell_type": "code",
   "execution_count": 192,
   "metadata": {},
   "outputs": [
    {
     "data": {
      "text/plain": [
       "4"
      ]
     },
     "execution_count": 192,
     "metadata": {},
     "output_type": "execute_result"
    }
   ],
   "source": [
    "Solution().lowestCommonAncestor(t, 3,5)"
   ]
  },
  {
   "cell_type": "code",
   "execution_count": 193,
   "metadata": {},
   "outputs": [
    {
     "name": "stdout",
     "output_type": "stream",
     "text": [
      "find node 4\n"
     ]
    },
    {
     "data": {
      "text/plain": [
       "True"
      ]
     },
     "execution_count": 193,
     "metadata": {},
     "output_type": "execute_result"
    }
   ],
   "source": [
    "Solution().findParent(t, Node(3), Node(5))"
   ]
  },
  {
   "cell_type": "code",
   "execution_count": null,
   "metadata": {},
   "outputs": [],
   "source": []
  }
 ],
 "metadata": {
  "kernelspec": {
   "display_name": "Python 3",
   "language": "python",
   "name": "python3"
  },
  "language_info": {
   "codemirror_mode": {
    "name": "ipython",
    "version": 3
   },
   "file_extension": ".py",
   "mimetype": "text/x-python",
   "name": "python",
   "nbconvert_exporter": "python",
   "pygments_lexer": "ipython3",
   "version": "3.7.6"
  }
 },
 "nbformat": 4,
 "nbformat_minor": 2
}
