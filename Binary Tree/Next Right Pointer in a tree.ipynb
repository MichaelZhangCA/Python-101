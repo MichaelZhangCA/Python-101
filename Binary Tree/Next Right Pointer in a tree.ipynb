{
 "cells": [
  {
   "cell_type": "raw",
   "metadata": {},
   "source": [
    "You are given a perfect binary tree where all leaves are on the same level, and every parent has two children. The binary tree has the following definition:\n",
    "\n",
    "struct Node {\n",
    "  int val;\n",
    "  Node *left;\n",
    "  Node *right;\n",
    "  Node *next;\n",
    "}\n",
    "Populate each next pointer to point to its next right node. If there is no next right node, the next pointer should be set to NULL.\n",
    "\n",
    "Initially, all next pointers are set to NULL.\n",
    "\n"
   ]
  },
  {
   "cell_type": "markdown",
   "metadata": {},
   "source": [
    "<img src=\"https://assets.leetcode.com/uploads/2019/02/14/116_sample.png\" />"
   ]
  },
  {
   "cell_type": "code",
   "execution_count": 1,
   "metadata": {},
   "outputs": [],
   "source": [
    "\n",
    "# Definition for a Node.\n",
    "class Node:\n",
    "    def __init__(self, val: int = 0, left: 'Node' = None, right: 'Node' = None, next: 'Node' = None):\n",
    "        self.val = val\n",
    "        self.left = left\n",
    "        self.right = right\n",
    "        self.next = next\n",
    "\n",
    "from collections import deque\n",
    "class Solution:\n",
    "    def connect(self, root: 'Node') -> 'Node':\n",
    "        \n",
    "        if (not root):\n",
    "            return None\n",
    "        \n",
    "        # use BFS for level traversal\n",
    "        q = deque([root])\n",
    "        \n",
    "        while (q):\n",
    "            newq = deque([])\n",
    "            lvl = []\n",
    "            \n",
    "            while(q):\n",
    "                node = q.popleft()\n",
    "                lvl.append(node)\n",
    "                if (node.left):\n",
    "                    newq.append(node.left)\n",
    "                if (node.right):\n",
    "                    newq.append(node.right)\n",
    "            \n",
    "            # set up next\n",
    "            for i in range(len(lvl)-1):\n",
    "                lvl[i].next = lvl[i+1]\n",
    "                \n",
    "            \n",
    "            # assign the q\n",
    "            q = newq\n",
    "            \n",
    "        return root\n",
    "               \n",
    "        "
   ]
  },
  {
   "cell_type": "markdown",
   "metadata": {},
   "source": [
    "<img src=\"https://leetcode.com/problems/populating-next-right-pointers-in-each-node/Figures/116/img11.png\" />"
   ]
  },
  {
   "cell_type": "code",
   "execution_count": 2,
   "metadata": {},
   "outputs": [],
   "source": [
    "# for a perfect tree, all the next could be linked by the upper layer\n",
    "# node.left.next = node.right\n",
    "# node.right.next = node.next.left\n",
    "# loop the very left node in each layer"
   ]
  },
  {
   "cell_type": "code",
   "execution_count": 4,
   "metadata": {},
   "outputs": [],
   "source": [
    "class Solution2():\n",
    "    def perfect(self, root):\n",
    "        \n",
    "        if (not root):\n",
    "            return root\n",
    "        \n",
    "        leftnode = root\n",
    "        while (leftnode.left):\n",
    "            \n",
    "            node = leftnode\n",
    "\n",
    "            while(node):\n",
    "                node.left.next = node.right\n",
    "                if (node.next):\n",
    "                    node.right.next = node.next.left\n",
    "                \n",
    "                node = node.next\n",
    "                \n",
    "            # to next level\n",
    "            leftnode = leftnode.left\n",
    "        \n",
    "        return root"
   ]
  },
  {
   "cell_type": "code",
   "execution_count": null,
   "metadata": {},
   "outputs": [],
   "source": []
  }
 ],
 "metadata": {
  "kernelspec": {
   "display_name": "Python 3",
   "language": "python",
   "name": "python3"
  },
  "language_info": {
   "codemirror_mode": {
    "name": "ipython",
    "version": 3
   },
   "file_extension": ".py",
   "mimetype": "text/x-python",
   "name": "python",
   "nbconvert_exporter": "python",
   "pygments_lexer": "ipython3",
   "version": "3.7.6"
  }
 },
 "nbformat": 4,
 "nbformat_minor": 2
}
