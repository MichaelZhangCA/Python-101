{
 "cells": [
  {
   "cell_type": "code",
   "execution_count": 1,
   "metadata": {},
   "outputs": [],
   "source": [
    "from binarytree import Node"
   ]
  },
  {
   "cell_type": "code",
   "execution_count": 15,
   "metadata": {},
   "outputs": [
    {
     "name": "stdout",
     "output_type": "stream",
     "text": [
      "-------6\n",
      "----4     9\n",
      "-2   5   8   10\n",
      "* 3 * * 7 * * *\n",
      "-------6\n",
      "----9     4\n",
      "-10   8   5   2\n",
      "* * * 7 * * 3 *\n"
     ]
    }
   ],
   "source": [
    "# init a BTree (BST)\n",
    "t = Node(6, Node(4, Node(2, None, Node(3)), Node(5)), Node(9, Node(8, Node(7)), Node(10)))\n",
    "t.showTree()\n",
    "\n",
    "tm = Node(6, Node(9, Node(10), Node(8, None, Node(7))), Node(4, Node(5), Node(2, Node(3))))\n",
    "tm.showTree()\n"
   ]
  },
  {
   "cell_type": "code",
   "execution_count": 43,
   "metadata": {},
   "outputs": [],
   "source": [
    "from collections import deque\n",
    "def check_mirror_dfs(node1, node2):\n",
    "    \n",
    "    if (node1 is None and node2 is None):\n",
    "        return True\n",
    "    \n",
    "    if (node1 is None or node2 is None):\n",
    "        return False\n",
    "    \n",
    "    return (node1.value == node2.value) and \\\n",
    "           check_mirror(node1.left, node2.right) and \\\n",
    "           check_mirror(node1.right, node2.left)\n",
    "\n",
    "\n",
    "def check_mirror_bfs(node1, node2):\n",
    "    # define queue and push both tree nodes in it\n",
    "    q = deque([node1, node2])\n",
    "    \n",
    "    while q:\n",
    "        n1, n2 = q.popleft(), q.popleft()\n",
    "                \n",
    "        if (n1 is None and n2 is None):\n",
    "            continue\n",
    "        if (n1 is None or n2 is None):\n",
    "            return False\n",
    "        if (n1.value != n2.value):\n",
    "            return False\n",
    "        \n",
    "        # push child in queue for mirror check\n",
    "        q.append(n1.left)\n",
    "        q.append(n2.right)\n",
    "        \n",
    "        # push another pair for mirror check\n",
    "        q.append(n1.right)\n",
    "        q.append(n2.left)\n",
    "        \n",
    "\n",
    "    return True\n",
    "        \n",
    "def check_same(node1, node2):\n",
    "    \n",
    "    if (node1 is None and node2 is None):\n",
    "        return True\n",
    "    \n",
    "    if (node1 is None or node2 is None):\n",
    "        return False\n",
    "    \n",
    "    return (node1.value == node2.value) and \\\n",
    "           check_same(node1.left, node2.left) and \\\n",
    "           check_same(node1.right, node2.right)\n",
    "\n"
   ]
  },
  {
   "cell_type": "code",
   "execution_count": 57,
   "metadata": {},
   "outputs": [],
   "source": [
    "from collections import deque\n",
    "\n",
    "# fine if there is a root to leaf path which has sum==value\n",
    "def fullpath_sum_exist(node, val):\n",
    "    if (node is None):\n",
    "        return False\n",
    "    if (node.value == val and node.left is None and node.right is None):\n",
    "        return True\n",
    "    \n",
    "    return fullpath_sum_exist(node.left, val-node.value) or fullpath_sum_exist(node.right, val-node.value)\n",
    "\n",
    "# find if there is a path with sum==value, not necessary to be a root to leaf path\n",
    "def path_sum_exist(node, val):\n",
    "    # check current node is the val looking for or not\n",
    "    if (node is None):\n",
    "        return False\n",
    "    \n",
    "    if (node.value == val):\n",
    "        return True\n",
    "\n",
    "    return path_sum_exist(node.left, val-node.value) or path_sum_exist(node.right, val-node.value)\n",
    "    \n",
    "\n",
    "# find and return the path with sum==value, not necessary to be a root to leaf path\n",
    "def path_sum(node, val):\n",
    "    # check path with sum equal val\n",
    "    \n",
    "    def dfs(node, val, q):\n",
    "        \n",
    "        if (sum(q) + node.value == val):\n",
    "            # find a match, return the q\n",
    "            q.append(node.value)\n",
    "            return\n",
    "\n",
    "        elif( sum(q) + node.value > val):\n",
    "            # if current node is too big, ignore the rest\n",
    "            return\n",
    "        \n",
    "        else:\n",
    "            # append this node and contine to check child nodes\n",
    "            q.append(node.value)\n",
    "            if (node.left):\n",
    "                dfs(node.left, val, q)\n",
    "            \n",
    "            # check the findings from left side\n",
    "            if (sum(q) < val):\n",
    "                if (node.right):\n",
    "                    dfs(node.right, val, q)\n",
    "        \n",
    "            # check the result from both sides, if nothing matches, pop the node itself\n",
    "            if (sum(q) != val):\n",
    "                q.pop()\n",
    "                \n",
    "        return q\n",
    "    \n",
    "    # define the q and call recursive\n",
    "    q = dfs(node, val, deque())\n",
    "    # check if the q is a full path or an incompleted path\n",
    "    if (sum(q) != val):\n",
    "        q = deque()\n",
    "    return q\n"
   ]
  },
  {
   "cell_type": "code",
   "execution_count": 146,
   "metadata": {},
   "outputs": [],
   "source": [
    "# check nuivalue subtree\n",
    "import math\n",
    "\n",
    "def count_univalue(node):\n",
    "    count = 0\n",
    "    \n",
    "    # all leaf node count as one univalue subtree\n",
    "    def dfs(n, val):\n",
    "        nonlocal count\n",
    "        if (n is None):\n",
    "            return True\n",
    "        \n",
    "        if not all([dfs(n.left, n.value), dfs(n.right, n.value)]):\n",
    "            return False\n",
    "\n",
    "        # count +1\n",
    "        count += 1\n",
    "        \n",
    "        # return the sum of left and right child node\n",
    "        return (n.value == val)\n",
    "    \n",
    "    # start recursive call\n",
    "    dfs(node, 0)\n",
    "    return count"
   ]
  },
  {
   "cell_type": "code",
   "execution_count": 151,
   "metadata": {},
   "outputs": [
    {
     "data": {
      "text/plain": [
       "5"
      ]
     },
     "execution_count": 151,
     "metadata": {},
     "output_type": "execute_result"
    }
   ],
   "source": [
    "count_univalue(tu)"
   ]
  },
  {
   "cell_type": "code",
   "execution_count": 150,
   "metadata": {},
   "outputs": [
    {
     "name": "stdout",
     "output_type": "stream",
     "text": [
      "-------2\n",
      "----9     2\n",
      "-10   8   3   13\n",
      "* * * 7 * * 3 3\n"
     ]
    }
   ],
   "source": [
    "tu = Node(2, Node(9, Node(10), Node(8, None, Node(7))), Node(2, Node(3), Node(13, Node(3), Node(3))))\n",
    "tu.showTree()"
   ]
  },
  {
   "cell_type": "code",
   "execution_count": 112,
   "metadata": {},
   "outputs": [
    {
     "data": {
      "text/plain": [
       "deque([6, 4, 2])"
      ]
     },
     "execution_count": 112,
     "metadata": {},
     "output_type": "execute_result"
    }
   ],
   "source": [
    "path_sum(t, 12)\n",
    "#fullpath_sum_exist(t, 12)\n",
    "#path_sum_exist(t, 12)"
   ]
  },
  {
   "cell_type": "code",
   "execution_count": 44,
   "metadata": {},
   "outputs": [
    {
     "data": {
      "text/plain": [
       "True"
      ]
     },
     "execution_count": 44,
     "metadata": {},
     "output_type": "execute_result"
    }
   ],
   "source": [
    "# a inorder traversal of a BST should be sorted\n",
    "check_mirror_bfs(t,tm)\n",
    "#check_same(t,t)"
   ]
  },
  {
   "cell_type": "code",
   "execution_count": 38,
   "metadata": {},
   "outputs": [
    {
     "data": {
      "text/plain": [
       "[6, 4, 9, 2, 5, 8, 10, 3, 7]"
      ]
     },
     "execution_count": 38,
     "metadata": {},
     "output_type": "execute_result"
    }
   ],
   "source": [
    "BT_Traversal(t).levelOrder()"
   ]
  },
  {
   "cell_type": "code",
   "execution_count": 18,
   "metadata": {},
   "outputs": [],
   "source": [
    "from collections import deque"
   ]
  },
  {
   "cell_type": "code",
   "execution_count": 19,
   "metadata": {},
   "outputs": [],
   "source": [
    "q = deque([1,3,4,5])"
   ]
  },
  {
   "cell_type": "code",
   "execution_count": 21,
   "metadata": {},
   "outputs": [
    {
     "data": {
      "text/plain": [
       "13"
      ]
     },
     "execution_count": 21,
     "metadata": {},
     "output_type": "execute_result"
    }
   ],
   "source": [
    "\n",
    "sum(q)"
   ]
  },
  {
   "cell_type": "code",
   "execution_count": null,
   "metadata": {},
   "outputs": [],
   "source": []
  }
 ],
 "metadata": {
  "kernelspec": {
   "display_name": "Python 3",
   "language": "python",
   "name": "python3"
  },
  "language_info": {
   "codemirror_mode": {
    "name": "ipython",
    "version": 3
   },
   "file_extension": ".py",
   "mimetype": "text/x-python",
   "name": "python",
   "nbconvert_exporter": "python",
   "pygments_lexer": "ipython3",
   "version": "3.7.6"
  }
 },
 "nbformat": 4,
 "nbformat_minor": 2
}
