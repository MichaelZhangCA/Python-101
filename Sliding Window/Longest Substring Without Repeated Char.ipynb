{
 "cells": [
  {
   "cell_type": "code",
   "execution_count": 2,
   "metadata": {},
   "outputs": [],
   "source": [
    "# by given string, find the longest substring without repeated letter\n",
    "\n",
    "# a sliding window would be a good solution\n",
    "# from left -> right, extend the windows\n",
    "# once find any repeated letter in the window, move left to the repeated letter to make the window unique again\n",
    "# keep tracking the max length (substring as well)"
   ]
  },
  {
   "cell_type": "code",
   "execution_count": 86,
   "metadata": {},
   "outputs": [],
   "source": [
    "from collections import deque\n",
    "def longestSubstring(s):\n",
    "    # use a sliding window from left to right\n",
    "    q = deque()\n",
    "    # use a dict to record the recent find index of each letter\n",
    "    dic = dict()\n",
    "    \n",
    "    left, max_len = 0, 0\n",
    "    for i in range(len(s)):\n",
    "        if (s[i] not in q):\n",
    "            q.append(s[i])\n",
    "            dic[s[i]] = i\n",
    "        else:\n",
    "            # get the previous positon of letter\n",
    "            preidx = dic[s[i]]\n",
    "            \n",
    "            # pre index - left is how many letter should be pushed out from the queue\n",
    "            # only pop if the pre index is within the left\n",
    "            for j in range(preidx-left+1):\n",
    "                q.popleft()\n",
    "            \n",
    "            # also need move the left to the pre index +1\n",
    "            left = preidx +1\n",
    "            \n",
    "            # add the repeated letter to the end of the queue\n",
    "            q.append(s[i])\n",
    "            \n",
    "            # update the current index of the letter\n",
    "            dic[s[i]] = i\n",
    "            \n",
    "        # log the max length\n",
    "        max_len = max(max_len, len(q))\n",
    "    \n",
    "    return max_len\n",
    "    "
   ]
  },
  {
   "cell_type": "code",
   "execution_count": 87,
   "metadata": {},
   "outputs": [],
   "source": [
    "s = 'abcaba'"
   ]
  },
  {
   "cell_type": "code",
   "execution_count": 88,
   "metadata": {},
   "outputs": [
    {
     "data": {
      "text/plain": [
       "3"
      ]
     },
     "execution_count": 88,
     "metadata": {},
     "output_type": "execute_result"
    }
   ],
   "source": [
    "longestSubstring(s)"
   ]
  },
  {
   "cell_type": "code",
   "execution_count": 42,
   "metadata": {},
   "outputs": [],
   "source": [
    "from collections import deque\n",
    "def longestSubstring2(s):\n",
    "    \n",
    "    # use a dict to record the recent find index of each letter\n",
    "    dic = dict()\n",
    "    \n",
    "    left, max_len = 0, 0\n",
    "    for i in range(len(s)):\n",
    "        if (s[i] not in dic):\n",
    "            dic[s[i]] = i\n",
    "        else:\n",
    "            # get the previous positon of letter\n",
    "            preidx = dic[s[i]]\n",
    "            \n",
    "            # only move the left if the current letter still in the window\n",
    "            if (preidx >= left):\n",
    "                # move the left to the pre index +1\n",
    "                left = preidx + 1\n",
    "            \n",
    "            # update the current index of the letter\n",
    "            dic[s[i]] = i\n",
    "            \n",
    "        # log the max length\n",
    "        max_len = max(max_len, i-left+1)\n",
    "        print(s[i], i, left, max_len)\n",
    "    \n",
    "    return max_len\n",
    "\n"
   ]
  },
  {
   "cell_type": "code",
   "execution_count": 46,
   "metadata": {},
   "outputs": [
    {
     "name": "stdout",
     "output_type": "stream",
     "text": [
      "a 0 0 1\n",
      "b 1 0 2\n",
      "c 2 0 3\n",
      "d 3 0 4\n",
      "a 4 1 4\n",
      "b 5 2 4\n",
      "c 6 3 4\n"
     ]
    },
    {
     "data": {
      "text/plain": [
       "4"
      ]
     },
     "execution_count": 46,
     "metadata": {},
     "output_type": "execute_result"
    }
   ],
   "source": [
    "longestSubstring2('abcdabc')"
   ]
  },
  {
   "cell_type": "code",
   "execution_count": null,
   "metadata": {},
   "outputs": [],
   "source": []
  },
  {
   "cell_type": "code",
   "execution_count": null,
   "metadata": {},
   "outputs": [],
   "source": []
  }
 ],
 "metadata": {
  "kernelspec": {
   "display_name": "Python 3",
   "language": "python",
   "name": "python3"
  },
  "language_info": {
   "codemirror_mode": {
    "name": "ipython",
    "version": 3
   },
   "file_extension": ".py",
   "mimetype": "text/x-python",
   "name": "python",
   "nbconvert_exporter": "python",
   "pygments_lexer": "ipython3",
   "version": "3.7.6"
  }
 },
 "nbformat": 4,
 "nbformat_minor": 2
}
