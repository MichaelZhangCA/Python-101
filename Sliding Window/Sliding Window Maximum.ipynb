{
 "cells": [
  {
   "cell_type": "raw",
   "metadata": {},
   "source": [
    "Given an array nums, there is a sliding window of size k which is moving from the very left of the array to the very right. You can only see the k numbers in the window. Each time the sliding window moves right by one position. Return the max sliding window.\n",
    "\n",
    "Example:\n",
    "\n",
    "Input: nums = [1,3,-1,-3,5,3,6,7], and k = 3\n",
    "Output: [3,3,5,5,6,7] \n",
    "Explanation: \n",
    "\n",
    "Window position                Max\n",
    "---------------               -----\n",
    "[1  3  -1] -3  5  3  6  7       3\n",
    " 1 [3  -1  -3] 5  3  6  7       3\n",
    " 1  3 [-1  -3  5] 3  6  7       5\n",
    " 1  3  -1 [-3  5  3] 6  7       5\n",
    " 1  3  -1  -3 [5  3  6] 7       6\n",
    " 1  3  -1  -3  5 [3  6  7]      7\n",
    "Note:\n",
    "You may assume k is always valid, 1 ≤ k ≤ input array's size for non-empty array.\n",
    "\n"
   ]
  },
  {
   "cell_type": "code",
   "execution_count": 33,
   "metadata": {},
   "outputs": [],
   "source": [
    "from collections import deque\n",
    "class Solution():\n",
    "    \n",
    "    def maxNum(self, nums, k):\n",
    "        \n",
    "        if (not nums):\n",
    "            return []\n",
    "        \n",
    "        res = []\n",
    "        p = 0\n",
    "        while (p < len(nums) - k +1):\n",
    "            res.append(max(nums[p:p+k]))\n",
    "            p += 1\n",
    "            \n",
    "        return res        \n",
    "    \n",
    "    def maxNum2(self, nums, k):\n",
    "        \n",
    "        if (len(nums) * k==0):\n",
    "            return []\n",
    "\n",
    "        def _cleanupq(i):\n",
    "            # pop left\n",
    "            if (q and q[0] == i-k):\n",
    "                q.popleft()\n",
    "            \n",
    "            # check all the numbers smaller\n",
    "            while q and nums[i] > nums[q[-1]]:\n",
    "                q.pop()\n",
    "        \n",
    "        q = deque()\n",
    "        for i in range(k):\n",
    "            _cleanupq(i)\n",
    "            q.append(i)\n",
    "\n",
    "        res = [nums[q[0]]]\n",
    "            \n",
    "        for i in range(k,len(nums)):\n",
    "            _cleanupq(i)\n",
    "            q.append(i)\n",
    "            res.append(nums[q[0]])\n",
    "            \n",
    "        return res"
   ]
  },
  {
   "cell_type": "code",
   "execution_count": 34,
   "metadata": {},
   "outputs": [],
   "source": [
    "nums = [1,3,-1,-3,5,3,6,7]"
   ]
  },
  {
   "cell_type": "code",
   "execution_count": 35,
   "metadata": {},
   "outputs": [
    {
     "data": {
      "text/plain": [
       "[3, 3, 5, 5, 6, 7]"
      ]
     },
     "execution_count": 35,
     "metadata": {},
     "output_type": "execute_result"
    }
   ],
   "source": [
    "Solution().maxNum2(nums,3)"
   ]
  },
  {
   "cell_type": "code",
   "execution_count": null,
   "metadata": {},
   "outputs": [],
   "source": []
  }
 ],
 "metadata": {
  "kernelspec": {
   "display_name": "Python 3",
   "language": "python",
   "name": "python3"
  },
  "language_info": {
   "codemirror_mode": {
    "name": "ipython",
    "version": 3
   },
   "file_extension": ".py",
   "mimetype": "text/x-python",
   "name": "python",
   "nbconvert_exporter": "python",
   "pygments_lexer": "ipython3",
   "version": "3.7.6"
  }
 },
 "nbformat": 4,
 "nbformat_minor": 2
}
