{
 "cells": [
  {
   "cell_type": "raw",
   "metadata": {},
   "source": [
    "Given a string s, find the longest palindromic substring in s. You may assume that the maximum length of s is 1000.\n",
    "\n",
    "Example 1:\n",
    "\n",
    "Input: \"babad\"\n",
    "Output: \"bab\"\n",
    "Note: \"aba\" is also a valid answer.\n",
    "Example 2:\n",
    "\n",
    "Input: \"cbbd\"\n",
    "Output: \"bb\"\n"
   ]
  },
  {
   "cell_type": "code",
   "execution_count": null,
   "metadata": {},
   "outputs": [],
   "source": []
  },
  {
   "cell_type": "code",
   "execution_count": 1,
   "metadata": {},
   "outputs": [],
   "source": [
    "class Solution:\n",
    "    def longestPalindrome(self, s: str) -> str:\n",
    "        globalmax = (0,0,0)\n",
    "        for i in range(len(s)):\n",
    "            origin = self.findMaxPalindrome(s,i,i)\n",
    "            symetric = self.findMaxPalindrome(s,i,i+1)\n",
    "            globalmax = max([symetric, origin, globalmax],key= lambda x: x[2])\n",
    "        return s[(globalmax[0]+1):globalmax[1]]    \n",
    "        \n",
    "    def findMaxPalindrome(self, string:str, left:int, right:int)->tuple:\n",
    "        while left>=0 and right<len(string) and string[left] == string[right]:\n",
    "            left -=1\n",
    "            right +=1\n",
    "        return (left,right,right - left)\n"
   ]
  },
  {
   "cell_type": "code",
   "execution_count": 7,
   "metadata": {},
   "outputs": [],
   "source": [
    "s = 'cbbd'"
   ]
  },
  {
   "cell_type": "code",
   "execution_count": 8,
   "metadata": {},
   "outputs": [
    {
     "data": {
      "text/plain": [
       "'bb'"
      ]
     },
     "execution_count": 8,
     "metadata": {},
     "output_type": "execute_result"
    }
   ],
   "source": [
    "Solution().longestPalindrome(s)"
   ]
  },
  {
   "cell_type": "code",
   "execution_count": 6,
   "metadata": {},
   "outputs": [
    {
     "data": {
      "text/plain": [
       "range(0, 3)"
      ]
     },
     "execution_count": 6,
     "metadata": {},
     "output_type": "execute_result"
    }
   ],
   "source": []
  },
  {
   "cell_type": "code",
   "execution_count": null,
   "metadata": {},
   "outputs": [],
   "source": []
  }
 ],
 "metadata": {
  "kernelspec": {
   "display_name": "Python 3",
   "language": "python",
   "name": "python3"
  },
  "language_info": {
   "codemirror_mode": {
    "name": "ipython",
    "version": 3
   },
   "file_extension": ".py",
   "mimetype": "text/x-python",
   "name": "python",
   "nbconvert_exporter": "python",
   "pygments_lexer": "ipython3",
   "version": "3.7.6"
  }
 },
 "nbformat": 4,
 "nbformat_minor": 2
}
