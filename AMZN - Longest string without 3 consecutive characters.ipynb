{
 "cells": [
  {
   "cell_type": "raw",
   "metadata": {},
   "source": [
    "Given A, B, C, find any string of maximum length that can be created such that no 3 consecutive characters are same. There can be at max A 'a', B 'b' and C 'c'.\n",
    "\n",
    "Example 1:\n",
    "\n",
    "Input: A = 1, B = 1, C = 6\n",
    "Output: \"ccbccacc\"\n",
    "Example 2:\n",
    "\n",
    "Input: A = 1, B = 2, C = 3\n",
    "Output: \"acbcbc\"\n"
   ]
  },
  {
   "cell_type": "code",
   "execution_count": 1,
   "metadata": {},
   "outputs": [],
   "source": [
    "# sort the letter numbers descent (use -* to sort in a heapq, which by default is a min heap)"
   ]
  },
  {
   "cell_type": "code",
   "execution_count": 39,
   "metadata": {},
   "outputs": [],
   "source": [
    "import heapq\n",
    "class Solution():\n",
    "    def ls3(self, A,B,C):\n",
    "        \n",
    "        letterq = []\n",
    "        res = \"\"\n",
    "        \n",
    "        for l, n in ('a', A), ('b', B), ('c',C):\n",
    "            # use -1 * # to sort\n",
    "            heapq.heappush(letterq, (-n, l))\n",
    "        \n",
    "        # from the max number letter, use 2 letter each time then push the rest in the queue\n",
    "        # apply the same for all other letters\n",
    "        preL, preN = '', 0\n",
    "        while letterq:\n",
    "            # get the smellest item from queue (so always the min value returned)\n",
    "            #print(letterq)\n",
    "            n, l = heapq.heappop(letterq)\n",
    "            #print(l,n)\n",
    "            # if prev letter touch the max number (2 in this case)\n",
    "            if preL:\n",
    "                # push the rest in the queue for next run\n",
    "                heapq.heappush(letterq, (preN, preL))\n",
    "                # reset\n",
    "                preL, preN = '', 0\n",
    "            if res[-2:] == l * 2:   # 2 is the max letter allowed, form the requirement\n",
    "                # save where is stopped, prepare to move to next item in the queue\n",
    "                preL, preN = l, n\n",
    "            else:\n",
    "                # add one letter to the result, don't add 2 in one time because there might only 1 letter left in the queue\n",
    "                res += l\n",
    "                if (n != -1):\n",
    "                    # not used all the letter yet\n",
    "                    #print('-> push the rest')\n",
    "                    heapq.heappush(letterq, (n+1,l))\n",
    "        print(res)\n",
    "        return res"
   ]
  },
  {
   "cell_type": "code",
   "execution_count": 42,
   "metadata": {},
   "outputs": [
    {
     "name": "stdout",
     "output_type": "stream",
     "text": [
      "cbcabc\n"
     ]
    }
   ],
   "source": [
    "q = Solution().ls3(1,2,3)"
   ]
  },
  {
   "cell_type": "code",
   "execution_count": null,
   "metadata": {},
   "outputs": [],
   "source": []
  }
 ],
 "metadata": {
  "kernelspec": {
   "display_name": "Python 3",
   "language": "python",
   "name": "python3"
  },
  "language_info": {
   "codemirror_mode": {
    "name": "ipython",
    "version": 3
   },
   "file_extension": ".py",
   "mimetype": "text/x-python",
   "name": "python",
   "nbconvert_exporter": "python",
   "pygments_lexer": "ipython3",
   "version": "3.7.6"
  }
 },
 "nbformat": 4,
 "nbformat_minor": 2
}
