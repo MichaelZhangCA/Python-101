{
 "cells": [
  {
   "cell_type": "raw",
   "metadata": {},
   "source": [
    "There's an undirected connected graph with n nodes labeled 1..n. But some of the edges has been broken disconnecting the graph. Find the minimum cost to repair the edges so that all the nodes are once again accessible from each other.\n",
    "\n",
    "Input:\n",
    "\n",
    "n, an int representing the total number of nodes.\n",
    "edges, a list of integer pair representing the nodes connected by an edge.\n",
    "edgesToRepair, a list where each element is a triplet representing the pair of nodes between which an edge is currently broken and the cost of repearing that edge, respectively (e.g. [1, 2, 12] means to repear an edge between nodes 1 and 2, the cost would be 12).\n",
    "Example 1:\n",
    "\n",
    "Input: n = 5, edges = [[1, 2], [2, 3], [3, 4], [4, 5], [1, 5]], edgesToRepair = [[1, 2, 12], [3, 4, 30], [1, 5, 8]]\n",
    "Output: 20\n",
    "Explanation:\n",
    "There are 3 connected components due to broken edges: [1], [2, 3] and [4, 5].\n",
    "We can connect these components into a single component by repearing the edges between nodes 1 and 2, and nodes 1 and 5 at a minimum cost 12 + 8 = 20.\n",
    "Example 2:\n",
    "\n",
    "Input: n = 6, edges = [[1, 2], [2, 3], [4, 5], [3, 5], [1, 6], [2, 4]], edgesToRepair = [[1, 6, 410], [2, 4, 800]]\n",
    "Output: 410\n",
    "Example 3:\n",
    "\n",
    "Input: n = 6, edges = [[1, 2], [2, 3], [4, 5], [5, 6], [1, 5], [2, 4], [3, 4]], edgesToRepair = [[1, 5, 110], [2, 4, 84], [3, 4, 79]]\n",
    "Output: 79\n"
   ]
  },
  {
   "cell_type": "code",
   "execution_count": 1,
   "metadata": {},
   "outputs": [],
   "source": [
    "# set all edges NOT in repair edges as cost 0\n",
    "# then use MST to find the lowest cost\n",
    "# use find & unoin to make MST"
   ]
  },
  {
   "cell_type": "code",
   "execution_count": 29,
   "metadata": {},
   "outputs": [],
   "source": [
    "class Solution():\n",
    "    aux = []\n",
    "    def _find(self, node):\n",
    "        \n",
    "        while(self.aux[node-1] != -1):\n",
    "            node = self.aux[node-1]\n",
    "        return node\n",
    "    \n",
    "    def _union(self, node1, node2):\n",
    "        eo_node1 = self._find(node1)\n",
    "        # unoin\n",
    "        self.aux[eo_node1-1] = node2\n",
    " \n",
    "    def minCostToRepairEdges(self, n, edges, edgesToRepair):\n",
    "        self.aux = [-1] * n\n",
    "        \n",
    "        # merge all edges with cost\n",
    "        good_edges = [ edge + [0] for edge in edges if edge not in [ re[:2] for re in edgesToRepair ] ]\n",
    "        all_edges = sorted(good_edges + edgesToRepair, key=lambda x:x[2])\n",
    "        \n",
    "        cost = 0\n",
    "        \n",
    "        for edge in all_edges:\n",
    "            # if the nodes of an edge not liked, unoin them\n",
    "            if (self._find(edge[0]) != self._find(edge[1])):\n",
    "                self._union(edge[0], edge[1])\n",
    "                cost += edge[2]\n",
    "            else:\n",
    "                pass\n",
    "       \n",
    "        return cost if (self.aux.count(-1)==1) else -1"
   ]
  },
  {
   "cell_type": "code",
   "execution_count": 38,
   "metadata": {},
   "outputs": [],
   "source": [
    "n = 5\n",
    "edges = [[1, 2], [2, 3], [3, 4], [4, 5], [1, 5]]\n",
    "edgesToRepair = [[1, 2, 12], [3, 4, 30], [1, 5, 8]]"
   ]
  },
  {
   "cell_type": "code",
   "execution_count": 32,
   "metadata": {},
   "outputs": [],
   "source": [
    "n = 6\n",
    "edges = [[1, 2], [2, 3], [4, 5], [3, 5], [1, 6], [2, 4]]\n",
    "edgesToRepair = [[1, 6, 410], [2, 4, 800]]"
   ]
  },
  {
   "cell_type": "code",
   "execution_count": 36,
   "metadata": {},
   "outputs": [],
   "source": [
    "n = 6\n",
    "edges = [[1, 2], [2, 3], [4, 5], [5, 6], [1, 5], [2, 4], [3, 4]]\n",
    "edgesToRepair = [[1, 5, 110], [2, 4, 84]]"
   ]
  },
  {
   "cell_type": "code",
   "execution_count": 40,
   "metadata": {},
   "outputs": [],
   "source": [
    "n = 5\n",
    "edges = [[1, 2], [2, 3], [4, 5]]\n",
    "edgesToRepair = [[1, 2, 12]]"
   ]
  },
  {
   "cell_type": "code",
   "execution_count": 41,
   "metadata": {},
   "outputs": [
    {
     "data": {
      "text/plain": [
       "-1"
      ]
     },
     "execution_count": 41,
     "metadata": {},
     "output_type": "execute_result"
    }
   ],
   "source": [
    "Solution().minCostToRepairEdges(n, edges, edgesToRepair)"
   ]
  },
  {
   "cell_type": "code",
   "execution_count": null,
   "metadata": {},
   "outputs": [],
   "source": []
  }
 ],
 "metadata": {
  "kernelspec": {
   "display_name": "Python 3",
   "language": "python",
   "name": "python3"
  },
  "language_info": {
   "codemirror_mode": {
    "name": "ipython",
    "version": 3
   },
   "file_extension": ".py",
   "mimetype": "text/x-python",
   "name": "python",
   "nbconvert_exporter": "python",
   "pygments_lexer": "ipython3",
   "version": "3.7.6"
  }
 },
 "nbformat": 4,
 "nbformat_minor": 2
}
