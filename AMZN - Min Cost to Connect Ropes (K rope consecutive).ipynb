{
 "cells": [
  {
   "cell_type": "raw",
   "metadata": {},
   "source": [
    "Given n ropes of different lengths, we need to connect these ropes into one rope. We can connect only k ropes CONSECUTIVE at a time. The cost required to connect k ropes is equal to sum of their lengths. The length of this connected rope is also equal to the sum of their lengths. This process is repeated until n ropes are connected into a single rope. Find the min possible cost required to connect all ropes.\n",
    "\n",
    "Example 1:\n",
    "\n",
    "Input: ropes = [3,2,4,1], K = 2\n",
    "Output: 20\n",
    "Explanation: \n",
    "We start with [3, 2, 4, 1].\n",
    "We merge [3, 2] for a cost of 5, and we are left with [5, 4, 1].\n",
    "We merge [4, 1] for a cost of 5, and we are left with [5, 5].\n",
    "We merge [5, 5] for a cost of 10, and we are left with [10].\n",
    "The total cost was 20, and this is the minimum possible.\n",
    "Example 2:\n",
    "\n",
    "Input: ropes = [3,2,4,1], K = 3\n",
    "Output: -1\n",
    "Explanation: After any merge operation, there are 2 piles left, and we can't merge anymore.  So the task is impossible.\n",
    "Example 3:\n",
    "\n",
    "Input: ropes = [3,5,1,2,6], K = 3\n",
    "Output: 25\n",
    "Explanation: \n",
    "We start with [3, 5, 1, 2, 6].\n",
    "We merge [5, 1, 2] for a cost of 8, and we are left with [3, 8, 6].\n",
    "We merge [3, 8, 6] for a cost of 17, and we are left with [17].\n",
    "The total cost was 25, and this is the minimum possible.\n"
   ]
  },
  {
   "cell_type": "code",
   "execution_count": 3,
   "metadata": {},
   "outputs": [],
   "source": [
    "# this is a DP question, combine with sliding window\n",
    "# each time find the minimal combination then combine the sum with the rest\n",
    "# due to the consecutive requirement, the list will keep the raw order"
   ]
  },
  {
   "cell_type": "code",
   "execution_count": 4,
   "metadata": {},
   "outputs": [],
   "source": [
    "# by given n numbers, and merge k each time\n",
    "# only when (n-1) % (k-1) == 0, it's possible to exatly merge k each time, otherwise will fail"
   ]
  },
  {
   "cell_type": "code",
   "execution_count": 60,
   "metadata": {},
   "outputs": [],
   "source": [
    "from typing import List\n",
    "\n",
    "def minCost(ropes: List[int], k:int) -> int:\n",
    "    if not ropes: return 0\n",
    "\n",
    "    # cannot merge return -1\n",
    "    if ( (len(ropes)-1) % (k-1) != 0):\n",
    "        return -1\n",
    "    \n",
    "    cost = 0\n",
    "    \n",
    "    while (ropes):\n",
    "        #print(ropes)\n",
    "        \n",
    "        # to find the min k consecutive items\n",
    "        min_start = 0\n",
    "        min_sum = float('inf')\n",
    "\n",
    "        # slide a k window to find the min sum and start index\n",
    "        for i in range(len(ropes)-k+1):\n",
    "            ksum = sum(ropes[i:i+k])\n",
    "            if (ksum < min_sum):\n",
    "                min_sum = ksum\n",
    "                min_start = i\n",
    "            \n",
    "        # re-combine the rope with before + sum + leftover\n",
    "        ropes = ropes[:min_start] + [min_sum] + ropes[min_start+k:]\n",
    "\n",
    "        # add cost\n",
    "        cost += min_sum\n",
    "\n",
    "        # check for exit\n",
    "        if (len(ropes) == k):\n",
    "            #print(ropes)\n",
    "            cost += sum(ropes)\n",
    "            break\n",
    "        \n",
    "    return cost\n"
   ]
  },
  {
   "cell_type": "code",
   "execution_count": 63,
   "metadata": {},
   "outputs": [],
   "source": [
    "ropes = [3,2,4,1]\n",
    "K = 3"
   ]
  },
  {
   "cell_type": "code",
   "execution_count": 64,
   "metadata": {},
   "outputs": [
    {
     "data": {
      "text/plain": [
       "-1"
      ]
     },
     "execution_count": 64,
     "metadata": {},
     "output_type": "execute_result"
    }
   ],
   "source": [
    "minCost(ropes, K)"
   ]
  },
  {
   "cell_type": "code",
   "execution_count": 47,
   "metadata": {},
   "outputs": [],
   "source": [
    "from typing import List\n",
    "class Solution:\n",
    "    def mergeStones(self, stones: List[int], K: int) -> int:\n",
    "        N = len(stones)\n",
    "        if (N - 1) % (K - 1): return -1\n",
    "        prefix = [0] * (N+1)\n",
    "        for i in range(1,N+1): prefix[i] = stones[i-1] + prefix[i-1]\n",
    "        \n",
    "        print(prefix)\n",
    "            \n",
    "        dp = [[0] * N for _ in range(N)]\n",
    "        for m in range(K, N+1):\n",
    "            for i in range(N-m+1):\n",
    "                dp[i][i+m-1] = min(dp[i][k] + dp[k+1][i+m-1] for k in range(i, i+m-1, K-1)) + (prefix[i+m] - prefix[i] if (m-1)%(K-1) == 0 else 0)\n",
    "                \n",
    "                print(dp)\n",
    "        return dp[0][N-1]\n"
   ]
  },
  {
   "cell_type": "code",
   "execution_count": 48,
   "metadata": {},
   "outputs": [
    {
     "name": "stdout",
     "output_type": "stream",
     "text": [
      "[0, 3, 8, 9, 11, 17]\n",
      "[[0, 0, 9, 0, 0], [0, 0, 0, 0, 0], [0, 0, 0, 0, 0], [0, 0, 0, 0, 0], [0, 0, 0, 0, 0]]\n",
      "[[0, 0, 9, 0, 0], [0, 0, 0, 8, 0], [0, 0, 0, 0, 0], [0, 0, 0, 0, 0], [0, 0, 0, 0, 0]]\n",
      "[[0, 0, 9, 0, 0], [0, 0, 0, 8, 0], [0, 0, 0, 0, 9], [0, 0, 0, 0, 0], [0, 0, 0, 0, 0]]\n",
      "[[0, 0, 9, 8, 0], [0, 0, 0, 8, 0], [0, 0, 0, 0, 9], [0, 0, 0, 0, 0], [0, 0, 0, 0, 0]]\n",
      "[[0, 0, 9, 8, 0], [0, 0, 0, 8, 8], [0, 0, 0, 0, 9], [0, 0, 0, 0, 0], [0, 0, 0, 0, 0]]\n",
      "[[0, 0, 9, 8, 25], [0, 0, 0, 8, 8], [0, 0, 0, 0, 9], [0, 0, 0, 0, 0], [0, 0, 0, 0, 0]]\n"
     ]
    },
    {
     "data": {
      "text/plain": [
       "25"
      ]
     },
     "execution_count": 48,
     "metadata": {},
     "output_type": "execute_result"
    }
   ],
   "source": [
    "Solution().mergeStones(ropes, K)"
   ]
  },
  {
   "cell_type": "code",
   "execution_count": null,
   "metadata": {},
   "outputs": [],
   "source": []
  }
 ],
 "metadata": {
  "kernelspec": {
   "display_name": "Python 3",
   "language": "python",
   "name": "python3"
  },
  "language_info": {
   "codemirror_mode": {
    "name": "ipython",
    "version": 3
   },
   "file_extension": ".py",
   "mimetype": "text/x-python",
   "name": "python",
   "nbconvert_exporter": "python",
   "pygments_lexer": "ipython3",
   "version": "3.7.6"
  }
 },
 "nbformat": 4,
 "nbformat_minor": 2
}
