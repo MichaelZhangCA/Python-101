{
 "cells": [
  {
   "cell_type": "raw",
   "metadata": {},
   "source": [
    "Input:\n",
    "numToys = 6\n",
    "topToys = 2\n",
    "toys = [\"elmo\", \"elsa\", \"legos\", \"drone\", \"tablet\", \"warcraft\"]\n",
    "numQuotes = 6\n",
    "quotes = [\n",
    "\"Elmo is the hottest of the season! Elmo will be on every kid's wishlist!\",\n",
    "\"The new Elmo dolls are super high quality\",\n",
    "\"Expect the Elsa dolls to be very popular this year, Elsa!\",\n",
    "\"Elsa and Elmo are the toys I'll be buying for my kids, Elsa is good\",\n",
    "\"For parents of older kids, look into buying them a drone\",\n",
    "\"Warcraft is slowly rising in popularity ahead of the holiday season\"\n",
    "];\n",
    "\n",
    "Output:\n",
    "[\"elmo\", \"elsa\"]\n",
    "\n",
    "Explanation:\n",
    "elmo - 4\n",
    "elsa - 4\n",
    "\"elmo\" should be placed before \"elsa\" in the result because \"elmo\" appears in 3 different quotes and \"elsa\" appears in 2 different quotes.\n"
   ]
  },
  {
   "cell_type": "code",
   "execution_count": 11,
   "metadata": {},
   "outputs": [],
   "source": [
    "import re\n",
    "class Solution():\n",
    "    def topNBuzzWords(self, numToys, topToys,toys,numQuotes,quotes):\n",
    "        cnt = { toy: [0,0] for toy in toys}\n",
    "\n",
    "        for quote in quotes:\n",
    "            is_updated = {toy: False for toy in toys}\n",
    "            for word in quote.lower().split():\n",
    "                word = re.sub('[^a-z]','',word)\n",
    "                if word in toys:\n",
    "                    cnt[word][0]+=1\n",
    "                    is_updated[word] = True\n",
    "            for key in is_updated.keys():\n",
    "                if is_updated[key]==True:\n",
    "                    cnt[key][1] += 1\n",
    "        return [toy for toy, freq in sorted(cnt.items(), key=lambda item:(item[1][0],item[1][1]), reverse=True)][:topToys]\n"
   ]
  },
  {
   "cell_type": "code",
   "execution_count": 20,
   "metadata": {},
   "outputs": [],
   "source": [
    "numToys = 6\n",
    "topToys = 2\n",
    "toys = [\"elmo\", \"elsa\", \"legos\", \"drone\", \"tablet\", \"warcraft\"]\n",
    "numQuotes = 6\n",
    "quotes = [\n",
    "\"Elmo is the hottest of the season! Elmo will be on every kid's wishlist!\",\n",
    "\"The new Elmo dolls are super high quality\",\n",
    "\"Expect the Elsa dolls to be very popular this year, Elsa!\",\n",
    "\"Elsa and Elmo are the toys I'll be buying for my kids, Elsa is good\",\n",
    "\"For parents of older kids, look into buying them a drone\",\n",
    "\"Warcraft is slowly rising in popularity ahead of the holiday season\"\n",
    "];\n"
   ]
  },
  {
   "cell_type": "code",
   "execution_count": 21,
   "metadata": {},
   "outputs": [],
   "source": [
    "rst = Solution().topNBuzzWords(numToys, topToys, toys, numQuotes, quotes)"
   ]
  },
  {
   "cell_type": "code",
   "execution_count": 22,
   "metadata": {},
   "outputs": [
    {
     "data": {
      "text/plain": [
       "['elmo', 'elsa', 'drone', 'warcraft', 'legos', 'tablet']"
      ]
     },
     "execution_count": 22,
     "metadata": {},
     "output_type": "execute_result"
    }
   ],
   "source": [
    "rst"
   ]
  },
  {
   "cell_type": "code",
   "execution_count": null,
   "metadata": {},
   "outputs": [],
   "source": []
  }
 ],
 "metadata": {
  "kernelspec": {
   "display_name": "Python 3",
   "language": "python",
   "name": "python3"
  },
  "language_info": {
   "codemirror_mode": {
    "name": "ipython",
    "version": 3
   },
   "file_extension": ".py",
   "mimetype": "text/x-python",
   "name": "python",
   "nbconvert_exporter": "python",
   "pygments_lexer": "ipython3",
   "version": "3.7.6"
  }
 },
 "nbformat": 4,
 "nbformat_minor": 2
}
