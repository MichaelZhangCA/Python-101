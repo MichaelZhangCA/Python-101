{
 "cells": [
  {
   "cell_type": "code",
   "execution_count": 1,
   "metadata": {},
   "outputs": [],
   "source": [
    "# given 2 arrays, find the median for both arrays\n"
   ]
  },
  {
   "cell_type": "code",
   "execution_count": 18,
   "metadata": {},
   "outputs": [],
   "source": [
    "# merge into one array then find the median\n",
    "def merge(ar1, ar2):\n",
    "    \n",
    "    medianLen = (len(ar1) + len(ar2)) //2 +1\n",
    "    i, j = 0,0\n",
    "    mar = []\n",
    "    while i<len(ar1) and j<len(ar2):\n",
    "        if (ar1[i] < ar2[j]):\n",
    "            mar.append(ar1[i])\n",
    "            i += 1\n",
    "        else:\n",
    "            mar.append(ar2[j])\n",
    "            j +=1\n",
    "      \n",
    "        if (len(mar) == medianLen):\n",
    "            break\n",
    "    \n",
    "    # check if need merge the rest of array (some corner case might have only less than half merged)\n",
    "    if (len(mar) < medianLen):\n",
    "        for k in range(i, len(ar1)):\n",
    "            mar.append(ar1[k])\n",
    "            if (len(mar) == medianLen):\n",
    "                break\n",
    "    # check ar2\n",
    "    if (len(mar) < medianLen):\n",
    "        for k in range(j, len(ar2)):\n",
    "            mar.append(ar2[k])\n",
    "            if (len(mar) == medianLen):\n",
    "                break\n",
    "            \n",
    "    print(mar)\n",
    "    # return median due to the length\n",
    "    if ((len(ar1) + len(ar2)) % 2 == 0):\n",
    "        return (mar[-1] + mar[-2])/2\n",
    "    else:\n",
    "        return mar[-1]"
   ]
  },
  {
   "cell_type": "code",
   "execution_count": 29,
   "metadata": {},
   "outputs": [],
   "source": [
    "ar2 = [1,2,3,7,11,19]\n",
    "ar1 = [4,6,8,10,12]"
   ]
  },
  {
   "cell_type": "code",
   "execution_count": 30,
   "metadata": {},
   "outputs": [
    {
     "name": "stdout",
     "output_type": "stream",
     "text": [
      "2 4\n",
      "[1, 2, 3, 4, 6, 7]\n"
     ]
    },
    {
     "data": {
      "text/plain": [
       "7"
      ]
     },
     "execution_count": 30,
     "metadata": {},
     "output_type": "execute_result"
    }
   ],
   "source": [
    "merge(ar1,ar2)"
   ]
  },
  {
   "cell_type": "code",
   "execution_count": 105,
   "metadata": {},
   "outputs": [],
   "source": [
    "# use binary search to identify the left part of the merged array\n",
    "# the partition from both array are p1 & p2, p1 + p2 = (len1 + len2 +1) //2\n",
    "# in this case, the median either\n",
    "# 1, the max(left) if it's odd\n",
    "# 2, the max(left) + min(right) /2 if it's even\n",
    "# start from the short array, find the partition size with all left side less than right side\n",
    "\n",
    "def bs(arr1, arr2):\n",
    "    \n",
    "    # use binary search to find partition, O(logm)\n",
    "    def bsp(left, right, par):\n",
    "        # par is the length of half for median\n",
    "        while left < right:\n",
    "            mid = (left + right)//2\n",
    "            mid2 = par - mid\n",
    "\n",
    "            # if max(left1) > min(right2), move to left\n",
    "            # need also check mid > 0, otherwise will get arr1[-1] without an error\n",
    "            if (mid > 0 and arr1[mid-1] > arr2[mid2]):\n",
    "                right = mid -1\n",
    "            # if max(left2) > min(right1), move to right\n",
    "            elif (mid2 > 0 and arr2[mid2-1] > arr1[mid]):\n",
    "                left = mid + 1\n",
    "\n",
    "            else:\n",
    "                # mid = 0 means no arr1 on left side, \n",
    "                # mid2 = 0 means no arr1 on right side\n",
    "                # if match the split criteria\n",
    "                left = mid\n",
    "                break\n",
    "                \n",
    "        return left\n",
    "    \n",
    "    # use linear walk through the shorter array to find the partition, O(m)\n",
    "    def linear(right, par):\n",
    "        \n",
    "        # if the max(arr1) < min(arr2), return right\n",
    "        if (arr1[right-1] < arr2[0]):\n",
    "            return right\n",
    "        \n",
    "        right -= 1\n",
    "        # in this case, both array have left and right side, until right ==0, which will out of loop\n",
    "        while (right>0):\n",
    "            rest = par - right\n",
    "            # if max(left1) > min(right2), move to left\n",
    "            # right will be always > 0\n",
    "            if (arr1[right-1] > arr2[rest]):\n",
    "                right -= 1\n",
    "            elif (arr2[rest-1] < arr1[right]):\n",
    "                # here is the point\n",
    "                break\n",
    "                \n",
    "        # if the loop end, right will =  0\n",
    "        return right\n",
    "        \n",
    "    if not (arr1 or arr2):\n",
    "        return None\n",
    "\n",
    "    # make sure always arr1 is shorter\n",
    "    if (len(arr1) > len(arr2)):\n",
    "        return bs(arr2, arr1)\n",
    "    \n",
    "    if not (arr1):\n",
    "        l = len(arr2)\n",
    "        if (l % 2 == 1):\n",
    "            return arr2[l//2]\n",
    "        else:\n",
    "            return (arr2[l//2-1] + arr2[l//2])/2\n",
    "        \n",
    "    par = (len(arr1) + len(arr2) + 1) // 2\n",
    "    \n",
    "    # arr1 is the shorter array\n",
    "    # left right presents how man items from the arr1 could be in the left side, so it's 0-len\n",
    "    left, right = 0, len(arr1)\n",
    "    p1 = bsp(left,right, par)\n",
    "    pp = linear(right, par)\n",
    "    \n",
    "    print(p1, pp)\n",
    "        \n",
    "    # get the proper middle of both array, which is left\n",
    "    p2 = par - p1\n",
    "    \n",
    "    print(arr1[:p1])\n",
    "    print(arr1[p1:])\n",
    "    print(arr2[:p2])\n",
    "    print(arr2[p2:])\n",
    "    max_left = max( (float('-inf') if p1==0 else arr1[p1-1]), (float('-inf') if p2==0 else arr2[p2-1]) )\n",
    "    if (len(arr1) + len(arr2)) % 2 == 1:\n",
    "        return max_left\n",
    "    else:\n",
    "        min_right = min( (float('inf') if p1==len(arr1) else arr1[p1]), (float('inf') if p2==len(arr2) else arr2[p2]) )\n",
    "        return (max_left + min_right) / 2\n"
   ]
  },
  {
   "cell_type": "code",
   "execution_count": 110,
   "metadata": {},
   "outputs": [
    {
     "name": "stdout",
     "output_type": "stream",
     "text": [
      "3 3\n",
      "[11, 14, 16]\n",
      "[18, 20, 22]\n",
      "[1, 2, 3, 4, 17]\n",
      "[22, 33, 44, 55, 66]\n"
     ]
    },
    {
     "data": {
      "text/plain": [
       "17.5"
      ]
     },
     "execution_count": 110,
     "metadata": {},
     "output_type": "execute_result"
    }
   ],
   "source": [
    "aar2 = [1,2,3,4,17,22,33,44,55,66]\n",
    "aar1 = [11,14,16,18,20,22]\n",
    "bs(aar1,aar2)"
   ]
  },
  {
   "cell_type": "code",
   "execution_count": 95,
   "metadata": {},
   "outputs": [
    {
     "data": {
      "text/plain": [
       "[]"
      ]
     },
     "execution_count": 95,
     "metadata": {},
     "output_type": "execute_result"
    }
   ],
   "source": [
    "ar1[0:0]"
   ]
  },
  {
   "cell_type": "code",
   "execution_count": 101,
   "metadata": {},
   "outputs": [
    {
     "data": {
      "text/plain": [
       "4"
      ]
     },
     "execution_count": 101,
     "metadata": {},
     "output_type": "execute_result"
    }
   ],
   "source": [
    "7//2 +1 "
   ]
  },
  {
   "cell_type": "code",
   "execution_count": null,
   "metadata": {},
   "outputs": [],
   "source": []
  }
 ],
 "metadata": {
  "kernelspec": {
   "display_name": "Python 3",
   "language": "python",
   "name": "python3"
  },
  "language_info": {
   "codemirror_mode": {
    "name": "ipython",
    "version": 3
   },
   "file_extension": ".py",
   "mimetype": "text/x-python",
   "name": "python",
   "nbconvert_exporter": "python",
   "pygments_lexer": "ipython3",
   "version": "3.7.6"
  }
 },
 "nbformat": 4,
 "nbformat_minor": 2
}
