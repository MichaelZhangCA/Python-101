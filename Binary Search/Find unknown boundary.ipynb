{
 "cells": [
  {
   "cell_type": "code",
   "execution_count": 1,
   "metadata": {},
   "outputs": [],
   "source": [
    "# find boundary for an unknow array\n",
    "def checkArray(i):\n",
    "    arr = [1] * 1032\n",
    "    return i < len(arr)\n",
    "\n",
    "def foundBoundary():\n",
    "    \n",
    "    def bs(left, right):\n",
    "        \n",
    "        while (left<= right):\n",
    "            mid = left + (right-left)//2\n",
    "            if (checkArray(mid)):\n",
    "                left = mid +1\n",
    "            else:\n",
    "                right = mid -1\n",
    "        \n",
    "        # finally find the one whihc is NOT in the array\n",
    "        # here actually return the length\n",
    "        return left\n",
    "    \n",
    "    # found the number exceed the boundary of array first, and scope in left:right\n",
    "    left, right = 0,1\n",
    "    while (checkArray(right)):\n",
    "        left = right\n",
    "        right = right *2\n",
    "    \n",
    "    # use binaray search to find the real boundary\n",
    "    len = bs(left,right)\n",
    "    return len\n"
   ]
  },
  {
   "cell_type": "code",
   "execution_count": 2,
   "metadata": {},
   "outputs": [
    {
     "data": {
      "text/plain": [
       "1032"
      ]
     },
     "execution_count": 2,
     "metadata": {},
     "output_type": "execute_result"
    }
   ],
   "source": [
    "foundBoundary()"
   ]
  },
  {
   "cell_type": "code",
   "execution_count": 3,
   "metadata": {},
   "outputs": [],
   "source": [
    "# find the first bad version from [G G G G G G G G G G B B B B B B B B B]\n",
    "\n",
    "arr = ['G', 'G', 'G', 'G', 'G', 'G', 'G', 'G', 'G', 'G', 'B', 'B', 'B', 'B', 'B', 'B', 'B', 'B', 'B']\n",
    "\n",
    "def isBadVersion(mid):\n",
    "    return arr[mid] == \"B\"\n",
    "\n",
    "def first_b(n):\n",
    "    left, right = 1, n\n",
    "    while (left < right):\n",
    "        mid = left + (right - left) //2\n",
    "        if (isBadVersion(mid)):\n",
    "            right = mid\n",
    "        else:\n",
    "            left = mid +1\n",
    "    \n",
    "    # return the first one has Bad version\n",
    "    return left"
   ]
  },
  {
   "cell_type": "code",
   "execution_count": 4,
   "metadata": {},
   "outputs": [
    {
     "data": {
      "text/plain": [
       "10"
      ]
     },
     "execution_count": 4,
     "metadata": {},
     "output_type": "execute_result"
    }
   ],
   "source": [
    "first_b(len(arr))"
   ]
  },
  {
   "cell_type": "code",
   "execution_count": null,
   "metadata": {},
   "outputs": [],
   "source": []
  }
 ],
 "metadata": {
  "kernelspec": {
   "display_name": "Python 3",
   "language": "python",
   "name": "python3"
  },
  "language_info": {
   "codemirror_mode": {
    "name": "ipython",
    "version": 3
   },
   "file_extension": ".py",
   "mimetype": "text/x-python",
   "name": "python",
   "nbconvert_exporter": "python",
   "pygments_lexer": "ipython3",
   "version": "3.7.5"
  }
 },
 "nbformat": 4,
 "nbformat_minor": 2
}
