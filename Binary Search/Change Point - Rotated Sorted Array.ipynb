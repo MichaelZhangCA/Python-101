{
 "cells": [
  {
   "cell_type": "code",
   "execution_count": 11,
   "metadata": {},
   "outputs": [],
   "source": [
    "# find the tunning number of a rotated sorted array\n",
    "\n",
    "def findRotatePoint(arr):\n",
    "    \n",
    "    def bs(left, right):\n",
    "        \n",
    "        while (left < right):\n",
    "            mid = left + (right - left)//2\n",
    "            # if the mid less than the beginning of the array, go left\n",
    "            if (arr[mid] < arr[0] ):\n",
    "                right = mid\n",
    "            else:\n",
    "                left = mid +1\n",
    "                \n",
    "        return left\n",
    "    \n",
    "    if (not arr):\n",
    "        return None\n",
    "    \n",
    "    if (len(arr)==1):\n",
    "        return arr[0]\n",
    "    \n",
    "    # if the array is not rotated\n",
    "    if (arr[-1] > arr[0]):\n",
    "        return arr[0]\n",
    "    \n",
    "    # find the one larger than the next one\n",
    "    idx = bs(0, len(arr)-1)\n",
    "    \n",
    "    return arr[idx]"
   ]
  },
  {
   "cell_type": "code",
   "execution_count": 18,
   "metadata": {},
   "outputs": [],
   "source": [
    "arr = [5,6,7,8,1,2,3,4]"
   ]
  },
  {
   "cell_type": "code",
   "execution_count": 19,
   "metadata": {},
   "outputs": [
    {
     "data": {
      "text/plain": [
       "1"
      ]
     },
     "execution_count": 19,
     "metadata": {},
     "output_type": "execute_result"
    }
   ],
   "source": [
    "findRotatePoint(arr)"
   ]
  },
  {
   "cell_type": "code",
   "execution_count": 59,
   "metadata": {},
   "outputs": [],
   "source": [
    "# find peak point\n",
    "def findPeak(arr):\n",
    "    \n",
    "    left, right = 0, len(arr)-1\n",
    "    while (left<right):\n",
    "        mid = (left + right)//2\n",
    "        if (arr[mid] > arr[mid+1]):\n",
    "            right = mid\n",
    "        else:\n",
    "            left = mid + 1\n",
    "            \n",
    "    return arr[left]\n",
    "        \n",
    "\n",
    "    "
   ]
  },
  {
   "cell_type": "code",
   "execution_count": 60,
   "metadata": {},
   "outputs": [],
   "source": [
    "arr = [2,6,5,4,3,2,2]"
   ]
  },
  {
   "cell_type": "code",
   "execution_count": 61,
   "metadata": {},
   "outputs": [
    {
     "data": {
      "text/plain": [
       "6"
      ]
     },
     "execution_count": 61,
     "metadata": {},
     "output_type": "execute_result"
    }
   ],
   "source": [
    "findPeak(arr)"
   ]
  },
  {
   "cell_type": "code",
   "execution_count": null,
   "metadata": {},
   "outputs": [],
   "source": []
  }
 ],
 "metadata": {
  "kernelspec": {
   "display_name": "Python 3",
   "language": "python",
   "name": "python3"
  },
  "language_info": {
   "codemirror_mode": {
    "name": "ipython",
    "version": 3
   },
   "file_extension": ".py",
   "mimetype": "text/x-python",
   "name": "python",
   "nbconvert_exporter": "python",
   "pygments_lexer": "ipython3",
   "version": "3.7.5"
  }
 },
 "nbformat": 4,
 "nbformat_minor": 2
}
