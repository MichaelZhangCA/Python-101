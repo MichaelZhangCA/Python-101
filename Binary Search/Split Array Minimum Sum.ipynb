{
 "cells": [
  {
   "cell_type": "code",
   "execution_count": 1,
   "metadata": {},
   "outputs": [],
   "source": [
    "# given int array, split to m subarrays, minimize the sum value of all the subarrays"
   ]
  },
  {
   "cell_type": "code",
   "execution_count": 2,
   "metadata": {},
   "outputs": [],
   "source": [
    "# the min will be max(arr) if split each item to a subgroup\n",
    "# the max will be sum(arr) which just one group\n",
    "# the min sum should be between max(arr) and sum(arr)\n",
    "# to find out the value, use binary search\n",
    "# assume a number is the maxSum (typically the mid)\n",
    "# split the number with sum less than the maxSum, count the piles\n",
    "# if piles too many, increase the mid\n",
    "# if piles too less, decrease the mid"
   ]
  },
  {
   "cell_type": "code",
   "execution_count": 24,
   "metadata": {},
   "outputs": [],
   "source": [
    "from typing import List\n",
    "\n",
    "def minSum(arr : List[int], m:int)->int :\n",
    "    \n",
    "    if (len(arr)<=m):\n",
    "        return max(arr)\n",
    "\n",
    "    if (m==1):\n",
    "        return sum(arr)\n",
    "\n",
    "    smin, smax, ans = max(arr), sum(arr), sum(arr)\n",
    "    \n",
    "    while (smin < smax):\n",
    "        mid = (smin + smax) //2\n",
    "        \n",
    "        # count how many groups can be created\n",
    "        s, p = 0, 1\n",
    "        for n in arr:\n",
    "            if (s + n>mid):\n",
    "                p+=1\n",
    "                s = n\n",
    "            else:\n",
    "                s += n\n",
    "        \n",
    "        print(p, mid)\n",
    "        # check piles #\n",
    "        if (p > m):\n",
    "            # mid is too small\n",
    "            smin = mid +1\n",
    "        elif (p < m):\n",
    "            # mid is too large\n",
    "            smax = mid -1\n",
    "        else:\n",
    "            # find a potential result, but contine find if there is a smaller one\n",
    "            ans = min(ans, mid)\n",
    "            # continue search left side\n",
    "            smax = mid -1\n",
    "    \n",
    "    return ans\n"
   ]
  },
  {
   "cell_type": "code",
   "execution_count": 25,
   "metadata": {},
   "outputs": [],
   "source": [
    "arr = [7,2,5,10,8]"
   ]
  },
  {
   "cell_type": "code",
   "execution_count": 28,
   "metadata": {},
   "outputs": [
    {
     "name": "stdout",
     "output_type": "stream",
     "text": [
      "2 21\n",
      "3 15\n",
      "4 12\n",
      "4 10\n"
     ]
    },
    {
     "data": {
      "text/plain": [
       "10"
      ]
     },
     "execution_count": 28,
     "metadata": {},
     "output_type": "execute_result"
    }
   ],
   "source": [
    "minSum(arr,4)"
   ]
  },
  {
   "cell_type": "code",
   "execution_count": null,
   "metadata": {},
   "outputs": [],
   "source": []
  },
  {
   "cell_type": "code",
   "execution_count": 28,
   "metadata": {},
   "outputs": [
    {
     "data": {
      "text/plain": [
       "[14, 18]"
      ]
     },
     "execution_count": 28,
     "metadata": {},
     "output_type": "execute_result"
    }
   ],
   "source": [
    "arr"
   ]
  },
  {
   "cell_type": "code",
   "execution_count": null,
   "metadata": {},
   "outputs": [],
   "source": []
  }
 ],
 "metadata": {
  "kernelspec": {
   "display_name": "Python 3",
   "language": "python",
   "name": "python3"
  },
  "language_info": {
   "codemirror_mode": {
    "name": "ipython",
    "version": 3
   },
   "file_extension": ".py",
   "mimetype": "text/x-python",
   "name": "python",
   "nbconvert_exporter": "python",
   "pygments_lexer": "ipython3",
   "version": "3.7.6"
  }
 },
 "nbformat": 4,
 "nbformat_minor": 2
}
