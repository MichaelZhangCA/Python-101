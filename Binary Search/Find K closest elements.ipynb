{
 "cells": [
  {
   "cell_type": "code",
   "execution_count": 1,
   "metadata": {},
   "outputs": [],
   "source": [
    "# find closest K element\n",
    "arr = [1,2,3,4,5,6,7,8,9,10]\n",
    "\n",
    "def closestElements(arr, k, x):\n",
    "    \n",
    "    def findx(left, right, x):\n",
    "        while (left <= right):\n",
    "            mid = left + (right - left)//2\n",
    "            if (arr[mid] == x):\n",
    "                return mid\n",
    "            elif (arr[mid]>x):\n",
    "                right = mid-1\n",
    "            else:\n",
    "                left = mid +1\n",
    "        \n",
    "        return -1\n",
    "    \n",
    "    if (x < arr[0]):\n",
    "        return arr[:k]\n",
    "    \n",
    "    if (x > arr[-1]):\n",
    "        return arr[-k:]\n",
    "    \n",
    "    # find the x in the middle\n",
    "    idx = findx(0, len(arr)-1, x)\n",
    "    \n",
    "    # find the start & end due to the index\n",
    "    if (x < len(arr)-k+1):\n",
    "        start = max(0, idx-k+1)\n",
    "        return arr[start:start+k]\n",
    "    else:\n",
    "        return arr[-k:]\n",
    "    "
   ]
  },
  {
   "cell_type": "code",
   "execution_count": 2,
   "metadata": {},
   "outputs": [
    {
     "name": "stdout",
     "output_type": "stream",
     "text": [
      "x:-1 -> [1, 2, 3]\n",
      "x:0 -> [1, 2, 3]\n",
      "x:1 -> [1, 2, 3]\n",
      "x:2 -> [1, 2, 3]\n",
      "x:3 -> [1, 2, 3]\n",
      "x:4 -> [2, 3, 4]\n",
      "x:5 -> [3, 4, 5]\n",
      "x:6 -> [4, 5, 6]\n",
      "x:7 -> [5, 6, 7]\n",
      "x:8 -> [8, 9, 10]\n",
      "x:9 -> [8, 9, 10]\n",
      "x:10 -> [8, 9, 10]\n",
      "x:11 -> [8, 9, 10]\n"
     ]
    }
   ],
   "source": [
    "for i in range(-1,12):\n",
    "    print('x:{} -> {}'.format(i, closestElements(arr, 3, i)))\n"
   ]
  },
  {
   "cell_type": "code",
   "execution_count": null,
   "metadata": {},
   "outputs": [],
   "source": []
  }
 ],
 "metadata": {
  "kernelspec": {
   "display_name": "Python 3",
   "language": "python",
   "name": "python3"
  },
  "language_info": {
   "codemirror_mode": {
    "name": "ipython",
    "version": 3
   },
   "file_extension": ".py",
   "mimetype": "text/x-python",
   "name": "python",
   "nbconvert_exporter": "python",
   "pygments_lexer": "ipython3",
   "version": "3.7.5"
  }
 },
 "nbformat": 4,
 "nbformat_minor": 2
}
