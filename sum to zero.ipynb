{
 "cells": [
  {
   "cell_type": "markdown",
   "metadata": {
    "colab_type": "text",
    "id": "rWXRqFD9nITc"
   },
   "source": [
    " ## Question\n",
    "By given a random array of integer, find all the combinations for any 3 number and sum up equals zero**\n",
    "\n",
    "ex. given an array [-1,12,0,2,1,3,-4]\n",
    "will get the combination (-1,0,1) (1,3,-4)"
   ]
  },
  {
   "cell_type": "markdown",
   "metadata": {
    "colab_type": "text",
    "id": "Y1KBTiUImz9j"
   },
   "source": [
    "## **Define a timer to count execution time for code block**"
   ]
  },
  {
   "cell_type": "code",
   "execution_count": 0,
   "metadata": {
    "colab": {},
    "colab_type": "code",
    "id": "2ZHR8lvpmllc"
   },
   "outputs": [],
   "source": [
    "from time import time, strftime, localtime\n",
    "from datetime import timedelta\n",
    "\n",
    "class CodeTimer(object):\n",
    "\n",
    "    recentlog = \"\"\n",
    "\n",
    "    def __init__(self, codesnip='== default wrap codes ==', **kwargs):\n",
    "        self.codesnip = codesnip\n",
    "        super().__init__(**kwargs)\n",
    "\n",
    "    def __enter__(self):\n",
    "        self.start = time()\n",
    "        return self\n",
    "\n",
    "    def __exit__(self, exc_type, exc_val, exc_tb):\n",
    "        self.__endlog()\n",
    "\n",
    "\n",
    "    def __endlog(self):\n",
    "        self.end = time()\n",
    "        self.elapsed = self.end - self.start\n",
    "\n",
    "        CodeTimer.recentlog = \"[ {} ] executed in {}\".format(self.codesnip, self.__secondsToStr(self.elapsed))\n",
    "        print(CodeTimer.recentlog)\n",
    "\n",
    "    def __secondsToStr(self, elapsed):\n",
    "        return str(timedelta(seconds=elapsed))"
   ]
  },
  {
   "cell_type": "markdown",
   "metadata": {
    "colab_type": "text",
    "id": "Nyn-oQMTn-dG"
   },
   "source": [
    "## 1. Start from a simple loop to get all combinations then check sum one by one"
   ]
  },
  {
   "cell_type": "code",
   "execution_count": 0,
   "metadata": {
    "colab": {},
    "colab_type": "code",
    "id": "NoaPTejqn9PQ"
   },
   "outputs": [],
   "source": [
    "def sum_to_zero_by_loop(lst):\n",
    "    # to grab 3 elements from the list also walk through all the possibility\n",
    "    combs = []\n",
    "    with CodeTimer('find all combinations'):\n",
    "        # try a for loop\n",
    "        for i in range(len(lst)):\n",
    "            for j in range(i+1, len(lst)):\n",
    "                for k in range(j+1, len(lst)):\n",
    "                    combs.append([lst[i],lst[j],lst[k]])\n",
    "\n",
    "    \n",
    "    # loop the combination and sum\n",
    "    with CodeTimer('find all groups with sum==0'):\n",
    "        zerosumlist = [ cb for cb in combs if sum(cb)==0 ]\n",
    "\n",
    "    return zerosumlist"
   ]
  },
  {
   "cell_type": "markdown",
   "metadata": {
    "colab_type": "text",
    "id": "omlDwzJ7oeqp"
   },
   "source": [
    "### for a small array, there is no performance concern"
   ]
  },
  {
   "cell_type": "code",
   "execution_count": 3,
   "metadata": {
    "colab": {
     "base_uri": "https://localhost:8080/",
     "height": 102
    },
    "colab_type": "code",
    "executionInfo": {
     "elapsed": 305,
     "status": "ok",
     "timestamp": 1569938639561,
     "user": {
      "displayName": "Michael Zhang",
      "photoUrl": "https://lh3.googleusercontent.com/a-/AAuE7mA_qCACu7PFWNmYhee1M_CgayY0bExEO_-Ep2UDOQ=s64",
      "userId": "09994506519019291230"
     },
     "user_tz": 240
    },
    "id": "ODfVR8b8odnb",
    "outputId": "f6d026fb-3f08-4862-ba71-900bbb1aa827"
   },
   "outputs": [
    {
     "name": "stdout",
     "output_type": "stream",
     "text": [
      "[ find all combinations ] executed in 0:00:00.000078\n",
      "[ find all groups with sum==0 ] executed in 0:00:00.000057\n",
      "[[-1, 0, 1], [-1, -4, 5], [12, 2, -14], [1, 3, -4]]\n",
      "CPU times: user 953 µs, sys: 989 µs, total: 1.94 ms\n",
      "Wall time: 1.34 ms\n"
     ]
    }
   ],
   "source": [
    "%%time\n",
    "rlt = sum_to_zero_by_loop([-1,12,0,2,1,3,-4,8,22,-19,5,-14])\n",
    "print(rlt)"
   ]
  },
  {
   "cell_type": "markdown",
   "metadata": {
    "colab_type": "text",
    "id": "yOgji9HIos1k"
   },
   "source": [
    "### or a lager array (500), obviously it's not efficient (more than 30 sec)"
   ]
  },
  {
   "cell_type": "code",
   "execution_count": 5,
   "metadata": {
    "colab": {
     "base_uri": "https://localhost:8080/",
     "height": 68
    },
    "colab_type": "code",
    "executionInfo": {
     "elapsed": 32668,
     "status": "ok",
     "timestamp": 1569938713886,
     "user": {
      "displayName": "Michael Zhang",
      "photoUrl": "https://lh3.googleusercontent.com/a-/AAuE7mA_qCACu7PFWNmYhee1M_CgayY0bExEO_-Ep2UDOQ=s64",
      "userId": "09994506519019291230"
     },
     "user_tz": 240
    },
    "id": "eEikGF-yoojr",
    "outputId": "bf1ab91c-bd61-4acc-8349-71fa52768c26"
   },
   "outputs": [
    {
     "name": "stdout",
     "output_type": "stream",
     "text": [
      "[ find all combinations ] executed in 0:00:20.583952\n",
      "[ find all groups with sum==0 ] executed in 0:00:10.079492\n",
      "find 725 groups which sum==0\n"
     ]
    }
   ],
   "source": [
    "import numpy as np\n",
    "def find_all_combination_by_loop(cnt):\n",
    "    samples = np.random.RandomState(0).randint(low=-10000, high=10000, size=cnt)\n",
    "    rlt = sum_to_zero_by_loop(samples)\n",
    "    print('find {} groups which sum==0'.format(len(rlt)))\n",
    "\n",
    "find_all_combination_by_loop(500)"
   ]
  },
  {
   "cell_type": "markdown",
   "metadata": {
    "colab_type": "text",
    "id": "kVxVrnujpGue"
   },
   "source": [
    "## 2. Use itertools to get combination instead of a loop"
   ]
  },
  {
   "cell_type": "code",
   "execution_count": 0,
   "metadata": {
    "colab": {},
    "colab_type": "code",
    "id": "6QAmp0oOowSR"
   },
   "outputs": [],
   "source": [
    "import itertools\n",
    "def sum_to_zero_by_iter(lst):\n",
    "    # to grab 3 elements from the list also walk through all the possibility\n",
    "\n",
    "    with CodeTimer('find all combinations by itertools'):\n",
    "        combs = itertools.combinations(lst,3)\n",
    "\n",
    "    # loop the combination and sum\n",
    "    with CodeTimer('find all groups with sum==0'):\n",
    "        zerosumlist = [ cb for cb in combs if sum(cb)==0 ]\n",
    "\n",
    "    return zerosumlist\n",
    "\n",
    "def find_all_combination_by_iter(cnt):\n",
    "    samples = np.random.RandomState(0).randint(low=-10000, high=10000, size=cnt)\n",
    "    rlt = sum_to_zero_by_iter(samples)\n",
    "    print('find {} groups which sum==0'.format(len(rlt)))"
   ]
  },
  {
   "cell_type": "markdown",
   "metadata": {
    "colab_type": "text",
    "id": "xmVEDXPjpSUe"
   },
   "source": [
    "### itertools can get all the combinations within no time, the exection time is all for checking sum"
   ]
  },
  {
   "cell_type": "code",
   "execution_count": 8,
   "metadata": {
    "colab": {
     "base_uri": "https://localhost:8080/",
     "height": 68
    },
    "colab_type": "code",
    "executionInfo": {
     "elapsed": 10994,
     "status": "ok",
     "timestamp": 1569938845210,
     "user": {
      "displayName": "Michael Zhang",
      "photoUrl": "https://lh3.googleusercontent.com/a-/AAuE7mA_qCACu7PFWNmYhee1M_CgayY0bExEO_-Ep2UDOQ=s64",
      "userId": "09994506519019291230"
     },
     "user_tz": 240
    },
    "id": "GpUP-gN4pU7t",
    "outputId": "c845737f-f98a-4aec-cf50-78642fbc3b20"
   },
   "outputs": [
    {
     "name": "stdout",
     "output_type": "stream",
     "text": [
      "[ find all combinations by itertools ] executed in 0:00:00.000044\n",
      "[ find all groups with sum==0 ] executed in 0:00:10.603627\n",
      "find 725 groups which sum==0\n"
     ]
    }
   ],
   "source": [
    "find_all_combination_by_iter(500)"
   ]
  },
  {
   "cell_type": "markdown",
   "metadata": {
    "colab_type": "text",
    "id": "nxmJ25k3peaJ"
   },
   "source": [
    "## 3. Try to check the sum in loop directly"
   ]
  },
  {
   "cell_type": "code",
   "execution_count": 0,
   "metadata": {
    "colab": {},
    "colab_type": "code",
    "id": "W3mdCeukpWTG"
   },
   "outputs": [],
   "source": [
    "def sum_to_zero_by_onestep_loop(lst):\n",
    "    # to grab 3 elements from the list also walk through all the possibility\n",
    "    zerosumlist = []\n",
    "    with CodeTimer('find all group in one step'):\n",
    "        # try a for loop\n",
    "        for i in range(len(lst)):\n",
    "            for j in range(i+1, len(lst)):\n",
    "                for k in range(j+1, len(lst)):\n",
    "                    if ((lst[i] + lst[j] + lst[k]) == 0):\n",
    "                        zerosumlist.append([lst[i],lst[j],lst[k]])\n",
    "    \n",
    "    return zerosumlist\n",
    "\n",
    "def find_all_combination_by_onestep_loop(cnt):\n",
    "    samples = np.random.RandomState(0).randint(low=-10000, high=10000, size=cnt)\n",
    "    rlt = sum_to_zero_by_onestep_loop(samples)\n",
    "    print('find {} groups which sum==0'.format(len(rlt)))"
   ]
  },
  {
   "cell_type": "markdown",
   "metadata": {
    "colab_type": "text",
    "id": "VRa5F2d0pkbl"
   },
   "source": [
    "### the same size array (500) use roughly the same if check the sum in the loop"
   ]
  },
  {
   "cell_type": "code",
   "execution_count": 10,
   "metadata": {
    "colab": {
     "base_uri": "https://localhost:8080/",
     "height": 51
    },
    "colab_type": "code",
    "executionInfo": {
     "elapsed": 11458,
     "status": "ok",
     "timestamp": 1569938906917,
     "user": {
      "displayName": "Michael Zhang",
      "photoUrl": "https://lh3.googleusercontent.com/a-/AAuE7mA_qCACu7PFWNmYhee1M_CgayY0bExEO_-Ep2UDOQ=s64",
      "userId": "09994506519019291230"
     },
     "user_tz": 240
    },
    "id": "L_6ZdjWuph31",
    "outputId": "10fc528a-6d0e-4524-f46a-b2e21f58d03c"
   },
   "outputs": [
    {
     "name": "stdout",
     "output_type": "stream",
     "text": [
      "[ find all group in one step ] executed in 0:00:11.084332\n",
      "find 725 groups which sum==0\n"
     ]
    }
   ],
   "source": [
    "find_all_combination_by_onestep_loop(500)"
   ]
  },
  {
   "cell_type": "markdown",
   "metadata": {
    "colab_type": "text",
    "id": "_AHhI2-EprdA"
   },
   "source": [
    "### <font color='blue'>the looping function above actually is the same as chcking sum on the combination, which causes the slowness</font>"
   ]
  },
  {
   "cell_type": "markdown",
   "metadata": {
    "colab_type": "text",
    "id": "uFEp6DmqpuE3"
   },
   "source": [
    "## 4. Try sort the array before looping\n",
    "### and put 2 more checkings based on the sorted array"
   ]
  },
  {
   "cell_type": "code",
   "execution_count": 0,
   "metadata": {
    "colab": {},
    "colab_type": "code",
    "id": "8pduaDi7pnHM"
   },
   "outputs": [],
   "source": [
    "def sum_to_zero_by_sort_and_loop(lst):\n",
    "    # to grab 3 elements from the list also walk through all the possibility\n",
    "    zerosumlist = []\n",
    "    with CodeTimer('sort the array'):\n",
    "        srt = np.sort(lst)\n",
    "        \n",
    "    with CodeTimer('find all group on sorted array'):\n",
    "        # try a for loop\n",
    "        for i in range(len(srt)):\n",
    "            for j in range(i+1, len(lst)):\n",
    "                tmp = srt[i] + srt[j]\n",
    "                # check #1: \n",
    "                # if the sum of 2 number already larger than 0, then stop\n",
    "                if (tmp > 0):\n",
    "                    break\n",
    "                else:\n",
    "                    # check #2:\n",
    "                    # loop from the end of sorted array, stop the loop if the sum is less than 0\n",
    "                    for k in range(len(srt)-1, j, -1):\n",
    "                        if ((tmp + srt[k]) == 0):\n",
    "                            zerosumlist.append([srt[i],srt[j],srt[k]])\n",
    "                        elif ((tmp +srt[k]) < 0):\n",
    "                            break\n",
    "    \n",
    "    return zerosumlist\n",
    "\n",
    "def find_all_combination_by_sort_and_loop(cnt):\n",
    "    samples = np.random.RandomState(0).randint(low=-10000, high=10000, size=cnt)\n",
    "    rlt = sum_to_zero_by_sort_and_loop(samples)\n",
    "    print('find {} groups which sum==0'.format(len(rlt)))"
   ]
  },
  {
   "cell_type": "markdown",
   "metadata": {
    "colab_type": "text",
    "id": "wTZefmY1p1nw"
   },
   "source": [
    "### the sorting takes no time, and the final result takes less than 4 seconds now"
   ]
  },
  {
   "cell_type": "code",
   "execution_count": 12,
   "metadata": {
    "colab": {
     "base_uri": "https://localhost:8080/",
     "height": 68
    },
    "colab_type": "code",
    "executionInfo": {
     "elapsed": 3689,
     "status": "ok",
     "timestamp": 1569938970664,
     "user": {
      "displayName": "Michael Zhang",
      "photoUrl": "https://lh3.googleusercontent.com/a-/AAuE7mA_qCACu7PFWNmYhee1M_CgayY0bExEO_-Ep2UDOQ=s64",
      "userId": "09994506519019291230"
     },
     "user_tz": 240
    },
    "id": "kItuXEYkpzPb",
    "outputId": "266cbbe6-86fd-45fc-a444-99eddb5da3f7"
   },
   "outputs": [
    {
     "name": "stdout",
     "output_type": "stream",
     "text": [
      "[ sort the array ] executed in 0:00:00.001152\n",
      "[ find all group on sorted array ] executed in 0:00:03.347215\n",
      "find 725 groups which sum==0\n"
     ]
    }
   ],
   "source": [
    "find_all_combination_by_sort_and_loop(500)"
   ]
  },
  {
   "cell_type": "code",
   "execution_count": 0,
   "metadata": {
    "colab": {},
    "colab_type": "code",
    "id": "IdcSzL_hp4kx"
   },
   "outputs": [],
   "source": []
  }
 ],
 "metadata": {
  "colab": {
   "name": "Untitled2.ipynb",
   "provenance": []
  },
  "kernelspec": {
   "display_name": "Python 3",
   "language": "python",
   "name": "python3"
  },
  "language_info": {
   "codemirror_mode": {
    "name": "ipython",
    "version": 3
   },
   "file_extension": ".py",
   "mimetype": "text/x-python",
   "name": "python",
   "nbconvert_exporter": "python",
   "pygments_lexer": "ipython3",
   "version": "3.7.6"
  }
 },
 "nbformat": 4,
 "nbformat_minor": 1
}
